{
 "cells": [
  {
   "cell_type": "code",
   "execution_count": 3,
   "id": "81449351",
   "metadata": {},
   "outputs": [],
   "source": [
    "import numpy as np\n",
    "import scipy as sp\n",
    "import pandas as pd\n",
    "import seaborn as sns\n",
    "import customized_fcn as fcn\n",
    "from scipy.optimize import Bounds,minimize,differential_evolution\n",
    "from matplotlib import pyplot as plt"
   ]
  },
  {
   "cell_type": "markdown",
   "id": "9a203553",
   "metadata": {},
   "source": [
    "## process mono-culture data"
   ]
  },
  {
   "cell_type": "code",
   "execution_count": 4,
   "metadata": {},
   "outputs": [],
   "source": [
    "monodf = pd.read_csv(\"Mono_processed_forfittinglogisticgrowthmodel.csv\")"
   ]
  },
  {
   "cell_type": "code",
   "execution_count": 5,
   "metadata": {},
   "outputs": [
    {
     "data": {
      "text/html": [
       "<div>\n",
       "<style scoped>\n",
       "    .dataframe tbody tr th:only-of-type {\n",
       "        vertical-align: middle;\n",
       "    }\n",
       "\n",
       "    .dataframe tbody tr th {\n",
       "        vertical-align: top;\n",
       "    }\n",
       "\n",
       "    .dataframe thead th {\n",
       "        text-align: right;\n",
       "    }\n",
       "</style>\n",
       "<table border=\"1\" class=\"dataframe\">\n",
       "  <thead>\n",
       "    <tr style=\"text-align: right;\">\n",
       "      <th></th>\n",
       "      <th>Sample</th>\n",
       "      <th>Time</th>\n",
       "      <th>OD processed</th>\n",
       "    </tr>\n",
       "  </thead>\n",
       "  <tbody>\n",
       "    <tr>\n",
       "      <th>0</th>\n",
       "      <td>CD anc</td>\n",
       "      <td>0</td>\n",
       "      <td>0.0098</td>\n",
       "    </tr>\n",
       "    <tr>\n",
       "      <th>1</th>\n",
       "      <td>CD anc</td>\n",
       "      <td>0</td>\n",
       "      <td>0.0111</td>\n",
       "    </tr>\n",
       "    <tr>\n",
       "      <th>2</th>\n",
       "      <td>CD anc</td>\n",
       "      <td>0</td>\n",
       "      <td>0.0049</td>\n",
       "    </tr>\n",
       "    <tr>\n",
       "      <th>3</th>\n",
       "      <td>BU</td>\n",
       "      <td>0</td>\n",
       "      <td>0.0060</td>\n",
       "    </tr>\n",
       "    <tr>\n",
       "      <th>4</th>\n",
       "      <td>BU</td>\n",
       "      <td>0</td>\n",
       "      <td>0.0049</td>\n",
       "    </tr>\n",
       "    <tr>\n",
       "      <th>...</th>\n",
       "      <td>...</td>\n",
       "      <td>...</td>\n",
       "      <td>...</td>\n",
       "    </tr>\n",
       "    <tr>\n",
       "      <th>260</th>\n",
       "      <td>CA</td>\n",
       "      <td>30</td>\n",
       "      <td>0.5477</td>\n",
       "    </tr>\n",
       "    <tr>\n",
       "      <th>261</th>\n",
       "      <td>CA</td>\n",
       "      <td>30</td>\n",
       "      <td>0.6287</td>\n",
       "    </tr>\n",
       "    <tr>\n",
       "      <th>262</th>\n",
       "      <td>PC</td>\n",
       "      <td>30</td>\n",
       "      <td>0.8824</td>\n",
       "    </tr>\n",
       "    <tr>\n",
       "      <th>263</th>\n",
       "      <td>PC</td>\n",
       "      <td>30</td>\n",
       "      <td>0.9327</td>\n",
       "    </tr>\n",
       "    <tr>\n",
       "      <th>264</th>\n",
       "      <td>PC</td>\n",
       "      <td>30</td>\n",
       "      <td>0.9641</td>\n",
       "    </tr>\n",
       "  </tbody>\n",
       "</table>\n",
       "<p>265 rows × 3 columns</p>\n",
       "</div>"
      ],
      "text/plain": [
       "     Sample  Time  OD processed\n",
       "0    CD anc     0        0.0098\n",
       "1    CD anc     0        0.0111\n",
       "2    CD anc     0        0.0049\n",
       "3        BU     0        0.0060\n",
       "4        BU     0        0.0049\n",
       "..      ...   ...           ...\n",
       "260      CA    30        0.5477\n",
       "261      CA    30        0.6287\n",
       "262      PC    30        0.8824\n",
       "263      PC    30        0.9327\n",
       "264      PC    30        0.9641\n",
       "\n",
       "[265 rows x 3 columns]"
      ]
     },
     "execution_count": 5,
     "metadata": {},
     "output_type": "execute_result"
    }
   ],
   "source": [
    "monodf"
   ]
  },
  {
   "cell_type": "code",
   "execution_count": 15,
   "metadata": {},
   "outputs": [],
   "source": [
    "for species in ['BT', 'BU', 'BV', 'CA', 'CH', 'CS', 'DP', 'EL', 'PC', 'CD']:\n",
    "    _df = monodf[monodf['Sample']==species]\n",
    "    _df = _df.groupby(by='Time').mean().reset_index()\n",
    "    _df.columns = ['time', 'abs']\n",
    "    _df.to_csv('processed_Jordy_data/' + species + '_mono.csv')"
   ]
  },
  {
   "cell_type": "code",
   "execution_count": 16,
   "id": "12650c0d",
   "metadata": {},
   "outputs": [],
   "source": [
    "def cost_fcn_LogisticGrowth(theta, exp_data_files, alpha):\n",
    "    '''cost function for logistic growth fitting''' \n",
    "\n",
    "    num_species = 1\n",
    "    \n",
    "    num_para = num_species**2\n",
    "    \n",
    "    r = theta[:num_species]\n",
    "    \n",
    "    A = np.array(theta[num_species:num_species + num_para]).reshape(num_species,num_species)\n",
    "    \n",
    "    para_dyn_theta = [r, A]\n",
    "    \n",
    "    error = 0\n",
    "    \n",
    "    for i in range(len(exp_data_files)):\n",
    "        \n",
    "        file = exp_data_files[i]\n",
    "        \n",
    "        exp_data = pd.read_csv(\"processed_Jordy_data/\" + file, index_col=0)\n",
    "    \n",
    "        exp_time = list(exp_data.groupby(by = 'time').mean().index)\n",
    "        exp_data = exp_data.groupby(by = 'time').mean()\n",
    "        \n",
    "        x0 = exp_data['abs'].iloc[0]\n",
    "        \n",
    "        x_sim = fcn.sim_TIV_gLV(x0, para_dyn_theta, exp_time)\n",
    "        \n",
    "        x_exp = exp_data['abs'].to_numpy()\n",
    "\n",
    "        error = error + np.linalg.norm(x_sim - x_exp, 'fro')\n",
    "\n",
    "    # cost for changing parameter\n",
    "    cost = error + alpha*(np.linalg.norm(r) + np.linalg.norm(A.reshape(-1)))\n",
    "    return cost"
   ]
  },
  {
   "cell_type": "code",
   "execution_count": 17,
   "id": "cd0823f9",
   "metadata": {},
   "outputs": [],
   "source": [
    "## generate random initial parameters using latin hypercube sampling\n",
    "from scipy.stats import qmc\n",
    "sampler = qmc.LatinHypercube(d=2)\n",
    "sample = sampler.random(n=100)\n",
    "\n",
    "# set lower and upper bounds for initial parameters\n",
    "l_bounds = [0, -2]\n",
    "u_bounds = [2, 0]\n",
    "\n",
    "ini_para = qmc.scale(sample, l_bounds, u_bounds)"
   ]
  },
  {
   "cell_type": "code",
   "execution_count": 18,
   "id": "86b45829",
   "metadata": {},
   "outputs": [],
   "source": [
    "num_para_theta = 2\n",
    "\n",
    "# initialize no bounds for all other parameters\n",
    "bnd = []\n",
    "for i in range(num_para_theta):\n",
    "    bnd.append((None,None))\n",
    "    \n",
    "# r1\n",
    "bnd[0] = (0,None)\n",
    "\n",
    "# # r2\n",
    "# bnd[1] = (0,None)\n",
    "\n",
    "# # A_11\n",
    "# bnd[2] = (None,0)\n",
    "\n",
    "# # A_12\n",
    "# bnd[3] = (None,None)\n",
    "\n",
    "# # A0_21\n",
    "# bnd[4] = (None,None)\n",
    "\n",
    "# A0_22\n",
    "bnd[1] = (None,0)"
   ]
  },
  {
   "cell_type": "code",
   "execution_count": 23,
   "id": "309695d3",
   "metadata": {},
   "outputs": [
    {
     "name": "stdout",
     "output_type": "stream",
     "text": [
      "species=BT, alpha=0.001, ini para=0\n",
      "`gtol` termination condition is satisfied.\n",
      "Number of iterations: 34, function evaluations: 78, CG iterations: 43, optimality: 5.78e-09, constraint violation: 0.00e+00, execution time: 0.79 s.\n",
      "species=BT, alpha=0.001, ini para=1\n",
      "`gtol` termination condition is satisfied.\n",
      "Number of iterations: 28, function evaluations: 60, CG iterations: 31, optimality: 2.76e-09, constraint violation: 0.00e+00, execution time: 0.62 s.\n",
      "species=BT, alpha=0.001, ini para=2\n"
     ]
    },
    {
     "name": "stderr",
     "output_type": "stream",
     "text": [
      "/opt/anaconda3/lib/python3.8/site-packages/scipy/optimize/_hessian_update_strategy.py:182: UserWarning: delta_grad == 0.0. Check if the approximated function is linear. If the function is linear better results can be obtained by defining the Hessian as zero instead of using quasi-Newton approximations.\n",
      "  warn('delta_grad == 0.0. Check if the approximated '\n"
     ]
    },
    {
     "name": "stdout",
     "output_type": "stream",
     "text": [
      "`xtol` termination condition is satisfied.\n",
      "Number of iterations: 62, function evaluations: 111, CG iterations: 89, optimality: 3.08e-08, constraint violation: 0.00e+00, execution time:  1.2 s.\n",
      "species=BT, alpha=0.001, ini para=3\n",
      "`gtol` termination condition is satisfied.\n",
      "Number of iterations: 28, function evaluations: 63, CG iterations: 32, optimality: 9.30e-09, constraint violation: 0.00e+00, execution time: 0.69 s.\n",
      "species=BT, alpha=0.001, ini para=4\n"
     ]
    },
    {
     "name": "stderr",
     "output_type": "stream",
     "text": [
      "/opt/anaconda3/lib/python3.8/site-packages/scipy/optimize/_hessian_update_strategy.py:182: UserWarning: delta_grad == 0.0. Check if the approximated function is linear. If the function is linear better results can be obtained by defining the Hessian as zero instead of using quasi-Newton approximations.\n",
      "  warn('delta_grad == 0.0. Check if the approximated '\n"
     ]
    },
    {
     "name": "stdout",
     "output_type": "stream",
     "text": [
      "`xtol` termination condition is satisfied.\n",
      "Number of iterations: 64, function evaluations: 120, CG iterations: 97, optimality: 1.51e-08, constraint violation: 0.00e+00, execution time:  1.3 s.\n",
      "species=BT, alpha=0.001, ini para=5\n",
      "`gtol` termination condition is satisfied.\n",
      "Number of iterations: 29, function evaluations: 66, CG iterations: 37, optimality: 9.30e-09, constraint violation: 0.00e+00, execution time: 0.71 s.\n",
      "species=BT, alpha=0.001, ini para=6\n"
     ]
    },
    {
     "name": "stderr",
     "output_type": "stream",
     "text": [
      "/opt/anaconda3/lib/python3.8/site-packages/scipy/optimize/_hessian_update_strategy.py:182: UserWarning: delta_grad == 0.0. Check if the approximated function is linear. If the function is linear better results can be obtained by defining the Hessian as zero instead of using quasi-Newton approximations.\n",
      "  warn('delta_grad == 0.0. Check if the approximated '\n",
      "/opt/anaconda3/lib/python3.8/site-packages/scipy/optimize/_hessian_update_strategy.py:182: UserWarning: delta_grad == 0.0. Check if the approximated function is linear. If the function is linear better results can be obtained by defining the Hessian as zero instead of using quasi-Newton approximations.\n",
      "  warn('delta_grad == 0.0. Check if the approximated '\n"
     ]
    },
    {
     "name": "stdout",
     "output_type": "stream",
     "text": [
      "`xtol` termination condition is satisfied.\n",
      "Number of iterations: 72, function evaluations: 138, CG iterations: 97, optimality: 3.08e-08, constraint violation: 0.00e+00, execution time:  1.4 s.\n",
      "species=BT, alpha=0.001, ini para=7\n",
      "`xtol` termination condition is satisfied.\n",
      "Number of iterations: 86, function evaluations: 204, CG iterations: 138, optimality: 3.85e-08, constraint violation: 0.00e+00, execution time:  2.1 s.\n",
      "species=BT, alpha=0.001, ini para=8\n"
     ]
    },
    {
     "name": "stderr",
     "output_type": "stream",
     "text": [
      "/opt/anaconda3/lib/python3.8/site-packages/scipy/optimize/_hessian_update_strategy.py:182: UserWarning: delta_grad == 0.0. Check if the approximated function is linear. If the function is linear better results can be obtained by defining the Hessian as zero instead of using quasi-Newton approximations.\n",
      "  warn('delta_grad == 0.0. Check if the approximated '\n"
     ]
    },
    {
     "name": "stdout",
     "output_type": "stream",
     "text": [
      "`xtol` termination condition is satisfied.\n",
      "Number of iterations: 81, function evaluations: 171, CG iterations: 125, optimality: 1.89e-08, constraint violation: 0.00e+00, execution time:  2.4 s.\n",
      "species=BT, alpha=0.001, ini para=9\n",
      "`xtol` termination condition is satisfied.\n",
      "Number of iterations: 63, function evaluations: 108, CG iterations: 95, optimality: 1.89e-08, constraint violation: 0.00e+00, execution time:  1.6 s.\n",
      "species=BT, alpha=0.001, ini para=10\n",
      "`gtol` termination condition is satisfied.\n",
      "Number of iterations: 27, function evaluations: 54, CG iterations: 28, optimality: 2.76e-09, constraint violation: 0.00e+00, execution time: 0.74 s.\n",
      "species=BT, alpha=0.001, ini para=11\n",
      "`gtol` termination condition is satisfied.\n",
      "Number of iterations: 25, function evaluations: 51, CG iterations: 29, optimality: 5.78e-09, constraint violation: 0.00e+00, execution time: 0.64 s.\n",
      "species=BT, alpha=0.001, ini para=12\n",
      "`xtol` termination condition is satisfied.\n",
      "Number of iterations: 63, function evaluations: 114, CG iterations: 94, optimality: 3.08e-08, constraint violation: 0.00e+00, execution time:  1.2 s.\n",
      "species=BT, alpha=0.001, ini para=13\n"
     ]
    },
    {
     "name": "stderr",
     "output_type": "stream",
     "text": [
      "/opt/anaconda3/lib/python3.8/site-packages/scipy/optimize/_hessian_update_strategy.py:182: UserWarning: delta_grad == 0.0. Check if the approximated function is linear. If the function is linear better results can be obtained by defining the Hessian as zero instead of using quasi-Newton approximations.\n",
      "  warn('delta_grad == 0.0. Check if the approximated '\n",
      "/opt/anaconda3/lib/python3.8/site-packages/scipy/optimize/_hessian_update_strategy.py:182: UserWarning: delta_grad == 0.0. Check if the approximated function is linear. If the function is linear better results can be obtained by defining the Hessian as zero instead of using quasi-Newton approximations.\n",
      "  warn('delta_grad == 0.0. Check if the approximated '\n"
     ]
    },
    {
     "name": "stdout",
     "output_type": "stream",
     "text": [
      "`xtol` termination condition is satisfied.\n",
      "Number of iterations: 61, function evaluations: 96, CG iterations: 91, optimality: 1.51e-08, constraint violation: 0.00e+00, execution time:  1.0 s.\n",
      "species=BT, alpha=0.001, ini para=14\n",
      "`xtol` termination condition is satisfied.\n",
      "Number of iterations: 62, function evaluations: 108, CG iterations: 78, optimality: 5.81e-08, constraint violation: 0.00e+00, execution time:  1.2 s.\n",
      "species=BT, alpha=0.001, ini para=15\n"
     ]
    },
    {
     "name": "stderr",
     "output_type": "stream",
     "text": [
      "/opt/anaconda3/lib/python3.8/site-packages/scipy/optimize/_hessian_update_strategy.py:182: UserWarning: delta_grad == 0.0. Check if the approximated function is linear. If the function is linear better results can be obtained by defining the Hessian as zero instead of using quasi-Newton approximations.\n",
      "  warn('delta_grad == 0.0. Check if the approximated '\n"
     ]
    },
    {
     "name": "stdout",
     "output_type": "stream",
     "text": [
      "`xtol` termination condition is satisfied.\n",
      "Number of iterations: 69, function evaluations: 135, CG iterations: 102, optimality: 4.65e-08, constraint violation: 0.00e+00, execution time:  1.4 s.\n",
      "species=BT, alpha=0.001, ini para=16\n",
      "`gtol` termination condition is satisfied.\n",
      "Number of iterations: 32, function evaluations: 69, CG iterations: 38, optimality: 2.76e-09, constraint violation: 0.00e+00, execution time: 0.75 s.\n",
      "species=BT, alpha=0.001, ini para=17\n"
     ]
    },
    {
     "name": "stderr",
     "output_type": "stream",
     "text": [
      "/opt/anaconda3/lib/python3.8/site-packages/scipy/optimize/_hessian_update_strategy.py:182: UserWarning: delta_grad == 0.0. Check if the approximated function is linear. If the function is linear better results can be obtained by defining the Hessian as zero instead of using quasi-Newton approximations.\n",
      "  warn('delta_grad == 0.0. Check if the approximated '\n",
      "/opt/anaconda3/lib/python3.8/site-packages/scipy/optimize/_hessian_update_strategy.py:182: UserWarning: delta_grad == 0.0. Check if the approximated function is linear. If the function is linear better results can be obtained by defining the Hessian as zero instead of using quasi-Newton approximations.\n",
      "  warn('delta_grad == 0.0. Check if the approximated '\n"
     ]
    },
    {
     "name": "stdout",
     "output_type": "stream",
     "text": [
      "`xtol` termination condition is satisfied.\n",
      "Number of iterations: 67, function evaluations: 132, CG iterations: 94, optimality: 3.08e-08, constraint violation: 0.00e+00, execution time:  1.3 s.\n",
      "species=BT, alpha=0.001, ini para=18\n",
      "`gtol` termination condition is satisfied.\n",
      "Number of iterations: 31, function evaluations: 66, CG iterations: 36, optimality: 2.76e-09, constraint violation: 0.00e+00, execution time: 0.68 s.\n",
      "species=BT, alpha=0.001, ini para=19\n"
     ]
    },
    {
     "name": "stderr",
     "output_type": "stream",
     "text": [
      "/opt/anaconda3/lib/python3.8/site-packages/scipy/optimize/_hessian_update_strategy.py:182: UserWarning: delta_grad == 0.0. Check if the approximated function is linear. If the function is linear better results can be obtained by defining the Hessian as zero instead of using quasi-Newton approximations.\n",
      "  warn('delta_grad == 0.0. Check if the approximated '\n"
     ]
    },
    {
     "name": "stdout",
     "output_type": "stream",
     "text": [
      "`xtol` termination condition is satisfied.\n",
      "Number of iterations: 63, function evaluations: 120, CG iterations: 86, optimality: 5.81e-08, constraint violation: 0.00e+00, execution time:  1.1 s.\n",
      "species=BT, alpha=0.001, ini para=20\n",
      "`xtol` termination condition is satisfied.\n",
      "Number of iterations: 84, function evaluations: 183, CG iterations: 130, optimality: 3.85e-08, constraint violation: 0.00e+00, execution time:  1.8 s.\n",
      "species=BT, alpha=0.001, ini para=21\n"
     ]
    },
    {
     "name": "stderr",
     "output_type": "stream",
     "text": [
      "/opt/anaconda3/lib/python3.8/site-packages/scipy/optimize/_hessian_update_strategy.py:182: UserWarning: delta_grad == 0.0. Check if the approximated function is linear. If the function is linear better results can be obtained by defining the Hessian as zero instead of using quasi-Newton approximations.\n",
      "  warn('delta_grad == 0.0. Check if the approximated '\n"
     ]
    },
    {
     "name": "stdout",
     "output_type": "stream",
     "text": [
      "`xtol` termination condition is satisfied.\n",
      "Number of iterations: 70, function evaluations: 129, CG iterations: 107, optimality: 3.85e-08, constraint violation: 0.00e+00, execution time:  1.2 s.\n",
      "species=BT, alpha=0.001, ini para=22\n",
      "`xtol` termination condition is satisfied.\n",
      "Number of iterations: 74, function evaluations: 147, CG iterations: 111, optimality: 4.65e-08, constraint violation: 0.00e+00, execution time:  1.4 s.\n",
      "species=BT, alpha=0.001, ini para=23\n",
      "`xtol` termination condition is satisfied.\n",
      "Number of iterations: 65, function evaluations: 123, CG iterations: 95, optimality: 5.81e-08, constraint violation: 0.00e+00, execution time:  1.2 s.\n",
      "species=BT, alpha=0.001, ini para=24\n",
      "`xtol` termination condition is satisfied.\n",
      "Number of iterations: 59, function evaluations: 96, CG iterations: 86, optimality: 1.51e-08, constraint violation: 0.00e+00, execution time: 0.96 s.\n",
      "species=BT, alpha=0.001, ini para=25\n",
      "`xtol` termination condition is satisfied.\n",
      "Number of iterations: 71, function evaluations: 153, CG iterations: 103, optimality: 3.85e-08, constraint violation: 0.00e+00, execution time:  1.4 s.\n",
      "species=BT, alpha=0.001, ini para=26\n"
     ]
    },
    {
     "name": "stderr",
     "output_type": "stream",
     "text": [
      "/opt/anaconda3/lib/python3.8/site-packages/scipy/optimize/_hessian_update_strategy.py:182: UserWarning: delta_grad == 0.0. Check if the approximated function is linear. If the function is linear better results can be obtained by defining the Hessian as zero instead of using quasi-Newton approximations.\n",
      "  warn('delta_grad == 0.0. Check if the approximated '\n"
     ]
    },
    {
     "name": "stdout",
     "output_type": "stream",
     "text": [
      "`xtol` termination condition is satisfied.\n",
      "Number of iterations: 64, function evaluations: 156, CG iterations: 89, optimality: 6.22e-08, constraint violation: 0.00e+00, execution time:  1.4 s.\n",
      "species=BT, alpha=0.001, ini para=27\n",
      "`xtol` termination condition is satisfied.\n",
      "Number of iterations: 60, function evaluations: 114, CG iterations: 86, optimality: 5.81e-08, constraint violation: 0.00e+00, execution time:  1.1 s.\n",
      "species=BT, alpha=0.001, ini para=28\n"
     ]
    },
    {
     "name": "stderr",
     "output_type": "stream",
     "text": [
      "/opt/anaconda3/lib/python3.8/site-packages/scipy/optimize/_hessian_update_strategy.py:182: UserWarning: delta_grad == 0.0. Check if the approximated function is linear. If the function is linear better results can be obtained by defining the Hessian as zero instead of using quasi-Newton approximations.\n",
      "  warn('delta_grad == 0.0. Check if the approximated '\n"
     ]
    },
    {
     "name": "stdout",
     "output_type": "stream",
     "text": [
      "`xtol` termination condition is satisfied.\n",
      "Number of iterations: 89, function evaluations: 210, CG iterations: 137, optimality: 6.22e-08, constraint violation: 0.00e+00, execution time:  1.9 s.\n",
      "species=BT, alpha=0.001, ini para=29\n",
      "`xtol` termination condition is satisfied.\n",
      "Number of iterations: 60, function evaluations: 102, CG iterations: 89, optimality: 3.85e-08, constraint violation: 0.00e+00, execution time: 0.99 s.\n",
      "species=BT, alpha=0.001, ini para=30\n",
      "`xtol` termination condition is satisfied.\n",
      "Number of iterations: 76, function evaluations: 171, CG iterations: 109, optimality: 5.81e-08, constraint violation: 0.00e+00, execution time:  1.6 s.\n",
      "species=BT, alpha=0.001, ini para=31\n",
      "`xtol` termination condition is satisfied.\n",
      "Number of iterations: 68, function evaluations: 153, CG iterations: 97, optimality: 4.65e-08, constraint violation: 0.00e+00, execution time:  1.4 s.\n",
      "species=BT, alpha=0.001, ini para=32\n",
      "`xtol` termination condition is satisfied.\n",
      "Number of iterations: 68, function evaluations: 159, CG iterations: 104, optimality: 5.81e-08, constraint violation: 0.00e+00, execution time:  1.4 s.\n",
      "species=BT, alpha=0.001, ini para=33\n",
      "`gtol` termination condition is satisfied.\n",
      "Number of iterations: 28, function evaluations: 60, CG iterations: 33, optimality: 5.78e-09, constraint violation: 0.00e+00, execution time: 0.59 s.\n",
      "species=BT, alpha=0.001, ini para=34\n",
      "`gtol` termination condition is satisfied.\n",
      "Number of iterations: 64, function evaluations: 165, CG iterations: 97, optimality: 2.76e-09, constraint violation: 0.00e+00, execution time:  1.6 s.\n",
      "species=BT, alpha=0.001, ini para=35\n",
      "`xtol` termination condition is satisfied.\n",
      "Number of iterations: 69, function evaluations: 135, CG iterations: 104, optimality: 3.85e-08, constraint violation: 0.00e+00, execution time:  1.3 s.\n",
      "species=BT, alpha=0.001, ini para=36\n",
      "`gtol` termination condition is satisfied.\n",
      "Number of iterations: 26, function evaluations: 51, CG iterations: 26, optimality: 2.76e-09, constraint violation: 0.00e+00, execution time:  0.5 s.\n",
      "species=BT, alpha=0.001, ini para=37\n",
      "`gtol` termination condition is satisfied.\n",
      "Number of iterations: 40, function evaluations: 99, CG iterations: 50, optimality: 5.78e-09, constraint violation: 0.00e+00, execution time: 0.98 s.\n",
      "species=BT, alpha=0.001, ini para=38\n",
      "`gtol` termination condition is satisfied.\n",
      "Number of iterations: 31, function evaluations: 63, CG iterations: 31, optimality: 3.36e-09, constraint violation: 0.00e+00, execution time: 0.99 s.\n",
      "species=BT, alpha=0.001, ini para=39\n"
     ]
    },
    {
     "name": "stderr",
     "output_type": "stream",
     "text": [
      "/opt/anaconda3/lib/python3.8/site-packages/scipy/optimize/_hessian_update_strategy.py:182: UserWarning: delta_grad == 0.0. Check if the approximated function is linear. If the function is linear better results can be obtained by defining the Hessian as zero instead of using quasi-Newton approximations.\n",
      "  warn('delta_grad == 0.0. Check if the approximated '\n"
     ]
    },
    {
     "name": "stdout",
     "output_type": "stream",
     "text": [
      "`xtol` termination condition is satisfied.\n",
      "Number of iterations: 65, function evaluations: 141, CG iterations: 99, optimality: 1.89e-08, constraint violation: 0.00e+00, execution time:  1.6 s.\n",
      "species=BT, alpha=0.001, ini para=40\n"
     ]
    },
    {
     "name": "stderr",
     "output_type": "stream",
     "text": [
      "/opt/anaconda3/lib/python3.8/site-packages/scipy/optimize/_hessian_update_strategy.py:182: UserWarning: delta_grad == 0.0. Check if the approximated function is linear. If the function is linear better results can be obtained by defining the Hessian as zero instead of using quasi-Newton approximations.\n",
      "  warn('delta_grad == 0.0. Check if the approximated '\n",
      "/opt/anaconda3/lib/python3.8/site-packages/scipy/optimize/_hessian_update_strategy.py:182: UserWarning: delta_grad == 0.0. Check if the approximated function is linear. If the function is linear better results can be obtained by defining the Hessian as zero instead of using quasi-Newton approximations.\n",
      "  warn('delta_grad == 0.0. Check if the approximated '\n"
     ]
    },
    {
     "name": "stdout",
     "output_type": "stream",
     "text": [
      "`xtol` termination condition is satisfied.\n",
      "Number of iterations: 80, function evaluations: 204, CG iterations: 121, optimality: 3.85e-08, constraint violation: 0.00e+00, execution time:  2.0 s.\n",
      "species=BT, alpha=0.001, ini para=41\n",
      "`xtol` termination condition is satisfied.\n",
      "Number of iterations: 64, function evaluations: 156, CG iterations: 94, optimality: 5.81e-08, constraint violation: 0.00e+00, execution time:  1.4 s.\n",
      "species=BT, alpha=0.001, ini para=42\n"
     ]
    },
    {
     "name": "stderr",
     "output_type": "stream",
     "text": [
      "/opt/anaconda3/lib/python3.8/site-packages/scipy/optimize/_hessian_update_strategy.py:182: UserWarning: delta_grad == 0.0. Check if the approximated function is linear. If the function is linear better results can be obtained by defining the Hessian as zero instead of using quasi-Newton approximations.\n",
      "  warn('delta_grad == 0.0. Check if the approximated '\n",
      "/opt/anaconda3/lib/python3.8/site-packages/scipy/optimize/_hessian_update_strategy.py:182: UserWarning: delta_grad == 0.0. Check if the approximated function is linear. If the function is linear better results can be obtained by defining the Hessian as zero instead of using quasi-Newton approximations.\n",
      "  warn('delta_grad == 0.0. Check if the approximated '\n"
     ]
    },
    {
     "name": "stdout",
     "output_type": "stream",
     "text": [
      "`xtol` termination condition is satisfied.\n",
      "Number of iterations: 77, function evaluations: 159, CG iterations: 106, optimality: 5.81e-08, constraint violation: 0.00e+00, execution time:  1.5 s.\n",
      "species=BT, alpha=0.001, ini para=43\n",
      "`xtol` termination condition is satisfied.\n",
      "Number of iterations: 72, function evaluations: 141, CG iterations: 110, optimality: 5.81e-08, constraint violation: 0.00e+00, execution time:  1.4 s.\n",
      "species=BT, alpha=0.001, ini para=44\n"
     ]
    },
    {
     "name": "stderr",
     "output_type": "stream",
     "text": [
      "/opt/anaconda3/lib/python3.8/site-packages/scipy/optimize/_hessian_update_strategy.py:182: UserWarning: delta_grad == 0.0. Check if the approximated function is linear. If the function is linear better results can be obtained by defining the Hessian as zero instead of using quasi-Newton approximations.\n",
      "  warn('delta_grad == 0.0. Check if the approximated '\n"
     ]
    },
    {
     "name": "stdout",
     "output_type": "stream",
     "text": [
      "`xtol` termination condition is satisfied.\n",
      "Number of iterations: 55, function evaluations: 78, CG iterations: 75, optimality: 1.89e-08, constraint violation: 0.00e+00, execution time: 0.79 s.\n",
      "species=BT, alpha=0.001, ini para=45\n",
      "`gtol` termination condition is satisfied.\n",
      "Number of iterations: 30, function evaluations: 66, CG iterations: 36, optimality: 5.78e-09, constraint violation: 0.00e+00, execution time: 0.66 s.\n",
      "species=BT, alpha=0.001, ini para=46\n",
      "`xtol` termination condition is satisfied.\n",
      "Number of iterations: 61, function evaluations: 111, CG iterations: 90, optimality: 1.89e-08, constraint violation: 0.00e+00, execution time:  1.1 s.\n",
      "species=BT, alpha=0.001, ini para=47\n",
      "`xtol` termination condition is satisfied.\n",
      "Number of iterations: 60, function evaluations: 105, CG iterations: 84, optimality: 1.89e-08, constraint violation: 0.00e+00, execution time:  1.2 s.\n",
      "species=BT, alpha=0.001, ini para=48\n"
     ]
    },
    {
     "name": "stderr",
     "output_type": "stream",
     "text": [
      "/opt/anaconda3/lib/python3.8/site-packages/scipy/optimize/_hessian_update_strategy.py:182: UserWarning: delta_grad == 0.0. Check if the approximated function is linear. If the function is linear better results can be obtained by defining the Hessian as zero instead of using quasi-Newton approximations.\n",
      "  warn('delta_grad == 0.0. Check if the approximated '\n"
     ]
    },
    {
     "name": "stdout",
     "output_type": "stream",
     "text": [
      "`xtol` termination condition is satisfied.\n",
      "Number of iterations: 68, function evaluations: 129, CG iterations: 99, optimality: 3.08e-08, constraint violation: 0.00e+00, execution time:  1.4 s.\n",
      "species=BT, alpha=0.001, ini para=49\n",
      "`gtol` termination condition is satisfied.\n",
      "Number of iterations: 27, function evaluations: 57, CG iterations: 30, optimality: 5.78e-09, constraint violation: 0.00e+00, execution time: 0.58 s.\n",
      "species=BT, alpha=0.001, ini para=50\n",
      "`xtol` termination condition is satisfied.\n",
      "Number of iterations: 65, function evaluations: 117, CG iterations: 98, optimality: 3.85e-08, constraint violation: 0.00e+00, execution time:  1.2 s.\n",
      "species=BT, alpha=0.001, ini para=51\n",
      "`xtol` termination condition is satisfied.\n",
      "Number of iterations: 68, function evaluations: 126, CG iterations: 104, optimality: 4.65e-08, constraint violation: 0.00e+00, execution time:  1.5 s.\n",
      "species=BT, alpha=0.001, ini para=52\n",
      "`xtol` termination condition is satisfied.\n",
      "Number of iterations: 64, function evaluations: 126, CG iterations: 92, optimality: 3.85e-08, constraint violation: 0.00e+00, execution time:  1.4 s.\n",
      "species=BT, alpha=0.001, ini para=53\n",
      "`xtol` termination condition is satisfied.\n",
      "Number of iterations: 59, function evaluations: 111, CG iterations: 84, optimality: 5.81e-08, constraint violation: 0.00e+00, execution time:  1.2 s.\n",
      "species=BT, alpha=0.001, ini para=54\n"
     ]
    },
    {
     "name": "stderr",
     "output_type": "stream",
     "text": [
      "/opt/anaconda3/lib/python3.8/site-packages/scipy/optimize/_hessian_update_strategy.py:182: UserWarning: delta_grad == 0.0. Check if the approximated function is linear. If the function is linear better results can be obtained by defining the Hessian as zero instead of using quasi-Newton approximations.\n",
      "  warn('delta_grad == 0.0. Check if the approximated '\n",
      "/opt/anaconda3/lib/python3.8/site-packages/scipy/optimize/_hessian_update_strategy.py:182: UserWarning: delta_grad == 0.0. Check if the approximated function is linear. If the function is linear better results can be obtained by defining the Hessian as zero instead of using quasi-Newton approximations.\n",
      "  warn('delta_grad == 0.0. Check if the approximated '\n",
      "/opt/anaconda3/lib/python3.8/site-packages/scipy/optimize/_hessian_update_strategy.py:182: UserWarning: delta_grad == 0.0. Check if the approximated function is linear. If the function is linear better results can be obtained by defining the Hessian as zero instead of using quasi-Newton approximations.\n",
      "  warn('delta_grad == 0.0. Check if the approximated '\n"
     ]
    },
    {
     "name": "stdout",
     "output_type": "stream",
     "text": [
      "`xtol` termination condition is satisfied.\n",
      "Number of iterations: 60, function evaluations: 90, CG iterations: 64, optimality: 3.85e-08, constraint violation: 0.00e+00, execution time: 0.92 s.\n",
      "species=BT, alpha=0.001, ini para=55\n",
      "`xtol` termination condition is satisfied.\n",
      "Number of iterations: 75, function evaluations: 141, CG iterations: 112, optimality: 4.65e-08, constraint violation: 0.00e+00, execution time:  1.5 s.\n",
      "species=BT, alpha=0.001, ini para=56\n"
     ]
    },
    {
     "name": "stderr",
     "output_type": "stream",
     "text": [
      "/opt/anaconda3/lib/python3.8/site-packages/scipy/optimize/_hessian_update_strategy.py:182: UserWarning: delta_grad == 0.0. Check if the approximated function is linear. If the function is linear better results can be obtained by defining the Hessian as zero instead of using quasi-Newton approximations.\n",
      "  warn('delta_grad == 0.0. Check if the approximated '\n"
     ]
    },
    {
     "name": "stdout",
     "output_type": "stream",
     "text": [
      "`xtol` termination condition is satisfied.\n",
      "Number of iterations: 84, function evaluations: 198, CG iterations: 124, optimality: 5.81e-08, constraint violation: 0.00e+00, execution time:  2.1 s.\n",
      "species=BT, alpha=0.001, ini para=57\n",
      "`gtol` termination condition is satisfied.\n",
      "Number of iterations: 29, function evaluations: 57, CG iterations: 29, optimality: 3.36e-09, constraint violation: 0.00e+00, execution time: 0.59 s.\n",
      "species=BT, alpha=0.001, ini para=58\n",
      "`xtol` termination condition is satisfied.\n",
      "Number of iterations: 87, function evaluations: 198, CG iterations: 135, optimality: 4.65e-08, constraint violation: 0.00e+00, execution time:  2.2 s.\n",
      "species=BT, alpha=0.001, ini para=59\n",
      "`xtol` termination condition is satisfied.\n",
      "Number of iterations: 89, function evaluations: 204, CG iterations: 136, optimality: 3.08e-08, constraint violation: 0.00e+00, execution time:  1.9 s.\n",
      "species=BT, alpha=0.001, ini para=60\n",
      "`xtol` termination condition is satisfied.\n",
      "Number of iterations: 83, function evaluations: 204, CG iterations: 120, optimality: 5.81e-08, constraint violation: 0.00e+00, execution time:  1.9 s.\n",
      "species=BT, alpha=0.001, ini para=61\n",
      "`xtol` termination condition is satisfied.\n",
      "Number of iterations: 67, function evaluations: 141, CG iterations: 91, optimality: 3.08e-08, constraint violation: 0.00e+00, execution time:  1.3 s.\n",
      "species=BT, alpha=0.001, ini para=62\n"
     ]
    },
    {
     "name": "stderr",
     "output_type": "stream",
     "text": [
      "/opt/anaconda3/lib/python3.8/site-packages/scipy/optimize/_hessian_update_strategy.py:182: UserWarning: delta_grad == 0.0. Check if the approximated function is linear. If the function is linear better results can be obtained by defining the Hessian as zero instead of using quasi-Newton approximations.\n",
      "  warn('delta_grad == 0.0. Check if the approximated '\n"
     ]
    },
    {
     "name": "stdout",
     "output_type": "stream",
     "text": [
      "`xtol` termination condition is satisfied.\n",
      "Number of iterations: 67, function evaluations: 129, CG iterations: 98, optimality: 5.81e-08, constraint violation: 0.00e+00, execution time:  1.2 s.\n",
      "species=BT, alpha=0.001, ini para=63\n",
      "`xtol` termination condition is satisfied.\n",
      "Number of iterations: 77, function evaluations: 168, CG iterations: 110, optimality: 6.22e-08, constraint violation: 0.00e+00, execution time:  1.6 s.\n",
      "species=BT, alpha=0.001, ini para=64\n"
     ]
    },
    {
     "name": "stderr",
     "output_type": "stream",
     "text": [
      "/opt/anaconda3/lib/python3.8/site-packages/scipy/optimize/_hessian_update_strategy.py:182: UserWarning: delta_grad == 0.0. Check if the approximated function is linear. If the function is linear better results can be obtained by defining the Hessian as zero instead of using quasi-Newton approximations.\n",
      "  warn('delta_grad == 0.0. Check if the approximated '\n",
      "/opt/anaconda3/lib/python3.8/site-packages/scipy/optimize/_hessian_update_strategy.py:182: UserWarning: delta_grad == 0.0. Check if the approximated function is linear. If the function is linear better results can be obtained by defining the Hessian as zero instead of using quasi-Newton approximations.\n",
      "  warn('delta_grad == 0.0. Check if the approximated '\n"
     ]
    },
    {
     "name": "stdout",
     "output_type": "stream",
     "text": [
      "`xtol` termination condition is satisfied.\n",
      "Number of iterations: 68, function evaluations: 129, CG iterations: 102, optimality: 5.81e-08, constraint violation: 0.00e+00, execution time:  1.2 s.\n",
      "species=BT, alpha=0.001, ini para=65\n",
      "`xtol` termination condition is satisfied.\n",
      "Number of iterations: 63, function evaluations: 117, CG iterations: 95, optimality: 1.89e-08, constraint violation: 0.00e+00, execution time:  1.1 s.\n",
      "species=BT, alpha=0.001, ini para=66\n"
     ]
    },
    {
     "name": "stderr",
     "output_type": "stream",
     "text": [
      "/opt/anaconda3/lib/python3.8/site-packages/scipy/optimize/_hessian_update_strategy.py:182: UserWarning: delta_grad == 0.0. Check if the approximated function is linear. If the function is linear better results can be obtained by defining the Hessian as zero instead of using quasi-Newton approximations.\n",
      "  warn('delta_grad == 0.0. Check if the approximated '\n",
      "/opt/anaconda3/lib/python3.8/site-packages/scipy/optimize/_hessian_update_strategy.py:182: UserWarning: delta_grad == 0.0. Check if the approximated function is linear. If the function is linear better results can be obtained by defining the Hessian as zero instead of using quasi-Newton approximations.\n",
      "  warn('delta_grad == 0.0. Check if the approximated '\n"
     ]
    },
    {
     "name": "stdout",
     "output_type": "stream",
     "text": [
      "`xtol` termination condition is satisfied.\n",
      "Number of iterations: 58, function evaluations: 102, CG iterations: 86, optimality: 3.85e-08, constraint violation: 0.00e+00, execution time:  1.0 s.\n",
      "species=BT, alpha=0.001, ini para=67\n",
      "`gtol` termination condition is satisfied.\n",
      "Number of iterations: 30, function evaluations: 66, CG iterations: 34, optimality: 5.78e-09, constraint violation: 0.00e+00, execution time: 0.64 s.\n",
      "species=BT, alpha=0.001, ini para=68\n",
      "`xtol` termination condition is satisfied.\n",
      "Number of iterations: 57, function evaluations: 90, CG iterations: 85, optimality: 4.65e-08, constraint violation: 0.00e+00, execution time: 0.89 s.\n",
      "species=BT, alpha=0.001, ini para=69\n",
      "`xtol` termination condition is satisfied.\n",
      "Number of iterations: 82, function evaluations: 180, CG iterations: 114, optimality: 4.65e-08, constraint violation: 0.00e+00, execution time:  1.7 s.\n",
      "species=BT, alpha=0.001, ini para=70\n"
     ]
    },
    {
     "name": "stderr",
     "output_type": "stream",
     "text": [
      "/opt/anaconda3/lib/python3.8/site-packages/scipy/optimize/_hessian_update_strategy.py:182: UserWarning: delta_grad == 0.0. Check if the approximated function is linear. If the function is linear better results can be obtained by defining the Hessian as zero instead of using quasi-Newton approximations.\n",
      "  warn('delta_grad == 0.0. Check if the approximated '\n",
      "/opt/anaconda3/lib/python3.8/site-packages/scipy/optimize/_hessian_update_strategy.py:182: UserWarning: delta_grad == 0.0. Check if the approximated function is linear. If the function is linear better results can be obtained by defining the Hessian as zero instead of using quasi-Newton approximations.\n",
      "  warn('delta_grad == 0.0. Check if the approximated '\n"
     ]
    },
    {
     "name": "stdout",
     "output_type": "stream",
     "text": [
      "`xtol` termination condition is satisfied.\n",
      "Number of iterations: 61, function evaluations: 129, CG iterations: 89, optimality: 3.08e-08, constraint violation: 0.00e+00, execution time:  1.2 s.\n",
      "species=BT, alpha=0.001, ini para=71\n",
      "`gtol` termination condition is satisfied.\n",
      "Number of iterations: 27, function evaluations: 60, CG iterations: 29, optimality: 9.30e-09, constraint violation: 0.00e+00, execution time: 0.59 s.\n",
      "species=BT, alpha=0.001, ini para=72\n"
     ]
    },
    {
     "name": "stderr",
     "output_type": "stream",
     "text": [
      "/opt/anaconda3/lib/python3.8/site-packages/scipy/optimize/_hessian_update_strategy.py:182: UserWarning: delta_grad == 0.0. Check if the approximated function is linear. If the function is linear better results can be obtained by defining the Hessian as zero instead of using quasi-Newton approximations.\n",
      "  warn('delta_grad == 0.0. Check if the approximated '\n"
     ]
    },
    {
     "name": "stdout",
     "output_type": "stream",
     "text": [
      "`xtol` termination condition is satisfied.\n",
      "Number of iterations: 77, function evaluations: 201, CG iterations: 115, optimality: 3.08e-08, constraint violation: 0.00e+00, execution time:  1.8 s.\n",
      "species=BT, alpha=0.001, ini para=73\n",
      "`gtol` termination condition is satisfied.\n",
      "Number of iterations: 31, function evaluations: 66, CG iterations: 34, optimality: 2.76e-09, constraint violation: 0.00e+00, execution time:  0.7 s.\n",
      "species=BT, alpha=0.001, ini para=74\n",
      "`xtol` termination condition is satisfied.\n",
      "Number of iterations: 68, function evaluations: 129, CG iterations: 100, optimality: 5.81e-08, constraint violation: 0.00e+00, execution time:  1.3 s.\n",
      "species=BT, alpha=0.001, ini para=75\n",
      "`xtol` termination condition is satisfied.\n",
      "Number of iterations: 63, function evaluations: 111, CG iterations: 96, optimality: 3.08e-08, constraint violation: 0.00e+00, execution time:  1.2 s.\n",
      "species=BT, alpha=0.001, ini para=76\n",
      "`xtol` termination condition is satisfied.\n",
      "Number of iterations: 79, function evaluations: 189, CG iterations: 110, optimality: 3.85e-08, constraint violation: 0.00e+00, execution time:  1.7 s.\n",
      "species=BT, alpha=0.001, ini para=77\n"
     ]
    },
    {
     "name": "stderr",
     "output_type": "stream",
     "text": [
      "/opt/anaconda3/lib/python3.8/site-packages/scipy/optimize/_hessian_update_strategy.py:182: UserWarning: delta_grad == 0.0. Check if the approximated function is linear. If the function is linear better results can be obtained by defining the Hessian as zero instead of using quasi-Newton approximations.\n",
      "  warn('delta_grad == 0.0. Check if the approximated '\n"
     ]
    },
    {
     "name": "stdout",
     "output_type": "stream",
     "text": [
      "`xtol` termination condition is satisfied.\n",
      "Number of iterations: 61, function evaluations: 114, CG iterations: 81, optimality: 5.81e-08, constraint violation: 0.00e+00, execution time:  1.1 s.\n",
      "species=BT, alpha=0.001, ini para=78\n",
      "`gtol` termination condition is satisfied.\n",
      "Number of iterations: 37, function evaluations: 81, CG iterations: 42, optimality: 3.36e-09, constraint violation: 0.00e+00, execution time: 0.78 s.\n",
      "species=BT, alpha=0.001, ini para=79\n",
      "`gtol` termination condition is satisfied.\n",
      "Number of iterations: 52, function evaluations: 129, CG iterations: 75, optimality: 2.76e-09, constraint violation: 0.00e+00, execution time:  1.3 s.\n",
      "species=BT, alpha=0.001, ini para=80\n",
      "`xtol` termination condition is satisfied.\n",
      "Number of iterations: 65, function evaluations: 129, CG iterations: 94, optimality: 3.85e-08, constraint violation: 0.00e+00, execution time:  1.2 s.\n",
      "species=BT, alpha=0.001, ini para=81\n",
      "`xtol` termination condition is satisfied.\n",
      "Number of iterations: 101, function evaluations: 252, CG iterations: 150, optimality: 4.65e-08, constraint violation: 0.00e+00, execution time:  2.3 s.\n",
      "species=BT, alpha=0.001, ini para=82\n",
      "`xtol` termination condition is satisfied.\n",
      "Number of iterations: 63, function evaluations: 111, CG iterations: 94, optimality: 1.89e-08, constraint violation: 0.00e+00, execution time:  1.1 s.\n",
      "species=BT, alpha=0.001, ini para=83\n",
      "`xtol` termination condition is satisfied.\n",
      "Number of iterations: 63, function evaluations: 111, CG iterations: 95, optimality: 1.89e-08, constraint violation: 0.00e+00, execution time:  1.2 s.\n",
      "species=BT, alpha=0.001, ini para=84\n",
      "`gtol` termination condition is satisfied.\n",
      "Number of iterations: 28, function evaluations: 63, CG iterations: 32, optimality: 9.30e-09, constraint violation: 0.00e+00, execution time: 0.61 s.\n",
      "species=BT, alpha=0.001, ini para=85\n"
     ]
    },
    {
     "name": "stderr",
     "output_type": "stream",
     "text": [
      "/opt/anaconda3/lib/python3.8/site-packages/scipy/optimize/_hessian_update_strategy.py:182: UserWarning: delta_grad == 0.0. Check if the approximated function is linear. If the function is linear better results can be obtained by defining the Hessian as zero instead of using quasi-Newton approximations.\n",
      "  warn('delta_grad == 0.0. Check if the approximated '\n",
      "/opt/anaconda3/lib/python3.8/site-packages/scipy/optimize/_hessian_update_strategy.py:182: UserWarning: delta_grad == 0.0. Check if the approximated function is linear. If the function is linear better results can be obtained by defining the Hessian as zero instead of using quasi-Newton approximations.\n",
      "  warn('delta_grad == 0.0. Check if the approximated '\n",
      "/opt/anaconda3/lib/python3.8/site-packages/scipy/optimize/_hessian_update_strategy.py:182: UserWarning: delta_grad == 0.0. Check if the approximated function is linear. If the function is linear better results can be obtained by defining the Hessian as zero instead of using quasi-Newton approximations.\n",
      "  warn('delta_grad == 0.0. Check if the approximated '\n"
     ]
    },
    {
     "name": "stdout",
     "output_type": "stream",
     "text": [
      "`xtol` termination condition is satisfied.\n",
      "Number of iterations: 60, function evaluations: 102, CG iterations: 79, optimality: 4.65e-08, constraint violation: 0.00e+00, execution time: 0.98 s.\n",
      "species=BT, alpha=0.001, ini para=86\n",
      "`xtol` termination condition is satisfied.\n",
      "Number of iterations: 69, function evaluations: 132, CG iterations: 108, optimality: 1.89e-08, constraint violation: 0.00e+00, execution time:  1.4 s.\n",
      "species=BT, alpha=0.001, ini para=87\n",
      "`xtol` termination condition is satisfied.\n",
      "Number of iterations: 67, function evaluations: 135, CG iterations: 99, optimality: 3.85e-08, constraint violation: 0.00e+00, execution time:  1.3 s.\n",
      "species=BT, alpha=0.001, ini para=88\n"
     ]
    },
    {
     "name": "stderr",
     "output_type": "stream",
     "text": [
      "/opt/anaconda3/lib/python3.8/site-packages/scipy/optimize/_hessian_update_strategy.py:182: UserWarning: delta_grad == 0.0. Check if the approximated function is linear. If the function is linear better results can be obtained by defining the Hessian as zero instead of using quasi-Newton approximations.\n",
      "  warn('delta_grad == 0.0. Check if the approximated '\n"
     ]
    },
    {
     "name": "stdout",
     "output_type": "stream",
     "text": [
      "`xtol` termination condition is satisfied.\n",
      "Number of iterations: 66, function evaluations: 135, CG iterations: 91, optimality: 3.08e-08, constraint violation: 0.00e+00, execution time:  1.3 s.\n",
      "species=BT, alpha=0.001, ini para=89\n",
      "`gtol` termination condition is satisfied.\n",
      "Number of iterations: 42, function evaluations: 105, CG iterations: 57, optimality: 9.30e-09, constraint violation: 0.00e+00, execution time:  1.0 s.\n",
      "species=BT, alpha=0.001, ini para=90\n"
     ]
    },
    {
     "name": "stderr",
     "output_type": "stream",
     "text": [
      "/opt/anaconda3/lib/python3.8/site-packages/scipy/optimize/_hessian_update_strategy.py:182: UserWarning: delta_grad == 0.0. Check if the approximated function is linear. If the function is linear better results can be obtained by defining the Hessian as zero instead of using quasi-Newton approximations.\n",
      "  warn('delta_grad == 0.0. Check if the approximated '\n"
     ]
    },
    {
     "name": "stdout",
     "output_type": "stream",
     "text": [
      "`xtol` termination condition is satisfied.\n",
      "Number of iterations: 64, function evaluations: 117, CG iterations: 95, optimality: 3.85e-08, constraint violation: 0.00e+00, execution time:  1.1 s.\n",
      "species=BT, alpha=0.001, ini para=91\n"
     ]
    },
    {
     "name": "stderr",
     "output_type": "stream",
     "text": [
      "/opt/anaconda3/lib/python3.8/site-packages/scipy/optimize/_hessian_update_strategy.py:182: UserWarning: delta_grad == 0.0. Check if the approximated function is linear. If the function is linear better results can be obtained by defining the Hessian as zero instead of using quasi-Newton approximations.\n",
      "  warn('delta_grad == 0.0. Check if the approximated '\n",
      "/opt/anaconda3/lib/python3.8/site-packages/scipy/optimize/_hessian_update_strategy.py:182: UserWarning: delta_grad == 0.0. Check if the approximated function is linear. If the function is linear better results can be obtained by defining the Hessian as zero instead of using quasi-Newton approximations.\n",
      "  warn('delta_grad == 0.0. Check if the approximated '\n"
     ]
    },
    {
     "name": "stdout",
     "output_type": "stream",
     "text": [
      "`xtol` termination condition is satisfied.\n",
      "Number of iterations: 60, function evaluations: 105, CG iterations: 79, optimality: 3.85e-08, constraint violation: 0.00e+00, execution time:  1.0 s.\n",
      "species=BT, alpha=0.001, ini para=92\n",
      "`xtol` termination condition is satisfied.\n",
      "Number of iterations: 63, function evaluations: 120, CG iterations: 90, optimality: 3.85e-08, constraint violation: 0.00e+00, execution time:  1.1 s.\n",
      "species=BT, alpha=0.001, ini para=93\n",
      "`xtol` termination condition is satisfied.\n",
      "Number of iterations: 65, function evaluations: 105, CG iterations: 99, optimality: 1.51e-08, constraint violation: 0.00e+00, execution time:  1.0 s.\n",
      "species=BT, alpha=0.001, ini para=94\n",
      "`xtol` termination condition is satisfied.\n",
      "Number of iterations: 62, function evaluations: 114, CG iterations: 93, optimality: 3.85e-08, constraint violation: 0.00e+00, execution time:  1.1 s.\n",
      "species=BT, alpha=0.001, ini para=95\n",
      "`gtol` termination condition is satisfied.\n",
      "Number of iterations: 31, function evaluations: 69, CG iterations: 38, optimality: 5.78e-09, constraint violation: 0.00e+00, execution time: 0.68 s.\n",
      "species=BT, alpha=0.001, ini para=96\n",
      "`xtol` termination condition is satisfied.\n",
      "Number of iterations: 58, function evaluations: 93, CG iterations: 87, optimality: 1.89e-08, constraint violation: 0.00e+00, execution time: 0.93 s.\n",
      "species=BT, alpha=0.001, ini para=97\n"
     ]
    },
    {
     "name": "stderr",
     "output_type": "stream",
     "text": [
      "/opt/anaconda3/lib/python3.8/site-packages/scipy/optimize/_hessian_update_strategy.py:182: UserWarning: delta_grad == 0.0. Check if the approximated function is linear. If the function is linear better results can be obtained by defining the Hessian as zero instead of using quasi-Newton approximations.\n",
      "  warn('delta_grad == 0.0. Check if the approximated '\n",
      "/opt/anaconda3/lib/python3.8/site-packages/scipy/optimize/_hessian_update_strategy.py:182: UserWarning: delta_grad == 0.0. Check if the approximated function is linear. If the function is linear better results can be obtained by defining the Hessian as zero instead of using quasi-Newton approximations.\n",
      "  warn('delta_grad == 0.0. Check if the approximated '\n"
     ]
    },
    {
     "name": "stdout",
     "output_type": "stream",
     "text": [
      "`xtol` termination condition is satisfied.\n",
      "Number of iterations: 81, function evaluations: 183, CG iterations: 129, optimality: 5.81e-08, constraint violation: 0.00e+00, execution time:  1.7 s.\n",
      "species=BT, alpha=0.001, ini para=98\n",
      "`xtol` termination condition is satisfied.\n",
      "Number of iterations: 56, function evaluations: 93, CG iterations: 82, optimality: 3.08e-08, constraint violation: 0.00e+00, execution time: 0.92 s.\n",
      "species=BT, alpha=0.001, ini para=99\n",
      "`xtol` termination condition is satisfied.\n",
      "Number of iterations: 73, function evaluations: 150, CG iterations: 107, optimality: 1.89e-08, constraint violation: 0.00e+00, execution time:  1.5 s.\n",
      "species=BT, alpha=0.003, ini para=0\n",
      "`gtol` termination condition is satisfied.\n",
      "Number of iterations: 27, function evaluations: 60, CG iterations: 34, optimality: 9.82e-09, constraint violation: 0.00e+00, execution time: 0.59 s.\n",
      "species=BT, alpha=0.003, ini para=1\n",
      "`xtol` termination condition is satisfied.\n",
      "Number of iterations: 61, function evaluations: 99, CG iterations: 87, optimality: 4.07e-08, constraint violation: 0.00e+00, execution time: 0.95 s.\n",
      "species=BT, alpha=0.003, ini para=2\n",
      "`gtol` termination condition is satisfied.\n",
      "Number of iterations: 26, function evaluations: 51, CG iterations: 25, optimality: 2.92e-09, constraint violation: 0.00e+00, execution time:  0.5 s.\n",
      "species=BT, alpha=0.003, ini para=3\n",
      "`xtol` termination condition is satisfied.\n",
      "Number of iterations: 66, function evaluations: 120, CG iterations: 98, optimality: 4.07e-08, constraint violation: 0.00e+00, execution time:  1.2 s.\n",
      "species=BT, alpha=0.003, ini para=4\n",
      "`xtol` termination condition is satisfied.\n",
      "Number of iterations: 91, function evaluations: 186, CG iterations: 136, optimality: 4.07e-08, constraint violation: 0.00e+00, execution time:  1.9 s.\n",
      "species=BT, alpha=0.003, ini para=5\n",
      "`gtol` termination condition is satisfied.\n",
      "Number of iterations: 26, function evaluations: 57, CG iterations: 31, optimality: 9.82e-09, constraint violation: 0.00e+00, execution time: 0.61 s.\n",
      "species=BT, alpha=0.003, ini para=6\n",
      "`xtol` termination condition is satisfied.\n",
      "Number of iterations: 60, function evaluations: 102, CG iterations: 90, optimality: 2.00e-08, constraint violation: 0.00e+00, execution time:  1.3 s.\n",
      "species=BT, alpha=0.003, ini para=7\n"
     ]
    },
    {
     "name": "stderr",
     "output_type": "stream",
     "text": [
      "/opt/anaconda3/lib/python3.8/site-packages/scipy/optimize/_hessian_update_strategy.py:182: UserWarning: delta_grad == 0.0. Check if the approximated function is linear. If the function is linear better results can be obtained by defining the Hessian as zero instead of using quasi-Newton approximations.\n",
      "  warn('delta_grad == 0.0. Check if the approximated '\n"
     ]
    },
    {
     "name": "stdout",
     "output_type": "stream",
     "text": [
      "`xtol` termination condition is satisfied.\n",
      "Number of iterations: 74, function evaluations: 189, CG iterations: 112, optimality: 4.07e-08, constraint violation: 0.00e+00, execution time:  2.0 s.\n",
      "species=BT, alpha=0.003, ini para=8\n",
      "`xtol` termination condition is satisfied.\n",
      "Number of iterations: 77, function evaluations: 147, CG iterations: 101, optimality: 3.29e-08, constraint violation: 0.00e+00, execution time:  1.4 s.\n",
      "species=BT, alpha=0.003, ini para=9\n",
      "`gtol` termination condition is satisfied.\n",
      "Number of iterations: 32, function evaluations: 69, CG iterations: 37, optimality: 2.92e-09, constraint violation: 0.00e+00, execution time: 0.68 s.\n",
      "species=BT, alpha=0.003, ini para=10\n"
     ]
    },
    {
     "name": "stderr",
     "output_type": "stream",
     "text": [
      "/opt/anaconda3/lib/python3.8/site-packages/scipy/optimize/_hessian_update_strategy.py:182: UserWarning: delta_grad == 0.0. Check if the approximated function is linear. If the function is linear better results can be obtained by defining the Hessian as zero instead of using quasi-Newton approximations.\n",
      "  warn('delta_grad == 0.0. Check if the approximated '\n"
     ]
    },
    {
     "name": "stdout",
     "output_type": "stream",
     "text": [
      "`xtol` termination condition is satisfied.\n",
      "Number of iterations: 59, function evaluations: 90, CG iterations: 87, optimality: 6.14e-08, constraint violation: 0.00e+00, execution time: 0.88 s.\n",
      "species=BT, alpha=0.003, ini para=11\n",
      "`xtol` termination condition is satisfied.\n",
      "Number of iterations: 64, function evaluations: 162, CG iterations: 98, optimality: 4.07e-08, constraint violation: 0.00e+00, execution time:  1.4 s.\n",
      "species=BT, alpha=0.003, ini para=12\n",
      "`xtol` termination condition is satisfied.\n",
      "Number of iterations: 60, function evaluations: 102, CG iterations: 83, optimality: 3.29e-08, constraint violation: 0.00e+00, execution time: 0.99 s.\n",
      "species=BT, alpha=0.003, ini para=13\n"
     ]
    },
    {
     "name": "stderr",
     "output_type": "stream",
     "text": [
      "/opt/anaconda3/lib/python3.8/site-packages/scipy/optimize/_hessian_update_strategy.py:182: UserWarning: delta_grad == 0.0. Check if the approximated function is linear. If the function is linear better results can be obtained by defining the Hessian as zero instead of using quasi-Newton approximations.\n",
      "  warn('delta_grad == 0.0. Check if the approximated '\n"
     ]
    },
    {
     "name": "stdout",
     "output_type": "stream",
     "text": [
      "`xtol` termination condition is satisfied.\n",
      "Number of iterations: 68, function evaluations: 144, CG iterations: 97, optimality: 4.07e-08, constraint violation: 0.00e+00, execution time:  1.3 s.\n",
      "species=BT, alpha=0.003, ini para=14\n",
      "`xtol` termination condition is satisfied.\n",
      "Number of iterations: 71, function evaluations: 159, CG iterations: 108, optimality: 6.14e-08, constraint violation: 0.00e+00, execution time:  1.4 s.\n",
      "species=BT, alpha=0.003, ini para=15\n"
     ]
    },
    {
     "name": "stderr",
     "output_type": "stream",
     "text": [
      "/opt/anaconda3/lib/python3.8/site-packages/scipy/optimize/_hessian_update_strategy.py:182: UserWarning: delta_grad == 0.0. Check if the approximated function is linear. If the function is linear better results can be obtained by defining the Hessian as zero instead of using quasi-Newton approximations.\n",
      "  warn('delta_grad == 0.0. Check if the approximated '\n"
     ]
    },
    {
     "name": "stdout",
     "output_type": "stream",
     "text": [
      "`xtol` termination condition is satisfied.\n",
      "Number of iterations: 62, function evaluations: 108, CG iterations: 94, optimality: 2.00e-08, constraint violation: 0.00e+00, execution time:  1.0 s.\n",
      "species=BT, alpha=0.003, ini para=16\n",
      "`xtol` termination condition is satisfied.\n",
      "Number of iterations: 65, function evaluations: 120, CG iterations: 92, optimality: 4.96e-08, constraint violation: 0.00e+00, execution time:  1.1 s.\n",
      "species=BT, alpha=0.003, ini para=17\n"
     ]
    },
    {
     "name": "stderr",
     "output_type": "stream",
     "text": [
      "/opt/anaconda3/lib/python3.8/site-packages/scipy/optimize/_hessian_update_strategy.py:182: UserWarning: delta_grad == 0.0. Check if the approximated function is linear. If the function is linear better results can be obtained by defining the Hessian as zero instead of using quasi-Newton approximations.\n",
      "  warn('delta_grad == 0.0. Check if the approximated '\n",
      "/opt/anaconda3/lib/python3.8/site-packages/scipy/optimize/_hessian_update_strategy.py:182: UserWarning: delta_grad == 0.0. Check if the approximated function is linear. If the function is linear better results can be obtained by defining the Hessian as zero instead of using quasi-Newton approximations.\n",
      "  warn('delta_grad == 0.0. Check if the approximated '\n"
     ]
    },
    {
     "name": "stdout",
     "output_type": "stream",
     "text": [
      "`xtol` termination condition is satisfied.\n",
      "Number of iterations: 62, function evaluations: 99, CG iterations: 94, optimality: 2.00e-08, constraint violation: 0.00e+00, execution time: 0.98 s.\n",
      "species=BT, alpha=0.003, ini para=18\n",
      "`xtol` termination condition is satisfied.\n",
      "Number of iterations: 63, function evaluations: 132, CG iterations: 94, optimality: 4.07e-08, constraint violation: 0.00e+00, execution time:  1.2 s.\n",
      "species=BT, alpha=0.003, ini para=19\n",
      "`gtol` termination condition is satisfied.\n",
      "Number of iterations: 29, function evaluations: 66, CG iterations: 38, optimality: 9.82e-09, constraint violation: 0.00e+00, execution time: 0.63 s.\n",
      "species=BT, alpha=0.003, ini para=20\n",
      "`xtol` termination condition is satisfied.\n",
      "Number of iterations: 103, function evaluations: 279, CG iterations: 156, optimality: 4.96e-08, constraint violation: 0.00e+00, execution time:  2.5 s.\n",
      "species=BT, alpha=0.003, ini para=21\n",
      "`xtol` termination condition is satisfied.\n",
      "Number of iterations: 62, function evaluations: 123, CG iterations: 90, optimality: 3.29e-08, constraint violation: 0.00e+00, execution time:  1.1 s.\n",
      "species=BT, alpha=0.003, ini para=22\n"
     ]
    },
    {
     "name": "stderr",
     "output_type": "stream",
     "text": [
      "/opt/anaconda3/lib/python3.8/site-packages/scipy/optimize/_hessian_update_strategy.py:182: UserWarning: delta_grad == 0.0. Check if the approximated function is linear. If the function is linear better results can be obtained by defining the Hessian as zero instead of using quasi-Newton approximations.\n",
      "  warn('delta_grad == 0.0. Check if the approximated '\n"
     ]
    },
    {
     "name": "stdout",
     "output_type": "stream",
     "text": [
      "`xtol` termination condition is satisfied.\n",
      "Number of iterations: 66, function evaluations: 108, CG iterations: 102, optimality: 1.62e-08, constraint violation: 0.00e+00, execution time:  1.1 s.\n",
      "species=BT, alpha=0.003, ini para=23\n",
      "`xtol` termination condition is satisfied.\n",
      "Number of iterations: 76, function evaluations: 168, CG iterations: 116, optimality: 6.14e-08, constraint violation: 0.00e+00, execution time:  1.6 s.\n",
      "species=BT, alpha=0.003, ini para=24\n",
      "`xtol` termination condition is satisfied.\n",
      "Number of iterations: 61, function evaluations: 117, CG iterations: 87, optimality: 2.00e-08, constraint violation: 0.00e+00, execution time:  1.7 s.\n",
      "species=BT, alpha=0.003, ini para=25\n"
     ]
    },
    {
     "name": "stderr",
     "output_type": "stream",
     "text": [
      "/opt/anaconda3/lib/python3.8/site-packages/scipy/optimize/_hessian_update_strategy.py:182: UserWarning: delta_grad == 0.0. Check if the approximated function is linear. If the function is linear better results can be obtained by defining the Hessian as zero instead of using quasi-Newton approximations.\n",
      "  warn('delta_grad == 0.0. Check if the approximated '\n",
      "/opt/anaconda3/lib/python3.8/site-packages/scipy/optimize/_hessian_update_strategy.py:182: UserWarning: delta_grad == 0.0. Check if the approximated function is linear. If the function is linear better results can be obtained by defining the Hessian as zero instead of using quasi-Newton approximations.\n",
      "  warn('delta_grad == 0.0. Check if the approximated '\n",
      "/opt/anaconda3/lib/python3.8/site-packages/scipy/optimize/_hessian_update_strategy.py:182: UserWarning: delta_grad == 0.0. Check if the approximated function is linear. If the function is linear better results can be obtained by defining the Hessian as zero instead of using quasi-Newton approximations.\n",
      "  warn('delta_grad == 0.0. Check if the approximated '\n"
     ]
    },
    {
     "name": "stdout",
     "output_type": "stream",
     "text": [
      "`xtol` termination condition is satisfied.\n",
      "Number of iterations: 60, function evaluations: 114, CG iterations: 84, optimality: 4.07e-08, constraint violation: 0.00e+00, execution time:  1.2 s.\n",
      "species=BT, alpha=0.003, ini para=26\n",
      "`xtol` termination condition is satisfied.\n",
      "Number of iterations: 60, function evaluations: 96, CG iterations: 92, optimality: 2.00e-08, constraint violation: 0.00e+00, execution time: 0.96 s.\n",
      "species=BT, alpha=0.003, ini para=27\n",
      "`xtol` termination condition is satisfied.\n",
      "Number of iterations: 66, function evaluations: 147, CG iterations: 95, optimality: 4.07e-08, constraint violation: 0.00e+00, execution time:  1.3 s.\n",
      "species=BT, alpha=0.003, ini para=28\n",
      "`xtol` termination condition is satisfied.\n",
      "Number of iterations: 59, function evaluations: 90, CG iterations: 89, optimality: 3.29e-08, constraint violation: 0.00e+00, execution time: 0.92 s.\n",
      "species=BT, alpha=0.003, ini para=29\n",
      "`xtol` termination condition is satisfied.\n",
      "Number of iterations: 62, function evaluations: 114, CG iterations: 90, optimality: 4.07e-08, constraint violation: 0.00e+00, execution time:  1.1 s.\n",
      "species=BT, alpha=0.003, ini para=30\n",
      "`xtol` termination condition is satisfied.\n",
      "Number of iterations: 72, function evaluations: 156, CG iterations: 101, optimality: 4.96e-08, constraint violation: 0.00e+00, execution time:  1.4 s.\n",
      "species=BT, alpha=0.003, ini para=31\n",
      "`gtol` termination condition is satisfied.\n",
      "Number of iterations: 25, function evaluations: 54, CG iterations: 27, optimality: 9.82e-09, constraint violation: 0.00e+00, execution time: 0.52 s.\n",
      "species=BT, alpha=0.003, ini para=32\n",
      "`xtol` termination condition is satisfied.\n",
      "Number of iterations: 64, function evaluations: 105, CG iterations: 98, optimality: 4.07e-08, constraint violation: 0.00e+00, execution time:  1.0 s.\n",
      "species=BT, alpha=0.003, ini para=33\n",
      "`gtol` termination condition is satisfied.\n",
      "Number of iterations: 26, function evaluations: 57, CG iterations: 31, optimality: 9.82e-09, constraint violation: 0.00e+00, execution time: 0.57 s.\n",
      "species=BT, alpha=0.003, ini para=34\n",
      "`xtol` termination condition is satisfied.\n",
      "Number of iterations: 90, function evaluations: 204, CG iterations: 134, optimality: 4.96e-08, constraint violation: 0.00e+00, execution time:  1.9 s.\n",
      "species=BT, alpha=0.003, ini para=35\n",
      "`xtol` termination condition is satisfied.\n",
      "Number of iterations: 62, function evaluations: 105, CG iterations: 94, optimality: 2.00e-08, constraint violation: 0.00e+00, execution time:  1.8 s.\n",
      "species=BT, alpha=0.003, ini para=36\n"
     ]
    },
    {
     "name": "stderr",
     "output_type": "stream",
     "text": [
      "/opt/anaconda3/lib/python3.8/site-packages/scipy/optimize/_hessian_update_strategy.py:182: UserWarning: delta_grad == 0.0. Check if the approximated function is linear. If the function is linear better results can be obtained by defining the Hessian as zero instead of using quasi-Newton approximations.\n",
      "  warn('delta_grad == 0.0. Check if the approximated '\n"
     ]
    },
    {
     "name": "stdout",
     "output_type": "stream",
     "text": [
      "`xtol` termination condition is satisfied.\n",
      "Number of iterations: 73, function evaluations: 144, CG iterations: 108, optimality: 4.96e-08, constraint violation: 0.00e+00, execution time:  1.4 s.\n",
      "species=BT, alpha=0.003, ini para=37\n"
     ]
    },
    {
     "name": "stderr",
     "output_type": "stream",
     "text": [
      "/opt/anaconda3/lib/python3.8/site-packages/scipy/optimize/_hessian_update_strategy.py:182: UserWarning: delta_grad == 0.0. Check if the approximated function is linear. If the function is linear better results can be obtained by defining the Hessian as zero instead of using quasi-Newton approximations.\n",
      "  warn('delta_grad == 0.0. Check if the approximated '\n"
     ]
    },
    {
     "name": "stdout",
     "output_type": "stream",
     "text": [
      "`xtol` termination condition is satisfied.\n",
      "Number of iterations: 68, function evaluations: 156, CG iterations: 105, optimality: 4.07e-08, constraint violation: 0.00e+00, execution time:  1.4 s.\n",
      "species=BT, alpha=0.003, ini para=38\n",
      "`gtol` termination condition is satisfied.\n",
      "Number of iterations: 25, function evaluations: 54, CG iterations: 29, optimality: 9.82e-09, constraint violation: 0.00e+00, execution time: 0.54 s.\n",
      "species=BT, alpha=0.003, ini para=39\n",
      "`gtol` termination condition is satisfied.\n",
      "Number of iterations: 35, function evaluations: 75, CG iterations: 41, optimality: 3.55e-09, constraint violation: 0.00e+00, execution time: 0.75 s.\n",
      "species=BT, alpha=0.003, ini para=40\n",
      "`xtol` termination condition is satisfied.\n",
      "Number of iterations: 71, function evaluations: 156, CG iterations: 106, optimality: 4.07e-08, constraint violation: 0.00e+00, execution time:  1.4 s.\n",
      "species=BT, alpha=0.003, ini para=41\n",
      "`gtol` termination condition is satisfied.\n",
      "Number of iterations: 30, function evaluations: 60, CG iterations: 32, optimality: 3.55e-09, constraint violation: 0.00e+00, execution time: 0.62 s.\n",
      "species=BT, alpha=0.003, ini para=42\n"
     ]
    },
    {
     "name": "stderr",
     "output_type": "stream",
     "text": [
      "/opt/anaconda3/lib/python3.8/site-packages/scipy/optimize/_hessian_update_strategy.py:182: UserWarning: delta_grad == 0.0. Check if the approximated function is linear. If the function is linear better results can be obtained by defining the Hessian as zero instead of using quasi-Newton approximations.\n",
      "  warn('delta_grad == 0.0. Check if the approximated '\n"
     ]
    },
    {
     "name": "stdout",
     "output_type": "stream",
     "text": [
      "`xtol` termination condition is satisfied.\n",
      "Number of iterations: 70, function evaluations: 159, CG iterations: 102, optimality: 4.07e-08, constraint violation: 0.00e+00, execution time:  1.7 s.\n",
      "species=BT, alpha=0.003, ini para=43\n",
      "`xtol` termination condition is satisfied.\n",
      "Number of iterations: 70, function evaluations: 144, CG iterations: 103, optimality: 6.14e-08, constraint violation: 0.00e+00, execution time:  1.6 s.\n",
      "species=BT, alpha=0.003, ini para=44\n",
      "`xtol` termination condition is satisfied.\n",
      "Number of iterations: 55, function evaluations: 81, CG iterations: 74, optimality: 2.00e-08, constraint violation: 0.00e+00, execution time: 0.81 s.\n",
      "species=BT, alpha=0.003, ini para=45\n",
      "`gtol` termination condition is satisfied.\n",
      "Number of iterations: 35, function evaluations: 78, CG iterations: 44, optimality: 2.92e-09, constraint violation: 0.00e+00, execution time: 0.78 s.\n",
      "species=BT, alpha=0.003, ini para=46\n",
      "`gtol` termination condition is satisfied.\n",
      "Number of iterations: 34, function evaluations: 75, CG iterations: 44, optimality: 2.92e-09, constraint violation: 0.00e+00, execution time: 0.75 s.\n",
      "species=BT, alpha=0.003, ini para=47\n"
     ]
    },
    {
     "name": "stderr",
     "output_type": "stream",
     "text": [
      "/opt/anaconda3/lib/python3.8/site-packages/scipy/optimize/_hessian_update_strategy.py:182: UserWarning: delta_grad == 0.0. Check if the approximated function is linear. If the function is linear better results can be obtained by defining the Hessian as zero instead of using quasi-Newton approximations.\n",
      "  warn('delta_grad == 0.0. Check if the approximated '\n"
     ]
    },
    {
     "name": "stdout",
     "output_type": "stream",
     "text": [
      "`xtol` termination condition is satisfied.\n",
      "Number of iterations: 65, function evaluations: 126, CG iterations: 100, optimality: 3.29e-08, constraint violation: 0.00e+00, execution time:  1.2 s.\n",
      "species=BT, alpha=0.003, ini para=48\n",
      "`gtol` termination condition is satisfied.\n",
      "Number of iterations: 32, function evaluations: 72, CG iterations: 41, optimality: 6.10e-09, constraint violation: 0.00e+00, execution time: 0.74 s.\n",
      "species=BT, alpha=0.003, ini para=49\n",
      "`xtol` termination condition is satisfied.\n",
      "Number of iterations: 58, function evaluations: 90, CG iterations: 82, optimality: 2.00e-08, constraint violation: 0.00e+00, execution time:  0.9 s.\n",
      "species=BT, alpha=0.003, ini para=50\n"
     ]
    },
    {
     "name": "stderr",
     "output_type": "stream",
     "text": [
      "/opt/anaconda3/lib/python3.8/site-packages/scipy/optimize/_hessian_update_strategy.py:182: UserWarning: delta_grad == 0.0. Check if the approximated function is linear. If the function is linear better results can be obtained by defining the Hessian as zero instead of using quasi-Newton approximations.\n",
      "  warn('delta_grad == 0.0. Check if the approximated '\n"
     ]
    },
    {
     "name": "stdout",
     "output_type": "stream",
     "text": [
      "`xtol` termination condition is satisfied.\n",
      "Number of iterations: 58, function evaluations: 90, CG iterations: 88, optimality: 3.29e-08, constraint violation: 0.00e+00, execution time: 0.91 s.\n",
      "species=BT, alpha=0.003, ini para=51\n",
      "`xtol` termination condition is satisfied.\n",
      "Number of iterations: 79, function evaluations: 159, CG iterations: 117, optimality: 6.14e-08, constraint violation: 0.00e+00, execution time:  1.5 s.\n",
      "species=BT, alpha=0.003, ini para=52\n"
     ]
    },
    {
     "name": "stderr",
     "output_type": "stream",
     "text": [
      "/opt/anaconda3/lib/python3.8/site-packages/scipy/optimize/_hessian_update_strategy.py:182: UserWarning: delta_grad == 0.0. Check if the approximated function is linear. If the function is linear better results can be obtained by defining the Hessian as zero instead of using quasi-Newton approximations.\n",
      "  warn('delta_grad == 0.0. Check if the approximated '\n"
     ]
    },
    {
     "name": "stdout",
     "output_type": "stream",
     "text": [
      "`xtol` termination condition is satisfied.\n",
      "Number of iterations: 78, function evaluations: 198, CG iterations: 114, optimality: 4.07e-08, constraint violation: 0.00e+00, execution time:  1.8 s.\n",
      "species=BT, alpha=0.003, ini para=53\n"
     ]
    },
    {
     "name": "stderr",
     "output_type": "stream",
     "text": [
      "/opt/anaconda3/lib/python3.8/site-packages/scipy/optimize/_hessian_update_strategy.py:182: UserWarning: delta_grad == 0.0. Check if the approximated function is linear. If the function is linear better results can be obtained by defining the Hessian as zero instead of using quasi-Newton approximations.\n",
      "  warn('delta_grad == 0.0. Check if the approximated '\n"
     ]
    },
    {
     "name": "stdout",
     "output_type": "stream",
     "text": [
      "`xtol` termination condition is satisfied.\n",
      "Number of iterations: 75, function evaluations: 180, CG iterations: 108, optimality: 3.29e-08, constraint violation: 0.00e+00, execution time:  1.6 s.\n",
      "species=BT, alpha=0.003, ini para=54\n",
      "`xtol` termination condition is satisfied.\n",
      "Number of iterations: 72, function evaluations: 138, CG iterations: 98, optimality: 6.14e-08, constraint violation: 0.00e+00, execution time:  1.3 s.\n",
      "species=BT, alpha=0.003, ini para=55\n"
     ]
    },
    {
     "name": "stderr",
     "output_type": "stream",
     "text": [
      "/opt/anaconda3/lib/python3.8/site-packages/scipy/optimize/_hessian_update_strategy.py:182: UserWarning: delta_grad == 0.0. Check if the approximated function is linear. If the function is linear better results can be obtained by defining the Hessian as zero instead of using quasi-Newton approximations.\n",
      "  warn('delta_grad == 0.0. Check if the approximated '\n"
     ]
    },
    {
     "name": "stdout",
     "output_type": "stream",
     "text": [
      "`xtol` termination condition is satisfied.\n",
      "Number of iterations: 61, function evaluations: 108, CG iterations: 79, optimality: 4.07e-08, constraint violation: 0.00e+00, execution time:  1.0 s.\n",
      "species=BT, alpha=0.003, ini para=56\n"
     ]
    },
    {
     "name": "stderr",
     "output_type": "stream",
     "text": [
      "/opt/anaconda3/lib/python3.8/site-packages/scipy/optimize/_hessian_update_strategy.py:182: UserWarning: delta_grad == 0.0. Check if the approximated function is linear. If the function is linear better results can be obtained by defining the Hessian as zero instead of using quasi-Newton approximations.\n",
      "  warn('delta_grad == 0.0. Check if the approximated '\n"
     ]
    },
    {
     "name": "stdout",
     "output_type": "stream",
     "text": [
      "`xtol` termination condition is satisfied.\n",
      "Number of iterations: 75, function evaluations: 171, CG iterations: 110, optimality: 4.07e-08, constraint violation: 0.00e+00, execution time:  1.7 s.\n",
      "species=BT, alpha=0.003, ini para=57\n"
     ]
    },
    {
     "name": "stderr",
     "output_type": "stream",
     "text": [
      "/opt/anaconda3/lib/python3.8/site-packages/scipy/optimize/_hessian_update_strategy.py:182: UserWarning: delta_grad == 0.0. Check if the approximated function is linear. If the function is linear better results can be obtained by defining the Hessian as zero instead of using quasi-Newton approximations.\n",
      "  warn('delta_grad == 0.0. Check if the approximated '\n"
     ]
    },
    {
     "name": "stdout",
     "output_type": "stream",
     "text": [
      "`xtol` termination condition is satisfied.\n",
      "Number of iterations: 66, function evaluations: 129, CG iterations: 100, optimality: 4.07e-08, constraint violation: 0.00e+00, execution time:  1.2 s.\n",
      "species=BT, alpha=0.003, ini para=58\n",
      "`xtol` termination condition is satisfied.\n",
      "Number of iterations: 78, function evaluations: 186, CG iterations: 123, optimality: 4.07e-08, constraint violation: 0.00e+00, execution time:  1.7 s.\n",
      "species=BT, alpha=0.003, ini para=59\n",
      "`gtol` termination condition is satisfied.\n",
      "Number of iterations: 31, function evaluations: 72, CG iterations: 41, optimality: 9.82e-09, constraint violation: 0.00e+00, execution time: 0.72 s.\n",
      "species=BT, alpha=0.003, ini para=60\n"
     ]
    },
    {
     "name": "stderr",
     "output_type": "stream",
     "text": [
      "/opt/anaconda3/lib/python3.8/site-packages/scipy/optimize/_hessian_update_strategy.py:182: UserWarning: delta_grad == 0.0. Check if the approximated function is linear. If the function is linear better results can be obtained by defining the Hessian as zero instead of using quasi-Newton approximations.\n",
      "  warn('delta_grad == 0.0. Check if the approximated '\n"
     ]
    },
    {
     "name": "stdout",
     "output_type": "stream",
     "text": [
      "`gtol` termination condition is satisfied.\n",
      "Number of iterations: 31, function evaluations: 72, CG iterations: 39, optimality: 6.10e-09, constraint violation: 0.00e+00, execution time: 0.72 s.\n",
      "species=BT, alpha=0.003, ini para=61\n"
     ]
    },
    {
     "name": "stderr",
     "output_type": "stream",
     "text": [
      "/opt/anaconda3/lib/python3.8/site-packages/scipy/optimize/_hessian_update_strategy.py:182: UserWarning: delta_grad == 0.0. Check if the approximated function is linear. If the function is linear better results can be obtained by defining the Hessian as zero instead of using quasi-Newton approximations.\n",
      "  warn('delta_grad == 0.0. Check if the approximated '\n"
     ]
    },
    {
     "name": "stdout",
     "output_type": "stream",
     "text": [
      "`xtol` termination condition is satisfied.\n",
      "Number of iterations: 68, function evaluations: 123, CG iterations: 104, optimality: 2.00e-08, constraint violation: 0.00e+00, execution time:  1.2 s.\n",
      "species=BT, alpha=0.003, ini para=62\n",
      "`xtol` termination condition is satisfied.\n",
      "Number of iterations: 64, function evaluations: 129, CG iterations: 90, optimality: 4.96e-08, constraint violation: 0.00e+00, execution time:  1.2 s.\n",
      "species=BT, alpha=0.003, ini para=63\n",
      "`gtol` termination condition is satisfied.\n",
      "Number of iterations: 45, function evaluations: 108, CG iterations: 62, optimality: 2.92e-09, constraint violation: 0.00e+00, execution time:  1.1 s.\n",
      "species=BT, alpha=0.003, ini para=64\n"
     ]
    },
    {
     "name": "stderr",
     "output_type": "stream",
     "text": [
      "/opt/anaconda3/lib/python3.8/site-packages/scipy/optimize/_hessian_update_strategy.py:182: UserWarning: delta_grad == 0.0. Check if the approximated function is linear. If the function is linear better results can be obtained by defining the Hessian as zero instead of using quasi-Newton approximations.\n",
      "  warn('delta_grad == 0.0. Check if the approximated '\n"
     ]
    },
    {
     "name": "stdout",
     "output_type": "stream",
     "text": [
      "`xtol` termination condition is satisfied.\n",
      "Number of iterations: 58, function evaluations: 96, CG iterations: 86, optimality: 1.62e-08, constraint violation: 0.00e+00, execution time:  1.0 s.\n",
      "species=BT, alpha=0.003, ini para=65\n"
     ]
    },
    {
     "name": "stderr",
     "output_type": "stream",
     "text": [
      "/opt/anaconda3/lib/python3.8/site-packages/scipy/optimize/_hessian_update_strategy.py:182: UserWarning: delta_grad == 0.0. Check if the approximated function is linear. If the function is linear better results can be obtained by defining the Hessian as zero instead of using quasi-Newton approximations.\n",
      "  warn('delta_grad == 0.0. Check if the approximated '\n"
     ]
    },
    {
     "name": "stdout",
     "output_type": "stream",
     "text": [
      "`xtol` termination condition is satisfied.\n",
      "Number of iterations: 68, function evaluations: 144, CG iterations: 103, optimality: 6.14e-08, constraint violation: 0.00e+00, execution time:  1.4 s.\n",
      "species=BT, alpha=0.003, ini para=66\n",
      "`xtol` termination condition is satisfied.\n",
      "Number of iterations: 65, function evaluations: 126, CG iterations: 95, optimality: 4.07e-08, constraint violation: 0.00e+00, execution time:  1.2 s.\n",
      "species=BT, alpha=0.003, ini para=67\n",
      "`xtol` termination condition is satisfied.\n",
      "Number of iterations: 67, function evaluations: 126, CG iterations: 89, optimality: 6.14e-08, constraint violation: 0.00e+00, execution time:  1.2 s.\n",
      "species=BT, alpha=0.003, ini para=68\n"
     ]
    },
    {
     "name": "stderr",
     "output_type": "stream",
     "text": [
      "/opt/anaconda3/lib/python3.8/site-packages/scipy/optimize/_hessian_update_strategy.py:182: UserWarning: delta_grad == 0.0. Check if the approximated function is linear. If the function is linear better results can be obtained by defining the Hessian as zero instead of using quasi-Newton approximations.\n",
      "  warn('delta_grad == 0.0. Check if the approximated '\n"
     ]
    },
    {
     "name": "stdout",
     "output_type": "stream",
     "text": [
      "`xtol` termination condition is satisfied.\n",
      "Number of iterations: 63, function evaluations: 126, CG iterations: 94, optimality: 4.96e-08, constraint violation: 0.00e+00, execution time:  1.2 s.\n",
      "species=BT, alpha=0.003, ini para=69\n",
      "`xtol` termination condition is satisfied.\n",
      "Number of iterations: 75, function evaluations: 192, CG iterations: 112, optimality: 4.96e-08, constraint violation: 0.00e+00, execution time:  1.8 s.\n",
      "species=BT, alpha=0.003, ini para=70\n",
      "`gtol` termination condition is satisfied.\n",
      "Number of iterations: 38, function evaluations: 90, CG iterations: 45, optimality: 2.92e-09, constraint violation: 0.00e+00, execution time: 0.89 s.\n",
      "species=BT, alpha=0.003, ini para=71\n",
      "`gtol` termination condition is satisfied.\n",
      "Number of iterations: 25, function evaluations: 54, CG iterations: 26, optimality: 9.82e-09, constraint violation: 0.00e+00, execution time: 0.52 s.\n",
      "species=BT, alpha=0.003, ini para=72\n"
     ]
    },
    {
     "name": "stderr",
     "output_type": "stream",
     "text": [
      "/opt/anaconda3/lib/python3.8/site-packages/scipy/optimize/_hessian_update_strategy.py:182: UserWarning: delta_grad == 0.0. Check if the approximated function is linear. If the function is linear better results can be obtained by defining the Hessian as zero instead of using quasi-Newton approximations.\n",
      "  warn('delta_grad == 0.0. Check if the approximated '\n"
     ]
    },
    {
     "name": "stdout",
     "output_type": "stream",
     "text": [
      "`xtol` termination condition is satisfied.\n",
      "Number of iterations: 57, function evaluations: 84, CG iterations: 85, optimality: 2.00e-08, constraint violation: 0.00e+00, execution time: 0.82 s.\n",
      "species=BT, alpha=0.003, ini para=73\n"
     ]
    },
    {
     "name": "stderr",
     "output_type": "stream",
     "text": [
      "/opt/anaconda3/lib/python3.8/site-packages/scipy/optimize/_hessian_update_strategy.py:182: UserWarning: delta_grad == 0.0. Check if the approximated function is linear. If the function is linear better results can be obtained by defining the Hessian as zero instead of using quasi-Newton approximations.\n",
      "  warn('delta_grad == 0.0. Check if the approximated '\n"
     ]
    },
    {
     "name": "stdout",
     "output_type": "stream",
     "text": [
      "`xtol` termination condition is satisfied.\n",
      "Number of iterations: 72, function evaluations: 147, CG iterations: 110, optimality: 4.07e-08, constraint violation: 0.00e+00, execution time:  1.4 s.\n",
      "species=BT, alpha=0.003, ini para=74\n",
      "`xtol` termination condition is satisfied.\n",
      "Number of iterations: 64, function evaluations: 120, CG iterations: 90, optimality: 4.07e-08, constraint violation: 0.00e+00, execution time:  1.1 s.\n",
      "species=BT, alpha=0.003, ini para=75\n",
      "`xtol` termination condition is satisfied.\n",
      "Number of iterations: 67, function evaluations: 126, CG iterations: 102, optimality: 3.29e-08, constraint violation: 0.00e+00, execution time:  1.2 s.\n",
      "species=BT, alpha=0.003, ini para=76\n"
     ]
    },
    {
     "name": "stderr",
     "output_type": "stream",
     "text": [
      "/opt/anaconda3/lib/python3.8/site-packages/scipy/optimize/_hessian_update_strategy.py:182: UserWarning: delta_grad == 0.0. Check if the approximated function is linear. If the function is linear better results can be obtained by defining the Hessian as zero instead of using quasi-Newton approximations.\n",
      "  warn('delta_grad == 0.0. Check if the approximated '\n"
     ]
    },
    {
     "name": "stdout",
     "output_type": "stream",
     "text": [
      "`xtol` termination condition is satisfied.\n",
      "Number of iterations: 68, function evaluations: 153, CG iterations: 97, optimality: 4.07e-08, constraint violation: 0.00e+00, execution time:  1.4 s.\n",
      "species=BT, alpha=0.003, ini para=77\n",
      "`gtol` termination condition is satisfied.\n",
      "Number of iterations: 25, function evaluations: 51, CG iterations: 26, optimality: 6.10e-09, constraint violation: 0.00e+00, execution time: 0.49 s.\n",
      "species=BT, alpha=0.003, ini para=78\n"
     ]
    },
    {
     "name": "stderr",
     "output_type": "stream",
     "text": [
      "/opt/anaconda3/lib/python3.8/site-packages/scipy/optimize/_hessian_update_strategy.py:182: UserWarning: delta_grad == 0.0. Check if the approximated function is linear. If the function is linear better results can be obtained by defining the Hessian as zero instead of using quasi-Newton approximations.\n",
      "  warn('delta_grad == 0.0. Check if the approximated '\n"
     ]
    },
    {
     "name": "stdout",
     "output_type": "stream",
     "text": [
      "`gtol` termination condition is satisfied.\n",
      "Number of iterations: 31, function evaluations: 75, CG iterations: 40, optimality: 9.82e-09, constraint violation: 0.00e+00, execution time: 0.72 s.\n",
      "species=BT, alpha=0.003, ini para=79\n",
      "`gtol` termination condition is satisfied.\n",
      "Number of iterations: 33, function evaluations: 78, CG iterations: 45, optimality: 9.82e-09, constraint violation: 0.00e+00, execution time: 0.75 s.\n",
      "species=BT, alpha=0.003, ini para=80\n"
     ]
    },
    {
     "name": "stderr",
     "output_type": "stream",
     "text": [
      "/opt/anaconda3/lib/python3.8/site-packages/scipy/optimize/_hessian_update_strategy.py:182: UserWarning: delta_grad == 0.0. Check if the approximated function is linear. If the function is linear better results can be obtained by defining the Hessian as zero instead of using quasi-Newton approximations.\n",
      "  warn('delta_grad == 0.0. Check if the approximated '\n"
     ]
    },
    {
     "name": "stdout",
     "output_type": "stream",
     "text": [
      "`xtol` termination condition is satisfied.\n",
      "Number of iterations: 61, function evaluations: 105, CG iterations: 76, optimality: 4.07e-08, constraint violation: 0.00e+00, execution time:  1.0 s.\n",
      "species=BT, alpha=0.003, ini para=81\n",
      "`gtol` termination condition is satisfied.\n",
      "Number of iterations: 28, function evaluations: 63, CG iterations: 34, optimality: 9.82e-09, constraint violation: 0.00e+00, execution time:  0.6 s.\n",
      "species=BT, alpha=0.003, ini para=82\n",
      "`xtol` termination condition is satisfied.\n",
      "Number of iterations: 64, function evaluations: 111, CG iterations: 100, optimality: 1.62e-08, constraint violation: 0.00e+00, execution time:  1.1 s.\n",
      "species=BT, alpha=0.003, ini para=83\n",
      "`xtol` termination condition is satisfied.\n",
      "Number of iterations: 75, function evaluations: 171, CG iterations: 109, optimality: 6.14e-08, constraint violation: 0.00e+00, execution time:  1.5 s.\n",
      "species=BT, alpha=0.003, ini para=84\n",
      "`gtol` termination condition is satisfied.\n",
      "Number of iterations: 29, function evaluations: 66, CG iterations: 35, optimality: 9.82e-09, constraint violation: 0.00e+00, execution time: 0.66 s.\n",
      "species=BT, alpha=0.003, ini para=85\n",
      "`xtol` termination condition is satisfied.\n",
      "Number of iterations: 57, function evaluations: 108, CG iterations: 79, optimality: 2.00e-08, constraint violation: 0.00e+00, execution time:  1.0 s.\n",
      "species=BT, alpha=0.003, ini para=86\n",
      "`gtol` termination condition is satisfied.\n",
      "Number of iterations: 32, function evaluations: 72, CG iterations: 42, optimality: 6.10e-09, constraint violation: 0.00e+00, execution time:  0.7 s.\n",
      "species=BT, alpha=0.003, ini para=87\n",
      "`gtol` termination condition is satisfied.\n",
      "Number of iterations: 36, function evaluations: 87, CG iterations: 47, optimality: 6.10e-09, constraint violation: 0.00e+00, execution time: 0.82 s.\n",
      "species=BT, alpha=0.003, ini para=88\n",
      "`gtol` termination condition is satisfied.\n",
      "Number of iterations: 26, function evaluations: 54, CG iterations: 28, optimality: 6.10e-09, constraint violation: 0.00e+00, execution time: 0.53 s.\n",
      "species=BT, alpha=0.003, ini para=89\n",
      "`gtol` termination condition is satisfied.\n",
      "Number of iterations: 34, function evaluations: 78, CG iterations: 40, optimality: 6.10e-09, constraint violation: 0.00e+00, execution time: 0.77 s.\n",
      "species=BT, alpha=0.003, ini para=90\n",
      "`xtol` termination condition is satisfied.\n",
      "Number of iterations: 67, function evaluations: 132, CG iterations: 91, optimality: 4.07e-08, constraint violation: 0.00e+00, execution time:  1.2 s.\n",
      "species=BT, alpha=0.003, ini para=91\n",
      "`xtol` termination condition is satisfied.\n",
      "Number of iterations: 58, function evaluations: 93, CG iterations: 86, optimality: 4.07e-08, constraint violation: 0.00e+00, execution time:  0.9 s.\n",
      "species=BT, alpha=0.003, ini para=92\n",
      "`xtol` termination condition is satisfied.\n",
      "Number of iterations: 62, function evaluations: 129, CG iterations: 85, optimality: 4.96e-08, constraint violation: 0.00e+00, execution time:  1.2 s.\n",
      "species=BT, alpha=0.003, ini para=93\n"
     ]
    },
    {
     "name": "stderr",
     "output_type": "stream",
     "text": [
      "/opt/anaconda3/lib/python3.8/site-packages/scipy/optimize/_hessian_update_strategy.py:182: UserWarning: delta_grad == 0.0. Check if the approximated function is linear. If the function is linear better results can be obtained by defining the Hessian as zero instead of using quasi-Newton approximations.\n",
      "  warn('delta_grad == 0.0. Check if the approximated '\n"
     ]
    },
    {
     "name": "stdout",
     "output_type": "stream",
     "text": [
      "`xtol` termination condition is satisfied.\n",
      "Number of iterations: 69, function evaluations: 126, CG iterations: 104, optimality: 6.14e-08, constraint violation: 0.00e+00, execution time:  1.2 s.\n",
      "species=BT, alpha=0.003, ini para=94\n",
      "`xtol` termination condition is satisfied.\n",
      "Number of iterations: 75, function evaluations: 195, CG iterations: 116, optimality: 8.20e-08, constraint violation: 0.00e+00, execution time:  1.7 s.\n",
      "species=BT, alpha=0.003, ini para=95\n",
      "`xtol` termination condition is satisfied.\n",
      "Number of iterations: 67, function evaluations: 135, CG iterations: 100, optimality: 6.14e-08, constraint violation: 0.00e+00, execution time:  1.3 s.\n",
      "species=BT, alpha=0.003, ini para=96\n",
      "`xtol` termination condition is satisfied.\n",
      "Number of iterations: 70, function evaluations: 144, CG iterations: 105, optimality: 4.07e-08, constraint violation: 0.00e+00, execution time:  1.3 s.\n",
      "species=BT, alpha=0.003, ini para=97\n",
      "`xtol` termination condition is satisfied.\n",
      "Number of iterations: 72, function evaluations: 177, CG iterations: 98, optimality: 4.96e-08, constraint violation: 0.00e+00, execution time:  2.1 s.\n",
      "species=BT, alpha=0.003, ini para=98\n",
      "`gtol` termination condition is satisfied.\n",
      "Number of iterations: 30, function evaluations: 63, CG iterations: 35, optimality: 2.92e-09, constraint violation: 0.00e+00, execution time: 0.64 s.\n",
      "species=BT, alpha=0.003, ini para=99\n"
     ]
    },
    {
     "name": "stderr",
     "output_type": "stream",
     "text": [
      "/opt/anaconda3/lib/python3.8/site-packages/scipy/optimize/_hessian_update_strategy.py:182: UserWarning: delta_grad == 0.0. Check if the approximated function is linear. If the function is linear better results can be obtained by defining the Hessian as zero instead of using quasi-Newton approximations.\n",
      "  warn('delta_grad == 0.0. Check if the approximated '\n"
     ]
    },
    {
     "name": "stdout",
     "output_type": "stream",
     "text": [
      "`xtol` termination condition is satisfied.\n",
      "Number of iterations: 82, function evaluations: 177, CG iterations: 123, optimality: 3.29e-08, constraint violation: 0.00e+00, execution time:  1.7 s.\n",
      "species=BT, alpha=0.01, ini para=0\n"
     ]
    },
    {
     "name": "stderr",
     "output_type": "stream",
     "text": [
      "/opt/anaconda3/lib/python3.8/site-packages/scipy/optimize/_hessian_update_strategy.py:182: UserWarning: delta_grad == 0.0. Check if the approximated function is linear. If the function is linear better results can be obtained by defining the Hessian as zero instead of using quasi-Newton approximations.\n",
      "  warn('delta_grad == 0.0. Check if the approximated '\n",
      "/opt/anaconda3/lib/python3.8/site-packages/scipy/optimize/_hessian_update_strategy.py:182: UserWarning: delta_grad == 0.0. Check if the approximated function is linear. If the function is linear better results can be obtained by defining the Hessian as zero instead of using quasi-Newton approximations.\n",
      "  warn('delta_grad == 0.0. Check if the approximated '\n"
     ]
    },
    {
     "name": "stdout",
     "output_type": "stream",
     "text": [
      "`xtol` termination condition is satisfied.\n",
      "Number of iterations: 68, function evaluations: 138, CG iterations: 99, optimality: 3.56e-08, constraint violation: 0.00e+00, execution time:  1.3 s.\n",
      "species=BT, alpha=0.01, ini para=1\n",
      "`xtol` termination condition is satisfied.\n",
      "Number of iterations: 72, function evaluations: 144, CG iterations: 113, optimality: 4.34e-08, constraint violation: 0.00e+00, execution time:  1.4 s.\n",
      "species=BT, alpha=0.01, ini para=2\n",
      "`xtol` termination condition is satisfied.\n",
      "Number of iterations: 64, function evaluations: 126, CG iterations: 91, optimality: 6.54e-08, constraint violation: 0.00e+00, execution time:  1.2 s.\n",
      "species=BT, alpha=0.01, ini para=3\n"
     ]
    },
    {
     "name": "stderr",
     "output_type": "stream",
     "text": [
      "/opt/anaconda3/lib/python3.8/site-packages/scipy/optimize/_hessian_update_strategy.py:182: UserWarning: delta_grad == 0.0. Check if the approximated function is linear. If the function is linear better results can be obtained by defining the Hessian as zero instead of using quasi-Newton approximations.\n",
      "  warn('delta_grad == 0.0. Check if the approximated '\n"
     ]
    },
    {
     "name": "stdout",
     "output_type": "stream",
     "text": [
      "`xtol` termination condition is satisfied.\n",
      "Number of iterations: 65, function evaluations: 141, CG iterations: 99, optimality: 4.34e-08, constraint violation: 0.00e+00, execution time:  1.3 s.\n",
      "species=BT, alpha=0.01, ini para=4\n",
      "`xtol` termination condition is satisfied.\n",
      "Number of iterations: 69, function evaluations: 144, CG iterations: 96, optimality: 5.37e-08, constraint violation: 0.00e+00, execution time:  1.4 s.\n",
      "species=BT, alpha=0.01, ini para=5\n",
      "`gtol` termination condition is satisfied.\n",
      "Number of iterations: 28, function evaluations: 60, CG iterations: 33, optimality: 6.51e-09, constraint violation: 0.00e+00, execution time:  0.6 s.\n",
      "species=BT, alpha=0.01, ini para=6\n",
      "`xtol` termination condition is satisfied.\n",
      "Number of iterations: 62, function evaluations: 108, CG iterations: 95, optimality: 3.56e-08, constraint violation: 0.00e+00, execution time:  1.4 s.\n",
      "species=BT, alpha=0.01, ini para=7\n",
      "`xtol` termination condition is satisfied.\n",
      "Number of iterations: 68, function evaluations: 126, CG iterations: 90, optimality: 5.37e-08, constraint violation: 0.00e+00, execution time:  1.3 s.\n",
      "species=BT, alpha=0.01, ini para=8\n",
      "`gtol` termination condition is satisfied.\n",
      "Number of iterations: 38, function evaluations: 90, CG iterations: 50, optimality: 3.11e-09, constraint violation: 0.00e+00, execution time:  1.0 s.\n",
      "species=BT, alpha=0.01, ini para=9\n",
      "`gtol` termination condition is satisfied.\n",
      "Number of iterations: 30, function evaluations: 66, CG iterations: 35, optimality: 6.51e-09, constraint violation: 0.00e+00, execution time: 0.73 s.\n",
      "species=BT, alpha=0.01, ini para=10\n",
      "`gtol` termination condition is satisfied.\n",
      "Number of iterations: 26, function evaluations: 51, CG iterations: 27, optimality: 3.11e-09, constraint violation: 0.00e+00, execution time: 0.51 s.\n",
      "species=BT, alpha=0.01, ini para=11\n"
     ]
    },
    {
     "name": "stderr",
     "output_type": "stream",
     "text": [
      "/opt/anaconda3/lib/python3.8/site-packages/scipy/optimize/_hessian_update_strategy.py:182: UserWarning: delta_grad == 0.0. Check if the approximated function is linear. If the function is linear better results can be obtained by defining the Hessian as zero instead of using quasi-Newton approximations.\n",
      "  warn('delta_grad == 0.0. Check if the approximated '\n"
     ]
    },
    {
     "name": "stdout",
     "output_type": "stream",
     "text": [
      "`xtol` termination condition is satisfied.\n",
      "Number of iterations: 61, function evaluations: 108, CG iterations: 88, optimality: 6.54e-08, constraint violation: 0.00e+00, execution time:  1.0 s.\n",
      "species=BT, alpha=0.01, ini para=12\n"
     ]
    },
    {
     "name": "stderr",
     "output_type": "stream",
     "text": [
      "/opt/anaconda3/lib/python3.8/site-packages/scipy/optimize/_hessian_update_strategy.py:182: UserWarning: delta_grad == 0.0. Check if the approximated function is linear. If the function is linear better results can be obtained by defining the Hessian as zero instead of using quasi-Newton approximations.\n",
      "  warn('delta_grad == 0.0. Check if the approximated '\n"
     ]
    },
    {
     "name": "stdout",
     "output_type": "stream",
     "text": [
      "`xtol` termination condition is satisfied.\n",
      "Number of iterations: 64, function evaluations: 111, CG iterations: 83, optimality: 4.34e-08, constraint violation: 0.00e+00, execution time:  1.1 s.\n",
      "species=BT, alpha=0.01, ini para=13\n"
     ]
    },
    {
     "name": "stderr",
     "output_type": "stream",
     "text": [
      "/opt/anaconda3/lib/python3.8/site-packages/scipy/optimize/_hessian_update_strategy.py:182: UserWarning: delta_grad == 0.0. Check if the approximated function is linear. If the function is linear better results can be obtained by defining the Hessian as zero instead of using quasi-Newton approximations.\n",
      "  warn('delta_grad == 0.0. Check if the approximated '\n",
      "/opt/anaconda3/lib/python3.8/site-packages/scipy/optimize/_hessian_update_strategy.py:182: UserWarning: delta_grad == 0.0. Check if the approximated function is linear. If the function is linear better results can be obtained by defining the Hessian as zero instead of using quasi-Newton approximations.\n",
      "  warn('delta_grad == 0.0. Check if the approximated '\n"
     ]
    },
    {
     "name": "stdout",
     "output_type": "stream",
     "text": [
      "`xtol` termination condition is satisfied.\n",
      "Number of iterations: 80, function evaluations: 186, CG iterations: 119, optimality: 5.37e-08, constraint violation: 0.00e+00, execution time:  1.7 s.\n",
      "species=BT, alpha=0.01, ini para=14\n"
     ]
    },
    {
     "name": "stderr",
     "output_type": "stream",
     "text": [
      "/opt/anaconda3/lib/python3.8/site-packages/scipy/optimize/_hessian_update_strategy.py:182: UserWarning: delta_grad == 0.0. Check if the approximated function is linear. If the function is linear better results can be obtained by defining the Hessian as zero instead of using quasi-Newton approximations.\n",
      "  warn('delta_grad == 0.0. Check if the approximated '\n"
     ]
    },
    {
     "name": "stdout",
     "output_type": "stream",
     "text": [
      "`xtol` termination condition is satisfied.\n",
      "Number of iterations: 61, function evaluations: 117, CG iterations: 90, optimality: 2.13e-08, constraint violation: 0.00e+00, execution time:  1.1 s.\n",
      "species=BT, alpha=0.01, ini para=15\n",
      "`xtol` termination condition is satisfied.\n",
      "Number of iterations: 66, function evaluations: 117, CG iterations: 97, optimality: 3.56e-08, constraint violation: 0.00e+00, execution time:  1.1 s.\n",
      "species=BT, alpha=0.01, ini para=16\n"
     ]
    },
    {
     "name": "stderr",
     "output_type": "stream",
     "text": [
      "/opt/anaconda3/lib/python3.8/site-packages/scipy/optimize/_hessian_update_strategy.py:182: UserWarning: delta_grad == 0.0. Check if the approximated function is linear. If the function is linear better results can be obtained by defining the Hessian as zero instead of using quasi-Newton approximations.\n",
      "  warn('delta_grad == 0.0. Check if the approximated '\n"
     ]
    },
    {
     "name": "stdout",
     "output_type": "stream",
     "text": [
      "`xtol` termination condition is satisfied.\n",
      "Number of iterations: 62, function evaluations: 120, CG iterations: 90, optimality: 3.56e-08, constraint violation: 0.00e+00, execution time:  1.1 s.\n",
      "species=BT, alpha=0.01, ini para=17\n"
     ]
    },
    {
     "name": "stderr",
     "output_type": "stream",
     "text": [
      "/opt/anaconda3/lib/python3.8/site-packages/scipy/optimize/_hessian_update_strategy.py:182: UserWarning: delta_grad == 0.0. Check if the approximated function is linear. If the function is linear better results can be obtained by defining the Hessian as zero instead of using quasi-Newton approximations.\n",
      "  warn('delta_grad == 0.0. Check if the approximated '\n"
     ]
    },
    {
     "name": "stdout",
     "output_type": "stream",
     "text": [
      "`xtol` termination condition is satisfied.\n",
      "Number of iterations: 66, function evaluations: 132, CG iterations: 95, optimality: 3.56e-08, constraint violation: 0.00e+00, execution time:  1.2 s.\n",
      "species=BT, alpha=0.01, ini para=18\n",
      "`gtol` termination condition is satisfied.\n",
      "Number of iterations: 28, function evaluations: 60, CG iterations: 33, optimality: 6.51e-09, constraint violation: 0.00e+00, execution time:  0.6 s.\n",
      "species=BT, alpha=0.01, ini para=19\n",
      "`gtol` termination condition is satisfied.\n",
      "Number of iterations: 35, function evaluations: 75, CG iterations: 44, optimality: 3.79e-09, constraint violation: 0.00e+00, execution time: 0.74 s.\n",
      "species=BT, alpha=0.01, ini para=20\n"
     ]
    },
    {
     "name": "stderr",
     "output_type": "stream",
     "text": [
      "/opt/anaconda3/lib/python3.8/site-packages/scipy/optimize/_hessian_update_strategy.py:182: UserWarning: delta_grad == 0.0. Check if the approximated function is linear. If the function is linear better results can be obtained by defining the Hessian as zero instead of using quasi-Newton approximations.\n",
      "  warn('delta_grad == 0.0. Check if the approximated '\n"
     ]
    },
    {
     "name": "stdout",
     "output_type": "stream",
     "text": [
      "`xtol` termination condition is satisfied.\n",
      "Number of iterations: 75, function evaluations: 159, CG iterations: 114, optimality: 4.34e-08, constraint violation: 0.00e+00, execution time:  1.5 s.\n",
      "species=BT, alpha=0.01, ini para=21\n",
      "`gtol` termination condition is satisfied.\n",
      "Number of iterations: 51, function evaluations: 81, CG iterations: 56, optimality: 7.58e-10, constraint violation: 0.00e+00, execution time: 0.82 s.\n",
      "species=BT, alpha=0.01, ini para=22\n",
      "`xtol` termination condition is satisfied.\n",
      "Number of iterations: 67, function evaluations: 129, CG iterations: 98, optimality: 4.34e-08, constraint violation: 0.00e+00, execution time:  1.2 s.\n",
      "species=BT, alpha=0.01, ini para=23\n",
      "`xtol` termination condition is satisfied.\n",
      "Number of iterations: 59, function evaluations: 114, CG iterations: 85, optimality: 4.34e-08, constraint violation: 0.00e+00, execution time:  1.1 s.\n",
      "species=BT, alpha=0.01, ini para=24\n"
     ]
    },
    {
     "name": "stderr",
     "output_type": "stream",
     "text": [
      "/opt/anaconda3/lib/python3.8/site-packages/scipy/optimize/_hessian_update_strategy.py:182: UserWarning: delta_grad == 0.0. Check if the approximated function is linear. If the function is linear better results can be obtained by defining the Hessian as zero instead of using quasi-Newton approximations.\n",
      "  warn('delta_grad == 0.0. Check if the approximated '\n"
     ]
    },
    {
     "name": "stdout",
     "output_type": "stream",
     "text": [
      "`xtol` termination condition is satisfied.\n",
      "Number of iterations: 63, function evaluations: 117, CG iterations: 92, optimality: 3.56e-08, constraint violation: 0.00e+00, execution time:  1.1 s.\n",
      "species=BT, alpha=0.01, ini para=25\n",
      "`xtol` termination condition is satisfied.\n",
      "Number of iterations: 65, function evaluations: 120, CG iterations: 90, optimality: 5.37e-08, constraint violation: 0.00e+00, execution time:  1.2 s.\n",
      "species=BT, alpha=0.01, ini para=26\n",
      "`xtol` termination condition is satisfied.\n",
      "Number of iterations: 69, function evaluations: 147, CG iterations: 105, optimality: 4.34e-08, constraint violation: 0.00e+00, execution time:  1.4 s.\n",
      "species=BT, alpha=0.01, ini para=27\n",
      "`gtol` termination condition is satisfied.\n",
      "Number of iterations: 27, function evaluations: 57, CG iterations: 30, optimality: 6.51e-09, constraint violation: 0.00e+00, execution time: 0.57 s.\n",
      "species=BT, alpha=0.01, ini para=28\n",
      "`xtol` termination condition is satisfied.\n",
      "Number of iterations: 74, function evaluations: 159, CG iterations: 112, optimality: 3.56e-08, constraint violation: 0.00e+00, execution time:  1.5 s.\n",
      "species=BT, alpha=0.01, ini para=29\n"
     ]
    },
    {
     "name": "stderr",
     "output_type": "stream",
     "text": [
      "/opt/anaconda3/lib/python3.8/site-packages/scipy/optimize/_hessian_update_strategy.py:182: UserWarning: delta_grad == 0.0. Check if the approximated function is linear. If the function is linear better results can be obtained by defining the Hessian as zero instead of using quasi-Newton approximations.\n",
      "  warn('delta_grad == 0.0. Check if the approximated '\n"
     ]
    },
    {
     "name": "stdout",
     "output_type": "stream",
     "text": [
      "`xtol` termination condition is satisfied.\n",
      "Number of iterations: 69, function evaluations: 153, CG iterations: 103, optimality: 4.34e-08, constraint violation: 0.00e+00, execution time:  1.4 s.\n",
      "species=BT, alpha=0.01, ini para=30\n",
      "`xtol` termination condition is satisfied.\n",
      "Number of iterations: 74, function evaluations: 156, CG iterations: 111, optimality: 5.37e-08, constraint violation: 0.00e+00, execution time:  1.4 s.\n",
      "species=BT, alpha=0.01, ini para=31\n"
     ]
    },
    {
     "name": "stderr",
     "output_type": "stream",
     "text": [
      "/opt/anaconda3/lib/python3.8/site-packages/scipy/optimize/_hessian_update_strategy.py:182: UserWarning: delta_grad == 0.0. Check if the approximated function is linear. If the function is linear better results can be obtained by defining the Hessian as zero instead of using quasi-Newton approximations.\n",
      "  warn('delta_grad == 0.0. Check if the approximated '\n"
     ]
    },
    {
     "name": "stdout",
     "output_type": "stream",
     "text": [
      "`xtol` termination condition is satisfied.\n",
      "Number of iterations: 54, function evaluations: 81, CG iterations: 63, optimality: 4.34e-08, constraint violation: 0.00e+00, execution time: 0.94 s.\n",
      "species=BT, alpha=0.01, ini para=32\n"
     ]
    },
    {
     "name": "stderr",
     "output_type": "stream",
     "text": [
      "/opt/anaconda3/lib/python3.8/site-packages/scipy/optimize/_hessian_update_strategy.py:182: UserWarning: delta_grad == 0.0. Check if the approximated function is linear. If the function is linear better results can be obtained by defining the Hessian as zero instead of using quasi-Newton approximations.\n",
      "  warn('delta_grad == 0.0. Check if the approximated '\n"
     ]
    },
    {
     "name": "stdout",
     "output_type": "stream",
     "text": [
      "`xtol` termination condition is satisfied.\n",
      "Number of iterations: 67, function evaluations: 129, CG iterations: 101, optimality: 5.37e-08, constraint violation: 0.00e+00, execution time:  1.3 s.\n",
      "species=BT, alpha=0.01, ini para=33\n",
      "`xtol` termination condition is satisfied.\n",
      "Number of iterations: 63, function evaluations: 99, CG iterations: 96, optimality: 6.54e-08, constraint violation: 0.00e+00, execution time:  1.1 s.\n",
      "species=BT, alpha=0.01, ini para=34\n",
      "`xtol` termination condition is satisfied.\n",
      "Number of iterations: 76, function evaluations: 174, CG iterations: 114, optimality: 6.54e-08, constraint violation: 0.00e+00, execution time:  1.6 s.\n",
      "species=BT, alpha=0.01, ini para=35\n"
     ]
    },
    {
     "name": "stderr",
     "output_type": "stream",
     "text": [
      "/opt/anaconda3/lib/python3.8/site-packages/scipy/optimize/_hessian_update_strategy.py:182: UserWarning: delta_grad == 0.0. Check if the approximated function is linear. If the function is linear better results can be obtained by defining the Hessian as zero instead of using quasi-Newton approximations.\n",
      "  warn('delta_grad == 0.0. Check if the approximated '\n"
     ]
    },
    {
     "name": "stdout",
     "output_type": "stream",
     "text": [
      "`gtol` termination condition is satisfied.\n",
      "Number of iterations: 32, function evaluations: 66, CG iterations: 39, optimality: 3.79e-09, constraint violation: 0.00e+00, execution time: 0.67 s.\n",
      "species=BT, alpha=0.01, ini para=36\n"
     ]
    },
    {
     "name": "stderr",
     "output_type": "stream",
     "text": [
      "/opt/anaconda3/lib/python3.8/site-packages/scipy/optimize/_hessian_update_strategy.py:182: UserWarning: delta_grad == 0.0. Check if the approximated function is linear. If the function is linear better results can be obtained by defining the Hessian as zero instead of using quasi-Newton approximations.\n",
      "  warn('delta_grad == 0.0. Check if the approximated '\n"
     ]
    },
    {
     "name": "stdout",
     "output_type": "stream",
     "text": [
      "`xtol` termination condition is satisfied.\n",
      "Number of iterations: 63, function evaluations: 126, CG iterations: 86, optimality: 6.54e-08, constraint violation: 0.00e+00, execution time:  1.2 s.\n",
      "species=BT, alpha=0.01, ini para=37\n"
     ]
    },
    {
     "name": "stderr",
     "output_type": "stream",
     "text": [
      "/opt/anaconda3/lib/python3.8/site-packages/scipy/optimize/_hessian_update_strategy.py:182: UserWarning: delta_grad == 0.0. Check if the approximated function is linear. If the function is linear better results can be obtained by defining the Hessian as zero instead of using quasi-Newton approximations.\n",
      "  warn('delta_grad == 0.0. Check if the approximated '\n"
     ]
    },
    {
     "name": "stdout",
     "output_type": "stream",
     "text": [
      "`gtol` termination condition is satisfied.\n",
      "Number of iterations: 41, function evaluations: 105, CG iterations: 55, optimality: 6.51e-09, constraint violation: 0.00e+00, execution time: 0.99 s.\n",
      "species=BT, alpha=0.01, ini para=38\n",
      "`xtol` termination condition is satisfied.\n",
      "Number of iterations: 62, function evaluations: 135, CG iterations: 91, optimality: 5.37e-08, constraint violation: 0.00e+00, execution time:  1.2 s.\n",
      "species=BT, alpha=0.01, ini para=39\n"
     ]
    },
    {
     "name": "stderr",
     "output_type": "stream",
     "text": [
      "/opt/anaconda3/lib/python3.8/site-packages/scipy/optimize/_hessian_update_strategy.py:182: UserWarning: delta_grad == 0.0. Check if the approximated function is linear. If the function is linear better results can be obtained by defining the Hessian as zero instead of using quasi-Newton approximations.\n",
      "  warn('delta_grad == 0.0. Check if the approximated '\n",
      "/opt/anaconda3/lib/python3.8/site-packages/scipy/optimize/_hessian_update_strategy.py:182: UserWarning: delta_grad == 0.0. Check if the approximated function is linear. If the function is linear better results can be obtained by defining the Hessian as zero instead of using quasi-Newton approximations.\n",
      "  warn('delta_grad == 0.0. Check if the approximated '\n"
     ]
    },
    {
     "name": "stdout",
     "output_type": "stream",
     "text": [
      "`xtol` termination condition is satisfied.\n",
      "Number of iterations: 68, function evaluations: 168, CG iterations: 99, optimality: 2.13e-08, constraint violation: 0.00e+00, execution time:  1.5 s.\n",
      "species=BT, alpha=0.01, ini para=40\n",
      "`xtol` termination condition is satisfied.\n",
      "Number of iterations: 59, function evaluations: 99, CG iterations: 81, optimality: 4.34e-08, constraint violation: 0.00e+00, execution time:  1.3 s.\n",
      "species=BT, alpha=0.01, ini para=41\n"
     ]
    },
    {
     "name": "stderr",
     "output_type": "stream",
     "text": [
      "/opt/anaconda3/lib/python3.8/site-packages/scipy/optimize/_hessian_update_strategy.py:182: UserWarning: delta_grad == 0.0. Check if the approximated function is linear. If the function is linear better results can be obtained by defining the Hessian as zero instead of using quasi-Newton approximations.\n",
      "  warn('delta_grad == 0.0. Check if the approximated '\n"
     ]
    },
    {
     "name": "stdout",
     "output_type": "stream",
     "text": [
      "`xtol` termination condition is satisfied.\n",
      "Number of iterations: 62, function evaluations: 123, CG iterations: 91, optimality: 3.56e-08, constraint violation: 0.00e+00, execution time:  2.3 s.\n",
      "species=BT, alpha=0.01, ini para=42\n",
      "`xtol` termination condition is satisfied.\n",
      "Number of iterations: 67, function evaluations: 153, CG iterations: 101, optimality: 4.34e-08, constraint violation: 0.00e+00, execution time:  1.6 s.\n",
      "species=BT, alpha=0.01, ini para=43\n"
     ]
    },
    {
     "name": "stderr",
     "output_type": "stream",
     "text": [
      "/opt/anaconda3/lib/python3.8/site-packages/scipy/optimize/_hessian_update_strategy.py:182: UserWarning: delta_grad == 0.0. Check if the approximated function is linear. If the function is linear better results can be obtained by defining the Hessian as zero instead of using quasi-Newton approximations.\n",
      "  warn('delta_grad == 0.0. Check if the approximated '\n"
     ]
    },
    {
     "name": "stdout",
     "output_type": "stream",
     "text": [
      "`xtol` termination condition is satisfied.\n",
      "Number of iterations: 60, function evaluations: 102, CG iterations: 84, optimality: 3.56e-08, constraint violation: 0.00e+00, execution time:  2.1 s.\n",
      "species=BT, alpha=0.01, ini para=44\n",
      "`gtol` termination condition is satisfied.\n",
      "Number of iterations: 22, function evaluations: 42, CG iterations: 22, optimality: 6.51e-09, constraint violation: 0.00e+00, execution time:  1.5 s.\n",
      "species=BT, alpha=0.01, ini para=45\n"
     ]
    },
    {
     "name": "stderr",
     "output_type": "stream",
     "text": [
      "/opt/anaconda3/lib/python3.8/site-packages/scipy/optimize/_hessian_update_strategy.py:182: UserWarning: delta_grad == 0.0. Check if the approximated function is linear. If the function is linear better results can be obtained by defining the Hessian as zero instead of using quasi-Newton approximations.\n",
      "  warn('delta_grad == 0.0. Check if the approximated '\n"
     ]
    },
    {
     "name": "stdout",
     "output_type": "stream",
     "text": [
      "`xtol` termination condition is satisfied.\n",
      "Number of iterations: 65, function evaluations: 138, CG iterations: 100, optimality: 4.34e-08, constraint violation: 0.00e+00, execution time:  5.3 s.\n",
      "species=BT, alpha=0.01, ini para=46\n"
     ]
    },
    {
     "name": "stderr",
     "output_type": "stream",
     "text": [
      "/opt/anaconda3/lib/python3.8/site-packages/scipy/optimize/_hessian_update_strategy.py:182: UserWarning: delta_grad == 0.0. Check if the approximated function is linear. If the function is linear better results can be obtained by defining the Hessian as zero instead of using quasi-Newton approximations.\n",
      "  warn('delta_grad == 0.0. Check if the approximated '\n"
     ]
    },
    {
     "name": "stdout",
     "output_type": "stream",
     "text": [
      "`gtol` termination condition is satisfied.\n",
      "Number of iterations: 32, function evaluations: 72, CG iterations: 42, optimality: 3.11e-09, constraint violation: 0.00e+00, execution time: 0.92 s.\n",
      "species=BT, alpha=0.01, ini para=47\n"
     ]
    },
    {
     "name": "stderr",
     "output_type": "stream",
     "text": [
      "/opt/anaconda3/lib/python3.8/site-packages/scipy/optimize/_hessian_update_strategy.py:182: UserWarning: delta_grad == 0.0. Check if the approximated function is linear. If the function is linear better results can be obtained by defining the Hessian as zero instead of using quasi-Newton approximations.\n",
      "  warn('delta_grad == 0.0. Check if the approximated '\n",
      "/opt/anaconda3/lib/python3.8/site-packages/scipy/optimize/_hessian_update_strategy.py:182: UserWarning: delta_grad == 0.0. Check if the approximated function is linear. If the function is linear better results can be obtained by defining the Hessian as zero instead of using quasi-Newton approximations.\n",
      "  warn('delta_grad == 0.0. Check if the approximated '\n"
     ]
    },
    {
     "name": "stdout",
     "output_type": "stream",
     "text": [
      "`xtol` termination condition is satisfied.\n",
      "Number of iterations: 62, function evaluations: 105, CG iterations: 91, optimality: 2.13e-08, constraint violation: 0.00e+00, execution time:  1.3 s.\n",
      "species=BT, alpha=0.01, ini para=48\n"
     ]
    },
    {
     "name": "stderr",
     "output_type": "stream",
     "text": [
      "/opt/anaconda3/lib/python3.8/site-packages/scipy/optimize/_hessian_update_strategy.py:182: UserWarning: delta_grad == 0.0. Check if the approximated function is linear. If the function is linear better results can be obtained by defining the Hessian as zero instead of using quasi-Newton approximations.\n",
      "  warn('delta_grad == 0.0. Check if the approximated '\n",
      "/opt/anaconda3/lib/python3.8/site-packages/scipy/optimize/_hessian_update_strategy.py:182: UserWarning: delta_grad == 0.0. Check if the approximated function is linear. If the function is linear better results can be obtained by defining the Hessian as zero instead of using quasi-Newton approximations.\n",
      "  warn('delta_grad == 0.0. Check if the approximated '\n"
     ]
    },
    {
     "name": "stdout",
     "output_type": "stream",
     "text": [
      "`xtol` termination condition is satisfied.\n",
      "Number of iterations: 62, function evaluations: 105, CG iterations: 95, optimality: 2.13e-08, constraint violation: 0.00e+00, execution time:  2.3 s.\n",
      "species=BT, alpha=0.01, ini para=49\n"
     ]
    },
    {
     "name": "stderr",
     "output_type": "stream",
     "text": [
      "/opt/anaconda3/lib/python3.8/site-packages/scipy/optimize/_hessian_update_strategy.py:182: UserWarning: delta_grad == 0.0. Check if the approximated function is linear. If the function is linear better results can be obtained by defining the Hessian as zero instead of using quasi-Newton approximations.\n",
      "  warn('delta_grad == 0.0. Check if the approximated '\n",
      "/opt/anaconda3/lib/python3.8/site-packages/scipy/optimize/_hessian_update_strategy.py:182: UserWarning: delta_grad == 0.0. Check if the approximated function is linear. If the function is linear better results can be obtained by defining the Hessian as zero instead of using quasi-Newton approximations.\n",
      "  warn('delta_grad == 0.0. Check if the approximated '\n"
     ]
    },
    {
     "name": "stdout",
     "output_type": "stream",
     "text": [
      "`xtol` termination condition is satisfied.\n",
      "Number of iterations: 56, function evaluations: 81, CG iterations: 79, optimality: 4.34e-08, constraint violation: 0.00e+00, execution time: 0.83 s.\n",
      "species=BT, alpha=0.01, ini para=50\n",
      "`gtol` termination condition is satisfied.\n",
      "Number of iterations: 30, function evaluations: 66, CG iterations: 37, optimality: 6.51e-09, constraint violation: 0.00e+00, execution time: 0.65 s.\n",
      "species=BT, alpha=0.01, ini para=51\n"
     ]
    },
    {
     "name": "stderr",
     "output_type": "stream",
     "text": [
      "/opt/anaconda3/lib/python3.8/site-packages/scipy/optimize/_hessian_update_strategy.py:182: UserWarning: delta_grad == 0.0. Check if the approximated function is linear. If the function is linear better results can be obtained by defining the Hessian as zero instead of using quasi-Newton approximations.\n",
      "  warn('delta_grad == 0.0. Check if the approximated '\n"
     ]
    },
    {
     "name": "stdout",
     "output_type": "stream",
     "text": [
      "`xtol` termination condition is satisfied.\n",
      "Number of iterations: 68, function evaluations: 156, CG iterations: 101, optimality: 5.37e-08, constraint violation: 0.00e+00, execution time:  1.4 s.\n",
      "species=BT, alpha=0.01, ini para=52\n"
     ]
    },
    {
     "name": "stderr",
     "output_type": "stream",
     "text": [
      "/opt/anaconda3/lib/python3.8/site-packages/scipy/optimize/_hessian_update_strategy.py:182: UserWarning: delta_grad == 0.0. Check if the approximated function is linear. If the function is linear better results can be obtained by defining the Hessian as zero instead of using quasi-Newton approximations.\n",
      "  warn('delta_grad == 0.0. Check if the approximated '\n"
     ]
    },
    {
     "name": "stdout",
     "output_type": "stream",
     "text": [
      "`xtol` termination condition is satisfied.\n",
      "Number of iterations: 70, function evaluations: 165, CG iterations: 109, optimality: 6.54e-08, constraint violation: 0.00e+00, execution time:  1.5 s.\n",
      "species=BT, alpha=0.01, ini para=53\n",
      "`xtol` termination condition is satisfied.\n",
      "Number of iterations: 63, function evaluations: 123, CG iterations: 92, optimality: 4.34e-08, constraint violation: 0.00e+00, execution time:  1.1 s.\n",
      "species=BT, alpha=0.01, ini para=54\n",
      "`gtol` termination condition is satisfied.\n",
      "Number of iterations: 37, function evaluations: 84, CG iterations: 44, optimality: 3.79e-09, constraint violation: 0.00e+00, execution time: 0.83 s.\n",
      "species=BT, alpha=0.01, ini para=55\n",
      "`xtol` termination condition is satisfied.\n",
      "Number of iterations: 60, function evaluations: 117, CG iterations: 88, optimality: 3.56e-08, constraint violation: 0.00e+00, execution time:  1.1 s.\n",
      "species=BT, alpha=0.01, ini para=56\n",
      "`gtol` termination condition is satisfied.\n",
      "Number of iterations: 31, function evaluations: 69, CG iterations: 38, optimality: 6.51e-09, constraint violation: 0.00e+00, execution time:  0.7 s.\n",
      "species=BT, alpha=0.01, ini para=57\n",
      "`xtol` termination condition is satisfied.\n",
      "Number of iterations: 63, function evaluations: 114, CG iterations: 96, optimality: 4.34e-08, constraint violation: 0.00e+00, execution time:  1.1 s.\n",
      "species=BT, alpha=0.01, ini para=58\n",
      "`xtol` termination condition is satisfied.\n",
      "Number of iterations: 74, function evaluations: 156, CG iterations: 110, optimality: 5.37e-08, constraint violation: 0.00e+00, execution time:  1.4 s.\n",
      "species=BT, alpha=0.01, ini para=59\n",
      "`gtol` termination condition is satisfied.\n",
      "Number of iterations: 31, function evaluations: 66, CG iterations: 36, optimality: 3.11e-09, constraint violation: 0.00e+00, execution time: 0.63 s.\n",
      "species=BT, alpha=0.01, ini para=60\n"
     ]
    },
    {
     "name": "stderr",
     "output_type": "stream",
     "text": [
      "/opt/anaconda3/lib/python3.8/site-packages/scipy/optimize/_hessian_update_strategy.py:182: UserWarning: delta_grad == 0.0. Check if the approximated function is linear. If the function is linear better results can be obtained by defining the Hessian as zero instead of using quasi-Newton approximations.\n",
      "  warn('delta_grad == 0.0. Check if the approximated '\n"
     ]
    },
    {
     "name": "stdout",
     "output_type": "stream",
     "text": [
      "`xtol` termination condition is satisfied.\n",
      "Number of iterations: 64, function evaluations: 114, CG iterations: 85, optimality: 4.34e-08, constraint violation: 0.00e+00, execution time:  1.1 s.\n",
      "species=BT, alpha=0.01, ini para=61\n",
      "`xtol` termination condition is satisfied.\n",
      "Number of iterations: 75, function evaluations: 153, CG iterations: 116, optimality: 5.37e-08, constraint violation: 0.00e+00, execution time:  1.4 s.\n",
      "species=BT, alpha=0.01, ini para=62\n",
      "`xtol` termination condition is satisfied.\n",
      "Number of iterations: 61, function evaluations: 153, CG iterations: 88, optimality: 4.34e-08, constraint violation: 0.00e+00, execution time:  1.4 s.\n",
      "species=BT, alpha=0.01, ini para=63\n",
      "`gtol` termination condition is satisfied.\n",
      "Number of iterations: 47, function evaluations: 117, CG iterations: 68, optimality: 6.51e-09, constraint violation: 0.00e+00, execution time:  1.1 s.\n",
      "species=BT, alpha=0.01, ini para=64\n",
      "`xtol` termination condition is satisfied.\n",
      "Number of iterations: 63, function evaluations: 159, CG iterations: 88, optimality: 3.56e-08, constraint violation: 0.00e+00, execution time:  2.3 s.\n",
      "species=BT, alpha=0.01, ini para=65\n",
      "`xtol` termination condition is satisfied.\n",
      "Number of iterations: 67, function evaluations: 129, CG iterations: 103, optimality: 3.56e-08, constraint violation: 0.00e+00, execution time:  1.2 s.\n",
      "species=BT, alpha=0.01, ini para=66\n",
      "`gtol` termination condition is satisfied.\n",
      "Number of iterations: 27, function evaluations: 57, CG iterations: 30, optimality: 6.51e-09, constraint violation: 0.00e+00, execution time: 0.57 s.\n",
      "species=BT, alpha=0.01, ini para=67\n"
     ]
    },
    {
     "name": "stderr",
     "output_type": "stream",
     "text": [
      "/opt/anaconda3/lib/python3.8/site-packages/scipy/optimize/_hessian_update_strategy.py:182: UserWarning: delta_grad == 0.0. Check if the approximated function is linear. If the function is linear better results can be obtained by defining the Hessian as zero instead of using quasi-Newton approximations.\n",
      "  warn('delta_grad == 0.0. Check if the approximated '\n"
     ]
    },
    {
     "name": "stdout",
     "output_type": "stream",
     "text": [
      "`xtol` termination condition is satisfied.\n",
      "Number of iterations: 72, function evaluations: 138, CG iterations: 103, optimality: 3.56e-08, constraint violation: 0.00e+00, execution time:  1.3 s.\n",
      "species=BT, alpha=0.01, ini para=68\n",
      "`xtol` termination condition is satisfied.\n",
      "Number of iterations: 64, function evaluations: 132, CG iterations: 97, optimality: 2.13e-08, constraint violation: 0.00e+00, execution time:  1.3 s.\n",
      "species=BT, alpha=0.01, ini para=69\n"
     ]
    },
    {
     "name": "stderr",
     "output_type": "stream",
     "text": [
      "/opt/anaconda3/lib/python3.8/site-packages/scipy/optimize/_hessian_update_strategy.py:182: UserWarning: delta_grad == 0.0. Check if the approximated function is linear. If the function is linear better results can be obtained by defining the Hessian as zero instead of using quasi-Newton approximations.\n",
      "  warn('delta_grad == 0.0. Check if the approximated '\n"
     ]
    },
    {
     "name": "stdout",
     "output_type": "stream",
     "text": [
      "`xtol` termination condition is satisfied.\n",
      "Number of iterations: 70, function evaluations: 159, CG iterations: 105, optimality: 3.56e-08, constraint violation: 0.00e+00, execution time:  1.5 s.\n",
      "species=BT, alpha=0.01, ini para=70\n",
      "`gtol` termination condition is satisfied.\n",
      "Number of iterations: 34, function evaluations: 75, CG iterations: 43, optimality: 3.11e-09, constraint violation: 0.00e+00, execution time:  0.7 s.\n",
      "species=BT, alpha=0.01, ini para=71\n",
      "`xtol` termination condition is satisfied.\n",
      "Number of iterations: 60, function evaluations: 111, CG iterations: 86, optimality: 4.34e-08, constraint violation: 0.00e+00, execution time:  1.1 s.\n",
      "species=BT, alpha=0.01, ini para=72\n"
     ]
    },
    {
     "name": "stderr",
     "output_type": "stream",
     "text": [
      "/opt/anaconda3/lib/python3.8/site-packages/scipy/optimize/_hessian_update_strategy.py:182: UserWarning: delta_grad == 0.0. Check if the approximated function is linear. If the function is linear better results can be obtained by defining the Hessian as zero instead of using quasi-Newton approximations.\n",
      "  warn('delta_grad == 0.0. Check if the approximated '\n",
      "/opt/anaconda3/lib/python3.8/site-packages/scipy/optimize/_hessian_update_strategy.py:182: UserWarning: delta_grad == 0.0. Check if the approximated function is linear. If the function is linear better results can be obtained by defining the Hessian as zero instead of using quasi-Newton approximations.\n",
      "  warn('delta_grad == 0.0. Check if the approximated '\n"
     ]
    },
    {
     "name": "stdout",
     "output_type": "stream",
     "text": [
      "`xtol` termination condition is satisfied.\n",
      "Number of iterations: 70, function evaluations: 162, CG iterations: 106, optimality: 6.54e-08, constraint violation: 0.00e+00, execution time:  1.5 s.\n",
      "species=BT, alpha=0.01, ini para=73\n",
      "`gtol` termination condition is satisfied.\n",
      "Number of iterations: 29, function evaluations: 60, CG iterations: 33, optimality: 3.11e-09, constraint violation: 0.00e+00, execution time: 0.66 s.\n",
      "species=BT, alpha=0.01, ini para=74\n",
      "`xtol` termination condition is satisfied.\n",
      "Number of iterations: 67, function evaluations: 147, CG iterations: 95, optimality: 5.37e-08, constraint violation: 0.00e+00, execution time:  1.4 s.\n",
      "species=BT, alpha=0.01, ini para=75\n"
     ]
    },
    {
     "name": "stderr",
     "output_type": "stream",
     "text": [
      "/opt/anaconda3/lib/python3.8/site-packages/scipy/optimize/_hessian_update_strategy.py:182: UserWarning: delta_grad == 0.0. Check if the approximated function is linear. If the function is linear better results can be obtained by defining the Hessian as zero instead of using quasi-Newton approximations.\n",
      "  warn('delta_grad == 0.0. Check if the approximated '\n"
     ]
    },
    {
     "name": "stdout",
     "output_type": "stream",
     "text": [
      "`xtol` termination condition is satisfied.\n",
      "Number of iterations: 68, function evaluations: 171, CG iterations: 100, optimality: 5.37e-08, constraint violation: 0.00e+00, execution time:  1.5 s.\n",
      "species=BT, alpha=0.01, ini para=76\n",
      "`gtol` termination condition is satisfied.\n",
      "Number of iterations: 29, function evaluations: 63, CG iterations: 31, optimality: 6.51e-09, constraint violation: 0.00e+00, execution time: 0.61 s.\n",
      "species=BT, alpha=0.01, ini para=77\n",
      "`xtol` termination condition is satisfied.\n",
      "Number of iterations: 63, function evaluations: 159, CG iterations: 87, optimality: 4.34e-08, constraint violation: 0.00e+00, execution time:  1.4 s.\n",
      "species=BT, alpha=0.01, ini para=78\n",
      "`gtol` termination condition is satisfied.\n",
      "Number of iterations: 35, function evaluations: 81, CG iterations: 44, optimality: 3.11e-09, constraint violation: 0.00e+00, execution time:  1.2 s.\n",
      "species=BT, alpha=0.01, ini para=79\n"
     ]
    },
    {
     "name": "stderr",
     "output_type": "stream",
     "text": [
      "/opt/anaconda3/lib/python3.8/site-packages/scipy/optimize/_hessian_update_strategy.py:182: UserWarning: delta_grad == 0.0. Check if the approximated function is linear. If the function is linear better results can be obtained by defining the Hessian as zero instead of using quasi-Newton approximations.\n",
      "  warn('delta_grad == 0.0. Check if the approximated '\n"
     ]
    },
    {
     "name": "stdout",
     "output_type": "stream",
     "text": [
      "`xtol` termination condition is satisfied.\n",
      "Number of iterations: 61, function evaluations: 102, CG iterations: 87, optimality: 4.34e-08, constraint violation: 0.00e+00, execution time:  2.3 s.\n",
      "species=BT, alpha=0.01, ini para=80\n"
     ]
    },
    {
     "name": "stderr",
     "output_type": "stream",
     "text": [
      "/opt/anaconda3/lib/python3.8/site-packages/scipy/optimize/_hessian_update_strategy.py:182: UserWarning: delta_grad == 0.0. Check if the approximated function is linear. If the function is linear better results can be obtained by defining the Hessian as zero instead of using quasi-Newton approximations.\n",
      "  warn('delta_grad == 0.0. Check if the approximated '\n"
     ]
    },
    {
     "name": "stdout",
     "output_type": "stream",
     "text": [
      "`xtol` termination condition is satisfied.\n",
      "Number of iterations: 60, function evaluations: 96, CG iterations: 90, optimality: 2.13e-08, constraint violation: 0.00e+00, execution time:  1.0 s.\n",
      "species=BT, alpha=0.01, ini para=81\n",
      "`xtol` termination condition is satisfied.\n",
      "Number of iterations: 69, function evaluations: 141, CG iterations: 101, optimality: 6.54e-08, constraint violation: 0.00e+00, execution time:  1.4 s.\n",
      "species=BT, alpha=0.01, ini para=82\n",
      "`xtol` termination condition is satisfied.\n",
      "Number of iterations: 65, function evaluations: 162, CG iterations: 96, optimality: 4.34e-08, constraint violation: 0.00e+00, execution time:  1.6 s.\n",
      "species=BT, alpha=0.01, ini para=83\n",
      "`xtol` termination condition is satisfied.\n",
      "Number of iterations: 63, function evaluations: 123, CG iterations: 85, optimality: 5.37e-08, constraint violation: 0.00e+00, execution time:  1.1 s.\n",
      "species=BT, alpha=0.01, ini para=84\n"
     ]
    },
    {
     "name": "stderr",
     "output_type": "stream",
     "text": [
      "/opt/anaconda3/lib/python3.8/site-packages/scipy/optimize/_hessian_update_strategy.py:182: UserWarning: delta_grad == 0.0. Check if the approximated function is linear. If the function is linear better results can be obtained by defining the Hessian as zero instead of using quasi-Newton approximations.\n",
      "  warn('delta_grad == 0.0. Check if the approximated '\n",
      "/opt/anaconda3/lib/python3.8/site-packages/scipy/optimize/_hessian_update_strategy.py:182: UserWarning: delta_grad == 0.0. Check if the approximated function is linear. If the function is linear better results can be obtained by defining the Hessian as zero instead of using quasi-Newton approximations.\n",
      "  warn('delta_grad == 0.0. Check if the approximated '\n"
     ]
    },
    {
     "name": "stdout",
     "output_type": "stream",
     "text": [
      "`xtol` termination condition is satisfied.\n",
      "Number of iterations: 63, function evaluations: 117, CG iterations: 88, optimality: 3.56e-08, constraint violation: 0.00e+00, execution time:  1.1 s.\n",
      "species=BT, alpha=0.01, ini para=85\n",
      "`gtol` termination condition is satisfied.\n",
      "Number of iterations: 25, function evaluations: 51, CG iterations: 29, optimality: 6.51e-09, constraint violation: 0.00e+00, execution time:  0.5 s.\n",
      "species=BT, alpha=0.01, ini para=86\n"
     ]
    },
    {
     "name": "stderr",
     "output_type": "stream",
     "text": [
      "/opt/anaconda3/lib/python3.8/site-packages/scipy/optimize/_hessian_update_strategy.py:182: UserWarning: delta_grad == 0.0. Check if the approximated function is linear. If the function is linear better results can be obtained by defining the Hessian as zero instead of using quasi-Newton approximations.\n",
      "  warn('delta_grad == 0.0. Check if the approximated '\n"
     ]
    },
    {
     "name": "stdout",
     "output_type": "stream",
     "text": [
      "`xtol` termination condition is satisfied.\n",
      "Number of iterations: 65, function evaluations: 144, CG iterations: 88, optimality: 3.56e-08, constraint violation: 0.00e+00, execution time:  1.3 s.\n",
      "species=BT, alpha=0.01, ini para=87\n"
     ]
    },
    {
     "name": "stderr",
     "output_type": "stream",
     "text": [
      "/opt/anaconda3/lib/python3.8/site-packages/scipy/optimize/_hessian_update_strategy.py:182: UserWarning: delta_grad == 0.0. Check if the approximated function is linear. If the function is linear better results can be obtained by defining the Hessian as zero instead of using quasi-Newton approximations.\n",
      "  warn('delta_grad == 0.0. Check if the approximated '\n"
     ]
    },
    {
     "name": "stdout",
     "output_type": "stream",
     "text": [
      "`xtol` termination condition is satisfied.\n",
      "Number of iterations: 57, function evaluations: 90, CG iterations: 87, optimality: 3.56e-08, constraint violation: 0.00e+00, execution time: 0.86 s.\n",
      "species=BT, alpha=0.01, ini para=88\n",
      "`xtol` termination condition is satisfied.\n",
      "Number of iterations: 64, function evaluations: 117, CG iterations: 91, optimality: 4.34e-08, constraint violation: 0.00e+00, execution time:  1.1 s.\n",
      "species=BT, alpha=0.01, ini para=89\n",
      "`xtol` termination condition is satisfied.\n",
      "Number of iterations: 86, function evaluations: 195, CG iterations: 125, optimality: 6.54e-08, constraint violation: 0.00e+00, execution time:  1.7 s.\n",
      "species=BT, alpha=0.01, ini para=90\n",
      "`xtol` termination condition is satisfied.\n",
      "Number of iterations: 78, function evaluations: 207, CG iterations: 107, optimality: 7.19e-08, constraint violation: 0.00e+00, execution time:  1.8 s.\n",
      "species=BT, alpha=0.01, ini para=91\n",
      "`xtol` termination condition is satisfied.\n",
      "Number of iterations: 58, function evaluations: 87, CG iterations: 85, optimality: 5.37e-08, constraint violation: 0.00e+00, execution time: 0.89 s.\n",
      "species=BT, alpha=0.01, ini para=92\n"
     ]
    },
    {
     "name": "stderr",
     "output_type": "stream",
     "text": [
      "/opt/anaconda3/lib/python3.8/site-packages/scipy/optimize/_hessian_update_strategy.py:182: UserWarning: delta_grad == 0.0. Check if the approximated function is linear. If the function is linear better results can be obtained by defining the Hessian as zero instead of using quasi-Newton approximations.\n",
      "  warn('delta_grad == 0.0. Check if the approximated '\n",
      "/opt/anaconda3/lib/python3.8/site-packages/scipy/optimize/_hessian_update_strategy.py:182: UserWarning: delta_grad == 0.0. Check if the approximated function is linear. If the function is linear better results can be obtained by defining the Hessian as zero instead of using quasi-Newton approximations.\n",
      "  warn('delta_grad == 0.0. Check if the approximated '\n"
     ]
    },
    {
     "name": "stdout",
     "output_type": "stream",
     "text": [
      "`xtol` termination condition is satisfied.\n",
      "Number of iterations: 56, function evaluations: 102, CG iterations: 80, optimality: 3.56e-08, constraint violation: 0.00e+00, execution time:  1.0 s.\n",
      "species=BT, alpha=0.01, ini para=93\n",
      "`xtol` termination condition is satisfied.\n",
      "Number of iterations: 81, function evaluations: 198, CG iterations: 123, optimality: 7.19e-08, constraint violation: 0.00e+00, execution time:  1.7 s.\n",
      "species=BT, alpha=0.01, ini para=94\n",
      "`xtol` termination condition is satisfied.\n",
      "Number of iterations: 62, function evaluations: 111, CG iterations: 97, optimality: 4.34e-08, constraint violation: 0.00e+00, execution time:  1.6 s.\n",
      "species=BT, alpha=0.01, ini para=95\n",
      "`xtol` termination condition is satisfied.\n",
      "Number of iterations: 66, function evaluations: 129, CG iterations: 93, optimality: 4.34e-08, constraint violation: 0.00e+00, execution time:  1.2 s.\n",
      "species=BT, alpha=0.01, ini para=96\n",
      "`xtol` termination condition is satisfied.\n",
      "Number of iterations: 67, function evaluations: 144, CG iterations: 100, optimality: 4.34e-08, constraint violation: 0.00e+00, execution time:  1.4 s.\n",
      "species=BT, alpha=0.01, ini para=97\n"
     ]
    },
    {
     "name": "stderr",
     "output_type": "stream",
     "text": [
      "/opt/anaconda3/lib/python3.8/site-packages/scipy/optimize/_hessian_update_strategy.py:182: UserWarning: delta_grad == 0.0. Check if the approximated function is linear. If the function is linear better results can be obtained by defining the Hessian as zero instead of using quasi-Newton approximations.\n",
      "  warn('delta_grad == 0.0. Check if the approximated '\n"
     ]
    },
    {
     "name": "stdout",
     "output_type": "stream",
     "text": [
      "`xtol` termination condition is satisfied.\n",
      "Number of iterations: 65, function evaluations: 114, CG iterations: 94, optimality: 4.34e-08, constraint violation: 0.00e+00, execution time:  1.1 s.\n",
      "species=BT, alpha=0.01, ini para=98\n",
      "`gtol` termination condition is satisfied.\n",
      "Number of iterations: 25, function evaluations: 51, CG iterations: 27, optimality: 6.51e-09, constraint violation: 0.00e+00, execution time: 0.49 s.\n",
      "species=BT, alpha=0.01, ini para=99\n",
      "`xtol` termination condition is satisfied.\n",
      "Number of iterations: 70, function evaluations: 117, CG iterations: 106, optimality: 4.34e-08, constraint violation: 0.00e+00, execution time:  1.2 s.\n",
      "species=BT, alpha=0.03, ini para=0\n"
     ]
    },
    {
     "name": "stderr",
     "output_type": "stream",
     "text": [
      "/opt/anaconda3/lib/python3.8/site-packages/scipy/optimize/_hessian_update_strategy.py:182: UserWarning: delta_grad == 0.0. Check if the approximated function is linear. If the function is linear better results can be obtained by defining the Hessian as zero instead of using quasi-Newton approximations.\n",
      "  warn('delta_grad == 0.0. Check if the approximated '\n"
     ]
    },
    {
     "name": "stdout",
     "output_type": "stream",
     "text": [
      "`xtol` termination condition is satisfied.\n",
      "Number of iterations: 76, function evaluations: 156, CG iterations: 116, optimality: 4.63e-08, constraint violation: 0.00e+00, execution time:  1.4 s.\n",
      "species=BT, alpha=0.03, ini para=1\n"
     ]
    },
    {
     "name": "stderr",
     "output_type": "stream",
     "text": [
      "/opt/anaconda3/lib/python3.8/site-packages/scipy/optimize/_hessian_update_strategy.py:182: UserWarning: delta_grad == 0.0. Check if the approximated function is linear. If the function is linear better results can be obtained by defining the Hessian as zero instead of using quasi-Newton approximations.\n",
      "  warn('delta_grad == 0.0. Check if the approximated '\n"
     ]
    },
    {
     "name": "stdout",
     "output_type": "stream",
     "text": [
      "`xtol` termination condition is satisfied.\n",
      "Number of iterations: 64, function evaluations: 129, CG iterations: 86, optimality: 5.85e-08, constraint violation: 0.00e+00, execution time:  1.2 s.\n",
      "species=BT, alpha=0.03, ini para=2\n",
      "`xtol` termination condition is satisfied.\n",
      "Number of iterations: 58, function evaluations: 93, CG iterations: 83, optimality: 6.98e-08, constraint violation: 0.00e+00, execution time: 0.91 s.\n",
      "species=BT, alpha=0.03, ini para=3\n"
     ]
    },
    {
     "name": "stderr",
     "output_type": "stream",
     "text": [
      "/opt/anaconda3/lib/python3.8/site-packages/scipy/optimize/_hessian_update_strategy.py:182: UserWarning: delta_grad == 0.0. Check if the approximated function is linear. If the function is linear better results can be obtained by defining the Hessian as zero instead of using quasi-Newton approximations.\n",
      "  warn('delta_grad == 0.0. Check if the approximated '\n"
     ]
    },
    {
     "name": "stdout",
     "output_type": "stream",
     "text": [
      "`xtol` termination condition is satisfied.\n",
      "Number of iterations: 67, function evaluations: 120, CG iterations: 99, optimality: 3.88e-08, constraint violation: 0.00e+00, execution time:  1.1 s.\n",
      "species=BT, alpha=0.03, ini para=4\n",
      "`gtol` termination condition is satisfied.\n",
      "Number of iterations: 35, function evaluations: 78, CG iterations: 45, optimality: 3.32e-09, constraint violation: 0.00e+00, execution time: 0.78 s.\n",
      "species=BT, alpha=0.03, ini para=5\n",
      "`xtol` termination condition is satisfied.\n",
      "Number of iterations: 58, function evaluations: 81, CG iterations: 78, optimality: 2.27e-08, constraint violation: 0.00e+00, execution time: 0.86 s.\n",
      "species=BT, alpha=0.03, ini para=6\n",
      "`gtol` termination condition is satisfied.\n",
      "Number of iterations: 35, function evaluations: 81, CG iterations: 45, optimality: 3.32e-09, constraint violation: 0.00e+00, execution time: 0.79 s.\n",
      "species=BT, alpha=0.03, ini para=7\n"
     ]
    },
    {
     "name": "stderr",
     "output_type": "stream",
     "text": [
      "/opt/anaconda3/lib/python3.8/site-packages/scipy/optimize/_hessian_update_strategy.py:182: UserWarning: delta_grad == 0.0. Check if the approximated function is linear. If the function is linear better results can be obtained by defining the Hessian as zero instead of using quasi-Newton approximations.\n",
      "  warn('delta_grad == 0.0. Check if the approximated '\n"
     ]
    },
    {
     "name": "stdout",
     "output_type": "stream",
     "text": [
      "`xtol` termination condition is satisfied.\n",
      "Number of iterations: 64, function evaluations: 129, CG iterations: 97, optimality: 5.85e-08, constraint violation: 0.00e+00, execution time:  1.2 s.\n",
      "species=BT, alpha=0.03, ini para=8\n",
      "`xtol` termination condition is satisfied.\n",
      "Number of iterations: 78, function evaluations: 183, CG iterations: 115, optimality: 4.63e-08, constraint violation: 0.00e+00, execution time:  1.7 s.\n",
      "species=BT, alpha=0.03, ini para=9\n",
      "`xtol` termination condition is satisfied.\n",
      "Number of iterations: 60, function evaluations: 123, CG iterations: 85, optimality: 5.85e-08, constraint violation: 0.00e+00, execution time:  1.1 s.\n",
      "species=BT, alpha=0.03, ini para=10\n",
      "`gtol` termination condition is satisfied.\n",
      "Number of iterations: 37, function evaluations: 84, CG iterations: 44, optimality: 4.04e-09, constraint violation: 0.00e+00, execution time:  0.8 s.\n",
      "species=BT, alpha=0.03, ini para=11\n",
      "`xtol` termination condition is satisfied.\n",
      "Number of iterations: 59, function evaluations: 147, CG iterations: 84, optimality: 9.33e-08, constraint violation: 0.00e+00, execution time:  2.8 s.\n",
      "species=BT, alpha=0.03, ini para=12\n",
      "`gtol` termination condition is satisfied.\n",
      "Number of iterations: 32, function evaluations: 66, CG iterations: 37, optimality: 4.04e-09, constraint violation: 0.00e+00, execution time: 0.66 s.\n",
      "species=BT, alpha=0.03, ini para=13\n",
      "`xtol` termination condition is satisfied.\n",
      "Number of iterations: 63, function evaluations: 123, CG iterations: 97, optimality: 4.63e-08, constraint violation: 0.00e+00, execution time:  1.1 s.\n",
      "species=BT, alpha=0.03, ini para=14\n"
     ]
    },
    {
     "name": "stderr",
     "output_type": "stream",
     "text": [
      "/opt/anaconda3/lib/python3.8/site-packages/scipy/optimize/_hessian_update_strategy.py:182: UserWarning: delta_grad == 0.0. Check if the approximated function is linear. If the function is linear better results can be obtained by defining the Hessian as zero instead of using quasi-Newton approximations.\n",
      "  warn('delta_grad == 0.0. Check if the approximated '\n"
     ]
    },
    {
     "name": "stdout",
     "output_type": "stream",
     "text": [
      "`xtol` termination condition is satisfied.\n",
      "Number of iterations: 57, function evaluations: 90, CG iterations: 69, optimality: 2.27e-08, constraint violation: 0.00e+00, execution time: 0.87 s.\n",
      "species=BT, alpha=0.03, ini para=15\n"
     ]
    },
    {
     "name": "stderr",
     "output_type": "stream",
     "text": [
      "/opt/anaconda3/lib/python3.8/site-packages/scipy/optimize/_hessian_update_strategy.py:182: UserWarning: delta_grad == 0.0. Check if the approximated function is linear. If the function is linear better results can be obtained by defining the Hessian as zero instead of using quasi-Newton approximations.\n",
      "  warn('delta_grad == 0.0. Check if the approximated '\n"
     ]
    },
    {
     "name": "stdout",
     "output_type": "stream",
     "text": [
      "`xtol` termination condition is satisfied.\n",
      "Number of iterations: 60, function evaluations: 90, CG iterations: 93, optimality: 1.90e-08, constraint violation: 0.00e+00, execution time: 0.89 s.\n",
      "species=BT, alpha=0.03, ini para=16\n"
     ]
    },
    {
     "name": "stderr",
     "output_type": "stream",
     "text": [
      "/opt/anaconda3/lib/python3.8/site-packages/scipy/optimize/_hessian_update_strategy.py:182: UserWarning: delta_grad == 0.0. Check if the approximated function is linear. If the function is linear better results can be obtained by defining the Hessian as zero instead of using quasi-Newton approximations.\n",
      "  warn('delta_grad == 0.0. Check if the approximated '\n"
     ]
    },
    {
     "name": "stdout",
     "output_type": "stream",
     "text": [
      "`xtol` termination condition is satisfied.\n",
      "Number of iterations: 70, function evaluations: 135, CG iterations: 101, optimality: 5.85e-08, constraint violation: 0.00e+00, execution time:  1.5 s.\n",
      "species=BT, alpha=0.03, ini para=17\n",
      "`xtol` termination condition is satisfied.\n",
      "Number of iterations: 64, function evaluations: 126, CG iterations: 91, optimality: 4.63e-08, constraint violation: 0.00e+00, execution time:  1.2 s.\n",
      "species=BT, alpha=0.03, ini para=18\n",
      "`xtol` termination condition is satisfied.\n",
      "Number of iterations: 63, function evaluations: 132, CG iterations: 95, optimality: 4.63e-08, constraint violation: 0.00e+00, execution time:  1.2 s.\n",
      "species=BT, alpha=0.03, ini para=19\n",
      "`xtol` termination condition is satisfied.\n",
      "Number of iterations: 77, function evaluations: 147, CG iterations: 120, optimality: 4.63e-08, constraint violation: 0.00e+00, execution time:  1.4 s.\n",
      "species=BT, alpha=0.03, ini para=20\n",
      "`xtol` termination condition is satisfied.\n",
      "Number of iterations: 65, function evaluations: 126, CG iterations: 101, optimality: 4.63e-08, constraint violation: 0.00e+00, execution time:  1.2 s.\n",
      "species=BT, alpha=0.03, ini para=21\n",
      "`gtol` termination condition is satisfied.\n",
      "Number of iterations: 33, function evaluations: 69, CG iterations: 39, optimality: 4.04e-09, constraint violation: 0.00e+00, execution time: 0.69 s.\n",
      "species=BT, alpha=0.03, ini para=22\n"
     ]
    },
    {
     "name": "stderr",
     "output_type": "stream",
     "text": [
      "/opt/anaconda3/lib/python3.8/site-packages/scipy/optimize/_hessian_update_strategy.py:182: UserWarning: delta_grad == 0.0. Check if the approximated function is linear. If the function is linear better results can be obtained by defining the Hessian as zero instead of using quasi-Newton approximations.\n",
      "  warn('delta_grad == 0.0. Check if the approximated '\n",
      "/opt/anaconda3/lib/python3.8/site-packages/scipy/optimize/_hessian_update_strategy.py:182: UserWarning: delta_grad == 0.0. Check if the approximated function is linear. If the function is linear better results can be obtained by defining the Hessian as zero instead of using quasi-Newton approximations.\n",
      "  warn('delta_grad == 0.0. Check if the approximated '\n"
     ]
    },
    {
     "name": "stdout",
     "output_type": "stream",
     "text": [
      "`xtol` termination condition is satisfied.\n",
      "Number of iterations: 68, function evaluations: 120, CG iterations: 96, optimality: 5.85e-08, constraint violation: 0.00e+00, execution time:  1.1 s.\n",
      "species=BT, alpha=0.03, ini para=23\n",
      "`xtol` termination condition is satisfied.\n",
      "Number of iterations: 64, function evaluations: 129, CG iterations: 86, optimality: 1.17e-07, constraint violation: 0.00e+00, execution time:  1.1 s.\n",
      "species=BT, alpha=0.03, ini para=24\n",
      "`xtol` termination condition is satisfied.\n",
      "Number of iterations: 64, function evaluations: 108, CG iterations: 83, optimality: 7.82e-08, constraint violation: 0.00e+00, execution time:  1.3 s.\n",
      "species=BT, alpha=0.03, ini para=25\n"
     ]
    },
    {
     "name": "stderr",
     "output_type": "stream",
     "text": [
      "/opt/anaconda3/lib/python3.8/site-packages/scipy/optimize/_hessian_update_strategy.py:182: UserWarning: delta_grad == 0.0. Check if the approximated function is linear. If the function is linear better results can be obtained by defining the Hessian as zero instead of using quasi-Newton approximations.\n",
      "  warn('delta_grad == 0.0. Check if the approximated '\n",
      "/opt/anaconda3/lib/python3.8/site-packages/scipy/optimize/_hessian_update_strategy.py:182: UserWarning: delta_grad == 0.0. Check if the approximated function is linear. If the function is linear better results can be obtained by defining the Hessian as zero instead of using quasi-Newton approximations.\n",
      "  warn('delta_grad == 0.0. Check if the approximated '\n"
     ]
    },
    {
     "name": "stdout",
     "output_type": "stream",
     "text": [
      "`xtol` termination condition is satisfied.\n",
      "Number of iterations: 69, function evaluations: 132, CG iterations: 104, optimality: 4.63e-08, constraint violation: 0.00e+00, execution time:  1.3 s.\n",
      "species=BT, alpha=0.03, ini para=26\n"
     ]
    },
    {
     "name": "stderr",
     "output_type": "stream",
     "text": [
      "/opt/anaconda3/lib/python3.8/site-packages/scipy/optimize/_hessian_update_strategy.py:182: UserWarning: delta_grad == 0.0. Check if the approximated function is linear. If the function is linear better results can be obtained by defining the Hessian as zero instead of using quasi-Newton approximations.\n",
      "  warn('delta_grad == 0.0. Check if the approximated '\n"
     ]
    },
    {
     "name": "stdout",
     "output_type": "stream",
     "text": [
      "`xtol` termination condition is satisfied.\n",
      "Number of iterations: 70, function evaluations: 135, CG iterations: 107, optimality: 4.63e-08, constraint violation: 0.00e+00, execution time:  1.5 s.\n",
      "species=BT, alpha=0.03, ini para=27\n",
      "`xtol` termination condition is satisfied.\n",
      "Number of iterations: 62, function evaluations: 114, CG iterations: 89, optimality: 4.63e-08, constraint violation: 0.00e+00, execution time:  1.1 s.\n",
      "species=BT, alpha=0.03, ini para=28\n",
      "`xtol` termination condition is satisfied.\n",
      "Number of iterations: 68, function evaluations: 120, CG iterations: 105, optimality: 6.98e-08, constraint violation: 0.00e+00, execution time:  1.2 s.\n",
      "species=BT, alpha=0.03, ini para=29\n"
     ]
    },
    {
     "name": "stderr",
     "output_type": "stream",
     "text": [
      "/opt/anaconda3/lib/python3.8/site-packages/scipy/optimize/_hessian_update_strategy.py:182: UserWarning: delta_grad == 0.0. Check if the approximated function is linear. If the function is linear better results can be obtained by defining the Hessian as zero instead of using quasi-Newton approximations.\n",
      "  warn('delta_grad == 0.0. Check if the approximated '\n",
      "/opt/anaconda3/lib/python3.8/site-packages/scipy/optimize/_hessian_update_strategy.py:182: UserWarning: delta_grad == 0.0. Check if the approximated function is linear. If the function is linear better results can be obtained by defining the Hessian as zero instead of using quasi-Newton approximations.\n",
      "  warn('delta_grad == 0.0. Check if the approximated '\n"
     ]
    },
    {
     "name": "stdout",
     "output_type": "stream",
     "text": [
      "`xtol` termination condition is satisfied.\n",
      "Number of iterations: 64, function evaluations: 105, CG iterations: 93, optimality: 3.88e-08, constraint violation: 0.00e+00, execution time:  1.0 s.\n",
      "species=BT, alpha=0.03, ini para=30\n",
      "`xtol` termination condition is satisfied.\n",
      "Number of iterations: 68, function evaluations: 156, CG iterations: 103, optimality: 4.63e-08, constraint violation: 0.00e+00, execution time:  1.4 s.\n",
      "species=BT, alpha=0.03, ini para=31\n",
      "`xtol` termination condition is satisfied.\n",
      "Number of iterations: 59, function evaluations: 126, CG iterations: 82, optimality: 5.85e-08, constraint violation: 0.00e+00, execution time:  1.1 s.\n",
      "species=BT, alpha=0.03, ini para=32\n",
      "`gtol` termination condition is satisfied.\n",
      "Number of iterations: 35, function evaluations: 78, CG iterations: 47, optimality: 3.32e-09, constraint violation: 0.00e+00, execution time: 0.75 s.\n",
      "species=BT, alpha=0.03, ini para=33\n",
      "`xtol` termination condition is satisfied.\n",
      "Number of iterations: 65, function evaluations: 102, CG iterations: 100, optimality: 2.27e-08, constraint violation: 0.00e+00, execution time:  1.0 s.\n",
      "species=BT, alpha=0.03, ini para=34\n",
      "`gtol` termination condition is satisfied.\n",
      "Number of iterations: 48, function evaluations: 81, CG iterations: 72, optimality: 3.32e-09, constraint violation: 0.00e+00, execution time: 0.82 s.\n",
      "species=BT, alpha=0.03, ini para=35\n",
      "`gtol` termination condition is satisfied.\n",
      "Number of iterations: 27, function evaluations: 57, CG iterations: 31, optimality: 6.94e-09, constraint violation: 0.00e+00, execution time: 0.55 s.\n",
      "species=BT, alpha=0.03, ini para=36\n",
      "`xtol` termination condition is satisfied.\n",
      "Number of iterations: 69, function evaluations: 132, CG iterations: 97, optimality: 6.98e-08, constraint violation: 0.00e+00, execution time:  1.2 s.\n",
      "species=BT, alpha=0.03, ini para=37\n",
      "`xtol` termination condition is satisfied.\n",
      "Number of iterations: 84, function evaluations: 195, CG iterations: 122, optimality: 7.82e-08, constraint violation: 0.00e+00, execution time:  1.7 s.\n",
      "species=BT, alpha=0.03, ini para=38\n",
      "`gtol` termination condition is satisfied.\n",
      "Number of iterations: 22, function evaluations: 48, CG iterations: 26, optimality: 8.81e-09, constraint violation: 0.00e+00, execution time: 0.45 s.\n",
      "species=BT, alpha=0.03, ini para=39\n"
     ]
    },
    {
     "name": "stderr",
     "output_type": "stream",
     "text": [
      "/opt/anaconda3/lib/python3.8/site-packages/scipy/optimize/_hessian_update_strategy.py:182: UserWarning: delta_grad == 0.0. Check if the approximated function is linear. If the function is linear better results can be obtained by defining the Hessian as zero instead of using quasi-Newton approximations.\n",
      "  warn('delta_grad == 0.0. Check if the approximated '\n"
     ]
    },
    {
     "name": "stdout",
     "output_type": "stream",
     "text": [
      "`xtol` termination condition is satisfied.\n",
      "Number of iterations: 61, function evaluations: 117, CG iterations: 90, optimality: 5.85e-08, constraint violation: 0.00e+00, execution time:  1.1 s.\n",
      "species=BT, alpha=0.03, ini para=40\n"
     ]
    },
    {
     "name": "stderr",
     "output_type": "stream",
     "text": [
      "/opt/anaconda3/lib/python3.8/site-packages/scipy/optimize/_hessian_update_strategy.py:182: UserWarning: delta_grad == 0.0. Check if the approximated function is linear. If the function is linear better results can be obtained by defining the Hessian as zero instead of using quasi-Newton approximations.\n",
      "  warn('delta_grad == 0.0. Check if the approximated '\n"
     ]
    },
    {
     "name": "stdout",
     "output_type": "stream",
     "text": [
      "`xtol` termination condition is satisfied.\n",
      "Number of iterations: 61, function evaluations: 117, CG iterations: 79, optimality: 4.63e-08, constraint violation: 0.00e+00, execution time:  1.1 s.\n",
      "species=BT, alpha=0.03, ini para=41\n",
      "`gtol` termination condition is satisfied.\n",
      "Number of iterations: 32, function evaluations: 69, CG iterations: 41, optimality: 3.32e-09, constraint violation: 0.00e+00, execution time: 0.65 s.\n",
      "species=BT, alpha=0.03, ini para=42\n"
     ]
    },
    {
     "name": "stderr",
     "output_type": "stream",
     "text": [
      "/opt/anaconda3/lib/python3.8/site-packages/scipy/optimize/_hessian_update_strategy.py:182: UserWarning: delta_grad == 0.0. Check if the approximated function is linear. If the function is linear better results can be obtained by defining the Hessian as zero instead of using quasi-Newton approximations.\n",
      "  warn('delta_grad == 0.0. Check if the approximated '\n"
     ]
    },
    {
     "name": "stdout",
     "output_type": "stream",
     "text": [
      "`xtol` termination condition is satisfied.\n",
      "Number of iterations: 59, function evaluations: 87, CG iterations: 90, optimality: 1.90e-08, constraint violation: 0.00e+00, execution time: 0.86 s.\n",
      "species=BT, alpha=0.03, ini para=43\n"
     ]
    },
    {
     "name": "stderr",
     "output_type": "stream",
     "text": [
      "/opt/anaconda3/lib/python3.8/site-packages/scipy/optimize/_hessian_update_strategy.py:182: UserWarning: delta_grad == 0.0. Check if the approximated function is linear. If the function is linear better results can be obtained by defining the Hessian as zero instead of using quasi-Newton approximations.\n",
      "  warn('delta_grad == 0.0. Check if the approximated '\n"
     ]
    },
    {
     "name": "stdout",
     "output_type": "stream",
     "text": [
      "`xtol` termination condition is satisfied.\n",
      "Number of iterations: 67, function evaluations: 144, CG iterations: 95, optimality: 4.63e-08, constraint violation: 0.00e+00, execution time:  1.3 s.\n",
      "species=BT, alpha=0.03, ini para=44\n",
      "`gtol` termination condition is satisfied.\n",
      "Number of iterations: 23, function evaluations: 45, CG iterations: 25, optimality: 6.94e-09, constraint violation: 0.00e+00, execution time: 0.44 s.\n",
      "species=BT, alpha=0.03, ini para=45\n",
      "`xtol` termination condition is satisfied.\n",
      "Number of iterations: 66, function evaluations: 123, CG iterations: 97, optimality: 6.98e-08, constraint violation: 0.00e+00, execution time:  1.2 s.\n",
      "species=BT, alpha=0.03, ini para=46\n"
     ]
    },
    {
     "name": "stderr",
     "output_type": "stream",
     "text": [
      "/opt/anaconda3/lib/python3.8/site-packages/scipy/optimize/_hessian_update_strategy.py:182: UserWarning: delta_grad == 0.0. Check if the approximated function is linear. If the function is linear better results can be obtained by defining the Hessian as zero instead of using quasi-Newton approximations.\n",
      "  warn('delta_grad == 0.0. Check if the approximated '\n"
     ]
    },
    {
     "name": "stdout",
     "output_type": "stream",
     "text": [
      "`xtol` termination condition is satisfied.\n",
      "Number of iterations: 61, function evaluations: 105, CG iterations: 91, optimality: 6.98e-08, constraint violation: 0.00e+00, execution time:  1.2 s.\n",
      "species=BT, alpha=0.03, ini para=47\n",
      "`xtol` termination condition is satisfied.\n",
      "Number of iterations: 63, function evaluations: 123, CG iterations: 92, optimality: 6.98e-08, constraint violation: 0.00e+00, execution time:  1.4 s.\n",
      "species=BT, alpha=0.03, ini para=48\n"
     ]
    },
    {
     "name": "stderr",
     "output_type": "stream",
     "text": [
      "/opt/anaconda3/lib/python3.8/site-packages/scipy/optimize/_hessian_update_strategy.py:182: UserWarning: delta_grad == 0.0. Check if the approximated function is linear. If the function is linear better results can be obtained by defining the Hessian as zero instead of using quasi-Newton approximations.\n",
      "  warn('delta_grad == 0.0. Check if the approximated '\n",
      "/opt/anaconda3/lib/python3.8/site-packages/scipy/optimize/_hessian_update_strategy.py:182: UserWarning: delta_grad == 0.0. Check if the approximated function is linear. If the function is linear better results can be obtained by defining the Hessian as zero instead of using quasi-Newton approximations.\n",
      "  warn('delta_grad == 0.0. Check if the approximated '\n"
     ]
    },
    {
     "name": "stdout",
     "output_type": "stream",
     "text": [
      "`xtol` termination condition is satisfied.\n",
      "Number of iterations: 68, function evaluations: 132, CG iterations: 99, optimality: 3.88e-08, constraint violation: 0.00e+00, execution time:  1.4 s.\n",
      "species=BT, alpha=0.03, ini para=49\n"
     ]
    },
    {
     "name": "stderr",
     "output_type": "stream",
     "text": [
      "/opt/anaconda3/lib/python3.8/site-packages/scipy/optimize/_hessian_update_strategy.py:182: UserWarning: delta_grad == 0.0. Check if the approximated function is linear. If the function is linear better results can be obtained by defining the Hessian as zero instead of using quasi-Newton approximations.\n",
      "  warn('delta_grad == 0.0. Check if the approximated '\n"
     ]
    },
    {
     "name": "stdout",
     "output_type": "stream",
     "text": [
      "`xtol` termination condition is satisfied.\n",
      "Number of iterations: 58, function evaluations: 90, CG iterations: 84, optimality: 2.27e-08, constraint violation: 0.00e+00, execution time:  1.8 s.\n",
      "species=BT, alpha=0.03, ini para=50\n",
      "`gtol` termination condition is satisfied.\n",
      "Number of iterations: 28, function evaluations: 60, CG iterations: 34, optimality: 6.94e-09, constraint violation: 0.00e+00, execution time: 0.62 s.\n",
      "species=BT, alpha=0.03, ini para=51\n",
      "`xtol` termination condition is satisfied.\n",
      "Number of iterations: 59, function evaluations: 93, CG iterations: 86, optimality: 4.63e-08, constraint violation: 0.00e+00, execution time: 0.91 s.\n",
      "species=BT, alpha=0.03, ini para=52\n"
     ]
    },
    {
     "name": "stderr",
     "output_type": "stream",
     "text": [
      "/opt/anaconda3/lib/python3.8/site-packages/scipy/optimize/_hessian_update_strategy.py:182: UserWarning: delta_grad == 0.0. Check if the approximated function is linear. If the function is linear better results can be obtained by defining the Hessian as zero instead of using quasi-Newton approximations.\n",
      "  warn('delta_grad == 0.0. Check if the approximated '\n"
     ]
    },
    {
     "name": "stdout",
     "output_type": "stream",
     "text": [
      "`xtol` termination condition is satisfied.\n",
      "Number of iterations: 64, function evaluations: 123, CG iterations: 98, optimality: 4.63e-08, constraint violation: 0.00e+00, execution time:  1.1 s.\n",
      "species=BT, alpha=0.03, ini para=53\n",
      "`xtol` termination condition is satisfied.\n",
      "Number of iterations: 58, function evaluations: 84, CG iterations: 82, optimality: 5.85e-08, constraint violation: 0.00e+00, execution time:  0.9 s.\n",
      "species=BT, alpha=0.03, ini para=54\n"
     ]
    },
    {
     "name": "stderr",
     "output_type": "stream",
     "text": [
      "/opt/anaconda3/lib/python3.8/site-packages/scipy/optimize/_hessian_update_strategy.py:182: UserWarning: delta_grad == 0.0. Check if the approximated function is linear. If the function is linear better results can be obtained by defining the Hessian as zero instead of using quasi-Newton approximations.\n",
      "  warn('delta_grad == 0.0. Check if the approximated '\n",
      "/opt/anaconda3/lib/python3.8/site-packages/scipy/optimize/_hessian_update_strategy.py:182: UserWarning: delta_grad == 0.0. Check if the approximated function is linear. If the function is linear better results can be obtained by defining the Hessian as zero instead of using quasi-Newton approximations.\n",
      "  warn('delta_grad == 0.0. Check if the approximated '\n"
     ]
    },
    {
     "name": "stdout",
     "output_type": "stream",
     "text": [
      "`xtol` termination condition is satisfied.\n",
      "Number of iterations: 63, function evaluations: 120, CG iterations: 93, optimality: 3.88e-08, constraint violation: 0.00e+00, execution time:  1.2 s.\n",
      "species=BT, alpha=0.03, ini para=55\n",
      "`xtol` termination condition is satisfied.\n",
      "Number of iterations: 65, function evaluations: 111, CG iterations: 102, optimality: 4.63e-08, constraint violation: 0.00e+00, execution time:  1.1 s.\n",
      "species=BT, alpha=0.03, ini para=56\n",
      "`xtol` termination condition is satisfied.\n",
      "Number of iterations: 57, function evaluations: 84, CG iterations: 78, optimality: 3.88e-08, constraint violation: 0.00e+00, execution time: 0.82 s.\n",
      "species=BT, alpha=0.03, ini para=57\n",
      "`gtol` termination condition is satisfied.\n",
      "Number of iterations: 27, function evaluations: 57, CG iterations: 31, optimality: 6.94e-09, constraint violation: 0.00e+00, execution time: 0.56 s.\n",
      "species=BT, alpha=0.03, ini para=58\n"
     ]
    },
    {
     "name": "stderr",
     "output_type": "stream",
     "text": [
      "/opt/anaconda3/lib/python3.8/site-packages/scipy/optimize/_hessian_update_strategy.py:182: UserWarning: delta_grad == 0.0. Check if the approximated function is linear. If the function is linear better results can be obtained by defining the Hessian as zero instead of using quasi-Newton approximations.\n",
      "  warn('delta_grad == 0.0. Check if the approximated '\n"
     ]
    },
    {
     "name": "stdout",
     "output_type": "stream",
     "text": [
      "`xtol` termination condition is satisfied.\n",
      "Number of iterations: 81, function evaluations: 180, CG iterations: 119, optimality: 9.33e-08, constraint violation: 0.00e+00, execution time:  1.6 s.\n",
      "species=BT, alpha=0.03, ini para=59\n"
     ]
    },
    {
     "name": "stderr",
     "output_type": "stream",
     "text": [
      "/opt/anaconda3/lib/python3.8/site-packages/scipy/optimize/_hessian_update_strategy.py:182: UserWarning: delta_grad == 0.0. Check if the approximated function is linear. If the function is linear better results can be obtained by defining the Hessian as zero instead of using quasi-Newton approximations.\n",
      "  warn('delta_grad == 0.0. Check if the approximated '\n"
     ]
    },
    {
     "name": "stdout",
     "output_type": "stream",
     "text": [
      "`xtol` termination condition is satisfied.\n",
      "Number of iterations: 75, function evaluations: 153, CG iterations: 117, optimality: 6.98e-08, constraint violation: 0.00e+00, execution time:  1.4 s.\n",
      "species=BT, alpha=0.03, ini para=60\n",
      "`xtol` termination condition is satisfied.\n",
      "Number of iterations: 63, function evaluations: 144, CG iterations: 93, optimality: 5.85e-08, constraint violation: 0.00e+00, execution time:  1.3 s.\n",
      "species=BT, alpha=0.03, ini para=61\n",
      "`xtol` termination condition is satisfied.\n",
      "Number of iterations: 61, function evaluations: 117, CG iterations: 86, optimality: 9.79e-08, constraint violation: 0.00e+00, execution time:  1.1 s.\n",
      "species=BT, alpha=0.03, ini para=62\n",
      "`gtol` termination condition is satisfied.\n",
      "Number of iterations: 22, function evaluations: 48, CG iterations: 23, optimality: 8.81e-09, constraint violation: 0.00e+00, execution time: 0.45 s.\n",
      "species=BT, alpha=0.03, ini para=63\n"
     ]
    },
    {
     "name": "stderr",
     "output_type": "stream",
     "text": [
      "/opt/anaconda3/lib/python3.8/site-packages/scipy/optimize/_hessian_update_strategy.py:182: UserWarning: delta_grad == 0.0. Check if the approximated function is linear. If the function is linear better results can be obtained by defining the Hessian as zero instead of using quasi-Newton approximations.\n",
      "  warn('delta_grad == 0.0. Check if the approximated '\n",
      "/opt/anaconda3/lib/python3.8/site-packages/scipy/optimize/_hessian_update_strategy.py:182: UserWarning: delta_grad == 0.0. Check if the approximated function is linear. If the function is linear better results can be obtained by defining the Hessian as zero instead of using quasi-Newton approximations.\n",
      "  warn('delta_grad == 0.0. Check if the approximated '\n"
     ]
    },
    {
     "name": "stdout",
     "output_type": "stream",
     "text": [
      "`xtol` termination condition is satisfied.\n",
      "Number of iterations: 68, function evaluations: 117, CG iterations: 96, optimality: 2.27e-08, constraint violation: 0.00e+00, execution time:  1.2 s.\n",
      "species=BT, alpha=0.03, ini para=64\n",
      "`xtol` termination condition is satisfied.\n",
      "Number of iterations: 63, function evaluations: 102, CG iterations: 90, optimality: 3.88e-08, constraint violation: 0.00e+00, execution time: 0.98 s.\n",
      "species=BT, alpha=0.03, ini para=65\n",
      "`xtol` termination condition is satisfied.\n",
      "Number of iterations: 71, function evaluations: 138, CG iterations: 111, optimality: 9.33e-08, constraint violation: 0.00e+00, execution time:  1.3 s.\n",
      "species=BT, alpha=0.03, ini para=66\n",
      "`xtol` termination condition is satisfied.\n",
      "Number of iterations: 75, function evaluations: 180, CG iterations: 112, optimality: 9.33e-08, constraint violation: 0.00e+00, execution time:  2.2 s.\n",
      "species=BT, alpha=0.03, ini para=67\n",
      "`xtol` termination condition is satisfied.\n",
      "Number of iterations: 75, function evaluations: 150, CG iterations: 119, optimality: 9.33e-08, constraint violation: 0.00e+00, execution time:  1.4 s.\n",
      "species=BT, alpha=0.03, ini para=68\n"
     ]
    },
    {
     "name": "stderr",
     "output_type": "stream",
     "text": [
      "/opt/anaconda3/lib/python3.8/site-packages/scipy/optimize/_hessian_update_strategy.py:182: UserWarning: delta_grad == 0.0. Check if the approximated function is linear. If the function is linear better results can be obtained by defining the Hessian as zero instead of using quasi-Newton approximations.\n",
      "  warn('delta_grad == 0.0. Check if the approximated '\n"
     ]
    },
    {
     "name": "stdout",
     "output_type": "stream",
     "text": [
      "`xtol` termination condition is satisfied.\n",
      "Number of iterations: 58, function evaluations: 108, CG iterations: 83, optimality: 3.88e-08, constraint violation: 0.00e+00, execution time:  1.0 s.\n",
      "species=BT, alpha=0.03, ini para=69\n"
     ]
    },
    {
     "name": "stderr",
     "output_type": "stream",
     "text": [
      "/opt/anaconda3/lib/python3.8/site-packages/scipy/optimize/_hessian_update_strategy.py:182: UserWarning: delta_grad == 0.0. Check if the approximated function is linear. If the function is linear better results can be obtained by defining the Hessian as zero instead of using quasi-Newton approximations.\n",
      "  warn('delta_grad == 0.0. Check if the approximated '\n"
     ]
    },
    {
     "name": "stdout",
     "output_type": "stream",
     "text": [
      "`xtol` termination condition is satisfied.\n",
      "Number of iterations: 76, function evaluations: 198, CG iterations: 116, optimality: 6.98e-08, constraint violation: 0.00e+00, execution time:  1.9 s.\n",
      "species=BT, alpha=0.03, ini para=70\n",
      "`xtol` termination condition is satisfied.\n",
      "Number of iterations: 65, function evaluations: 132, CG iterations: 91, optimality: 3.88e-08, constraint violation: 0.00e+00, execution time:  1.2 s.\n",
      "species=BT, alpha=0.03, ini para=71\n",
      "`xtol` termination condition is satisfied.\n",
      "Number of iterations: 57, function evaluations: 81, CG iterations: 82, optimality: 2.27e-08, constraint violation: 0.00e+00, execution time: 0.81 s.\n",
      "species=BT, alpha=0.03, ini para=72\n",
      "`xtol` termination condition is satisfied.\n",
      "Number of iterations: 60, function evaluations: 105, CG iterations: 92, optimality: 4.63e-08, constraint violation: 0.00e+00, execution time:  1.0 s.\n",
      "species=BT, alpha=0.03, ini para=73\n"
     ]
    },
    {
     "name": "stderr",
     "output_type": "stream",
     "text": [
      "/opt/anaconda3/lib/python3.8/site-packages/scipy/optimize/_hessian_update_strategy.py:182: UserWarning: delta_grad == 0.0. Check if the approximated function is linear. If the function is linear better results can be obtained by defining the Hessian as zero instead of using quasi-Newton approximations.\n",
      "  warn('delta_grad == 0.0. Check if the approximated '\n"
     ]
    },
    {
     "name": "stdout",
     "output_type": "stream",
     "text": [
      "`xtol` termination condition is satisfied.\n",
      "Number of iterations: 55, function evaluations: 75, CG iterations: 80, optimality: 2.27e-08, constraint violation: 0.00e+00, execution time: 0.84 s.\n",
      "species=BT, alpha=0.03, ini para=74\n",
      "`gtol` termination condition is satisfied.\n",
      "Number of iterations: 31, function evaluations: 66, CG iterations: 35, optimality: 3.32e-09, constraint violation: 0.00e+00, execution time: 0.73 s.\n",
      "species=BT, alpha=0.03, ini para=75\n",
      "`gtol` termination condition is satisfied.\n",
      "Number of iterations: 25, function evaluations: 57, CG iterations: 31, optimality: 8.81e-09, constraint violation: 0.00e+00, execution time: 0.55 s.\n",
      "species=BT, alpha=0.03, ini para=76\n"
     ]
    },
    {
     "name": "stderr",
     "output_type": "stream",
     "text": [
      "/opt/anaconda3/lib/python3.8/site-packages/scipy/optimize/_hessian_update_strategy.py:182: UserWarning: delta_grad == 0.0. Check if the approximated function is linear. If the function is linear better results can be obtained by defining the Hessian as zero instead of using quasi-Newton approximations.\n",
      "  warn('delta_grad == 0.0. Check if the approximated '\n"
     ]
    },
    {
     "name": "stdout",
     "output_type": "stream",
     "text": [
      "`xtol` termination condition is satisfied.\n",
      "Number of iterations: 70, function evaluations: 123, CG iterations: 107, optimality: 4.63e-08, constraint violation: 0.00e+00, execution time:  1.2 s.\n",
      "species=BT, alpha=0.03, ini para=77\n",
      "`xtol` termination condition is satisfied.\n",
      "Number of iterations: 56, function evaluations: 108, CG iterations: 74, optimality: 3.88e-08, constraint violation: 0.00e+00, execution time:  1.0 s.\n",
      "species=BT, alpha=0.03, ini para=78\n"
     ]
    },
    {
     "name": "stderr",
     "output_type": "stream",
     "text": [
      "/opt/anaconda3/lib/python3.8/site-packages/scipy/optimize/_hessian_update_strategy.py:182: UserWarning: delta_grad == 0.0. Check if the approximated function is linear. If the function is linear better results can be obtained by defining the Hessian as zero instead of using quasi-Newton approximations.\n",
      "  warn('delta_grad == 0.0. Check if the approximated '\n"
     ]
    },
    {
     "name": "stdout",
     "output_type": "stream",
     "text": [
      "`xtol` termination condition is satisfied.\n",
      "Number of iterations: 65, function evaluations: 135, CG iterations: 90, optimality: 3.88e-08, constraint violation: 0.00e+00, execution time:  1.2 s.\n",
      "species=BT, alpha=0.03, ini para=79\n",
      "`gtol` termination condition is satisfied.\n",
      "Number of iterations: 29, function evaluations: 60, CG iterations: 33, optimality: 3.32e-09, constraint violation: 0.00e+00, execution time: 0.57 s.\n",
      "species=BT, alpha=0.03, ini para=80\n",
      "`xtol` termination condition is satisfied.\n",
      "Number of iterations: 66, function evaluations: 168, CG iterations: 94, optimality: 4.63e-08, constraint violation: 0.00e+00, execution time:  1.5 s.\n",
      "species=BT, alpha=0.03, ini para=81\n",
      "`xtol` termination condition is satisfied.\n",
      "Number of iterations: 65, function evaluations: 144, CG iterations: 99, optimality: 4.63e-08, constraint violation: 0.00e+00, execution time:  1.9 s.\n",
      "species=BT, alpha=0.03, ini para=82\n"
     ]
    },
    {
     "name": "stderr",
     "output_type": "stream",
     "text": [
      "/opt/anaconda3/lib/python3.8/site-packages/scipy/optimize/_hessian_update_strategy.py:182: UserWarning: delta_grad == 0.0. Check if the approximated function is linear. If the function is linear better results can be obtained by defining the Hessian as zero instead of using quasi-Newton approximations.\n",
      "  warn('delta_grad == 0.0. Check if the approximated '\n"
     ]
    },
    {
     "name": "stdout",
     "output_type": "stream",
     "text": [
      "`xtol` termination condition is satisfied.\n",
      "Number of iterations: 65, function evaluations: 126, CG iterations: 97, optimality: 6.98e-08, constraint violation: 0.00e+00, execution time:  1.1 s.\n",
      "species=BT, alpha=0.03, ini para=83\n",
      "`xtol` termination condition is satisfied.\n",
      "Number of iterations: 81, function evaluations: 204, CG iterations: 121, optimality: 4.63e-08, constraint violation: 0.00e+00, execution time:  1.9 s.\n",
      "species=BT, alpha=0.03, ini para=84\n",
      "`gtol` termination condition is satisfied.\n",
      "Number of iterations: 33, function evaluations: 69, CG iterations: 38, optimality: 4.04e-09, constraint violation: 0.00e+00, execution time:  1.0 s.\n",
      "species=BT, alpha=0.03, ini para=85\n",
      "`gtol` termination condition is satisfied.\n",
      "Number of iterations: 21, function evaluations: 39, CG iterations: 20, optimality: 6.94e-09, constraint violation: 0.00e+00, execution time: 0.61 s.\n",
      "species=BT, alpha=0.03, ini para=86\n"
     ]
    },
    {
     "name": "stderr",
     "output_type": "stream",
     "text": [
      "/opt/anaconda3/lib/python3.8/site-packages/scipy/optimize/_hessian_update_strategy.py:182: UserWarning: delta_grad == 0.0. Check if the approximated function is linear. If the function is linear better results can be obtained by defining the Hessian as zero instead of using quasi-Newton approximations.\n",
      "  warn('delta_grad == 0.0. Check if the approximated '\n",
      "/opt/anaconda3/lib/python3.8/site-packages/scipy/optimize/_hessian_update_strategy.py:182: UserWarning: delta_grad == 0.0. Check if the approximated function is linear. If the function is linear better results can be obtained by defining the Hessian as zero instead of using quasi-Newton approximations.\n",
      "  warn('delta_grad == 0.0. Check if the approximated '\n"
     ]
    },
    {
     "name": "stdout",
     "output_type": "stream",
     "text": [
      "`xtol` termination condition is satisfied.\n",
      "Number of iterations: 59, function evaluations: 93, CG iterations: 92, optimality: 1.90e-08, constraint violation: 0.00e+00, execution time:  1.2 s.\n",
      "species=BT, alpha=0.03, ini para=87\n"
     ]
    },
    {
     "name": "stderr",
     "output_type": "stream",
     "text": [
      "/opt/anaconda3/lib/python3.8/site-packages/scipy/optimize/_hessian_update_strategy.py:182: UserWarning: delta_grad == 0.0. Check if the approximated function is linear. If the function is linear better results can be obtained by defining the Hessian as zero instead of using quasi-Newton approximations.\n",
      "  warn('delta_grad == 0.0. Check if the approximated '\n"
     ]
    },
    {
     "name": "stdout",
     "output_type": "stream",
     "text": [
      "`xtol` termination condition is satisfied.\n",
      "Number of iterations: 60, function evaluations: 111, CG iterations: 83, optimality: 5.85e-08, constraint violation: 0.00e+00, execution time:  1.4 s.\n",
      "species=BT, alpha=0.03, ini para=88\n",
      "`xtol` termination condition is satisfied.\n",
      "Number of iterations: 64, function evaluations: 123, CG iterations: 95, optimality: 4.63e-08, constraint violation: 0.00e+00, execution time:  1.8 s.\n",
      "species=BT, alpha=0.03, ini para=89\n",
      "`xtol` termination condition is satisfied.\n",
      "Number of iterations: 58, function evaluations: 93, CG iterations: 84, optimality: 4.63e-08, constraint violation: 0.00e+00, execution time:  1.1 s.\n",
      "species=BT, alpha=0.03, ini para=90\n",
      "`xtol` termination condition is satisfied.\n",
      "Number of iterations: 65, function evaluations: 150, CG iterations: 90, optimality: 4.63e-08, constraint violation: 0.00e+00, execution time:  1.4 s.\n",
      "species=BT, alpha=0.03, ini para=91\n",
      "`xtol` termination condition is satisfied.\n",
      "Number of iterations: 76, function evaluations: 144, CG iterations: 105, optimality: 4.63e-08, constraint violation: 0.00e+00, execution time:  1.4 s.\n",
      "species=BT, alpha=0.03, ini para=92\n",
      "`xtol` termination condition is satisfied.\n",
      "Number of iterations: 57, function evaluations: 93, CG iterations: 79, optimality: 4.63e-08, constraint violation: 0.00e+00, execution time: 0.89 s.\n",
      "species=BT, alpha=0.03, ini para=93\n"
     ]
    },
    {
     "name": "stderr",
     "output_type": "stream",
     "text": [
      "/opt/anaconda3/lib/python3.8/site-packages/scipy/optimize/_hessian_update_strategy.py:182: UserWarning: delta_grad == 0.0. Check if the approximated function is linear. If the function is linear better results can be obtained by defining the Hessian as zero instead of using quasi-Newton approximations.\n",
      "  warn('delta_grad == 0.0. Check if the approximated '\n"
     ]
    },
    {
     "name": "stdout",
     "output_type": "stream",
     "text": [
      "`xtol` termination condition is satisfied.\n",
      "Number of iterations: 68, function evaluations: 144, CG iterations: 92, optimality: 5.85e-08, constraint violation: 0.00e+00, execution time:  1.3 s.\n",
      "species=BT, alpha=0.03, ini para=94\n",
      "`xtol` termination condition is satisfied.\n",
      "Number of iterations: 58, function evaluations: 129, CG iterations: 85, optimality: 4.63e-08, constraint violation: 0.00e+00, execution time:  1.2 s.\n",
      "species=BT, alpha=0.03, ini para=95\n",
      "`xtol` termination condition is satisfied.\n",
      "Number of iterations: 63, function evaluations: 126, CG iterations: 92, optimality: 9.33e-08, constraint violation: 0.00e+00, execution time:  1.2 s.\n",
      "species=BT, alpha=0.03, ini para=96\n",
      "`xtol` termination condition is satisfied.\n",
      "Number of iterations: 66, function evaluations: 150, CG iterations: 97, optimality: 4.63e-08, constraint violation: 0.00e+00, execution time:  1.3 s.\n",
      "species=BT, alpha=0.03, ini para=97\n"
     ]
    },
    {
     "name": "stderr",
     "output_type": "stream",
     "text": [
      "/opt/anaconda3/lib/python3.8/site-packages/scipy/optimize/_hessian_update_strategy.py:182: UserWarning: delta_grad == 0.0. Check if the approximated function is linear. If the function is linear better results can be obtained by defining the Hessian as zero instead of using quasi-Newton approximations.\n",
      "  warn('delta_grad == 0.0. Check if the approximated '\n"
     ]
    },
    {
     "name": "stdout",
     "output_type": "stream",
     "text": [
      "`xtol` termination condition is satisfied.\n",
      "Number of iterations: 76, function evaluations: 168, CG iterations: 113, optimality: 9.33e-08, constraint violation: 0.00e+00, execution time:  1.5 s.\n",
      "species=BT, alpha=0.03, ini para=98\n",
      "`xtol` termination condition is satisfied.\n",
      "Number of iterations: 55, function evaluations: 78, CG iterations: 81, optimality: 1.90e-08, constraint violation: 0.00e+00, execution time: 0.79 s.\n",
      "species=BT, alpha=0.03, ini para=99\n",
      "`gtol` termination condition is satisfied.\n",
      "Number of iterations: 32, function evaluations: 69, CG iterations: 38, optimality: 3.32e-09, constraint violation: 0.00e+00, execution time:  0.7 s.\n",
      "species=BT, alpha=0.1, ini para=0\n",
      "`gtol` termination condition is satisfied.\n",
      "Number of iterations: 26, function evaluations: 54, CG iterations: 31, optimality: 7.56e-09, constraint violation: 0.00e+00, execution time: 0.53 s.\n",
      "species=BT, alpha=0.1, ini para=1\n",
      "`xtol` termination condition is satisfied.\n",
      "Number of iterations: 57, function evaluations: 87, CG iterations: 82, optimality: 4.37e-08, constraint violation: 0.00e+00, execution time: 0.87 s.\n",
      "species=BT, alpha=0.1, ini para=2\n",
      "`gtol` termination condition is satisfied.\n",
      "Number of iterations: 22, function evaluations: 48, CG iterations: 26, optimality: 9.59e-09, constraint violation: 0.00e+00, execution time: 0.46 s.\n",
      "species=BT, alpha=0.1, ini para=3\n"
     ]
    },
    {
     "name": "stderr",
     "output_type": "stream",
     "text": [
      "/opt/anaconda3/lib/python3.8/site-packages/scipy/optimize/_hessian_update_strategy.py:182: UserWarning: delta_grad == 0.0. Check if the approximated function is linear. If the function is linear better results can be obtained by defining the Hessian as zero instead of using quasi-Newton approximations.\n",
      "  warn('delta_grad == 0.0. Check if the approximated '\n",
      "/opt/anaconda3/lib/python3.8/site-packages/scipy/optimize/_hessian_update_strategy.py:182: UserWarning: delta_grad == 0.0. Check if the approximated function is linear. If the function is linear better results can be obtained by defining the Hessian as zero instead of using quasi-Newton approximations.\n",
      "  warn('delta_grad == 0.0. Check if the approximated '\n"
     ]
    },
    {
     "name": "stdout",
     "output_type": "stream",
     "text": [
      "`xtol` termination condition is satisfied.\n",
      "Number of iterations: 62, function evaluations: 93, CG iterations: 91, optimality: 4.37e-08, constraint violation: 0.00e+00, execution time: 0.94 s.\n",
      "species=BT, alpha=0.1, ini para=4\n",
      "`gtol` termination condition is satisfied.\n",
      "Number of iterations: 24, function evaluations: 54, CG iterations: 30, optimality: 9.59e-09, constraint violation: 0.00e+00, execution time: 0.51 s.\n",
      "species=BT, alpha=0.1, ini para=5\n",
      "`xtol` termination condition is satisfied.\n",
      "Number of iterations: 60, function evaluations: 117, CG iterations: 90, optimality: 6.59e-08, constraint violation: 0.00e+00, execution time:  1.2 s.\n",
      "species=BT, alpha=0.1, ini para=6\n",
      "`gtol` termination condition is satisfied.\n",
      "Number of iterations: 30, function evaluations: 69, CG iterations: 38, optimality: 7.56e-09, constraint violation: 0.00e+00, execution time: 0.73 s.\n",
      "species=BT, alpha=0.1, ini para=7\n",
      "`xtol` termination condition is satisfied.\n",
      "Number of iterations: 59, function evaluations: 111, CG iterations: 85, optimality: 6.59e-08, constraint violation: 0.00e+00, execution time:  1.2 s.\n",
      "species=BT, alpha=0.1, ini para=8\n"
     ]
    },
    {
     "name": "stderr",
     "output_type": "stream",
     "text": [
      "/opt/anaconda3/lib/python3.8/site-packages/scipy/optimize/_hessian_update_strategy.py:182: UserWarning: delta_grad == 0.0. Check if the approximated function is linear. If the function is linear better results can be obtained by defining the Hessian as zero instead of using quasi-Newton approximations.\n",
      "  warn('delta_grad == 0.0. Check if the approximated '\n"
     ]
    },
    {
     "name": "stdout",
     "output_type": "stream",
     "text": [
      "`xtol` termination condition is satisfied.\n",
      "Number of iterations: 67, function evaluations: 126, CG iterations: 96, optimality: 6.59e-08, constraint violation: 0.00e+00, execution time:  1.4 s.\n",
      "species=BT, alpha=0.1, ini para=9\n"
     ]
    },
    {
     "name": "stderr",
     "output_type": "stream",
     "text": [
      "/opt/anaconda3/lib/python3.8/site-packages/scipy/optimize/_hessian_update_strategy.py:182: UserWarning: delta_grad == 0.0. Check if the approximated function is linear. If the function is linear better results can be obtained by defining the Hessian as zero instead of using quasi-Newton approximations.\n",
      "  warn('delta_grad == 0.0. Check if the approximated '\n"
     ]
    },
    {
     "name": "stdout",
     "output_type": "stream",
     "text": [
      "`xtol` termination condition is satisfied.\n",
      "Number of iterations: 59, function evaluations: 102, CG iterations: 83, optimality: 5.04e-08, constraint violation: 0.00e+00, execution time: 0.99 s.\n",
      "species=BT, alpha=0.1, ini para=10\n",
      "`gtol` termination condition is satisfied.\n",
      "Number of iterations: 22, function evaluations: 42, CG iterations: 20, optimality: 7.56e-09, constraint violation: 0.00e+00, execution time: 0.42 s.\n",
      "species=BT, alpha=0.1, ini para=11\n",
      "`gtol` termination condition is satisfied.\n",
      "Number of iterations: 26, function evaluations: 51, CG iterations: 29, optimality: 3.61e-09, constraint violation: 0.00e+00, execution time:  0.5 s.\n",
      "species=BT, alpha=0.1, ini para=12\n",
      "`xtol` termination condition is satisfied.\n",
      "Number of iterations: 71, function evaluations: 132, CG iterations: 110, optimality: 1.02e-07, constraint violation: 0.00e+00, execution time:  1.2 s.\n",
      "species=BT, alpha=0.1, ini para=13\n",
      "`gtol` termination condition is satisfied.\n",
      "Number of iterations: 36, function evaluations: 87, CG iterations: 47, optimality: 3.61e-09, constraint violation: 0.00e+00, execution time: 0.81 s.\n",
      "species=BT, alpha=0.1, ini para=14\n",
      "`gtol` termination condition is satisfied.\n",
      "Number of iterations: 29, function evaluations: 63, CG iterations: 32, optimality: 3.61e-09, constraint violation: 0.00e+00, execution time: 0.62 s.\n",
      "species=BT, alpha=0.1, ini para=15\n",
      "`xtol` termination condition is satisfied.\n",
      "Number of iterations: 74, function evaluations: 171, CG iterations: 114, optimality: 8.81e-08, constraint violation: 0.00e+00, execution time:  1.6 s.\n",
      "species=BT, alpha=0.1, ini para=16\n"
     ]
    },
    {
     "name": "stderr",
     "output_type": "stream",
     "text": [
      "/opt/anaconda3/lib/python3.8/site-packages/scipy/optimize/_hessian_update_strategy.py:182: UserWarning: delta_grad == 0.0. Check if the approximated function is linear. If the function is linear better results can be obtained by defining the Hessian as zero instead of using quasi-Newton approximations.\n",
      "  warn('delta_grad == 0.0. Check if the approximated '\n"
     ]
    },
    {
     "name": "stdout",
     "output_type": "stream",
     "text": [
      "`xtol` termination condition is satisfied.\n",
      "Number of iterations: 77, function evaluations: 177, CG iterations: 115, optimality: 6.59e-08, constraint violation: 0.00e+00, execution time:  1.7 s.\n",
      "species=BT, alpha=0.1, ini para=17\n",
      "`gtol` termination condition is satisfied.\n",
      "Number of iterations: 36, function evaluations: 87, CG iterations: 46, optimality: 3.61e-09, constraint violation: 0.00e+00, execution time:  1.2 s.\n",
      "species=BT, alpha=0.1, ini para=18\n"
     ]
    },
    {
     "name": "stderr",
     "output_type": "stream",
     "text": [
      "/opt/anaconda3/lib/python3.8/site-packages/scipy/optimize/_hessian_update_strategy.py:182: UserWarning: delta_grad == 0.0. Check if the approximated function is linear. If the function is linear better results can be obtained by defining the Hessian as zero instead of using quasi-Newton approximations.\n",
      "  warn('delta_grad == 0.0. Check if the approximated '\n"
     ]
    },
    {
     "name": "stdout",
     "output_type": "stream",
     "text": [
      "`xtol` termination condition is satisfied.\n",
      "Number of iterations: 63, function evaluations: 117, CG iterations: 91, optimality: 6.59e-08, constraint violation: 0.00e+00, execution time:  1.1 s.\n",
      "species=BT, alpha=0.1, ini para=19\n"
     ]
    },
    {
     "name": "stderr",
     "output_type": "stream",
     "text": [
      "/opt/anaconda3/lib/python3.8/site-packages/scipy/optimize/_hessian_update_strategy.py:182: UserWarning: delta_grad == 0.0. Check if the approximated function is linear. If the function is linear better results can be obtained by defining the Hessian as zero instead of using quasi-Newton approximations.\n",
      "  warn('delta_grad == 0.0. Check if the approximated '\n"
     ]
    },
    {
     "name": "stdout",
     "output_type": "stream",
     "text": [
      "`xtol` termination condition is satisfied.\n",
      "Number of iterations: 62, function evaluations: 111, CG iterations: 93, optimality: 5.04e-08, constraint violation: 0.00e+00, execution time:  1.1 s.\n",
      "species=BT, alpha=0.1, ini para=20\n",
      "`gtol` termination condition is satisfied.\n",
      "Number of iterations: 31, function evaluations: 63, CG iterations: 35, optimality: 4.40e-09, constraint violation: 0.00e+00, execution time: 0.65 s.\n",
      "species=BT, alpha=0.1, ini para=21\n",
      "`xtol` termination condition is satisfied.\n",
      "Number of iterations: 68, function evaluations: 117, CG iterations: 93, optimality: 4.37e-08, constraint violation: 0.00e+00, execution time:  1.1 s.\n",
      "species=BT, alpha=0.1, ini para=22\n",
      "`gtol` termination condition is satisfied.\n",
      "Number of iterations: 24, function evaluations: 54, CG iterations: 29, optimality: 9.59e-09, constraint violation: 0.00e+00, execution time: 0.52 s.\n",
      "species=BT, alpha=0.1, ini para=23\n",
      "`xtol` termination condition is satisfied.\n",
      "Number of iterations: 59, function evaluations: 111, CG iterations: 87, optimality: 5.04e-08, constraint violation: 0.00e+00, execution time:  1.1 s.\n",
      "species=BT, alpha=0.1, ini para=24\n",
      "`xtol` termination condition is satisfied.\n",
      "Number of iterations: 72, function evaluations: 165, CG iterations: 103, optimality: 6.59e-08, constraint violation: 0.00e+00, execution time:  1.5 s.\n",
      "species=BT, alpha=0.1, ini para=25\n",
      "`gtol` termination condition is satisfied.\n",
      "Number of iterations: 28, function evaluations: 60, CG iterations: 33, optimality: 7.56e-09, constraint violation: 0.00e+00, execution time: 0.68 s.\n",
      "species=BT, alpha=0.1, ini para=26\n",
      "`xtol` termination condition is satisfied.\n",
      "Number of iterations: 59, function evaluations: 93, CG iterations: 78, optimality: 5.04e-08, constraint violation: 0.00e+00, execution time:  1.0 s.\n",
      "species=BT, alpha=0.1, ini para=27\n",
      "`xtol` termination condition is satisfied.\n",
      "Number of iterations: 63, function evaluations: 123, CG iterations: 92, optimality: 1.02e-07, constraint violation: 0.00e+00, execution time:  1.2 s.\n",
      "species=BT, alpha=0.1, ini para=28\n",
      "`gtol` termination condition is satisfied.\n",
      "Number of iterations: 27, function evaluations: 54, CG iterations: 29, optimality: 3.61e-09, constraint violation: 0.00e+00, execution time: 0.54 s.\n",
      "species=BT, alpha=0.1, ini para=29\n",
      "`xtol` termination condition is satisfied.\n",
      "Number of iterations: 78, function evaluations: 177, CG iterations: 117, optimality: 7.60e-08, constraint violation: 0.00e+00, execution time:  1.6 s.\n",
      "species=BT, alpha=0.1, ini para=30\n",
      "`xtol` termination condition is satisfied.\n",
      "Number of iterations: 66, function evaluations: 99, CG iterations: 82, optimality: 1.10e-07, constraint violation: 0.00e+00, execution time: 0.94 s.\n",
      "species=BT, alpha=0.1, ini para=31\n",
      "`xtol` termination condition is satisfied.\n",
      "Number of iterations: 69, function evaluations: 141, CG iterations: 99, optimality: 5.04e-08, constraint violation: 0.00e+00, execution time:  1.3 s.\n",
      "species=BT, alpha=0.1, ini para=32\n",
      "`xtol` termination condition is satisfied.\n",
      "Number of iterations: 62, function evaluations: 135, CG iterations: 89, optimality: 6.59e-08, constraint violation: 0.00e+00, execution time:  1.2 s.\n",
      "species=BT, alpha=0.1, ini para=33\n",
      "`gtol` termination condition is satisfied.\n",
      "Number of iterations: 37, function evaluations: 84, CG iterations: 46, optimality: 4.40e-09, constraint violation: 0.00e+00, execution time: 0.81 s.\n",
      "species=BT, alpha=0.1, ini para=34\n",
      "`xtol` termination condition is satisfied.\n",
      "Number of iterations: 63, function evaluations: 129, CG iterations: 94, optimality: 6.59e-08, constraint violation: 0.00e+00, execution time:  1.2 s.\n",
      "species=BT, alpha=0.1, ini para=35\n"
     ]
    },
    {
     "name": "stderr",
     "output_type": "stream",
     "text": [
      "/opt/anaconda3/lib/python3.8/site-packages/scipy/optimize/_hessian_update_strategy.py:182: UserWarning: delta_grad == 0.0. Check if the approximated function is linear. If the function is linear better results can be obtained by defining the Hessian as zero instead of using quasi-Newton approximations.\n",
      "  warn('delta_grad == 0.0. Check if the approximated '\n"
     ]
    },
    {
     "name": "stdout",
     "output_type": "stream",
     "text": [
      "`xtol` termination condition is satisfied.\n",
      "Number of iterations: 70, function evaluations: 156, CG iterations: 104, optimality: 7.60e-08, constraint violation: 0.00e+00, execution time:  1.4 s.\n",
      "species=BT, alpha=0.1, ini para=36\n",
      "`xtol` termination condition is satisfied.\n",
      "Number of iterations: 65, function evaluations: 117, CG iterations: 82, optimality: 1.27e-07, constraint violation: 0.00e+00, execution time:  1.0 s.\n",
      "species=BT, alpha=0.1, ini para=37\n",
      "`gtol` termination condition is satisfied.\n",
      "Number of iterations: 24, function evaluations: 54, CG iterations: 28, optimality: 9.59e-09, constraint violation: 0.00e+00, execution time: 0.52 s.\n",
      "species=BT, alpha=0.1, ini para=38\n"
     ]
    },
    {
     "name": "stderr",
     "output_type": "stream",
     "text": [
      "/opt/anaconda3/lib/python3.8/site-packages/scipy/optimize/_hessian_update_strategy.py:182: UserWarning: delta_grad == 0.0. Check if the approximated function is linear. If the function is linear better results can be obtained by defining the Hessian as zero instead of using quasi-Newton approximations.\n",
      "  warn('delta_grad == 0.0. Check if the approximated '\n",
      "/opt/anaconda3/lib/python3.8/site-packages/scipy/optimize/_hessian_update_strategy.py:182: UserWarning: delta_grad == 0.0. Check if the approximated function is linear. If the function is linear better results can be obtained by defining the Hessian as zero instead of using quasi-Newton approximations.\n",
      "  warn('delta_grad == 0.0. Check if the approximated '\n"
     ]
    },
    {
     "name": "stdout",
     "output_type": "stream",
     "text": [
      "`xtol` termination condition is satisfied.\n",
      "Number of iterations: 57, function evaluations: 102, CG iterations: 87, optimality: 4.37e-08, constraint violation: 0.00e+00, execution time: 0.97 s.\n",
      "species=BT, alpha=0.1, ini para=39\n",
      "`xtol` termination condition is satisfied.\n",
      "Number of iterations: 72, function evaluations: 141, CG iterations: 109, optimality: 1.02e-07, constraint violation: 0.00e+00, execution time:  1.3 s.\n",
      "species=BT, alpha=0.1, ini para=40\n",
      "`xtol` termination condition is satisfied.\n",
      "Number of iterations: 72, function evaluations: 171, CG iterations: 106, optimality: 7.60e-08, constraint violation: 0.00e+00, execution time:  1.5 s.\n",
      "species=BT, alpha=0.1, ini para=41\n",
      "`gtol` termination condition is satisfied.\n",
      "Number of iterations: 29, function evaluations: 57, CG iterations: 34, optimality: 4.40e-09, constraint violation: 0.00e+00, execution time: 0.57 s.\n",
      "species=BT, alpha=0.1, ini para=42\n"
     ]
    },
    {
     "name": "stderr",
     "output_type": "stream",
     "text": [
      "/opt/anaconda3/lib/python3.8/site-packages/scipy/optimize/_hessian_update_strategy.py:182: UserWarning: delta_grad == 0.0. Check if the approximated function is linear. If the function is linear better results can be obtained by defining the Hessian as zero instead of using quasi-Newton approximations.\n",
      "  warn('delta_grad == 0.0. Check if the approximated '\n",
      "/opt/anaconda3/lib/python3.8/site-packages/scipy/optimize/_hessian_update_strategy.py:182: UserWarning: delta_grad == 0.0. Check if the approximated function is linear. If the function is linear better results can be obtained by defining the Hessian as zero instead of using quasi-Newton approximations.\n",
      "  warn('delta_grad == 0.0. Check if the approximated '\n",
      "/opt/anaconda3/lib/python3.8/site-packages/scipy/optimize/_hessian_update_strategy.py:182: UserWarning: delta_grad == 0.0. Check if the approximated function is linear. If the function is linear better results can be obtained by defining the Hessian as zero instead of using quasi-Newton approximations.\n",
      "  warn('delta_grad == 0.0. Check if the approximated '\n"
     ]
    },
    {
     "name": "stdout",
     "output_type": "stream",
     "text": [
      "`xtol` termination condition is satisfied.\n",
      "Number of iterations: 62, function evaluations: 99, CG iterations: 84, optimality: 2.15e-08, constraint violation: 0.00e+00, execution time: 0.96 s.\n",
      "species=BT, alpha=0.1, ini para=43\n"
     ]
    },
    {
     "name": "stderr",
     "output_type": "stream",
     "text": [
      "/opt/anaconda3/lib/python3.8/site-packages/scipy/optimize/_hessian_update_strategy.py:182: UserWarning: delta_grad == 0.0. Check if the approximated function is linear. If the function is linear better results can be obtained by defining the Hessian as zero instead of using quasi-Newton approximations.\n",
      "  warn('delta_grad == 0.0. Check if the approximated '\n"
     ]
    },
    {
     "name": "stdout",
     "output_type": "stream",
     "text": [
      "`xtol` termination condition is satisfied.\n",
      "Number of iterations: 61, function evaluations: 108, CG iterations: 86, optimality: 4.37e-08, constraint violation: 0.00e+00, execution time:  1.0 s.\n",
      "species=BT, alpha=0.1, ini para=44\n"
     ]
    },
    {
     "name": "stderr",
     "output_type": "stream",
     "text": [
      "/opt/anaconda3/lib/python3.8/site-packages/scipy/optimize/_hessian_update_strategy.py:182: UserWarning: delta_grad == 0.0. Check if the approximated function is linear. If the function is linear better results can be obtained by defining the Hessian as zero instead of using quasi-Newton approximations.\n",
      "  warn('delta_grad == 0.0. Check if the approximated '\n"
     ]
    },
    {
     "name": "stdout",
     "output_type": "stream",
     "text": [
      "`xtol` termination condition is satisfied.\n",
      "Number of iterations: 65, function evaluations: 105, CG iterations: 88, optimality: 7.60e-08, constraint violation: 0.00e+00, execution time:  1.0 s.\n",
      "species=BT, alpha=0.1, ini para=45\n"
     ]
    },
    {
     "name": "stderr",
     "output_type": "stream",
     "text": [
      "/opt/anaconda3/lib/python3.8/site-packages/scipy/optimize/_hessian_update_strategy.py:182: UserWarning: delta_grad == 0.0. Check if the approximated function is linear. If the function is linear better results can be obtained by defining the Hessian as zero instead of using quasi-Newton approximations.\n",
      "  warn('delta_grad == 0.0. Check if the approximated '\n"
     ]
    },
    {
     "name": "stdout",
     "output_type": "stream",
     "text": [
      "`xtol` termination condition is satisfied.\n",
      "Number of iterations: 60, function evaluations: 120, CG iterations: 90, optimality: 7.60e-08, constraint violation: 0.00e+00, execution time:  1.1 s.\n",
      "species=BT, alpha=0.1, ini para=46\n",
      "`xtol` termination condition is satisfied.\n",
      "Number of iterations: 80, function evaluations: 207, CG iterations: 116, optimality: 6.59e-08, constraint violation: 0.00e+00, execution time:  1.8 s.\n",
      "species=BT, alpha=0.1, ini para=47\n",
      "`gtol` termination condition is satisfied.\n",
      "Number of iterations: 31, function evaluations: 66, CG iterations: 39, optimality: 3.61e-09, constraint violation: 0.00e+00, execution time: 0.64 s.\n",
      "species=BT, alpha=0.1, ini para=48\n"
     ]
    },
    {
     "name": "stderr",
     "output_type": "stream",
     "text": [
      "/opt/anaconda3/lib/python3.8/site-packages/scipy/optimize/_hessian_update_strategy.py:182: UserWarning: delta_grad == 0.0. Check if the approximated function is linear. If the function is linear better results can be obtained by defining the Hessian as zero instead of using quasi-Newton approximations.\n",
      "  warn('delta_grad == 0.0. Check if the approximated '\n"
     ]
    },
    {
     "name": "stdout",
     "output_type": "stream",
     "text": [
      "`xtol` termination condition is satisfied.\n",
      "Number of iterations: 62, function evaluations: 120, CG iterations: 87, optimality: 6.59e-08, constraint violation: 0.00e+00, execution time:  1.1 s.\n",
      "species=BT, alpha=0.1, ini para=49\n",
      "`xtol` termination condition is satisfied.\n",
      "Number of iterations: 63, function evaluations: 117, CG iterations: 93, optimality: 4.37e-08, constraint violation: 0.00e+00, execution time:  1.1 s.\n",
      "species=BT, alpha=0.1, ini para=50\n",
      "`gtol` termination condition is satisfied.\n",
      "Number of iterations: 26, function evaluations: 54, CG iterations: 30, optimality: 7.56e-09, constraint violation: 0.00e+00, execution time: 0.53 s.\n",
      "species=BT, alpha=0.1, ini para=51\n",
      "`xtol` termination condition is satisfied.\n",
      "Number of iterations: 56, function evaluations: 90, CG iterations: 82, optimality: 4.37e-08, constraint violation: 0.00e+00, execution time:  1.0 s.\n",
      "species=BT, alpha=0.1, ini para=52\n"
     ]
    },
    {
     "name": "stderr",
     "output_type": "stream",
     "text": [
      "/opt/anaconda3/lib/python3.8/site-packages/scipy/optimize/_hessian_update_strategy.py:182: UserWarning: delta_grad == 0.0. Check if the approximated function is linear. If the function is linear better results can be obtained by defining the Hessian as zero instead of using quasi-Newton approximations.\n",
      "  warn('delta_grad == 0.0. Check if the approximated '\n",
      "/opt/anaconda3/lib/python3.8/site-packages/scipy/optimize/_hessian_update_strategy.py:182: UserWarning: delta_grad == 0.0. Check if the approximated function is linear. If the function is linear better results can be obtained by defining the Hessian as zero instead of using quasi-Newton approximations.\n",
      "  warn('delta_grad == 0.0. Check if the approximated '\n"
     ]
    },
    {
     "name": "stdout",
     "output_type": "stream",
     "text": [
      "`xtol` termination condition is satisfied.\n",
      "Number of iterations: 58, function evaluations: 126, CG iterations: 84, optimality: 5.04e-08, constraint violation: 0.00e+00, execution time:  1.3 s.\n",
      "species=BT, alpha=0.1, ini para=53\n",
      "`xtol` termination condition is satisfied.\n",
      "Number of iterations: 59, function evaluations: 120, CG iterations: 84, optimality: 7.60e-08, constraint violation: 0.00e+00, execution time:  2.3 s.\n",
      "species=BT, alpha=0.1, ini para=54\n"
     ]
    },
    {
     "name": "stderr",
     "output_type": "stream",
     "text": [
      "/opt/anaconda3/lib/python3.8/site-packages/scipy/optimize/_hessian_update_strategy.py:182: UserWarning: delta_grad == 0.0. Check if the approximated function is linear. If the function is linear better results can be obtained by defining the Hessian as zero instead of using quasi-Newton approximations.\n",
      "  warn('delta_grad == 0.0. Check if the approximated '\n",
      "/opt/anaconda3/lib/python3.8/site-packages/scipy/optimize/_hessian_update_strategy.py:182: UserWarning: delta_grad == 0.0. Check if the approximated function is linear. If the function is linear better results can be obtained by defining the Hessian as zero instead of using quasi-Newton approximations.\n",
      "  warn('delta_grad == 0.0. Check if the approximated '\n"
     ]
    },
    {
     "name": "stdout",
     "output_type": "stream",
     "text": [
      "`xtol` termination condition is satisfied.\n",
      "Number of iterations: 67, function evaluations: 108, CG iterations: 104, optimality: 6.59e-08, constraint violation: 0.00e+00, execution time:  1.8 s.\n",
      "species=BT, alpha=0.1, ini para=55\n",
      "`xtol` termination condition is satisfied.\n",
      "Number of iterations: 62, function evaluations: 96, CG iterations: 95, optimality: 1.02e-07, constraint violation: 0.00e+00, execution time: 0.97 s.\n",
      "species=BT, alpha=0.1, ini para=56\n",
      "`xtol` termination condition is satisfied.\n",
      "Number of iterations: 59, function evaluations: 90, CG iterations: 84, optimality: 7.60e-08, constraint violation: 0.00e+00, execution time: 0.87 s.\n",
      "species=BT, alpha=0.1, ini para=57\n",
      "`xtol` termination condition is satisfied.\n",
      "Number of iterations: 70, function evaluations: 138, CG iterations: 99, optimality: 7.60e-08, constraint violation: 0.00e+00, execution time:  1.3 s.\n",
      "species=BT, alpha=0.1, ini para=58\n",
      "`xtol` termination condition is satisfied.\n",
      "Number of iterations: 77, function evaluations: 147, CG iterations: 110, optimality: 6.59e-08, constraint violation: 0.00e+00, execution time:  1.5 s.\n",
      "species=BT, alpha=0.1, ini para=59\n"
     ]
    },
    {
     "name": "stderr",
     "output_type": "stream",
     "text": [
      "/opt/anaconda3/lib/python3.8/site-packages/scipy/optimize/_hessian_update_strategy.py:182: UserWarning: delta_grad == 0.0. Check if the approximated function is linear. If the function is linear better results can be obtained by defining the Hessian as zero instead of using quasi-Newton approximations.\n",
      "  warn('delta_grad == 0.0. Check if the approximated '\n",
      "/opt/anaconda3/lib/python3.8/site-packages/scipy/optimize/_hessian_update_strategy.py:182: UserWarning: delta_grad == 0.0. Check if the approximated function is linear. If the function is linear better results can be obtained by defining the Hessian as zero instead of using quasi-Newton approximations.\n",
      "  warn('delta_grad == 0.0. Check if the approximated '\n"
     ]
    },
    {
     "name": "stdout",
     "output_type": "stream",
     "text": [
      "`xtol` termination condition is satisfied.\n",
      "Number of iterations: 59, function evaluations: 96, CG iterations: 90, optimality: 2.47e-08, constraint violation: 0.00e+00, execution time: 0.97 s.\n",
      "species=BT, alpha=0.1, ini para=60\n",
      "`xtol` termination condition is satisfied.\n",
      "Number of iterations: 71, function evaluations: 135, CG iterations: 104, optimality: 5.04e-08, constraint violation: 0.00e+00, execution time:  1.3 s.\n",
      "species=BT, alpha=0.1, ini para=61\n",
      "`gtol` termination condition is satisfied.\n",
      "Number of iterations: 29, function evaluations: 63, CG iterations: 36, optimality: 7.56e-09, constraint violation: 0.00e+00, execution time: 0.62 s.\n",
      "species=BT, alpha=0.1, ini para=62\n"
     ]
    },
    {
     "name": "stderr",
     "output_type": "stream",
     "text": [
      "/opt/anaconda3/lib/python3.8/site-packages/scipy/optimize/_hessian_update_strategy.py:182: UserWarning: delta_grad == 0.0. Check if the approximated function is linear. If the function is linear better results can be obtained by defining the Hessian as zero instead of using quasi-Newton approximations.\n",
      "  warn('delta_grad == 0.0. Check if the approximated '\n"
     ]
    },
    {
     "name": "stdout",
     "output_type": "stream",
     "text": [
      "`xtol` termination condition is satisfied.\n",
      "Number of iterations: 62, function evaluations: 153, CG iterations: 81, optimality: 7.60e-08, constraint violation: 0.00e+00, execution time:  1.3 s.\n",
      "species=BT, alpha=0.1, ini para=63\n",
      "`xtol` termination condition is satisfied.\n",
      "Number of iterations: 66, function evaluations: 117, CG iterations: 88, optimality: 4.37e-08, constraint violation: 0.00e+00, execution time:  1.1 s.\n",
      "species=BT, alpha=0.1, ini para=64\n",
      "`xtol` termination condition is satisfied.\n",
      "Number of iterations: 74, function evaluations: 138, CG iterations: 109, optimality: 7.60e-08, constraint violation: 0.00e+00, execution time:  1.3 s.\n",
      "species=BT, alpha=0.1, ini para=65\n"
     ]
    },
    {
     "name": "stderr",
     "output_type": "stream",
     "text": [
      "/opt/anaconda3/lib/python3.8/site-packages/scipy/optimize/_hessian_update_strategy.py:182: UserWarning: delta_grad == 0.0. Check if the approximated function is linear. If the function is linear better results can be obtained by defining the Hessian as zero instead of using quasi-Newton approximations.\n",
      "  warn('delta_grad == 0.0. Check if the approximated '\n"
     ]
    },
    {
     "name": "stdout",
     "output_type": "stream",
     "text": [
      "`xtol` termination condition is satisfied.\n",
      "Number of iterations: 61, function evaluations: 123, CG iterations: 73, optimality: 7.60e-08, constraint violation: 0.00e+00, execution time:  1.1 s.\n",
      "species=BT, alpha=0.1, ini para=66\n"
     ]
    },
    {
     "name": "stderr",
     "output_type": "stream",
     "text": [
      "/opt/anaconda3/lib/python3.8/site-packages/scipy/optimize/_hessian_update_strategy.py:182: UserWarning: delta_grad == 0.0. Check if the approximated function is linear. If the function is linear better results can be obtained by defining the Hessian as zero instead of using quasi-Newton approximations.\n",
      "  warn('delta_grad == 0.0. Check if the approximated '\n"
     ]
    },
    {
     "name": "stdout",
     "output_type": "stream",
     "text": [
      "`xtol` termination condition is satisfied.\n",
      "Number of iterations: 58, function evaluations: 96, CG iterations: 85, optimality: 5.04e-08, constraint violation: 0.00e+00, execution time: 0.94 s.\n",
      "species=BT, alpha=0.1, ini para=67\n",
      "`gtol` termination condition is satisfied.\n",
      "Number of iterations: 29, function evaluations: 63, CG iterations: 34, optimality: 7.56e-09, constraint violation: 0.00e+00, execution time: 0.61 s.\n",
      "species=BT, alpha=0.1, ini para=68\n",
      "`gtol` termination condition is satisfied.\n",
      "Number of iterations: 22, function evaluations: 48, CG iterations: 26, optimality: 9.59e-09, constraint violation: 0.00e+00, execution time: 0.48 s.\n",
      "species=BT, alpha=0.1, ini para=69\n",
      "`xtol` termination condition is satisfied.\n",
      "Number of iterations: 73, function evaluations: 144, CG iterations: 111, optimality: 1.10e-07, constraint violation: 0.00e+00, execution time:  1.3 s.\n",
      "species=BT, alpha=0.1, ini para=70\n",
      "`xtol` termination condition is satisfied.\n",
      "Number of iterations: 64, function evaluations: 138, CG iterations: 90, optimality: 6.59e-08, constraint violation: 0.00e+00, execution time:  1.3 s.\n",
      "species=BT, alpha=0.1, ini para=71\n",
      "`gtol` termination condition is satisfied.\n",
      "Number of iterations: 24, function evaluations: 54, CG iterations: 27, optimality: 9.59e-09, constraint violation: 0.00e+00, execution time: 0.53 s.\n",
      "species=BT, alpha=0.1, ini para=72\n",
      "`gtol` termination condition is satisfied.\n",
      "Number of iterations: 28, function evaluations: 60, CG iterations: 32, optimality: 7.56e-09, constraint violation: 0.00e+00, execution time: 0.73 s.\n",
      "species=BT, alpha=0.1, ini para=73\n"
     ]
    },
    {
     "name": "stderr",
     "output_type": "stream",
     "text": [
      "/opt/anaconda3/lib/python3.8/site-packages/scipy/optimize/_hessian_update_strategy.py:182: UserWarning: delta_grad == 0.0. Check if the approximated function is linear. If the function is linear better results can be obtained by defining the Hessian as zero instead of using quasi-Newton approximations.\n",
      "  warn('delta_grad == 0.0. Check if the approximated '\n"
     ]
    },
    {
     "name": "stdout",
     "output_type": "stream",
     "text": [
      "`xtol` termination condition is satisfied.\n",
      "Number of iterations: 57, function evaluations: 99, CG iterations: 85, optimality: 4.37e-08, constraint violation: 0.00e+00, execution time:  1.8 s.\n",
      "species=BT, alpha=0.1, ini para=74\n",
      "`xtol` termination condition is satisfied.\n",
      "Number of iterations: 56, function evaluations: 102, CG iterations: 73, optimality: 5.04e-08, constraint violation: 0.00e+00, execution time: 0.98 s.\n",
      "species=BT, alpha=0.1, ini para=75\n",
      "`gtol` termination condition is satisfied.\n",
      "Number of iterations: 31, function evaluations: 66, CG iterations: 38, optimality: 3.61e-09, constraint violation: 0.00e+00, execution time: 0.64 s.\n",
      "species=BT, alpha=0.1, ini para=76\n"
     ]
    },
    {
     "name": "stderr",
     "output_type": "stream",
     "text": [
      "/opt/anaconda3/lib/python3.8/site-packages/scipy/optimize/_hessian_update_strategy.py:182: UserWarning: delta_grad == 0.0. Check if the approximated function is linear. If the function is linear better results can be obtained by defining the Hessian as zero instead of using quasi-Newton approximations.\n",
      "  warn('delta_grad == 0.0. Check if the approximated '\n"
     ]
    },
    {
     "name": "stdout",
     "output_type": "stream",
     "text": [
      "`xtol` termination condition is satisfied.\n",
      "Number of iterations: 72, function evaluations: 189, CG iterations: 100, optimality: 1.10e-07, constraint violation: 0.00e+00, execution time:  1.6 s.\n",
      "species=BT, alpha=0.1, ini para=77\n",
      "`xtol` termination condition is satisfied.\n",
      "Number of iterations: 75, function evaluations: 150, CG iterations: 111, optimality: 5.04e-08, constraint violation: 0.00e+00, execution time:  1.7 s.\n",
      "species=BT, alpha=0.1, ini para=78\n",
      "`xtol` termination condition is satisfied.\n",
      "Number of iterations: 70, function evaluations: 153, CG iterations: 107, optimality: 7.60e-08, constraint violation: 0.00e+00, execution time:  1.6 s.\n",
      "species=BT, alpha=0.1, ini para=79\n",
      "`gtol` termination condition is satisfied.\n",
      "Number of iterations: 35, function evaluations: 81, CG iterations: 49, optimality: 7.56e-09, constraint violation: 0.00e+00, execution time:  1.1 s.\n",
      "species=BT, alpha=0.1, ini para=80\n",
      "`xtol` termination condition is satisfied.\n",
      "Number of iterations: 76, function evaluations: 165, CG iterations: 116, optimality: 1.27e-07, constraint violation: 0.00e+00, execution time:  1.7 s.\n",
      "species=BT, alpha=0.1, ini para=81\n",
      "`xtol` termination condition is satisfied.\n",
      "Number of iterations: 78, function evaluations: 195, CG iterations: 117, optimality: 1.02e-07, constraint violation: 0.00e+00, execution time:  2.3 s.\n",
      "species=BT, alpha=0.1, ini para=82\n",
      "`gtol` termination condition is satisfied.\n",
      "Number of iterations: 26, function evaluations: 54, CG iterations: 28, optimality: 7.56e-09, constraint violation: 0.00e+00, execution time: 0.58 s.\n",
      "species=BT, alpha=0.1, ini para=83\n"
     ]
    },
    {
     "name": "stderr",
     "output_type": "stream",
     "text": [
      "/opt/anaconda3/lib/python3.8/site-packages/scipy/optimize/_hessian_update_strategy.py:182: UserWarning: delta_grad == 0.0. Check if the approximated function is linear. If the function is linear better results can be obtained by defining the Hessian as zero instead of using quasi-Newton approximations.\n",
      "  warn('delta_grad == 0.0. Check if the approximated '\n"
     ]
    },
    {
     "name": "stdout",
     "output_type": "stream",
     "text": [
      "`xtol` termination condition is satisfied.\n",
      "Number of iterations: 57, function evaluations: 102, CG iterations: 74, optimality: 5.04e-08, constraint violation: 0.00e+00, execution time:  1.7 s.\n",
      "species=BT, alpha=0.1, ini para=84\n",
      "`xtol` termination condition is satisfied.\n",
      "Number of iterations: 58, function evaluations: 84, CG iterations: 79, optimality: 2.15e-08, constraint violation: 0.00e+00, execution time: 0.92 s.\n",
      "species=BT, alpha=0.1, ini para=85\n",
      "`xtol` termination condition is satisfied.\n",
      "Number of iterations: 62, function evaluations: 129, CG iterations: 94, optimality: 7.60e-08, constraint violation: 0.00e+00, execution time:  1.5 s.\n",
      "species=BT, alpha=0.1, ini para=86\n",
      "`xtol` termination condition is satisfied.\n",
      "Number of iterations: 71, function evaluations: 129, CG iterations: 112, optimality: 7.60e-08, constraint violation: 0.00e+00, execution time:  2.9 s.\n",
      "species=BT, alpha=0.1, ini para=87\n"
     ]
    },
    {
     "name": "stderr",
     "output_type": "stream",
     "text": [
      "/opt/anaconda3/lib/python3.8/site-packages/scipy/optimize/_hessian_update_strategy.py:182: UserWarning: delta_grad == 0.0. Check if the approximated function is linear. If the function is linear better results can be obtained by defining the Hessian as zero instead of using quasi-Newton approximations.\n",
      "  warn('delta_grad == 0.0. Check if the approximated '\n"
     ]
    },
    {
     "name": "stdout",
     "output_type": "stream",
     "text": [
      "`gtol` termination condition is satisfied.\n",
      "Number of iterations: 24, function evaluations: 51, CG iterations: 27, optimality: 7.56e-09, constraint violation: 0.00e+00, execution time:  0.5 s.\n",
      "species=BT, alpha=0.1, ini para=88\n",
      "`xtol` termination condition is satisfied.\n",
      "Number of iterations: 61, function evaluations: 141, CG iterations: 86, optimality: 4.37e-08, constraint violation: 0.00e+00, execution time:  1.3 s.\n",
      "species=BT, alpha=0.1, ini para=89\n",
      "`xtol` termination condition is satisfied.\n",
      "Number of iterations: 59, function evaluations: 138, CG iterations: 80, optimality: 6.59e-08, constraint violation: 0.00e+00, execution time:  1.2 s.\n",
      "species=BT, alpha=0.1, ini para=90\n",
      "`xtol` termination condition is satisfied.\n",
      "Number of iterations: 60, function evaluations: 138, CG iterations: 88, optimality: 7.60e-08, constraint violation: 0.00e+00, execution time:  1.6 s.\n",
      "species=BT, alpha=0.1, ini para=91\n",
      "`xtol` termination condition is satisfied.\n",
      "Number of iterations: 74, function evaluations: 147, CG iterations: 113, optimality: 7.60e-08, constraint violation: 0.00e+00, execution time:  1.4 s.\n",
      "species=BT, alpha=0.1, ini para=92\n"
     ]
    },
    {
     "name": "stderr",
     "output_type": "stream",
     "text": [
      "/opt/anaconda3/lib/python3.8/site-packages/scipy/optimize/_hessian_update_strategy.py:182: UserWarning: delta_grad == 0.0. Check if the approximated function is linear. If the function is linear better results can be obtained by defining the Hessian as zero instead of using quasi-Newton approximations.\n",
      "  warn('delta_grad == 0.0. Check if the approximated '\n"
     ]
    },
    {
     "name": "stdout",
     "output_type": "stream",
     "text": [
      "`xtol` termination condition is satisfied.\n",
      "Number of iterations: 73, function evaluations: 159, CG iterations: 111, optimality: 7.60e-08, constraint violation: 0.00e+00, execution time:  1.4 s.\n",
      "species=BT, alpha=0.1, ini para=93\n",
      "`gtol` termination condition is satisfied.\n",
      "Number of iterations: 27, function evaluations: 63, CG iterations: 37, optimality: 9.59e-09, constraint violation: 0.00e+00, execution time: 0.63 s.\n",
      "species=BT, alpha=0.1, ini para=94\n",
      "`xtol` termination condition is satisfied.\n",
      "Number of iterations: 68, function evaluations: 135, CG iterations: 98, optimality: 7.60e-08, constraint violation: 0.00e+00, execution time:  1.2 s.\n",
      "species=BT, alpha=0.1, ini para=95\n"
     ]
    },
    {
     "name": "stderr",
     "output_type": "stream",
     "text": [
      "/opt/anaconda3/lib/python3.8/site-packages/scipy/optimize/_hessian_update_strategy.py:182: UserWarning: delta_grad == 0.0. Check if the approximated function is linear. If the function is linear better results can be obtained by defining the Hessian as zero instead of using quasi-Newton approximations.\n",
      "  warn('delta_grad == 0.0. Check if the approximated '\n"
     ]
    },
    {
     "name": "stdout",
     "output_type": "stream",
     "text": [
      "`xtol` termination condition is satisfied.\n",
      "Number of iterations: 52, function evaluations: 78, CG iterations: 77, optimality: 4.37e-08, constraint violation: 0.00e+00, execution time: 0.79 s.\n",
      "species=BT, alpha=0.1, ini para=96\n",
      "`gtol` termination condition is satisfied.\n",
      "Number of iterations: 23, function evaluations: 54, CG iterations: 29, optimality: 9.59e-09, constraint violation: 0.00e+00, execution time: 0.51 s.\n",
      "species=BT, alpha=0.1, ini para=97\n"
     ]
    },
    {
     "name": "stderr",
     "output_type": "stream",
     "text": [
      "/opt/anaconda3/lib/python3.8/site-packages/scipy/optimize/_hessian_update_strategy.py:182: UserWarning: delta_grad == 0.0. Check if the approximated function is linear. If the function is linear better results can be obtained by defining the Hessian as zero instead of using quasi-Newton approximations.\n",
      "  warn('delta_grad == 0.0. Check if the approximated '\n"
     ]
    },
    {
     "name": "stdout",
     "output_type": "stream",
     "text": [
      "`xtol` termination condition is satisfied.\n",
      "Number of iterations: 57, function evaluations: 87, CG iterations: 84, optimality: 4.37e-08, constraint violation: 0.00e+00, execution time: 0.87 s.\n",
      "species=BT, alpha=0.1, ini para=98\n"
     ]
    },
    {
     "name": "stderr",
     "output_type": "stream",
     "text": [
      "/opt/anaconda3/lib/python3.8/site-packages/scipy/optimize/_hessian_update_strategy.py:182: UserWarning: delta_grad == 0.0. Check if the approximated function is linear. If the function is linear better results can be obtained by defining the Hessian as zero instead of using quasi-Newton approximations.\n",
      "  warn('delta_grad == 0.0. Check if the approximated '\n"
     ]
    },
    {
     "name": "stdout",
     "output_type": "stream",
     "text": [
      "`xtol` termination condition is satisfied.\n",
      "Number of iterations: 69, function evaluations: 147, CG iterations: 99, optimality: 6.59e-08, constraint violation: 0.00e+00, execution time:  1.3 s.\n",
      "species=BT, alpha=0.1, ini para=99\n",
      "`gtol` termination condition is satisfied.\n",
      "Number of iterations: 32, function evaluations: 69, CG iterations: 39, optimality: 3.61e-09, constraint violation: 0.00e+00, execution time: 0.97 s.\n",
      "species=BT, alpha=0.3, ini para=0\n",
      "`xtol` termination condition is satisfied.\n",
      "Number of iterations: 63, function evaluations: 132, CG iterations: 93, optimality: 8.14e-08, constraint violation: 0.00e+00, execution time:  1.4 s.\n",
      "species=BT, alpha=0.3, ini para=1\n",
      "`xtol` termination condition is satisfied.\n",
      "Number of iterations: 52, function evaluations: 72, CG iterations: 77, optimality: 2.65e-08, constraint violation: 0.00e+00, execution time: 0.75 s.\n",
      "species=BT, alpha=0.3, ini para=2\n",
      "`gtol` termination condition is satisfied.\n",
      "Number of iterations: 27, function evaluations: 54, CG iterations: 30, optimality: 4.16e-09, constraint violation: 0.00e+00, execution time: 0.56 s.\n",
      "species=BT, alpha=0.3, ini para=3\n",
      "`xtol` termination condition is satisfied.\n",
      "Number of iterations: 69, function evaluations: 129, CG iterations: 95, optimality: 8.75e-08, constraint violation: 0.00e+00, execution time:  1.3 s.\n",
      "species=BT, alpha=0.3, ini para=4\n",
      "`xtol` termination condition is satisfied.\n",
      "Number of iterations: 65, function evaluations: 126, CG iterations: 99, optimality: 5.80e-08, constraint violation: 0.00e+00, execution time:  1.2 s.\n",
      "species=BT, alpha=0.3, ini para=5\n"
     ]
    },
    {
     "name": "stderr",
     "output_type": "stream",
     "text": [
      "/opt/anaconda3/lib/python3.8/site-packages/scipy/optimize/_hessian_update_strategy.py:182: UserWarning: delta_grad == 0.0. Check if the approximated function is linear. If the function is linear better results can be obtained by defining the Hessian as zero instead of using quasi-Newton approximations.\n",
      "  warn('delta_grad == 0.0. Check if the approximated '\n"
     ]
    },
    {
     "name": "stdout",
     "output_type": "stream",
     "text": [
      "`xtol` termination condition is satisfied.\n",
      "Number of iterations: 60, function evaluations: 102, CG iterations: 90, optimality: 5.80e-08, constraint violation: 0.00e+00, execution time:  1.1 s.\n",
      "species=BT, alpha=0.3, ini para=6\n",
      "`xtol` termination condition is satisfied.\n",
      "Number of iterations: 63, function evaluations: 123, CG iterations: 86, optimality: 1.17e-07, constraint violation: 0.00e+00, execution time:  1.1 s.\n",
      "species=BT, alpha=0.3, ini para=7\n",
      "`xtol` termination condition is satisfied.\n",
      "Number of iterations: 61, function evaluations: 90, CG iterations: 93, optimality: 2.65e-08, constraint violation: 0.00e+00, execution time:  0.9 s.\n",
      "species=BT, alpha=0.3, ini para=8\n",
      "`xtol` termination condition is satisfied.\n",
      "Number of iterations: 60, function evaluations: 105, CG iterations: 88, optimality: 5.80e-08, constraint violation: 0.00e+00, execution time:  1.0 s.\n",
      "species=BT, alpha=0.3, ini para=9\n",
      "`gtol` termination condition is satisfied.\n",
      "Number of iterations: 39, function evaluations: 96, CG iterations: 50, optimality: 9.78e-09, constraint violation: 0.00e+00, execution time:  0.9 s.\n",
      "species=BT, alpha=0.3, ini para=10\n"
     ]
    },
    {
     "name": "stderr",
     "output_type": "stream",
     "text": [
      "/opt/anaconda3/lib/python3.8/site-packages/scipy/optimize/_hessian_update_strategy.py:182: UserWarning: delta_grad == 0.0. Check if the approximated function is linear. If the function is linear better results can be obtained by defining the Hessian as zero instead of using quasi-Newton approximations.\n",
      "  warn('delta_grad == 0.0. Check if the approximated '\n"
     ]
    },
    {
     "name": "stdout",
     "output_type": "stream",
     "text": [
      "`gtol` termination condition is satisfied.\n",
      "Number of iterations: 26, function evaluations: 57, CG iterations: 26, optimality: 9.78e-09, constraint violation: 0.00e+00, execution time: 0.54 s.\n",
      "species=BT, alpha=0.3, ini para=11\n"
     ]
    },
    {
     "name": "stderr",
     "output_type": "stream",
     "text": [
      "/opt/anaconda3/lib/python3.8/site-packages/scipy/optimize/_hessian_update_strategy.py:182: UserWarning: delta_grad == 0.0. Check if the approximated function is linear. If the function is linear better results can be obtained by defining the Hessian as zero instead of using quasi-Newton approximations.\n",
      "  warn('delta_grad == 0.0. Check if the approximated '\n"
     ]
    },
    {
     "name": "stdout",
     "output_type": "stream",
     "text": [
      "`xtol` termination condition is satisfied.\n",
      "Number of iterations: 69, function evaluations: 123, CG iterations: 95, optimality: 1.09e-07, constraint violation: 0.00e+00, execution time:  1.2 s.\n",
      "species=BT, alpha=0.3, ini para=12\n",
      "`xtol` termination condition is satisfied.\n",
      "Number of iterations: 74, function evaluations: 159, CG iterations: 106, optimality: 8.75e-08, constraint violation: 0.00e+00, execution time:  1.5 s.\n",
      "species=BT, alpha=0.3, ini para=13\n",
      "`gtol` termination condition is satisfied.\n",
      "Number of iterations: 27, function evaluations: 57, CG iterations: 30, optimality: 9.78e-09, constraint violation: 0.00e+00, execution time: 0.53 s.\n",
      "species=BT, alpha=0.3, ini para=14\n",
      "`xtol` termination condition is satisfied.\n",
      "Number of iterations: 56, function evaluations: 117, CG iterations: 70, optimality: 2.85e-08, constraint violation: 0.00e+00, execution time:  1.3 s.\n",
      "species=BT, alpha=0.3, ini para=15\n"
     ]
    },
    {
     "name": "stderr",
     "output_type": "stream",
     "text": [
      "/opt/anaconda3/lib/python3.8/site-packages/scipy/optimize/_hessian_update_strategy.py:182: UserWarning: delta_grad == 0.0. Check if the approximated function is linear. If the function is linear better results can be obtained by defining the Hessian as zero instead of using quasi-Newton approximations.\n",
      "  warn('delta_grad == 0.0. Check if the approximated '\n"
     ]
    },
    {
     "name": "stdout",
     "output_type": "stream",
     "text": [
      "`xtol` termination condition is satisfied.\n",
      "Number of iterations: 63, function evaluations: 111, CG iterations: 96, optimality: 1.47e-07, constraint violation: 0.00e+00, execution time:  1.1 s.\n",
      "species=BT, alpha=0.3, ini para=16\n",
      "`xtol` termination condition is satisfied.\n",
      "Number of iterations: 63, function evaluations: 96, CG iterations: 97, optimality: 5.80e-08, constraint violation: 0.00e+00, execution time: 0.95 s.\n",
      "species=BT, alpha=0.3, ini para=17\n"
     ]
    },
    {
     "name": "stderr",
     "output_type": "stream",
     "text": [
      "/opt/anaconda3/lib/python3.8/site-packages/scipy/optimize/_hessian_update_strategy.py:182: UserWarning: delta_grad == 0.0. Check if the approximated function is linear. If the function is linear better results can be obtained by defining the Hessian as zero instead of using quasi-Newton approximations.\n",
      "  warn('delta_grad == 0.0. Check if the approximated '\n"
     ]
    },
    {
     "name": "stdout",
     "output_type": "stream",
     "text": [
      "`xtol` termination condition is satisfied.\n",
      "Number of iterations: 69, function evaluations: 132, CG iterations: 91, optimality: 5.80e-08, constraint violation: 0.00e+00, execution time:  1.2 s.\n",
      "species=BT, alpha=0.3, ini para=18\n",
      "`xtol` termination condition is satisfied.\n",
      "Number of iterations: 61, function evaluations: 102, CG iterations: 86, optimality: 5.80e-08, constraint violation: 0.00e+00, execution time: 0.97 s.\n",
      "species=BT, alpha=0.3, ini para=19\n"
     ]
    },
    {
     "name": "stderr",
     "output_type": "stream",
     "text": [
      "/opt/anaconda3/lib/python3.8/site-packages/scipy/optimize/_hessian_update_strategy.py:182: UserWarning: delta_grad == 0.0. Check if the approximated function is linear. If the function is linear better results can be obtained by defining the Hessian as zero instead of using quasi-Newton approximations.\n",
      "  warn('delta_grad == 0.0. Check if the approximated '\n"
     ]
    },
    {
     "name": "stdout",
     "output_type": "stream",
     "text": [
      "`xtol` termination condition is satisfied.\n",
      "Number of iterations: 59, function evaluations: 105, CG iterations: 86, optimality: 5.39e-08, constraint violation: 0.00e+00, execution time:  1.0 s.\n",
      "species=BT, alpha=0.3, ini para=20\n",
      "`gtol` termination condition is satisfied.\n",
      "Number of iterations: 32, function evaluations: 69, CG iterations: 40, optimality: 4.16e-09, constraint violation: 0.00e+00, execution time: 0.68 s.\n",
      "species=BT, alpha=0.3, ini para=21\n"
     ]
    },
    {
     "name": "stderr",
     "output_type": "stream",
     "text": [
      "/opt/anaconda3/lib/python3.8/site-packages/scipy/optimize/_hessian_update_strategy.py:182: UserWarning: delta_grad == 0.0. Check if the approximated function is linear. If the function is linear better results can be obtained by defining the Hessian as zero instead of using quasi-Newton approximations.\n",
      "  warn('delta_grad == 0.0. Check if the approximated '\n"
     ]
    },
    {
     "name": "stdout",
     "output_type": "stream",
     "text": [
      "`xtol` termination condition is satisfied.\n",
      "Number of iterations: 68, function evaluations: 123, CG iterations: 102, optimality: 8.14e-08, constraint violation: 0.00e+00, execution time:  1.2 s.\n",
      "species=BT, alpha=0.3, ini para=22\n",
      "`gtol` termination condition is satisfied.\n",
      "Number of iterations: 32, function evaluations: 69, CG iterations: 37, optimality: 5.10e-09, constraint violation: 0.00e+00, execution time:  1.1 s.\n",
      "species=BT, alpha=0.3, ini para=23\n"
     ]
    },
    {
     "name": "stderr",
     "output_type": "stream",
     "text": [
      "/opt/anaconda3/lib/python3.8/site-packages/scipy/optimize/_hessian_update_strategy.py:182: UserWarning: delta_grad == 0.0. Check if the approximated function is linear. If the function is linear better results can be obtained by defining the Hessian as zero instead of using quasi-Newton approximations.\n",
      "  warn('delta_grad == 0.0. Check if the approximated '\n"
     ]
    },
    {
     "name": "stdout",
     "output_type": "stream",
     "text": [
      "`xtol` termination condition is satisfied.\n",
      "Number of iterations: 58, function evaluations: 93, CG iterations: 87, optimality: 2.65e-08, constraint violation: 0.00e+00, execution time: 0.94 s.\n",
      "species=BT, alpha=0.3, ini para=24\n",
      "`xtol` termination condition is satisfied.\n",
      "Number of iterations: 73, function evaluations: 153, CG iterations: 103, optimality: 5.80e-08, constraint violation: 0.00e+00, execution time:  1.4 s.\n",
      "species=BT, alpha=0.3, ini para=25\n"
     ]
    },
    {
     "name": "stderr",
     "output_type": "stream",
     "text": [
      "/opt/anaconda3/lib/python3.8/site-packages/scipy/optimize/_hessian_update_strategy.py:182: UserWarning: delta_grad == 0.0. Check if the approximated function is linear. If the function is linear better results can be obtained by defining the Hessian as zero instead of using quasi-Newton approximations.\n",
      "  warn('delta_grad == 0.0. Check if the approximated '\n"
     ]
    },
    {
     "name": "stdout",
     "output_type": "stream",
     "text": [
      "`xtol` termination condition is satisfied.\n",
      "Number of iterations: 75, function evaluations: 162, CG iterations: 115, optimality: 5.39e-08, constraint violation: 0.00e+00, execution time:  1.4 s.\n",
      "species=BT, alpha=0.3, ini para=26\n",
      "`gtol` termination condition is satisfied.\n",
      "Number of iterations: 33, function evaluations: 72, CG iterations: 41, optimality: 4.16e-09, constraint violation: 0.00e+00, execution time: 0.68 s.\n",
      "species=BT, alpha=0.3, ini para=27\n",
      "`gtol` termination condition is satisfied.\n",
      "Number of iterations: 29, function evaluations: 60, CG iterations: 32, optimality: 4.16e-09, constraint violation: 0.00e+00, execution time: 0.59 s.\n",
      "species=BT, alpha=0.3, ini para=28\n"
     ]
    },
    {
     "name": "stderr",
     "output_type": "stream",
     "text": [
      "/opt/anaconda3/lib/python3.8/site-packages/scipy/optimize/_hessian_update_strategy.py:182: UserWarning: delta_grad == 0.0. Check if the approximated function is linear. If the function is linear better results can be obtained by defining the Hessian as zero instead of using quasi-Newton approximations.\n",
      "  warn('delta_grad == 0.0. Check if the approximated '\n"
     ]
    },
    {
     "name": "stdout",
     "output_type": "stream",
     "text": [
      "`xtol` termination condition is satisfied.\n",
      "Number of iterations: 55, function evaluations: 78, CG iterations: 84, optimality: 5.39e-08, constraint violation: 0.00e+00, execution time:  0.8 s.\n",
      "species=BT, alpha=0.3, ini para=29\n"
     ]
    },
    {
     "name": "stderr",
     "output_type": "stream",
     "text": [
      "/opt/anaconda3/lib/python3.8/site-packages/scipy/optimize/_hessian_update_strategy.py:182: UserWarning: delta_grad == 0.0. Check if the approximated function is linear. If the function is linear better results can be obtained by defining the Hessian as zero instead of using quasi-Newton approximations.\n",
      "  warn('delta_grad == 0.0. Check if the approximated '\n"
     ]
    },
    {
     "name": "stdout",
     "output_type": "stream",
     "text": [
      "`xtol` termination condition is satisfied.\n",
      "Number of iterations: 72, function evaluations: 150, CG iterations: 103, optimality: 1.64e-07, constraint violation: 0.00e+00, execution time:  1.4 s.\n",
      "species=BT, alpha=0.3, ini para=30\n"
     ]
    },
    {
     "name": "stderr",
     "output_type": "stream",
     "text": [
      "/opt/anaconda3/lib/python3.8/site-packages/scipy/optimize/_hessian_update_strategy.py:182: UserWarning: delta_grad == 0.0. Check if the approximated function is linear. If the function is linear better results can be obtained by defining the Hessian as zero instead of using quasi-Newton approximations.\n",
      "  warn('delta_grad == 0.0. Check if the approximated '\n"
     ]
    },
    {
     "name": "stdout",
     "output_type": "stream",
     "text": [
      "`xtol` termination condition is satisfied.\n",
      "Number of iterations: 69, function evaluations: 126, CG iterations: 92, optimality: 1.17e-07, constraint violation: 0.00e+00, execution time:  1.2 s.\n",
      "species=BT, alpha=0.3, ini para=31\n",
      "`xtol` termination condition is satisfied.\n",
      "Number of iterations: 63, function evaluations: 132, CG iterations: 97, optimality: 8.75e-08, constraint violation: 0.00e+00, execution time:  1.2 s.\n",
      "species=BT, alpha=0.3, ini para=32\n",
      "`xtol` termination condition is satisfied.\n",
      "Number of iterations: 64, function evaluations: 123, CG iterations: 88, optimality: 8.14e-08, constraint violation: 0.00e+00, execution time:  1.2 s.\n",
      "species=BT, alpha=0.3, ini para=33\n",
      "`gtol` termination condition is satisfied.\n",
      "Number of iterations: 30, function evaluations: 66, CG iterations: 39, optimality: 9.78e-09, constraint violation: 0.00e+00, execution time: 0.66 s.\n",
      "species=BT, alpha=0.3, ini para=34\n"
     ]
    },
    {
     "name": "stderr",
     "output_type": "stream",
     "text": [
      "/opt/anaconda3/lib/python3.8/site-packages/scipy/optimize/_hessian_update_strategy.py:182: UserWarning: delta_grad == 0.0. Check if the approximated function is linear. If the function is linear better results can be obtained by defining the Hessian as zero instead of using quasi-Newton approximations.\n",
      "  warn('delta_grad == 0.0. Check if the approximated '\n"
     ]
    },
    {
     "name": "stdout",
     "output_type": "stream",
     "text": [
      "`xtol` termination condition is satisfied.\n",
      "Number of iterations: 61, function evaluations: 120, CG iterations: 94, optimality: 1.09e-07, constraint violation: 0.00e+00, execution time:  1.1 s.\n",
      "species=BT, alpha=0.3, ini para=35\n",
      "`gtol` termination condition is satisfied.\n",
      "Number of iterations: 29, function evaluations: 63, CG iterations: 37, optimality: 9.78e-09, constraint violation: 0.00e+00, execution time:  0.6 s.\n",
      "species=BT, alpha=0.3, ini para=36\n",
      "`gtol` termination condition is satisfied.\n",
      "Number of iterations: 30, function evaluations: 66, CG iterations: 34, optimality: 4.16e-09, constraint violation: 0.00e+00, execution time: 0.64 s.\n",
      "species=BT, alpha=0.3, ini para=37\n",
      "`xtol` termination condition is satisfied.\n",
      "Number of iterations: 68, function evaluations: 123, CG iterations: 102, optimality: 2.85e-08, constraint violation: 0.00e+00, execution time:  1.2 s.\n",
      "species=BT, alpha=0.3, ini para=38\n",
      "`xtol` termination condition is satisfied.\n",
      "Number of iterations: 60, function evaluations: 96, CG iterations: 90, optimality: 1.17e-07, constraint violation: 0.00e+00, execution time:  1.2 s.\n",
      "species=BT, alpha=0.3, ini para=39\n",
      "`xtol` termination condition is satisfied.\n",
      "Number of iterations: 66, function evaluations: 141, CG iterations: 88, optimality: 1.47e-07, constraint violation: 0.00e+00, execution time:  1.3 s.\n",
      "species=BT, alpha=0.3, ini para=40\n",
      "`xtol` termination condition is satisfied.\n",
      "Number of iterations: 59, function evaluations: 120, CG iterations: 78, optimality: 1.09e-07, constraint violation: 0.00e+00, execution time:  1.1 s.\n",
      "species=BT, alpha=0.3, ini para=41\n",
      "`xtol` termination condition is satisfied.\n",
      "Number of iterations: 56, function evaluations: 99, CG iterations: 83, optimality: 5.80e-08, constraint violation: 0.00e+00, execution time: 0.91 s.\n",
      "species=BT, alpha=0.3, ini para=42\n",
      "`xtol` termination condition is satisfied.\n",
      "Number of iterations: 74, function evaluations: 174, CG iterations: 111, optimality: 1.47e-07, constraint violation: 0.00e+00, execution time:  1.5 s.\n",
      "species=BT, alpha=0.3, ini para=43\n",
      "`xtol` termination condition is satisfied.\n",
      "Number of iterations: 60, function evaluations: 123, CG iterations: 75, optimality: 5.80e-08, constraint violation: 0.00e+00, execution time:  1.1 s.\n",
      "species=BT, alpha=0.3, ini para=44\n"
     ]
    },
    {
     "name": "stderr",
     "output_type": "stream",
     "text": [
      "/opt/anaconda3/lib/python3.8/site-packages/scipy/optimize/_hessian_update_strategy.py:182: UserWarning: delta_grad == 0.0. Check if the approximated function is linear. If the function is linear better results can be obtained by defining the Hessian as zero instead of using quasi-Newton approximations.\n",
      "  warn('delta_grad == 0.0. Check if the approximated '\n"
     ]
    },
    {
     "name": "stdout",
     "output_type": "stream",
     "text": [
      "`xtol` termination condition is satisfied.\n",
      "Number of iterations: 76, function evaluations: 174, CG iterations: 114, optimality: 1.17e-07, constraint violation: 0.00e+00, execution time:  1.5 s.\n",
      "species=BT, alpha=0.3, ini para=45\n",
      "`xtol` termination condition is satisfied.\n",
      "Number of iterations: 87, function evaluations: 207, CG iterations: 131, optimality: 8.75e-08, constraint violation: 0.00e+00, execution time:  1.9 s.\n",
      "species=BT, alpha=0.3, ini para=46\n"
     ]
    },
    {
     "name": "stderr",
     "output_type": "stream",
     "text": [
      "/opt/anaconda3/lib/python3.8/site-packages/scipy/optimize/_hessian_update_strategy.py:182: UserWarning: delta_grad == 0.0. Check if the approximated function is linear. If the function is linear better results can be obtained by defining the Hessian as zero instead of using quasi-Newton approximations.\n",
      "  warn('delta_grad == 0.0. Check if the approximated '\n"
     ]
    },
    {
     "name": "stdout",
     "output_type": "stream",
     "text": [
      "`xtol` termination condition is satisfied.\n",
      "Number of iterations: 65, function evaluations: 99, CG iterations: 85, optimality: 2.65e-08, constraint violation: 0.00e+00, execution time: 0.98 s.\n",
      "species=BT, alpha=0.3, ini para=47\n",
      "`xtol` termination condition is satisfied.\n",
      "Number of iterations: 74, function evaluations: 165, CG iterations: 102, optimality: 8.75e-08, constraint violation: 0.00e+00, execution time:  1.4 s.\n",
      "species=BT, alpha=0.3, ini para=48\n",
      "`xtol` termination condition is satisfied.\n",
      "Number of iterations: 69, function evaluations: 117, CG iterations: 81, optimality: 8.14e-08, constraint violation: 0.00e+00, execution time:  1.1 s.\n",
      "species=BT, alpha=0.3, ini para=49\n",
      "`xtol` termination condition is satisfied.\n",
      "Number of iterations: 61, function evaluations: 102, CG iterations: 86, optimality: 5.39e-08, constraint violation: 0.00e+00, execution time: 0.97 s.\n",
      "species=BT, alpha=0.3, ini para=50\n",
      "`xtol` termination condition is satisfied.\n",
      "Number of iterations: 78, function evaluations: 204, CG iterations: 114, optimality: 8.14e-08, constraint violation: 0.00e+00, execution time:  1.8 s.\n",
      "species=BT, alpha=0.3, ini para=51\n",
      "`xtol` termination condition is satisfied.\n",
      "Number of iterations: 74, function evaluations: 162, CG iterations: 105, optimality: 8.75e-08, constraint violation: 0.00e+00, execution time:  1.4 s.\n",
      "species=BT, alpha=0.3, ini para=52\n",
      "`xtol` termination condition is satisfied.\n",
      "Number of iterations: 59, function evaluations: 108, CG iterations: 88, optimality: 5.39e-08, constraint violation: 0.00e+00, execution time:  1.0 s.\n",
      "species=BT, alpha=0.3, ini para=53\n",
      "`xtol` termination condition is satisfied.\n",
      "Number of iterations: 79, function evaluations: 174, CG iterations: 117, optimality: 8.75e-08, constraint violation: 0.00e+00, execution time:  1.6 s.\n",
      "species=BT, alpha=0.3, ini para=54\n",
      "`xtol` termination condition is satisfied.\n",
      "Number of iterations: 59, function evaluations: 99, CG iterations: 91, optimality: 2.85e-08, constraint violation: 0.00e+00, execution time: 0.94 s.\n",
      "species=BT, alpha=0.3, ini para=55\n"
     ]
    },
    {
     "name": "stderr",
     "output_type": "stream",
     "text": [
      "/opt/anaconda3/lib/python3.8/site-packages/scipy/optimize/_hessian_update_strategy.py:182: UserWarning: delta_grad == 0.0. Check if the approximated function is linear. If the function is linear better results can be obtained by defining the Hessian as zero instead of using quasi-Newton approximations.\n",
      "  warn('delta_grad == 0.0. Check if the approximated '\n"
     ]
    },
    {
     "name": "stdout",
     "output_type": "stream",
     "text": [
      "`xtol` termination condition is satisfied.\n",
      "Number of iterations: 69, function evaluations: 117, CG iterations: 106, optimality: 2.85e-08, constraint violation: 0.00e+00, execution time:  1.3 s.\n",
      "species=BT, alpha=0.3, ini para=56\n",
      "`xtol` termination condition is satisfied.\n",
      "Number of iterations: 122, function evaluations: 303, CG iterations: 160, optimality: 8.14e-08, constraint violation: 0.00e+00, execution time:  3.4 s.\n",
      "species=BT, alpha=0.3, ini para=57\n",
      "`xtol` termination condition is satisfied.\n",
      "Number of iterations: 72, function evaluations: 174, CG iterations: 95, optimality: 1.47e-07, constraint violation: 0.00e+00, execution time:  1.5 s.\n",
      "species=BT, alpha=0.3, ini para=58\n",
      "`xtol` termination condition is satisfied.\n",
      "Number of iterations: 73, function evaluations: 144, CG iterations: 108, optimality: 8.14e-08, constraint violation: 0.00e+00, execution time:  1.3 s.\n",
      "species=BT, alpha=0.3, ini para=59\n",
      "`xtol` termination condition is satisfied.\n",
      "Number of iterations: 63, function evaluations: 99, CG iterations: 96, optimality: 8.75e-08, constraint violation: 0.00e+00, execution time: 0.96 s.\n",
      "species=BT, alpha=0.3, ini para=60\n",
      "`gtol` termination condition is satisfied.\n",
      "Number of iterations: 31, function evaluations: 69, CG iterations: 40, optimality: 9.78e-09, constraint violation: 0.00e+00, execution time: 0.65 s.\n",
      "species=BT, alpha=0.3, ini para=61\n",
      "`xtol` termination condition is satisfied.\n",
      "Number of iterations: 72, function evaluations: 147, CG iterations: 100, optimality: 8.75e-08, constraint violation: 0.00e+00, execution time:  1.4 s.\n",
      "species=BT, alpha=0.3, ini para=62\n"
     ]
    },
    {
     "name": "stderr",
     "output_type": "stream",
     "text": [
      "/opt/anaconda3/lib/python3.8/site-packages/scipy/optimize/_hessian_update_strategy.py:182: UserWarning: delta_grad == 0.0. Check if the approximated function is linear. If the function is linear better results can be obtained by defining the Hessian as zero instead of using quasi-Newton approximations.\n",
      "  warn('delta_grad == 0.0. Check if the approximated '\n"
     ]
    },
    {
     "name": "stdout",
     "output_type": "stream",
     "text": [
      "`xtol` termination condition is satisfied.\n",
      "Number of iterations: 64, function evaluations: 111, CG iterations: 100, optimality: 8.75e-08, constraint violation: 0.00e+00, execution time:  1.1 s.\n",
      "species=BT, alpha=0.3, ini para=63\n"
     ]
    },
    {
     "name": "stderr",
     "output_type": "stream",
     "text": [
      "/opt/anaconda3/lib/python3.8/site-packages/scipy/optimize/_hessian_update_strategy.py:182: UserWarning: delta_grad == 0.0. Check if the approximated function is linear. If the function is linear better results can be obtained by defining the Hessian as zero instead of using quasi-Newton approximations.\n",
      "  warn('delta_grad == 0.0. Check if the approximated '\n"
     ]
    },
    {
     "name": "stdout",
     "output_type": "stream",
     "text": [
      "`xtol` termination condition is satisfied.\n",
      "Number of iterations: 67, function evaluations: 141, CG iterations: 96, optimality: 5.80e-08, constraint violation: 0.00e+00, execution time:  1.5 s.\n",
      "species=BT, alpha=0.3, ini para=64\n",
      "`gtol` termination condition is satisfied.\n",
      "Number of iterations: 28, function evaluations: 60, CG iterations: 32, optimality: 9.78e-09, constraint violation: 0.00e+00, execution time: 0.78 s.\n",
      "species=BT, alpha=0.3, ini para=65\n"
     ]
    },
    {
     "name": "stderr",
     "output_type": "stream",
     "text": [
      "/opt/anaconda3/lib/python3.8/site-packages/scipy/optimize/_hessian_update_strategy.py:182: UserWarning: delta_grad == 0.0. Check if the approximated function is linear. If the function is linear better results can be obtained by defining the Hessian as zero instead of using quasi-Newton approximations.\n",
      "  warn('delta_grad == 0.0. Check if the approximated '\n"
     ]
    },
    {
     "name": "stdout",
     "output_type": "stream",
     "text": [
      "`xtol` termination condition is satisfied.\n",
      "Number of iterations: 61, function evaluations: 99, CG iterations: 89, optimality: 8.75e-08, constraint violation: 0.00e+00, execution time:  1.4 s.\n",
      "species=BT, alpha=0.3, ini para=66\n",
      "`xtol` termination condition is satisfied.\n",
      "Number of iterations: 66, function evaluations: 153, CG iterations: 96, optimality: 8.75e-08, constraint violation: 0.00e+00, execution time:  1.3 s.\n",
      "species=BT, alpha=0.3, ini para=67\n",
      "`gtol` termination condition is satisfied.\n",
      "Number of iterations: 30, function evaluations: 63, CG iterations: 36, optimality: 4.16e-09, constraint violation: 0.00e+00, execution time: 0.61 s.\n",
      "species=BT, alpha=0.3, ini para=68\n",
      "`gtol` termination condition is satisfied.\n",
      "Number of iterations: 28, function evaluations: 54, CG iterations: 31, optimality: 5.10e-09, constraint violation: 0.00e+00, execution time: 0.55 s.\n",
      "species=BT, alpha=0.3, ini para=69\n",
      "`gtol` termination condition is satisfied.\n",
      "Number of iterations: 37, function evaluations: 90, CG iterations: 50, optimality: 4.16e-09, constraint violation: 0.00e+00, execution time: 0.88 s.\n",
      "species=BT, alpha=0.3, ini para=70\n",
      "`xtol` termination condition is satisfied.\n",
      "Number of iterations: 64, function evaluations: 126, CG iterations: 95, optimality: 1.91e-07, constraint violation: 0.00e+00, execution time:  1.1 s.\n",
      "species=BT, alpha=0.3, ini para=71\n"
     ]
    },
    {
     "name": "stderr",
     "output_type": "stream",
     "text": [
      "/opt/anaconda3/lib/python3.8/site-packages/scipy/optimize/_hessian_update_strategy.py:182: UserWarning: delta_grad == 0.0. Check if the approximated function is linear. If the function is linear better results can be obtained by defining the Hessian as zero instead of using quasi-Newton approximations.\n",
      "  warn('delta_grad == 0.0. Check if the approximated '\n"
     ]
    },
    {
     "name": "stdout",
     "output_type": "stream",
     "text": [
      "`xtol` termination condition is satisfied.\n",
      "Number of iterations: 63, function evaluations: 129, CG iterations: 85, optimality: 1.17e-07, constraint violation: 0.00e+00, execution time:  1.2 s.\n",
      "species=BT, alpha=0.3, ini para=72\n"
     ]
    },
    {
     "name": "stderr",
     "output_type": "stream",
     "text": [
      "/opt/anaconda3/lib/python3.8/site-packages/scipy/optimize/_hessian_update_strategy.py:182: UserWarning: delta_grad == 0.0. Check if the approximated function is linear. If the function is linear better results can be obtained by defining the Hessian as zero instead of using quasi-Newton approximations.\n",
      "  warn('delta_grad == 0.0. Check if the approximated '\n"
     ]
    },
    {
     "name": "stdout",
     "output_type": "stream",
     "text": [
      "`xtol` termination condition is satisfied.\n",
      "Number of iterations: 72, function evaluations: 138, CG iterations: 111, optimality: 8.14e-08, constraint violation: 0.00e+00, execution time:  1.3 s.\n",
      "species=BT, alpha=0.3, ini para=73\n"
     ]
    },
    {
     "name": "stderr",
     "output_type": "stream",
     "text": [
      "/opt/anaconda3/lib/python3.8/site-packages/scipy/optimize/_hessian_update_strategy.py:182: UserWarning: delta_grad == 0.0. Check if the approximated function is linear. If the function is linear better results can be obtained by defining the Hessian as zero instead of using quasi-Newton approximations.\n",
      "  warn('delta_grad == 0.0. Check if the approximated '\n"
     ]
    },
    {
     "name": "stdout",
     "output_type": "stream",
     "text": [
      "`xtol` termination condition is satisfied.\n",
      "Number of iterations: 69, function evaluations: 147, CG iterations: 104, optimality: 1.17e-07, constraint violation: 0.00e+00, execution time:  1.4 s.\n",
      "species=BT, alpha=0.3, ini para=74\n"
     ]
    },
    {
     "name": "stderr",
     "output_type": "stream",
     "text": [
      "/opt/anaconda3/lib/python3.8/site-packages/scipy/optimize/_hessian_update_strategy.py:182: UserWarning: delta_grad == 0.0. Check if the approximated function is linear. If the function is linear better results can be obtained by defining the Hessian as zero instead of using quasi-Newton approximations.\n",
      "  warn('delta_grad == 0.0. Check if the approximated '\n"
     ]
    },
    {
     "name": "stdout",
     "output_type": "stream",
     "text": [
      "`xtol` termination condition is satisfied.\n",
      "Number of iterations: 66, function evaluations: 126, CG iterations: 99, optimality: 5.39e-08, constraint violation: 0.00e+00, execution time:  1.2 s.\n",
      "species=BT, alpha=0.3, ini para=75\n"
     ]
    },
    {
     "name": "stderr",
     "output_type": "stream",
     "text": [
      "/opt/anaconda3/lib/python3.8/site-packages/scipy/optimize/_hessian_update_strategy.py:182: UserWarning: delta_grad == 0.0. Check if the approximated function is linear. If the function is linear better results can be obtained by defining the Hessian as zero instead of using quasi-Newton approximations.\n",
      "  warn('delta_grad == 0.0. Check if the approximated '\n"
     ]
    },
    {
     "name": "stdout",
     "output_type": "stream",
     "text": [
      "`xtol` termination condition is satisfied.\n",
      "Number of iterations: 66, function evaluations: 126, CG iterations: 99, optimality: 1.17e-07, constraint violation: 0.00e+00, execution time:  1.2 s.\n",
      "species=BT, alpha=0.3, ini para=76\n",
      "`gtol` termination condition is satisfied.\n",
      "Number of iterations: 36, function evaluations: 84, CG iterations: 47, optimality: 4.16e-09, constraint violation: 0.00e+00, execution time:  0.8 s.\n",
      "species=BT, alpha=0.3, ini para=77\n"
     ]
    },
    {
     "name": "stderr",
     "output_type": "stream",
     "text": [
      "/opt/anaconda3/lib/python3.8/site-packages/scipy/optimize/_hessian_update_strategy.py:182: UserWarning: delta_grad == 0.0. Check if the approximated function is linear. If the function is linear better results can be obtained by defining the Hessian as zero instead of using quasi-Newton approximations.\n",
      "  warn('delta_grad == 0.0. Check if the approximated '\n",
      "/opt/anaconda3/lib/python3.8/site-packages/scipy/optimize/_hessian_update_strategy.py:182: UserWarning: delta_grad == 0.0. Check if the approximated function is linear. If the function is linear better results can be obtained by defining the Hessian as zero instead of using quasi-Newton approximations.\n",
      "  warn('delta_grad == 0.0. Check if the approximated '\n"
     ]
    },
    {
     "name": "stdout",
     "output_type": "stream",
     "text": [
      "`xtol` termination condition is satisfied.\n",
      "Number of iterations: 72, function evaluations: 138, CG iterations: 112, optimality: 8.14e-08, constraint violation: 0.00e+00, execution time:  1.3 s.\n",
      "species=BT, alpha=0.3, ini para=78\n",
      "`xtol` termination condition is satisfied.\n",
      "Number of iterations: 61, function evaluations: 102, CG iterations: 88, optimality: 5.80e-08, constraint violation: 0.00e+00, execution time:  1.0 s.\n",
      "species=BT, alpha=0.3, ini para=79\n",
      "`xtol` termination condition is satisfied.\n",
      "Number of iterations: 72, function evaluations: 153, CG iterations: 108, optimality: 8.14e-08, constraint violation: 0.00e+00, execution time:  1.4 s.\n",
      "species=BT, alpha=0.3, ini para=80\n",
      "`gtol` termination condition is satisfied.\n",
      "Number of iterations: 29, function evaluations: 60, CG iterations: 35, optimality: 4.16e-09, constraint violation: 0.00e+00, execution time:  0.6 s.\n",
      "species=BT, alpha=0.3, ini para=81\n",
      "`gtol` termination condition is satisfied.\n",
      "Number of iterations: 26, function evaluations: 51, CG iterations: 30, optimality: 4.16e-09, constraint violation: 0.00e+00, execution time: 0.51 s.\n",
      "species=BT, alpha=0.3, ini para=82\n"
     ]
    },
    {
     "name": "stderr",
     "output_type": "stream",
     "text": [
      "/opt/anaconda3/lib/python3.8/site-packages/scipy/optimize/_hessian_update_strategy.py:182: UserWarning: delta_grad == 0.0. Check if the approximated function is linear. If the function is linear better results can be obtained by defining the Hessian as zero instead of using quasi-Newton approximations.\n",
      "  warn('delta_grad == 0.0. Check if the approximated '\n"
     ]
    },
    {
     "name": "stdout",
     "output_type": "stream",
     "text": [
      "`xtol` termination condition is satisfied.\n",
      "Number of iterations: 67, function evaluations: 138, CG iterations: 99, optimality: 8.14e-08, constraint violation: 0.00e+00, execution time:  1.3 s.\n",
      "species=BT, alpha=0.3, ini para=83\n",
      "`xtol` termination condition is satisfied.\n",
      "Number of iterations: 68, function evaluations: 138, CG iterations: 90, optimality: 1.36e-07, constraint violation: 0.00e+00, execution time:  1.2 s.\n",
      "species=BT, alpha=0.3, ini para=84\n",
      "`xtol` termination condition is satisfied.\n",
      "Number of iterations: 62, function evaluations: 111, CG iterations: 89, optimality: 5.80e-08, constraint violation: 0.00e+00, execution time:  1.1 s.\n",
      "species=BT, alpha=0.3, ini para=85\n"
     ]
    },
    {
     "name": "stderr",
     "output_type": "stream",
     "text": [
      "/opt/anaconda3/lib/python3.8/site-packages/scipy/optimize/_hessian_update_strategy.py:182: UserWarning: delta_grad == 0.0. Check if the approximated function is linear. If the function is linear better results can be obtained by defining the Hessian as zero instead of using quasi-Newton approximations.\n",
      "  warn('delta_grad == 0.0. Check if the approximated '\n"
     ]
    },
    {
     "name": "stdout",
     "output_type": "stream",
     "text": [
      "`xtol` termination condition is satisfied.\n",
      "Number of iterations: 64, function evaluations: 132, CG iterations: 100, optimality: 8.14e-08, constraint violation: 0.00e+00, execution time:  1.2 s.\n",
      "species=BT, alpha=0.3, ini para=86\n"
     ]
    },
    {
     "name": "stderr",
     "output_type": "stream",
     "text": [
      "/opt/anaconda3/lib/python3.8/site-packages/scipy/optimize/_hessian_update_strategy.py:182: UserWarning: delta_grad == 0.0. Check if the approximated function is linear. If the function is linear better results can be obtained by defining the Hessian as zero instead of using quasi-Newton approximations.\n",
      "  warn('delta_grad == 0.0. Check if the approximated '\n"
     ]
    },
    {
     "name": "stdout",
     "output_type": "stream",
     "text": [
      "`xtol` termination condition is satisfied.\n",
      "Number of iterations: 72, function evaluations: 138, CG iterations: 115, optimality: 1.17e-07, constraint violation: 0.00e+00, execution time:  1.3 s.\n",
      "species=BT, alpha=0.3, ini para=87\n",
      "`xtol` termination condition is satisfied.\n",
      "Number of iterations: 66, function evaluations: 126, CG iterations: 102, optimality: 8.14e-08, constraint violation: 0.00e+00, execution time:  1.2 s.\n",
      "species=BT, alpha=0.3, ini para=88\n"
     ]
    },
    {
     "name": "stderr",
     "output_type": "stream",
     "text": [
      "/opt/anaconda3/lib/python3.8/site-packages/scipy/optimize/_hessian_update_strategy.py:182: UserWarning: delta_grad == 0.0. Check if the approximated function is linear. If the function is linear better results can be obtained by defining the Hessian as zero instead of using quasi-Newton approximations.\n",
      "  warn('delta_grad == 0.0. Check if the approximated '\n",
      "/opt/anaconda3/lib/python3.8/site-packages/scipy/optimize/_hessian_update_strategy.py:182: UserWarning: delta_grad == 0.0. Check if the approximated function is linear. If the function is linear better results can be obtained by defining the Hessian as zero instead of using quasi-Newton approximations.\n",
      "  warn('delta_grad == 0.0. Check if the approximated '\n"
     ]
    },
    {
     "name": "stdout",
     "output_type": "stream",
     "text": [
      "`xtol` termination condition is satisfied.\n",
      "Number of iterations: 78, function evaluations: 165, CG iterations: 117, optimality: 8.75e-08, constraint violation: 0.00e+00, execution time:  1.5 s.\n",
      "species=BT, alpha=0.3, ini para=89\n",
      "`xtol` termination condition is satisfied.\n",
      "Number of iterations: 71, function evaluations: 138, CG iterations: 104, optimality: 1.36e-07, constraint violation: 0.00e+00, execution time:  1.3 s.\n",
      "species=BT, alpha=0.3, ini para=90\n"
     ]
    },
    {
     "name": "stderr",
     "output_type": "stream",
     "text": [
      "/opt/anaconda3/lib/python3.8/site-packages/scipy/optimize/_hessian_update_strategy.py:182: UserWarning: delta_grad == 0.0. Check if the approximated function is linear. If the function is linear better results can be obtained by defining the Hessian as zero instead of using quasi-Newton approximations.\n",
      "  warn('delta_grad == 0.0. Check if the approximated '\n"
     ]
    },
    {
     "name": "stdout",
     "output_type": "stream",
     "text": [
      "`xtol` termination condition is satisfied.\n",
      "Number of iterations: 64, function evaluations: 129, CG iterations: 94, optimality: 8.75e-08, constraint violation: 0.00e+00, execution time:  1.2 s.\n",
      "species=BT, alpha=0.3, ini para=91\n"
     ]
    },
    {
     "name": "stderr",
     "output_type": "stream",
     "text": [
      "/opt/anaconda3/lib/python3.8/site-packages/scipy/optimize/_hessian_update_strategy.py:182: UserWarning: delta_grad == 0.0. Check if the approximated function is linear. If the function is linear better results can be obtained by defining the Hessian as zero instead of using quasi-Newton approximations.\n",
      "  warn('delta_grad == 0.0. Check if the approximated '\n"
     ]
    },
    {
     "name": "stdout",
     "output_type": "stream",
     "text": [
      "`xtol` termination condition is satisfied.\n",
      "Number of iterations: 67, function evaluations: 126, CG iterations: 102, optimality: 1.17e-07, constraint violation: 0.00e+00, execution time:  1.2 s.\n",
      "species=BT, alpha=0.3, ini para=92\n",
      "`xtol` termination condition is satisfied.\n",
      "Number of iterations: 70, function evaluations: 132, CG iterations: 109, optimality: 1.17e-07, constraint violation: 0.00e+00, execution time:  1.2 s.\n",
      "species=BT, alpha=0.3, ini para=93\n"
     ]
    },
    {
     "name": "stderr",
     "output_type": "stream",
     "text": [
      "/opt/anaconda3/lib/python3.8/site-packages/scipy/optimize/_hessian_update_strategy.py:182: UserWarning: delta_grad == 0.0. Check if the approximated function is linear. If the function is linear better results can be obtained by defining the Hessian as zero instead of using quasi-Newton approximations.\n",
      "  warn('delta_grad == 0.0. Check if the approximated '\n"
     ]
    },
    {
     "name": "stdout",
     "output_type": "stream",
     "text": [
      "`xtol` termination condition is satisfied.\n",
      "Number of iterations: 55, function evaluations: 75, CG iterations: 82, optimality: 2.65e-08, constraint violation: 0.00e+00, execution time:  1.2 s.\n",
      "species=BT, alpha=0.3, ini para=94\n",
      "`gtol` termination condition is satisfied.\n",
      "Number of iterations: 31, function evaluations: 69, CG iterations: 38, optimality: 9.78e-09, constraint violation: 0.00e+00, execution time: 0.68 s.\n",
      "species=BT, alpha=0.3, ini para=95\n",
      "`xtol` termination condition is satisfied.\n",
      "Number of iterations: 66, function evaluations: 138, CG iterations: 99, optimality: 5.39e-08, constraint violation: 0.00e+00, execution time:  1.2 s.\n",
      "species=BT, alpha=0.3, ini para=96\n",
      "`xtol` termination condition is satisfied.\n",
      "Number of iterations: 71, function evaluations: 135, CG iterations: 102, optimality: 8.75e-08, constraint violation: 0.00e+00, execution time:  1.2 s.\n",
      "species=BT, alpha=0.3, ini para=97\n",
      "`gtol` termination condition is satisfied.\n",
      "Number of iterations: 35, function evaluations: 78, CG iterations: 45, optimality: 4.16e-09, constraint violation: 0.00e+00, execution time: 0.75 s.\n",
      "species=BT, alpha=0.3, ini para=98\n",
      "`xtol` termination condition is satisfied.\n",
      "Number of iterations: 58, function evaluations: 111, CG iterations: 80, optimality: 5.80e-08, constraint violation: 0.00e+00, execution time:  1.1 s.\n",
      "species=BT, alpha=0.3, ini para=99\n"
     ]
    },
    {
     "name": "stderr",
     "output_type": "stream",
     "text": [
      "/opt/anaconda3/lib/python3.8/site-packages/scipy/optimize/_hessian_update_strategy.py:182: UserWarning: delta_grad == 0.0. Check if the approximated function is linear. If the function is linear better results can be obtained by defining the Hessian as zero instead of using quasi-Newton approximations.\n",
      "  warn('delta_grad == 0.0. Check if the approximated '\n"
     ]
    },
    {
     "name": "stdout",
     "output_type": "stream",
     "text": [
      "`xtol` termination condition is satisfied.\n",
      "Number of iterations: 67, function evaluations: 120, CG iterations: 91, optimality: 1.17e-07, constraint violation: 0.00e+00, execution time:  1.2 s.\n",
      "species=BT, alpha=1, ini para=0\n"
     ]
    },
    {
     "name": "stderr",
     "output_type": "stream",
     "text": [
      "/opt/anaconda3/lib/python3.8/site-packages/scipy/optimize/_hessian_update_strategy.py:182: UserWarning: delta_grad == 0.0. Check if the approximated function is linear. If the function is linear better results can be obtained by defining the Hessian as zero instead of using quasi-Newton approximations.\n",
      "  warn('delta_grad == 0.0. Check if the approximated '\n"
     ]
    },
    {
     "name": "stdout",
     "output_type": "stream",
     "text": [
      "`xtol` termination condition is satisfied.\n",
      "Number of iterations: 71, function evaluations: 180, CG iterations: 101, optimality: 1.18e-07, constraint violation: 0.00e+00, execution time:  1.5 s.\n",
      "species=BT, alpha=1, ini para=1\n",
      "`gtol` termination condition is satisfied.\n",
      "Number of iterations: 24, function evaluations: 51, CG iterations: 26, optimality: 7.78e-09, constraint violation: 0.00e+00, execution time: 0.47 s.\n",
      "species=BT, alpha=1, ini para=2\n",
      "`xtol` termination condition is satisfied.\n",
      "Number of iterations: 75, function evaluations: 153, CG iterations: 112, optimality: 1.62e-07, constraint violation: 0.00e+00, execution time:  1.4 s.\n",
      "species=BT, alpha=1, ini para=3\n",
      "`xtol` termination condition is satisfied.\n",
      "Number of iterations: 68, function evaluations: 117, CG iterations: 105, optimality: 2.06e-07, constraint violation: 0.00e+00, execution time:  1.1 s.\n",
      "species=BT, alpha=1, ini para=4\n",
      "`xtol` termination condition is satisfied.\n",
      "Number of iterations: 82, function evaluations: 177, CG iterations: 120, optimality: 2.14e-07, constraint violation: 0.00e+00, execution time:  1.6 s.\n",
      "species=BT, alpha=1, ini para=5\n"
     ]
    },
    {
     "name": "stderr",
     "output_type": "stream",
     "text": [
      "/opt/anaconda3/lib/python3.8/site-packages/scipy/optimize/_hessian_update_strategy.py:182: UserWarning: delta_grad == 0.0. Check if the approximated function is linear. If the function is linear better results can be obtained by defining the Hessian as zero instead of using quasi-Newton approximations.\n",
      "  warn('delta_grad == 0.0. Check if the approximated '\n"
     ]
    },
    {
     "name": "stdout",
     "output_type": "stream",
     "text": [
      "`xtol` termination condition is satisfied.\n",
      "Number of iterations: 83, function evaluations: 186, CG iterations: 129, optimality: 1.66e-07, constraint violation: 0.00e+00, execution time:  1.6 s.\n",
      "species=BT, alpha=1, ini para=6\n",
      "`xtol` termination condition is satisfied.\n",
      "Number of iterations: 88, function evaluations: 195, CG iterations: 125, optimality: 1.62e-07, constraint violation: 0.00e+00, execution time:  1.7 s.\n",
      "species=BT, alpha=1, ini para=7\n",
      "`xtol` termination condition is satisfied.\n",
      "Number of iterations: 67, function evaluations: 132, CG iterations: 101, optimality: 1.17e-07, constraint violation: 0.00e+00, execution time:  1.2 s.\n",
      "species=BT, alpha=1, ini para=8\n",
      "`xtol` termination condition is satisfied.\n",
      "Number of iterations: 88, function evaluations: 213, CG iterations: 139, optimality: 1.17e-07, constraint violation: 0.00e+00, execution time:  1.8 s.\n",
      "species=BT, alpha=1, ini para=9\n",
      "`xtol` termination condition is satisfied.\n",
      "Number of iterations: 79, function evaluations: 177, CG iterations: 113, optimality: 1.77e-07, constraint violation: 0.00e+00, execution time:  1.5 s.\n",
      "species=BT, alpha=1, ini para=10\n",
      "`xtol` termination condition is satisfied.\n",
      "Number of iterations: 74, function evaluations: 180, CG iterations: 104, optimality: 1.90e-07, constraint violation: 0.00e+00, execution time:  1.7 s.\n",
      "species=BT, alpha=1, ini para=11\n",
      "`xtol` termination condition is satisfied.\n",
      "Number of iterations: 79, function evaluations: 168, CG iterations: 117, optimality: 1.18e-07, constraint violation: 0.00e+00, execution time:  1.6 s.\n",
      "species=BT, alpha=1, ini para=12\n",
      "`xtol` termination condition is satisfied.\n",
      "Number of iterations: 79, function evaluations: 168, CG iterations: 112, optimality: 1.47e-07, constraint violation: 0.00e+00, execution time:  1.6 s.\n",
      "species=BT, alpha=1, ini para=13\n",
      "`xtol` termination condition is satisfied.\n",
      "Number of iterations: 81, function evaluations: 180, CG iterations: 110, optimality: 1.54e-07, constraint violation: 0.00e+00, execution time:  1.7 s.\n",
      "species=BT, alpha=1, ini para=14\n",
      "`xtol` termination condition is satisfied.\n",
      "Number of iterations: 74, function evaluations: 153, CG iterations: 109, optimality: 1.47e-07, constraint violation: 0.00e+00, execution time:  1.3 s.\n",
      "species=BT, alpha=1, ini para=15\n",
      "`xtol` termination condition is satisfied.\n",
      "Number of iterations: 75, function evaluations: 165, CG iterations: 114, optimality: 1.47e-07, constraint violation: 0.00e+00, execution time:  1.5 s.\n",
      "species=BT, alpha=1, ini para=16\n"
     ]
    },
    {
     "name": "stderr",
     "output_type": "stream",
     "text": [
      "/opt/anaconda3/lib/python3.8/site-packages/scipy/optimize/_hessian_update_strategy.py:182: UserWarning: delta_grad == 0.0. Check if the approximated function is linear. If the function is linear better results can be obtained by defining the Hessian as zero instead of using quasi-Newton approximations.\n",
      "  warn('delta_grad == 0.0. Check if the approximated '\n"
     ]
    },
    {
     "name": "stdout",
     "output_type": "stream",
     "text": [
      "`xtol` termination condition is satisfied.\n",
      "Number of iterations: 75, function evaluations: 150, CG iterations: 117, optimality: 1.42e-07, constraint violation: 0.00e+00, execution time:  1.4 s.\n",
      "species=BT, alpha=1, ini para=17\n"
     ]
    },
    {
     "name": "stderr",
     "output_type": "stream",
     "text": [
      "/opt/anaconda3/lib/python3.8/site-packages/scipy/optimize/_hessian_update_strategy.py:182: UserWarning: delta_grad == 0.0. Check if the approximated function is linear. If the function is linear better results can be obtained by defining the Hessian as zero instead of using quasi-Newton approximations.\n",
      "  warn('delta_grad == 0.0. Check if the approximated '\n"
     ]
    },
    {
     "name": "stdout",
     "output_type": "stream",
     "text": [
      "`xtol` termination condition is satisfied.\n",
      "Number of iterations: 80, function evaluations: 177, CG iterations: 120, optimality: 1.47e-07, constraint violation: 0.00e+00, execution time:  1.5 s.\n",
      "species=BT, alpha=1, ini para=18\n",
      "`xtol` termination condition is satisfied.\n",
      "Number of iterations: 73, function evaluations: 141, CG iterations: 98, optimality: 1.91e-07, constraint violation: 0.00e+00, execution time:  1.2 s.\n",
      "species=BT, alpha=1, ini para=19\n",
      "`xtol` termination condition is satisfied.\n",
      "Number of iterations: 77, function evaluations: 171, CG iterations: 112, optimality: 1.77e-07, constraint violation: 0.00e+00, execution time:  1.5 s.\n",
      "species=BT, alpha=1, ini para=20\n",
      "`xtol` termination condition is satisfied.\n",
      "Number of iterations: 74, function evaluations: 153, CG iterations: 117, optimality: 1.42e-07, constraint violation: 0.00e+00, execution time:  1.4 s.\n",
      "species=BT, alpha=1, ini para=21\n",
      "`gtol` termination condition is satisfied.\n",
      "Number of iterations: 29, function evaluations: 60, CG iterations: 31, optimality: 4.42e-09, constraint violation: 0.00e+00, execution time: 0.55 s.\n",
      "species=BT, alpha=1, ini para=22\n",
      "`xtol` termination condition is satisfied.\n",
      "Number of iterations: 82, function evaluations: 177, CG iterations: 122, optimality: 1.91e-07, constraint violation: 0.00e+00, execution time:  1.6 s.\n",
      "species=BT, alpha=1, ini para=23\n"
     ]
    },
    {
     "name": "stderr",
     "output_type": "stream",
     "text": [
      "/opt/anaconda3/lib/python3.8/site-packages/scipy/optimize/_hessian_update_strategy.py:182: UserWarning: delta_grad == 0.0. Check if the approximated function is linear. If the function is linear better results can be obtained by defining the Hessian as zero instead of using quasi-Newton approximations.\n",
      "  warn('delta_grad == 0.0. Check if the approximated '\n"
     ]
    },
    {
     "name": "stdout",
     "output_type": "stream",
     "text": [
      "`xtol` termination condition is satisfied.\n",
      "Number of iterations: 84, function evaluations: 195, CG iterations: 127, optimality: 1.42e-07, constraint violation: 0.00e+00, execution time:  1.7 s.\n",
      "species=BT, alpha=1, ini para=24\n",
      "`xtol` termination condition is satisfied.\n",
      "Number of iterations: 77, function evaluations: 180, CG iterations: 115, optimality: 2.36e-07, constraint violation: 0.00e+00, execution time:  1.6 s.\n",
      "species=BT, alpha=1, ini para=25\n"
     ]
    },
    {
     "name": "stderr",
     "output_type": "stream",
     "text": [
      "/opt/anaconda3/lib/python3.8/site-packages/scipy/optimize/_hessian_update_strategy.py:182: UserWarning: delta_grad == 0.0. Check if the approximated function is linear. If the function is linear better results can be obtained by defining the Hessian as zero instead of using quasi-Newton approximations.\n",
      "  warn('delta_grad == 0.0. Check if the approximated '\n"
     ]
    },
    {
     "name": "stdout",
     "output_type": "stream",
     "text": [
      "`xtol` termination condition is satisfied.\n",
      "Number of iterations: 78, function evaluations: 153, CG iterations: 121, optimality: 1.17e-07, constraint violation: 0.00e+00, execution time:  1.4 s.\n",
      "species=BT, alpha=1, ini para=26\n",
      "`xtol` termination condition is satisfied.\n",
      "Number of iterations: 72, function evaluations: 150, CG iterations: 93, optimality: 1.47e-07, constraint violation: 0.00e+00, execution time:  1.3 s.\n",
      "species=BT, alpha=1, ini para=27\n",
      "`xtol` termination condition is satisfied.\n",
      "Number of iterations: 68, function evaluations: 138, CG iterations: 96, optimality: 1.90e-07, constraint violation: 0.00e+00, execution time:  1.2 s.\n",
      "species=BT, alpha=1, ini para=28\n",
      "`xtol` termination condition is satisfied.\n",
      "Number of iterations: 70, function evaluations: 132, CG iterations: 105, optimality: 2.02e-07, constraint violation: 0.00e+00, execution time:  1.2 s.\n",
      "species=BT, alpha=1, ini para=29\n",
      "`xtol` termination condition is satisfied.\n",
      "Number of iterations: 93, function evaluations: 207, CG iterations: 143, optimality: 4.69e-08, constraint violation: 0.00e+00, execution time:  1.8 s.\n",
      "species=BT, alpha=1, ini para=30\n",
      "`xtol` termination condition is satisfied.\n",
      "Number of iterations: 71, function evaluations: 126, CG iterations: 104, optimality: 1.18e-07, constraint violation: 0.00e+00, execution time:  1.1 s.\n",
      "species=BT, alpha=1, ini para=31\n",
      "`xtol` termination condition is satisfied.\n",
      "Number of iterations: 62, function evaluations: 111, CG iterations: 86, optimality: 1.17e-07, constraint violation: 0.00e+00, execution time:  1.0 s.\n",
      "species=BT, alpha=1, ini para=32\n",
      "`xtol` termination condition is satisfied.\n",
      "Number of iterations: 76, function evaluations: 165, CG iterations: 109, optimality: 1.78e-07, constraint violation: 0.00e+00, execution time:  1.4 s.\n",
      "species=BT, alpha=1, ini para=33\n",
      "`gtol` termination condition is satisfied.\n",
      "Number of iterations: 31, function evaluations: 69, CG iterations: 39, optimality: 7.02e-09, constraint violation: 0.00e+00, execution time: 0.66 s.\n",
      "species=BT, alpha=1, ini para=34\n",
      "`xtol` termination condition is satisfied.\n",
      "Number of iterations: 94, function evaluations: 243, CG iterations: 143, optimality: 1.66e-07, constraint violation: 0.00e+00, execution time:  2.0 s.\n",
      "species=BT, alpha=1, ini para=35\n",
      "`xtol` termination condition is satisfied.\n",
      "Number of iterations: 78, function evaluations: 174, CG iterations: 114, optimality: 1.47e-07, constraint violation: 0.00e+00, execution time:  1.7 s.\n",
      "species=BT, alpha=1, ini para=36\n",
      "`xtol` termination condition is satisfied.\n",
      "Number of iterations: 68, function evaluations: 165, CG iterations: 95, optimality: 1.17e-07, constraint violation: 0.00e+00, execution time:  1.8 s.\n",
      "species=BT, alpha=1, ini para=37\n",
      "`xtol` termination condition is satisfied.\n",
      "Number of iterations: 76, function evaluations: 177, CG iterations: 105, optimality: 1.47e-07, constraint violation: 0.00e+00, execution time:  1.8 s.\n",
      "species=BT, alpha=1, ini para=38\n",
      "`xtol` termination condition is satisfied.\n",
      "Number of iterations: 58, function evaluations: 93, CG iterations: 87, optimality: 1.07e-07, constraint violation: 0.00e+00, execution time:  0.9 s.\n",
      "species=BT, alpha=1, ini para=39\n",
      "`xtol` termination condition is satisfied.\n",
      "Number of iterations: 68, function evaluations: 156, CG iterations: 94, optimality: 1.17e-07, constraint violation: 0.00e+00, execution time:  1.3 s.\n",
      "species=BT, alpha=1, ini para=40\n",
      "`xtol` termination condition is satisfied.\n",
      "Number of iterations: 70, function evaluations: 147, CG iterations: 105, optimality: 1.66e-07, constraint violation: 0.00e+00, execution time:  1.3 s.\n",
      "species=BT, alpha=1, ini para=41\n",
      "`xtol` termination condition is satisfied.\n",
      "Number of iterations: 89, function evaluations: 201, CG iterations: 139, optimality: 1.07e-07, constraint violation: 0.00e+00, execution time:  1.8 s.\n",
      "species=BT, alpha=1, ini para=42\n",
      "`gtol` termination condition is satisfied.\n",
      "Number of iterations: 31, function evaluations: 66, CG iterations: 38, optimality: 7.47e-09, constraint violation: 0.00e+00, execution time: 0.62 s.\n",
      "species=BT, alpha=1, ini para=43\n",
      "`xtol` termination condition is satisfied.\n",
      "Number of iterations: 69, function evaluations: 117, CG iterations: 87, optimality: 1.66e-07, constraint violation: 0.00e+00, execution time:  1.2 s.\n",
      "species=BT, alpha=1, ini para=44\n",
      "`xtol` termination condition is satisfied.\n",
      "Number of iterations: 74, function evaluations: 171, CG iterations: 109, optimality: 1.77e-07, constraint violation: 0.00e+00, execution time:  1.5 s.\n",
      "species=BT, alpha=1, ini para=45\n",
      "`xtol` termination condition is satisfied.\n",
      "Number of iterations: 78, function evaluations: 165, CG iterations: 123, optimality: 1.17e-07, constraint violation: 0.00e+00, execution time:  1.5 s.\n",
      "species=BT, alpha=1, ini para=46\n"
     ]
    },
    {
     "name": "stderr",
     "output_type": "stream",
     "text": [
      "/opt/anaconda3/lib/python3.8/site-packages/scipy/optimize/_hessian_update_strategy.py:182: UserWarning: delta_grad == 0.0. Check if the approximated function is linear. If the function is linear better results can be obtained by defining the Hessian as zero instead of using quasi-Newton approximations.\n",
      "  warn('delta_grad == 0.0. Check if the approximated '\n"
     ]
    },
    {
     "name": "stdout",
     "output_type": "stream",
     "text": [
      "`xtol` termination condition is satisfied.\n",
      "Number of iterations: 66, function evaluations: 129, CG iterations: 83, optimality: 1.91e-07, constraint violation: 0.00e+00, execution time:  1.1 s.\n",
      "species=BT, alpha=1, ini para=47\n",
      "`xtol` termination condition is satisfied.\n",
      "Number of iterations: 69, function evaluations: 141, CG iterations: 96, optimality: 2.14e-07, constraint violation: 0.00e+00, execution time:  1.2 s.\n",
      "species=BT, alpha=1, ini para=48\n",
      "`xtol` termination condition is satisfied.\n",
      "Number of iterations: 80, function evaluations: 213, CG iterations: 119, optimality: 1.47e-07, constraint violation: 0.00e+00, execution time:  1.8 s.\n",
      "species=BT, alpha=1, ini para=49\n",
      "`xtol` termination condition is satisfied.\n",
      "Number of iterations: 73, function evaluations: 150, CG iterations: 104, optimality: 1.32e-07, constraint violation: 0.00e+00, execution time:  1.3 s.\n",
      "species=BT, alpha=1, ini para=50\n",
      "`xtol` termination condition is satisfied.\n",
      "Number of iterations: 78, function evaluations: 171, CG iterations: 121, optimality: 1.47e-07, constraint violation: 0.00e+00, execution time:  1.5 s.\n",
      "species=BT, alpha=1, ini para=51\n",
      "`xtol` termination condition is satisfied.\n",
      "Number of iterations: 66, function evaluations: 132, CG iterations: 89, optimality: 1.07e-07, constraint violation: 0.00e+00, execution time:  1.2 s.\n",
      "species=BT, alpha=1, ini para=52\n",
      "`xtol` termination condition is satisfied.\n",
      "Number of iterations: 83, function evaluations: 219, CG iterations: 116, optimality: 1.66e-07, constraint violation: 0.00e+00, execution time:  1.8 s.\n",
      "species=BT, alpha=1, ini para=53\n",
      "`xtol` termination condition is satisfied.\n",
      "Number of iterations: 66, function evaluations: 123, CG iterations: 99, optimality: 1.54e-07, constraint violation: 0.00e+00, execution time:  1.1 s.\n",
      "species=BT, alpha=1, ini para=54\n"
     ]
    },
    {
     "name": "stderr",
     "output_type": "stream",
     "text": [
      "/opt/anaconda3/lib/python3.8/site-packages/scipy/optimize/_hessian_update_strategy.py:182: UserWarning: delta_grad == 0.0. Check if the approximated function is linear. If the function is linear better results can be obtained by defining the Hessian as zero instead of using quasi-Newton approximations.\n",
      "  warn('delta_grad == 0.0. Check if the approximated '\n"
     ]
    },
    {
     "name": "stdout",
     "output_type": "stream",
     "text": [
      "`xtol` termination condition is satisfied.\n",
      "Number of iterations: 72, function evaluations: 159, CG iterations: 99, optimality: 1.91e-07, constraint violation: 0.00e+00, execution time:  1.4 s.\n",
      "species=BT, alpha=1, ini para=55\n",
      "`xtol` termination condition is satisfied.\n",
      "Number of iterations: 70, function evaluations: 129, CG iterations: 99, optimality: 9.46e-08, constraint violation: 0.00e+00, execution time:  1.2 s.\n",
      "species=BT, alpha=1, ini para=56\n",
      "`xtol` termination condition is satisfied.\n",
      "Number of iterations: 69, function evaluations: 102, CG iterations: 101, optimality: 8.79e-08, constraint violation: 0.00e+00, execution time: 0.97 s.\n",
      "species=BT, alpha=1, ini para=57\n",
      "`gtol` termination condition is satisfied.\n",
      "Number of iterations: 25, function evaluations: 51, CG iterations: 29, optimality: 7.78e-09, constraint violation: 0.00e+00, execution time: 0.49 s.\n",
      "species=BT, alpha=1, ini para=58\n",
      "`xtol` termination condition is satisfied.\n",
      "Number of iterations: 77, function evaluations: 168, CG iterations: 106, optimality: 1.47e-07, constraint violation: 0.00e+00, execution time:  1.5 s.\n",
      "species=BT, alpha=1, ini para=59\n",
      "`xtol` termination condition is satisfied.\n",
      "Number of iterations: 76, function evaluations: 147, CG iterations: 104, optimality: 8.79e-08, constraint violation: 0.00e+00, execution time:  1.3 s.\n",
      "species=BT, alpha=1, ini para=60\n",
      "`xtol` termination condition is satisfied.\n",
      "Number of iterations: 86, function evaluations: 180, CG iterations: 137, optimality: 2.14e-07, constraint violation: 0.00e+00, execution time:  1.6 s.\n",
      "species=BT, alpha=1, ini para=61\n",
      "`xtol` termination condition is satisfied.\n",
      "Number of iterations: 69, function evaluations: 111, CG iterations: 100, optimality: 5.88e-08, constraint violation: 0.00e+00, execution time:  1.1 s.\n",
      "species=BT, alpha=1, ini para=62\n",
      "`xtol` termination condition is satisfied.\n",
      "Number of iterations: 71, function evaluations: 153, CG iterations: 103, optimality: 1.42e-07, constraint violation: 0.00e+00, execution time:  1.3 s.\n",
      "species=BT, alpha=1, ini para=63\n",
      "`xtol` termination condition is satisfied.\n",
      "Number of iterations: 72, function evaluations: 138, CG iterations: 91, optimality: 3.25e-07, constraint violation: 0.00e+00, execution time:  1.2 s.\n",
      "species=BT, alpha=1, ini para=64\n",
      "`xtol` termination condition is satisfied.\n",
      "Number of iterations: 69, function evaluations: 159, CG iterations: 108, optimality: 1.47e-07, constraint violation: 0.00e+00, execution time:  1.4 s.\n",
      "species=BT, alpha=1, ini para=65\n",
      "`xtol` termination condition is satisfied.\n",
      "Number of iterations: 78, function evaluations: 159, CG iterations: 120, optimality: 2.14e-07, constraint violation: 0.00e+00, execution time:  1.4 s.\n",
      "species=BT, alpha=1, ini para=66\n",
      "`xtol` termination condition is satisfied.\n",
      "Number of iterations: 61, function evaluations: 108, CG iterations: 91, optimality: 1.78e-07, constraint violation: 0.00e+00, execution time: 0.97 s.\n",
      "species=BT, alpha=1, ini para=67\n",
      "`xtol` termination condition is satisfied.\n",
      "Number of iterations: 73, function evaluations: 156, CG iterations: 104, optimality: 1.18e-07, constraint violation: 0.00e+00, execution time:  1.3 s.\n",
      "species=BT, alpha=1, ini para=68\n",
      "`xtol` termination condition is satisfied.\n",
      "Number of iterations: 71, function evaluations: 126, CG iterations: 105, optimality: 1.32e-07, constraint violation: 0.00e+00, execution time:  1.2 s.\n",
      "species=BT, alpha=1, ini para=69\n",
      "`xtol` termination condition is satisfied.\n",
      "Number of iterations: 59, function evaluations: 99, CG iterations: 81, optimality: 1.32e-07, constraint violation: 0.00e+00, execution time: 0.91 s.\n",
      "species=BT, alpha=1, ini para=70\n",
      "`xtol` termination condition is satisfied.\n",
      "Number of iterations: 72, function evaluations: 111, CG iterations: 80, optimality: 8.79e-08, constraint violation: 0.00e+00, execution time:  1.0 s.\n",
      "species=BT, alpha=1, ini para=71\n",
      "`gtol` termination condition is satisfied.\n",
      "Number of iterations: 29, function evaluations: 63, CG iterations: 35, optimality: 7.78e-09, constraint violation: 0.00e+00, execution time: 0.58 s.\n",
      "species=BT, alpha=1, ini para=72\n",
      "`gtol` termination condition is satisfied.\n",
      "Number of iterations: 31, function evaluations: 69, CG iterations: 41, optimality: 7.02e-09, constraint violation: 0.00e+00, execution time: 0.64 s.\n",
      "species=BT, alpha=1, ini para=73\n",
      "`xtol` termination condition is satisfied.\n",
      "Number of iterations: 74, function evaluations: 144, CG iterations: 103, optimality: 1.18e-07, constraint violation: 0.00e+00, execution time:  1.3 s.\n",
      "species=BT, alpha=1, ini para=74\n"
     ]
    },
    {
     "name": "stderr",
     "output_type": "stream",
     "text": [
      "/opt/anaconda3/lib/python3.8/site-packages/scipy/optimize/_hessian_update_strategy.py:182: UserWarning: delta_grad == 0.0. Check if the approximated function is linear. If the function is linear better results can be obtained by defining the Hessian as zero instead of using quasi-Newton approximations.\n",
      "  warn('delta_grad == 0.0. Check if the approximated '\n"
     ]
    },
    {
     "name": "stdout",
     "output_type": "stream",
     "text": [
      "`xtol` termination condition is satisfied.\n",
      "Number of iterations: 75, function evaluations: 150, CG iterations: 115, optimality: 1.18e-07, constraint violation: 0.00e+00, execution time:  1.3 s.\n",
      "species=BT, alpha=1, ini para=75\n",
      "`xtol` termination condition is satisfied.\n",
      "Number of iterations: 63, function evaluations: 159, CG iterations: 93, optimality: 1.54e-07, constraint violation: 0.00e+00, execution time:  1.3 s.\n",
      "species=BT, alpha=1, ini para=76\n",
      "`xtol` termination condition is satisfied.\n",
      "Number of iterations: 76, function evaluations: 171, CG iterations: 110, optimality: 1.90e-07, constraint violation: 0.00e+00, execution time:  1.5 s.\n",
      "species=BT, alpha=1, ini para=77\n",
      "`xtol` termination condition is satisfied.\n",
      "Number of iterations: 68, function evaluations: 135, CG iterations: 100, optimality: 1.03e-07, constraint violation: 0.00e+00, execution time:  1.2 s.\n",
      "species=BT, alpha=1, ini para=78\n"
     ]
    },
    {
     "name": "stderr",
     "output_type": "stream",
     "text": [
      "/opt/anaconda3/lib/python3.8/site-packages/scipy/optimize/_hessian_update_strategy.py:182: UserWarning: delta_grad == 0.0. Check if the approximated function is linear. If the function is linear better results can be obtained by defining the Hessian as zero instead of using quasi-Newton approximations.\n",
      "  warn('delta_grad == 0.0. Check if the approximated '\n"
     ]
    },
    {
     "name": "stdout",
     "output_type": "stream",
     "text": [
      "`xtol` termination condition is satisfied.\n",
      "Number of iterations: 72, function evaluations: 135, CG iterations: 115, optimality: 1.32e-07, constraint violation: 0.00e+00, execution time:  1.2 s.\n",
      "species=BT, alpha=1, ini para=79\n",
      "`xtol` termination condition is satisfied.\n",
      "Number of iterations: 75, function evaluations: 150, CG iterations: 116, optimality: 5.83e-08, constraint violation: 0.00e+00, execution time:  1.3 s.\n",
      "species=BT, alpha=1, ini para=80\n"
     ]
    },
    {
     "name": "stderr",
     "output_type": "stream",
     "text": [
      "/opt/anaconda3/lib/python3.8/site-packages/scipy/optimize/_hessian_update_strategy.py:182: UserWarning: delta_grad == 0.0. Check if the approximated function is linear. If the function is linear better results can be obtained by defining the Hessian as zero instead of using quasi-Newton approximations.\n",
      "  warn('delta_grad == 0.0. Check if the approximated '\n"
     ]
    },
    {
     "name": "stdout",
     "output_type": "stream",
     "text": [
      "`xtol` termination condition is satisfied.\n",
      "Number of iterations: 71, function evaluations: 129, CG iterations: 101, optimality: 1.32e-07, constraint violation: 0.00e+00, execution time:  1.1 s.\n",
      "species=BT, alpha=1, ini para=81\n",
      "`xtol` termination condition is satisfied.\n",
      "Number of iterations: 65, function evaluations: 126, CG iterations: 92, optimality: 1.18e-07, constraint violation: 0.00e+00, execution time:  1.1 s.\n",
      "species=BT, alpha=1, ini para=82\n"
     ]
    },
    {
     "name": "stderr",
     "output_type": "stream",
     "text": [
      "/opt/anaconda3/lib/python3.8/site-packages/scipy/optimize/_hessian_update_strategy.py:182: UserWarning: delta_grad == 0.0. Check if the approximated function is linear. If the function is linear better results can be obtained by defining the Hessian as zero instead of using quasi-Newton approximations.\n",
      "  warn('delta_grad == 0.0. Check if the approximated '\n"
     ]
    },
    {
     "name": "stdout",
     "output_type": "stream",
     "text": [
      "`xtol` termination condition is satisfied.\n",
      "Number of iterations: 68, function evaluations: 114, CG iterations: 106, optimality: 1.17e-07, constraint violation: 0.00e+00, execution time:  1.1 s.\n",
      "species=BT, alpha=1, ini para=83\n",
      "`xtol` termination condition is satisfied.\n",
      "Number of iterations: 76, function evaluations: 147, CG iterations: 116, optimality: 1.47e-07, constraint violation: 0.00e+00, execution time:  1.3 s.\n",
      "species=BT, alpha=1, ini para=84\n",
      "`xtol` termination condition is satisfied.\n",
      "Number of iterations: 76, function evaluations: 171, CG iterations: 116, optimality: 2.21e-07, constraint violation: 0.00e+00, execution time:  1.5 s.\n",
      "species=BT, alpha=1, ini para=85\n",
      "`xtol` termination condition is satisfied.\n",
      "Number of iterations: 64, function evaluations: 120, CG iterations: 82, optimality: 1.47e-07, constraint violation: 0.00e+00, execution time:  1.0 s.\n",
      "species=BT, alpha=1, ini para=86\n"
     ]
    },
    {
     "name": "stderr",
     "output_type": "stream",
     "text": [
      "/opt/anaconda3/lib/python3.8/site-packages/scipy/optimize/_hessian_update_strategy.py:182: UserWarning: delta_grad == 0.0. Check if the approximated function is linear. If the function is linear better results can be obtained by defining the Hessian as zero instead of using quasi-Newton approximations.\n",
      "  warn('delta_grad == 0.0. Check if the approximated '\n"
     ]
    },
    {
     "name": "stdout",
     "output_type": "stream",
     "text": [
      "`xtol` termination condition is satisfied.\n",
      "Number of iterations: 65, function evaluations: 114, CG iterations: 100, optimality: 1.66e-07, constraint violation: 0.00e+00, execution time:  1.5 s.\n",
      "species=BT, alpha=1, ini para=87\n",
      "`xtol` termination condition is satisfied.\n",
      "Number of iterations: 64, function evaluations: 129, CG iterations: 93, optimality: 1.17e-07, constraint violation: 0.00e+00, execution time:  1.2 s.\n",
      "species=BT, alpha=1, ini para=88\n",
      "`xtol` termination condition is satisfied.\n",
      "Number of iterations: 89, function evaluations: 201, CG iterations: 133, optimality: 1.77e-07, constraint violation: 0.00e+00, execution time:  1.7 s.\n",
      "species=BT, alpha=1, ini para=89\n"
     ]
    },
    {
     "name": "stderr",
     "output_type": "stream",
     "text": [
      "/opt/anaconda3/lib/python3.8/site-packages/scipy/optimize/_hessian_update_strategy.py:182: UserWarning: delta_grad == 0.0. Check if the approximated function is linear. If the function is linear better results can be obtained by defining the Hessian as zero instead of using quasi-Newton approximations.\n",
      "  warn('delta_grad == 0.0. Check if the approximated '\n"
     ]
    },
    {
     "name": "stdout",
     "output_type": "stream",
     "text": [
      "`xtol` termination condition is satisfied.\n",
      "Number of iterations: 79, function evaluations: 198, CG iterations: 120, optimality: 1.77e-07, constraint violation: 0.00e+00, execution time:  1.9 s.\n",
      "species=BT, alpha=1, ini para=90\n",
      "`xtol` termination condition is satisfied.\n",
      "Number of iterations: 79, function evaluations: 165, CG iterations: 120, optimality: 1.42e-07, constraint violation: 0.00e+00, execution time:  2.3 s.\n",
      "species=BT, alpha=1, ini para=91\n",
      "`gtol` termination condition is satisfied.\n",
      "Number of iterations: 23, function evaluations: 51, CG iterations: 29, optimality: 7.93e-09, constraint violation: 0.00e+00, execution time:  0.7 s.\n",
      "species=BT, alpha=1, ini para=92\n"
     ]
    },
    {
     "name": "stderr",
     "output_type": "stream",
     "text": [
      "/opt/anaconda3/lib/python3.8/site-packages/scipy/optimize/_hessian_update_strategy.py:182: UserWarning: delta_grad == 0.0. Check if the approximated function is linear. If the function is linear better results can be obtained by defining the Hessian as zero instead of using quasi-Newton approximations.\n",
      "  warn('delta_grad == 0.0. Check if the approximated '\n"
     ]
    },
    {
     "name": "stdout",
     "output_type": "stream",
     "text": [
      "`xtol` termination condition is satisfied.\n",
      "Number of iterations: 68, function evaluations: 111, CG iterations: 100, optimality: 1.77e-07, constraint violation: 0.00e+00, execution time:  1.8 s.\n",
      "species=BT, alpha=1, ini para=93\n",
      "`xtol` termination condition is satisfied.\n",
      "Number of iterations: 74, function evaluations: 156, CG iterations: 107, optimality: 1.32e-07, constraint violation: 0.00e+00, execution time:  1.7 s.\n",
      "species=BT, alpha=1, ini para=94\n",
      "`xtol` termination condition is satisfied.\n",
      "Number of iterations: 63, function evaluations: 102, CG iterations: 98, optimality: 7.07e-08, constraint violation: 0.00e+00, execution time:  1.1 s.\n",
      "species=BT, alpha=1, ini para=95\n",
      "`xtol` termination condition is satisfied.\n",
      "Number of iterations: 79, function evaluations: 177, CG iterations: 123, optimality: 1.18e-07, constraint violation: 0.00e+00, execution time:  1.9 s.\n",
      "species=BT, alpha=1, ini para=96\n",
      "`xtol` termination condition is satisfied.\n",
      "Number of iterations: 71, function evaluations: 135, CG iterations: 101, optimality: 1.47e-07, constraint violation: 0.00e+00, execution time:  1.3 s.\n",
      "species=BT, alpha=1, ini para=97\n",
      "`xtol` termination condition is satisfied.\n",
      "Number of iterations: 78, function evaluations: 207, CG iterations: 111, optimality: 1.77e-07, constraint violation: 0.00e+00, execution time:  2.1 s.\n",
      "species=BT, alpha=1, ini para=98\n",
      "`xtol` termination condition is satisfied.\n",
      "Number of iterations: 69, function evaluations: 138, CG iterations: 100, optimality: 1.54e-07, constraint violation: 0.00e+00, execution time:  1.6 s.\n",
      "species=BT, alpha=1, ini para=99\n",
      "`xtol` termination condition is satisfied.\n",
      "Number of iterations: 76, function evaluations: 189, CG iterations: 112, optimality: 1.42e-07, constraint violation: 0.00e+00, execution time:  2.1 s.\n",
      "species=BT, alpha=3, ini para=0\n"
     ]
    },
    {
     "name": "stderr",
     "output_type": "stream",
     "text": [
      "/opt/anaconda3/lib/python3.8/site-packages/scipy/optimize/_hessian_update_strategy.py:182: UserWarning: delta_grad == 0.0. Check if the approximated function is linear. If the function is linear better results can be obtained by defining the Hessian as zero instead of using quasi-Newton approximations.\n",
      "  warn('delta_grad == 0.0. Check if the approximated '\n",
      "/opt/anaconda3/lib/python3.8/site-packages/scipy/optimize/_hessian_update_strategy.py:182: UserWarning: delta_grad == 0.0. Check if the approximated function is linear. If the function is linear better results can be obtained by defining the Hessian as zero instead of using quasi-Newton approximations.\n",
      "  warn('delta_grad == 0.0. Check if the approximated '\n"
     ]
    },
    {
     "name": "stdout",
     "output_type": "stream",
     "text": [
      "`gtol` termination condition is satisfied.\n",
      "Number of iterations: 47, function evaluations: 126, CG iterations: 64, optimality: 7.24e-09, constraint violation: 0.00e+00, execution time:  1.5 s.\n",
      "species=BT, alpha=3, ini para=1\n",
      "`xtol` termination condition is satisfied.\n",
      "Number of iterations: 68, function evaluations: 162, CG iterations: 70, optimality: 1.77e-07, constraint violation: 0.00e+00, execution time:  1.6 s.\n",
      "species=BT, alpha=3, ini para=2\n",
      "`gtol` termination condition is satisfied.\n",
      "Number of iterations: 50, function evaluations: 129, CG iterations: 61, optimality: 3.38e-09, constraint violation: 0.00e+00, execution time:  1.4 s.\n",
      "species=BT, alpha=3, ini para=3\n",
      "`xtol` termination condition is satisfied.\n",
      "Number of iterations: 83, function evaluations: 180, CG iterations: 92, optimality: 2.33e-07, constraint violation: 0.00e+00, execution time:  1.7 s.\n",
      "species=BT, alpha=3, ini para=4\n",
      "`xtol` termination condition is satisfied.\n",
      "Number of iterations: 95, function evaluations: 198, CG iterations: 109, optimality: 2.19e-07, constraint violation: 0.00e+00, execution time:  2.5 s.\n",
      "species=BT, alpha=3, ini para=5\n",
      "`gtol` termination condition is satisfied.\n",
      "Number of iterations: 41, function evaluations: 102, CG iterations: 51, optimality: 2.75e-09, constraint violation: 0.00e+00, execution time:  1.1 s.\n",
      "species=BT, alpha=3, ini para=6\n",
      "`xtol` termination condition is satisfied.\n",
      "Number of iterations: 75, function evaluations: 138, CG iterations: 80, optimality: 6.16e-08, constraint violation: 0.00e+00, execution time:  1.5 s.\n",
      "species=BT, alpha=3, ini para=7\n"
     ]
    },
    {
     "name": "stderr",
     "output_type": "stream",
     "text": [
      "/opt/anaconda3/lib/python3.8/site-packages/scipy/optimize/_hessian_update_strategy.py:182: UserWarning: delta_grad == 0.0. Check if the approximated function is linear. If the function is linear better results can be obtained by defining the Hessian as zero instead of using quasi-Newton approximations.\n",
      "  warn('delta_grad == 0.0. Check if the approximated '\n",
      "/opt/anaconda3/lib/python3.8/site-packages/scipy/optimize/_hessian_update_strategy.py:182: UserWarning: delta_grad == 0.0. Check if the approximated function is linear. If the function is linear better results can be obtained by defining the Hessian as zero instead of using quasi-Newton approximations.\n",
      "  warn('delta_grad == 0.0. Check if the approximated '\n"
     ]
    },
    {
     "name": "stdout",
     "output_type": "stream",
     "text": [
      "`gtol` termination condition is satisfied.\n",
      "Number of iterations: 41, function evaluations: 117, CG iterations: 56, optimality: 7.49e-09, constraint violation: 0.00e+00, execution time:  1.2 s.\n",
      "species=BT, alpha=3, ini para=8\n",
      "`xtol` termination condition is satisfied.\n",
      "Number of iterations: 86, function evaluations: 159, CG iterations: 89, optimality: 1.20e-08, constraint violation: 0.00e+00, execution time:  1.6 s.\n",
      "species=BT, alpha=3, ini para=9\n",
      "`xtol` termination condition is satisfied.\n",
      "Number of iterations: 95, function evaluations: 264, CG iterations: 109, optimality: 3.91e-07, constraint violation: 0.00e+00, execution time:  2.5 s.\n",
      "species=BT, alpha=3, ini para=10\n",
      "`xtol` termination condition is satisfied.\n",
      "Number of iterations: 100, function evaluations: 243, CG iterations: 115, optimality: 1.62e-07, constraint violation: 0.00e+00, execution time:  2.4 s.\n",
      "species=BT, alpha=3, ini para=11\n"
     ]
    },
    {
     "name": "stderr",
     "output_type": "stream",
     "text": [
      "/opt/anaconda3/lib/python3.8/site-packages/scipy/optimize/_hessian_update_strategy.py:182: UserWarning: delta_grad == 0.0. Check if the approximated function is linear. If the function is linear better results can be obtained by defining the Hessian as zero instead of using quasi-Newton approximations.\n",
      "  warn('delta_grad == 0.0. Check if the approximated '\n"
     ]
    },
    {
     "name": "stdout",
     "output_type": "stream",
     "text": [
      "`gtol` termination condition is satisfied.\n",
      "Number of iterations: 33, function evaluations: 87, CG iterations: 37, optimality: 5.72e-09, constraint violation: 0.00e+00, execution time: 0.87 s.\n",
      "species=BT, alpha=3, ini para=12\n",
      "`gtol` termination condition is satisfied.\n",
      "Number of iterations: 39, function evaluations: 93, CG iterations: 50, optimality: 9.83e-09, constraint violation: 0.00e+00, execution time: 0.98 s.\n",
      "species=BT, alpha=3, ini para=13\n",
      "`gtol` termination condition is satisfied.\n",
      "Number of iterations: 44, function evaluations: 123, CG iterations: 60, optimality: 9.64e-09, constraint violation: 0.00e+00, execution time:  1.3 s.\n",
      "species=BT, alpha=3, ini para=14\n",
      "`xtol` termination condition is satisfied.\n",
      "Number of iterations: 118, function evaluations: 240, CG iterations: 136, optimality: 1.02e-07, constraint violation: 0.00e+00, execution time:  2.4 s.\n",
      "species=BT, alpha=3, ini para=15\n",
      "`gtol` termination condition is satisfied.\n",
      "Number of iterations: 46, function evaluations: 120, CG iterations: 59, optimality: 8.06e-09, constraint violation: 0.00e+00, execution time:  1.4 s.\n",
      "species=BT, alpha=3, ini para=16\n",
      "`xtol` termination condition is satisfied.\n",
      "Number of iterations: 80, function evaluations: 144, CG iterations: 82, optimality: 5.46e-07, constraint violation: 0.00e+00, execution time:  1.6 s.\n",
      "species=BT, alpha=3, ini para=17\n",
      "`gtol` termination condition is satisfied.\n",
      "Number of iterations: 37, function evaluations: 93, CG iterations: 48, optimality: 4.13e-10, constraint violation: 0.00e+00, execution time:  1.0 s.\n",
      "species=BT, alpha=3, ini para=18\n",
      "`gtol` termination condition is satisfied.\n",
      "Number of iterations: 30, function evaluations: 75, CG iterations: 35, optimality: 9.15e-09, constraint violation: 0.00e+00, execution time:  1.1 s.\n",
      "species=BT, alpha=3, ini para=19\n",
      "`gtol` termination condition is satisfied.\n",
      "Number of iterations: 42, function evaluations: 120, CG iterations: 59, optimality: 2.07e-09, constraint violation: 0.00e+00, execution time:  1.4 s.\n",
      "species=BT, alpha=3, ini para=20\n"
     ]
    },
    {
     "name": "stderr",
     "output_type": "stream",
     "text": [
      "/opt/anaconda3/lib/python3.8/site-packages/scipy/optimize/_hessian_update_strategy.py:182: UserWarning: delta_grad == 0.0. Check if the approximated function is linear. If the function is linear better results can be obtained by defining the Hessian as zero instead of using quasi-Newton approximations.\n",
      "  warn('delta_grad == 0.0. Check if the approximated '\n",
      "/opt/anaconda3/lib/python3.8/site-packages/scipy/optimize/_hessian_update_strategy.py:182: UserWarning: delta_grad == 0.0. Check if the approximated function is linear. If the function is linear better results can be obtained by defining the Hessian as zero instead of using quasi-Newton approximations.\n",
      "  warn('delta_grad == 0.0. Check if the approximated '\n"
     ]
    },
    {
     "name": "stdout",
     "output_type": "stream",
     "text": [
      "`gtol` termination condition is satisfied.\n",
      "Number of iterations: 51, function evaluations: 135, CG iterations: 68, optimality: 1.93e-09, constraint violation: 0.00e+00, execution time:  1.4 s.\n",
      "species=BT, alpha=3, ini para=21\n",
      "`xtol` termination condition is satisfied.\n",
      "Number of iterations: 82, function evaluations: 189, CG iterations: 88, optimality: 2.30e-07, constraint violation: 0.00e+00, execution time:  1.7 s.\n",
      "species=BT, alpha=3, ini para=22\n",
      "`xtol` termination condition is satisfied.\n",
      "Number of iterations: 87, function evaluations: 156, CG iterations: 93, optimality: 4.92e-08, constraint violation: 0.00e+00, execution time:  1.5 s.\n",
      "species=BT, alpha=3, ini para=23\n",
      "`xtol` termination condition is satisfied.\n",
      "Number of iterations: 88, function evaluations: 162, CG iterations: 96, optimality: 1.08e-07, constraint violation: 0.00e+00, execution time:  1.5 s.\n",
      "species=BT, alpha=3, ini para=24\n",
      "`xtol` termination condition is satisfied.\n",
      "Number of iterations: 92, function evaluations: 243, CG iterations: 105, optimality: 2.69e-07, constraint violation: 0.00e+00, execution time:  2.0 s.\n",
      "species=BT, alpha=3, ini para=25\n",
      "`xtol` termination condition is satisfied.\n",
      "Number of iterations: 91, function evaluations: 228, CG iterations: 110, optimality: 2.01e-07, constraint violation: 0.00e+00, execution time:  1.9 s.\n",
      "species=BT, alpha=3, ini para=26\n",
      "`xtol` termination condition is satisfied.\n",
      "Number of iterations: 97, function evaluations: 216, CG iterations: 115, optimality: 1.73e-07, constraint violation: 0.00e+00, execution time:  1.8 s.\n",
      "species=BT, alpha=3, ini para=27\n",
      "`xtol` termination condition is satisfied.\n",
      "Number of iterations: 90, function evaluations: 171, CG iterations: 99, optimality: 1.80e-07, constraint violation: 0.00e+00, execution time:  1.5 s.\n",
      "species=BT, alpha=3, ini para=28\n",
      "`gtol` termination condition is satisfied.\n",
      "Number of iterations: 41, function evaluations: 111, CG iterations: 58, optimality: 3.36e-09, constraint violation: 0.00e+00, execution time: 0.98 s.\n",
      "species=BT, alpha=3, ini para=29\n",
      "`gtol` termination condition is satisfied.\n",
      "Number of iterations: 36, function evaluations: 93, CG iterations: 45, optimality: 9.79e-10, constraint violation: 0.00e+00, execution time:  0.8 s.\n",
      "species=BT, alpha=3, ini para=30\n",
      "`xtol` termination condition is satisfied.\n",
      "Number of iterations: 100, function evaluations: 198, CG iterations: 107, optimality: 1.24e-07, constraint violation: 0.00e+00, execution time:  1.7 s.\n",
      "species=BT, alpha=3, ini para=31\n",
      "`gtol` termination condition is satisfied.\n",
      "Number of iterations: 37, function evaluations: 96, CG iterations: 46, optimality: 5.72e-09, constraint violation: 0.00e+00, execution time: 0.81 s.\n",
      "species=BT, alpha=3, ini para=32\n",
      "`gtol` termination condition is satisfied.\n",
      "Number of iterations: 36, function evaluations: 87, CG iterations: 47, optimality: 2.18e-09, constraint violation: 0.00e+00, execution time: 0.76 s.\n",
      "species=BT, alpha=3, ini para=33\n",
      "`xtol` termination condition is satisfied.\n",
      "Number of iterations: 89, function evaluations: 168, CG iterations: 101, optimality: 6.51e-08, constraint violation: 0.00e+00, execution time:  1.4 s.\n",
      "species=BT, alpha=3, ini para=34\n",
      "`gtol` termination condition is satisfied.\n",
      "Number of iterations: 57, function evaluations: 150, CG iterations: 71, optimality: 3.70e-09, constraint violation: 0.00e+00, execution time:  1.3 s.\n",
      "species=BT, alpha=3, ini para=35\n",
      "`gtol` termination condition is satisfied.\n",
      "Number of iterations: 40, function evaluations: 105, CG iterations: 53, optimality: 8.06e-09, constraint violation: 0.00e+00, execution time: 0.89 s.\n",
      "species=BT, alpha=3, ini para=36\n",
      "`xtol` termination condition is satisfied.\n",
      "Number of iterations: 91, function evaluations: 204, CG iterations: 108, optimality: 2.01e-07, constraint violation: 0.00e+00, execution time:  1.6 s.\n",
      "species=BT, alpha=3, ini para=37\n",
      "`gtol` termination condition is satisfied.\n",
      "Number of iterations: 49, function evaluations: 135, CG iterations: 65, optimality: 8.06e-09, constraint violation: 0.00e+00, execution time:  1.1 s.\n",
      "species=BT, alpha=3, ini para=38\n",
      "`xtol` termination condition is satisfied.\n",
      "Number of iterations: 85, function evaluations: 207, CG iterations: 102, optimality: 1.62e-07, constraint violation: 0.00e+00, execution time:  1.7 s.\n",
      "species=BT, alpha=3, ini para=39\n",
      "`xtol` termination condition is satisfied.\n",
      "Number of iterations: 88, function evaluations: 168, CG iterations: 92, optimality: 1.78e-07, constraint violation: 0.00e+00, execution time:  1.4 s.\n",
      "species=BT, alpha=3, ini para=40\n",
      "`gtol` termination condition is satisfied.\n",
      "Number of iterations: 15, function evaluations: 33, CG iterations: 13, optimality: 6.44e-10, constraint violation: 0.00e+00, execution time: 0.27 s.\n",
      "species=BT, alpha=3, ini para=41\n",
      "`gtol` termination condition is satisfied.\n",
      "Number of iterations: 39, function evaluations: 96, CG iterations: 51, optimality: 1.58e-10, constraint violation: 0.00e+00, execution time: 0.82 s.\n",
      "species=BT, alpha=3, ini para=42\n",
      "`xtol` termination condition is satisfied.\n",
      "Number of iterations: 89, function evaluations: 201, CG iterations: 93, optimality: 1.77e-07, constraint violation: 0.00e+00, execution time:  1.7 s.\n",
      "species=BT, alpha=3, ini para=43\n",
      "`gtol` termination condition is satisfied.\n",
      "Number of iterations: 40, function evaluations: 108, CG iterations: 59, optimality: 8.67e-09, constraint violation: 0.00e+00, execution time: 0.94 s.\n",
      "species=BT, alpha=3, ini para=44\n",
      "`gtol` termination condition is satisfied.\n",
      "Number of iterations: 188, function evaluations: 519, CG iterations: 201, optimality: 1.61e-09, constraint violation: 0.00e+00, execution time:  4.7 s.\n",
      "species=BT, alpha=3, ini para=45\n",
      "`xtol` termination condition is satisfied.\n",
      "Number of iterations: 82, function evaluations: 162, CG iterations: 84, optimality: 1.16e-07, constraint violation: 0.00e+00, execution time:  1.3 s.\n",
      "species=BT, alpha=3, ini para=46\n",
      "`gtol` termination condition is satisfied.\n",
      "Number of iterations: 67, function evaluations: 183, CG iterations: 103, optimality: 1.93e-09, constraint violation: 0.00e+00, execution time:  1.6 s.\n",
      "species=BT, alpha=3, ini para=47\n"
     ]
    },
    {
     "name": "stderr",
     "output_type": "stream",
     "text": [
      "/opt/anaconda3/lib/python3.8/site-packages/scipy/optimize/_hessian_update_strategy.py:182: UserWarning: delta_grad == 0.0. Check if the approximated function is linear. If the function is linear better results can be obtained by defining the Hessian as zero instead of using quasi-Newton approximations.\n",
      "  warn('delta_grad == 0.0. Check if the approximated '\n"
     ]
    },
    {
     "name": "stdout",
     "output_type": "stream",
     "text": [
      "`xtol` termination condition is satisfied.\n",
      "Number of iterations: 86, function evaluations: 171, CG iterations: 95, optimality: 1.45e-07, constraint violation: 0.00e+00, execution time:  1.4 s.\n",
      "species=BT, alpha=3, ini para=48\n",
      "`gtol` termination condition is satisfied.\n",
      "Number of iterations: 21, function evaluations: 51, CG iterations: 22, optimality: 1.94e-09, constraint violation: 0.00e+00, execution time: 0.45 s.\n",
      "species=BT, alpha=3, ini para=49\n",
      "`xtol` termination condition is satisfied.\n",
      "Number of iterations: 79, function evaluations: 150, CG iterations: 83, optimality: 8.28e-08, constraint violation: 0.00e+00, execution time:  1.3 s.\n",
      "species=BT, alpha=3, ini para=50\n",
      "`gtol` termination condition is satisfied.\n",
      "Number of iterations: 24, function evaluations: 51, CG iterations: 24, optimality: 9.26e-09, constraint violation: 0.00e+00, execution time: 0.45 s.\n",
      "species=BT, alpha=3, ini para=51\n",
      "`gtol` termination condition is satisfied.\n",
      "Number of iterations: 32, function evaluations: 78, CG iterations: 39, optimality: 6.78e-09, constraint violation: 0.00e+00, execution time: 0.66 s.\n",
      "species=BT, alpha=3, ini para=52\n",
      "`xtol` termination condition is satisfied.\n",
      "Number of iterations: 90, function evaluations: 213, CG iterations: 103, optimality: 1.43e-07, constraint violation: 0.00e+00, execution time:  1.7 s.\n",
      "species=BT, alpha=3, ini para=53\n"
     ]
    },
    {
     "name": "stderr",
     "output_type": "stream",
     "text": [
      "/opt/anaconda3/lib/python3.8/site-packages/scipy/integrate/odepack.py:247: ODEintWarning: Excess work done on this call (perhaps wrong Dfun type). Run with full_output = 1 to get quantitative information.\n",
      "  warnings.warn(warning_msg, ODEintWarning)\n",
      "/opt/anaconda3/lib/python3.8/site-packages/scipy/integrate/odepack.py:247: ODEintWarning: Excess work done on this call (perhaps wrong Dfun type). Run with full_output = 1 to get quantitative information.\n",
      "  warnings.warn(warning_msg, ODEintWarning)\n",
      "/opt/anaconda3/lib/python3.8/site-packages/scipy/integrate/odepack.py:247: ODEintWarning: Excess work done on this call (perhaps wrong Dfun type). Run with full_output = 1 to get quantitative information.\n",
      "  warnings.warn(warning_msg, ODEintWarning)\n",
      "/opt/anaconda3/lib/python3.8/site-packages/scipy/optimize/_hessian_update_strategy.py:182: UserWarning: delta_grad == 0.0. Check if the approximated function is linear. If the function is linear better results can be obtained by defining the Hessian as zero instead of using quasi-Newton approximations.\n",
      "  warn('delta_grad == 0.0. Check if the approximated '\n"
     ]
    },
    {
     "name": "stdout",
     "output_type": "stream",
     "text": [
      "`gtol` termination condition is satisfied.\n",
      "Number of iterations: 68, function evaluations: 165, CG iterations: 83, optimality: 6.92e-09, constraint violation: 0.00e+00, execution time:  1.5 s.\n",
      "species=BT, alpha=3, ini para=54\n"
     ]
    },
    {
     "name": "stderr",
     "output_type": "stream",
     "text": [
      "/opt/anaconda3/lib/python3.8/site-packages/scipy/optimize/_hessian_update_strategy.py:182: UserWarning: delta_grad == 0.0. Check if the approximated function is linear. If the function is linear better results can be obtained by defining the Hessian as zero instead of using quasi-Newton approximations.\n",
      "  warn('delta_grad == 0.0. Check if the approximated '\n"
     ]
    },
    {
     "name": "stdout",
     "output_type": "stream",
     "text": [
      "`xtol` termination condition is satisfied.\n",
      "Number of iterations: 83, function evaluations: 171, CG iterations: 98, optimality: 9.70e-08, constraint violation: 0.00e+00, execution time:  1.5 s.\n",
      "species=BT, alpha=3, ini para=55\n",
      "`xtol` termination condition is satisfied.\n",
      "Number of iterations: 78, function evaluations: 153, CG iterations: 86, optimality: 6.87e-08, constraint violation: 0.00e+00, execution time:  1.3 s.\n",
      "species=BT, alpha=3, ini para=56\n"
     ]
    },
    {
     "name": "stderr",
     "output_type": "stream",
     "text": [
      "/opt/anaconda3/lib/python3.8/site-packages/scipy/integrate/odepack.py:247: ODEintWarning: Excess work done on this call (perhaps wrong Dfun type). Run with full_output = 1 to get quantitative information.\n",
      "  warnings.warn(warning_msg, ODEintWarning)\n",
      "/opt/anaconda3/lib/python3.8/site-packages/scipy/integrate/odepack.py:247: ODEintWarning: Excess work done on this call (perhaps wrong Dfun type). Run with full_output = 1 to get quantitative information.\n",
      "  warnings.warn(warning_msg, ODEintWarning)\n",
      "/opt/anaconda3/lib/python3.8/site-packages/scipy/integrate/odepack.py:247: ODEintWarning: Excess work done on this call (perhaps wrong Dfun type). Run with full_output = 1 to get quantitative information.\n",
      "  warnings.warn(warning_msg, ODEintWarning)\n"
     ]
    },
    {
     "name": "stdout",
     "output_type": "stream",
     "text": [
      "`xtol` termination condition is satisfied.\n",
      "Number of iterations: 98, function evaluations: 270, CG iterations: 114, optimality: 2.16e-07, constraint violation: 0.00e+00, execution time:  2.2 s.\n",
      "species=BT, alpha=3, ini para=57\n",
      "`gtol` termination condition is satisfied.\n",
      "Number of iterations: 39, function evaluations: 90, CG iterations: 49, optimality: 1.61e-09, constraint violation: 0.00e+00, execution time:  0.8 s.\n",
      "species=BT, alpha=3, ini para=58\n",
      "`gtol` termination condition is satisfied.\n",
      "Number of iterations: 37, function evaluations: 90, CG iterations: 48, optimality: 6.29e-09, constraint violation: 0.00e+00, execution time:  0.8 s.\n",
      "species=BT, alpha=3, ini para=59\n",
      "`xtol` termination condition is satisfied.\n",
      "Number of iterations: 83, function evaluations: 156, CG iterations: 97, optimality: 1.75e-07, constraint violation: 0.00e+00, execution time:  1.4 s.\n",
      "species=BT, alpha=3, ini para=60\n",
      "`xtol` termination condition is satisfied.\n",
      "Number of iterations: 97, function evaluations: 204, CG iterations: 110, optimality: 1.06e-07, constraint violation: 0.00e+00, execution time:  1.7 s.\n",
      "species=BT, alpha=3, ini para=61\n",
      "`gtol` termination condition is satisfied.\n",
      "Number of iterations: 44, function evaluations: 126, CG iterations: 61, optimality: 2.98e-10, constraint violation: 0.00e+00, execution time:  1.1 s.\n",
      "species=BT, alpha=3, ini para=62\n",
      "`xtol` termination condition is satisfied.\n",
      "Number of iterations: 96, function evaluations: 222, CG iterations: 110, optimality: 1.47e-07, constraint violation: 0.00e+00, execution time:  1.8 s.\n",
      "species=BT, alpha=3, ini para=63\n",
      "`xtol` termination condition is satisfied.\n",
      "Number of iterations: 97, function evaluations: 246, CG iterations: 119, optimality: 1.66e-07, constraint violation: 0.00e+00, execution time:  2.0 s.\n",
      "species=BT, alpha=3, ini para=64\n",
      "`xtol` termination condition is satisfied.\n",
      "Number of iterations: 85, function evaluations: 174, CG iterations: 90, optimality: 7.57e-08, constraint violation: 0.00e+00, execution time:  3.2 s.\n",
      "species=BT, alpha=3, ini para=65\n",
      "`xtol` termination condition is satisfied.\n",
      "Number of iterations: 96, function evaluations: 216, CG iterations: 110, optimality: 2.08e-07, constraint violation: 0.00e+00, execution time:  1.9 s.\n",
      "species=BT, alpha=3, ini para=66\n",
      "`gtol` termination condition is satisfied.\n",
      "Number of iterations: 68, function evaluations: 147, CG iterations: 83, optimality: 1.93e-09, constraint violation: 0.00e+00, execution time:  1.3 s.\n",
      "species=BT, alpha=3, ini para=67\n",
      "`gtol` termination condition is satisfied.\n",
      "Number of iterations: 39, function evaluations: 93, CG iterations: 49, optimality: 9.01e-09, constraint violation: 0.00e+00, execution time: 0.83 s.\n",
      "species=BT, alpha=3, ini para=68\n",
      "`gtol` termination condition is satisfied.\n",
      "Number of iterations: 36, function evaluations: 84, CG iterations: 42, optimality: 4.52e-09, constraint violation: 0.00e+00, execution time: 0.76 s.\n",
      "species=BT, alpha=3, ini para=69\n",
      "`xtol` termination condition is satisfied.\n",
      "Number of iterations: 89, function evaluations: 198, CG iterations: 98, optimality: 1.98e-07, constraint violation: 0.00e+00, execution time:  1.6 s.\n",
      "species=BT, alpha=3, ini para=70\n",
      "`xtol` termination condition is satisfied.\n",
      "Number of iterations: 89, function evaluations: 183, CG iterations: 103, optimality: 1.32e-07, constraint violation: 0.00e+00, execution time:  3.5 s.\n",
      "species=BT, alpha=3, ini para=71\n",
      "`xtol` termination condition is satisfied.\n",
      "Number of iterations: 98, function evaluations: 267, CG iterations: 111, optimality: 3.64e-07, constraint violation: 0.00e+00, execution time:  2.3 s.\n",
      "species=BT, alpha=3, ini para=72\n",
      "`gtol` termination condition is satisfied.\n",
      "Number of iterations: 38, function evaluations: 96, CG iterations: 46, optimality: 4.13e-10, constraint violation: 0.00e+00, execution time: 0.89 s.\n",
      "species=BT, alpha=3, ini para=73\n",
      "`xtol` termination condition is satisfied.\n",
      "Number of iterations: 77, function evaluations: 135, CG iterations: 79, optimality: 6.51e-08, constraint violation: 0.00e+00, execution time:  1.3 s.\n",
      "species=BT, alpha=3, ini para=74\n"
     ]
    },
    {
     "name": "stderr",
     "output_type": "stream",
     "text": [
      "/opt/anaconda3/lib/python3.8/site-packages/scipy/integrate/odepack.py:247: ODEintWarning: Excess work done on this call (perhaps wrong Dfun type). Run with full_output = 1 to get quantitative information.\n",
      "  warnings.warn(warning_msg, ODEintWarning)\n",
      "/opt/anaconda3/lib/python3.8/site-packages/scipy/integrate/odepack.py:247: ODEintWarning: Excess work done on this call (perhaps wrong Dfun type). Run with full_output = 1 to get quantitative information.\n",
      "  warnings.warn(warning_msg, ODEintWarning)\n",
      "/opt/anaconda3/lib/python3.8/site-packages/scipy/integrate/odepack.py:247: ODEintWarning: Excess work done on this call (perhaps wrong Dfun type). Run with full_output = 1 to get quantitative information.\n",
      "  warnings.warn(warning_msg, ODEintWarning)\n"
     ]
    },
    {
     "name": "stdout",
     "output_type": "stream",
     "text": [
      "`xtol` termination condition is satisfied.\n",
      "Number of iterations: 91, function evaluations: 162, CG iterations: 98, optimality: 1.31e-07, constraint violation: 0.00e+00, execution time:  2.1 s.\n",
      "species=BT, alpha=3, ini para=75\n",
      "`xtol` termination condition is satisfied.\n",
      "Number of iterations: 89, function evaluations: 210, CG iterations: 96, optimality: 2.77e-07, constraint violation: 0.00e+00, execution time:  2.7 s.\n",
      "species=BT, alpha=3, ini para=76\n"
     ]
    },
    {
     "name": "stderr",
     "output_type": "stream",
     "text": [
      "/opt/anaconda3/lib/python3.8/site-packages/scipy/integrate/odepack.py:247: ODEintWarning: Excess work done on this call (perhaps wrong Dfun type). Run with full_output = 1 to get quantitative information.\n",
      "  warnings.warn(warning_msg, ODEintWarning)\n",
      "/opt/anaconda3/lib/python3.8/site-packages/scipy/integrate/odepack.py:247: ODEintWarning: Excess work done on this call (perhaps wrong Dfun type). Run with full_output = 1 to get quantitative information.\n",
      "  warnings.warn(warning_msg, ODEintWarning)\n",
      "/opt/anaconda3/lib/python3.8/site-packages/scipy/integrate/odepack.py:247: ODEintWarning: Excess work done on this call (perhaps wrong Dfun type). Run with full_output = 1 to get quantitative information.\n",
      "  warnings.warn(warning_msg, ODEintWarning)\n",
      "/opt/anaconda3/lib/python3.8/site-packages/scipy/optimize/_hessian_update_strategy.py:182: UserWarning: delta_grad == 0.0. Check if the approximated function is linear. If the function is linear better results can be obtained by defining the Hessian as zero instead of using quasi-Newton approximations.\n",
      "  warn('delta_grad == 0.0. Check if the approximated '\n"
     ]
    },
    {
     "name": "stdout",
     "output_type": "stream",
     "text": [
      "`xtol` termination condition is satisfied.\n",
      "Number of iterations: 119, function evaluations: 306, CG iterations: 146, optimality: 2.16e-07, constraint violation: 0.00e+00, execution time:  3.9 s.\n",
      "species=BT, alpha=3, ini para=77\n"
     ]
    },
    {
     "name": "stderr",
     "output_type": "stream",
     "text": [
      "/opt/anaconda3/lib/python3.8/site-packages/scipy/integrate/odepack.py:247: ODEintWarning: Excess work done on this call (perhaps wrong Dfun type). Run with full_output = 1 to get quantitative information.\n",
      "  warnings.warn(warning_msg, ODEintWarning)\n",
      "/opt/anaconda3/lib/python3.8/site-packages/scipy/integrate/odepack.py:247: ODEintWarning: Excess work done on this call (perhaps wrong Dfun type). Run with full_output = 1 to get quantitative information.\n",
      "  warnings.warn(warning_msg, ODEintWarning)\n",
      "/opt/anaconda3/lib/python3.8/site-packages/scipy/integrate/odepack.py:247: ODEintWarning: Excess work done on this call (perhaps wrong Dfun type). Run with full_output = 1 to get quantitative information.\n",
      "  warnings.warn(warning_msg, ODEintWarning)\n"
     ]
    },
    {
     "name": "stdout",
     "output_type": "stream",
     "text": [
      "The maximum number of function evaluations is exceeded.\n",
      "Number of iterations: 300, function evaluations: 903, CG iterations: 302, optimality: 1.95e-01, constraint violation: 0.00e+00, execution time:  8.7 s.\n",
      "species=BT, alpha=3, ini para=78\n"
     ]
    },
    {
     "name": "stderr",
     "output_type": "stream",
     "text": [
      "/opt/anaconda3/lib/python3.8/site-packages/scipy/integrate/odepack.py:247: ODEintWarning: Excess work done on this call (perhaps wrong Dfun type). Run with full_output = 1 to get quantitative information.\n",
      "  warnings.warn(warning_msg, ODEintWarning)\n",
      "/opt/anaconda3/lib/python3.8/site-packages/scipy/integrate/odepack.py:247: ODEintWarning: Excess work done on this call (perhaps wrong Dfun type). Run with full_output = 1 to get quantitative information.\n",
      "  warnings.warn(warning_msg, ODEintWarning)\n",
      "/opt/anaconda3/lib/python3.8/site-packages/scipy/integrate/odepack.py:247: ODEintWarning: Excess work done on this call (perhaps wrong Dfun type). Run with full_output = 1 to get quantitative information.\n",
      "  warnings.warn(warning_msg, ODEintWarning)\n"
     ]
    },
    {
     "name": "stdout",
     "output_type": "stream",
     "text": [
      "`xtol` termination condition is satisfied.\n",
      "Number of iterations: 91, function evaluations: 174, CG iterations: 104, optimality: 2.40e-07, constraint violation: 0.00e+00, execution time:  1.8 s.\n",
      "species=BT, alpha=3, ini para=79\n"
     ]
    },
    {
     "name": "stderr",
     "output_type": "stream",
     "text": [
      "/opt/anaconda3/lib/python3.8/site-packages/scipy/optimize/_hessian_update_strategy.py:182: UserWarning: delta_grad == 0.0. Check if the approximated function is linear. If the function is linear better results can be obtained by defining the Hessian as zero instead of using quasi-Newton approximations.\n",
      "  warn('delta_grad == 0.0. Check if the approximated '\n"
     ]
    },
    {
     "name": "stdout",
     "output_type": "stream",
     "text": [
      "`xtol` termination condition is satisfied.\n",
      "Number of iterations: 84, function evaluations: 165, CG iterations: 93, optimality: 2.08e-07, constraint violation: 0.00e+00, execution time:  1.6 s.\n",
      "species=BT, alpha=3, ini para=80\n",
      "`xtol` termination condition is satisfied.\n",
      "Number of iterations: 90, function evaluations: 243, CG iterations: 103, optimality: 2.58e-07, constraint violation: 0.00e+00, execution time:  2.2 s.\n",
      "species=BT, alpha=3, ini para=81\n",
      "`xtol` termination condition is satisfied.\n",
      "Number of iterations: 85, function evaluations: 159, CG iterations: 93, optimality: 1.47e-07, constraint violation: 0.00e+00, execution time:  1.5 s.\n",
      "species=BT, alpha=3, ini para=82\n",
      "`gtol` termination condition is satisfied.\n",
      "Number of iterations: 48, function evaluations: 123, CG iterations: 56, optimality: 5.15e-09, constraint violation: 0.00e+00, execution time:  1.1 s.\n",
      "species=BT, alpha=3, ini para=83\n",
      "`gtol` termination condition is satisfied.\n",
      "Number of iterations: 39, function evaluations: 96, CG iterations: 50, optimality: 1.93e-09, constraint violation: 0.00e+00, execution time: 0.85 s.\n",
      "species=BT, alpha=3, ini para=84\n",
      "`gtol` termination condition is satisfied.\n",
      "Number of iterations: 71, function evaluations: 183, CG iterations: 90, optimality: 9.83e-09, constraint violation: 0.00e+00, execution time:  1.6 s.\n",
      "species=BT, alpha=3, ini para=85\n",
      "`xtol` termination condition is satisfied.\n",
      "Number of iterations: 90, function evaluations: 204, CG iterations: 98, optimality: 2.86e-07, constraint violation: 0.00e+00, execution time:  1.6 s.\n",
      "species=BT, alpha=3, ini para=86\n",
      "`gtol` termination condition is satisfied.\n",
      "Number of iterations: 39, function evaluations: 96, CG iterations: 45, optimality: 1.93e-09, constraint violation: 0.00e+00, execution time: 0.83 s.\n",
      "species=BT, alpha=3, ini para=87\n"
     ]
    },
    {
     "name": "stderr",
     "output_type": "stream",
     "text": [
      "/opt/anaconda3/lib/python3.8/site-packages/scipy/optimize/_hessian_update_strategy.py:182: UserWarning: delta_grad == 0.0. Check if the approximated function is linear. If the function is linear better results can be obtained by defining the Hessian as zero instead of using quasi-Newton approximations.\n",
      "  warn('delta_grad == 0.0. Check if the approximated '\n"
     ]
    },
    {
     "name": "stdout",
     "output_type": "stream",
     "text": [
      "`xtol` termination condition is satisfied.\n",
      "Number of iterations: 95, function evaluations: 222, CG iterations: 106, optimality: 2.62e-07, constraint violation: 0.00e+00, execution time:  2.1 s.\n",
      "species=BT, alpha=3, ini para=88\n",
      "`xtol` termination condition is satisfied.\n",
      "Number of iterations: 102, function evaluations: 222, CG iterations: 111, optimality: 1.82e-07, constraint violation: 0.00e+00, execution time:  2.4 s.\n",
      "species=BT, alpha=3, ini para=89\n",
      "The maximum number of function evaluations is exceeded.\n",
      "Number of iterations: 300, function evaluations: 903, CG iterations: 304, optimality: 2.91e+00, constraint violation: 0.00e+00, execution time:  8.3 s.\n",
      "species=BT, alpha=3, ini para=90\n",
      "`gtol` termination condition is satisfied.\n",
      "Number of iterations: 17, function evaluations: 39, CG iterations: 14, optimality: 6.21e-09, constraint violation: 0.00e+00, execution time: 0.34 s.\n",
      "species=BT, alpha=3, ini para=91\n",
      "`xtol` termination condition is satisfied.\n",
      "Number of iterations: 81, function evaluations: 162, CG iterations: 88, optimality: 2.37e-07, constraint violation: 0.00e+00, execution time:  1.6 s.\n",
      "species=BT, alpha=3, ini para=92\n"
     ]
    },
    {
     "ename": "KeyboardInterrupt",
     "evalue": "",
     "output_type": "error",
     "traceback": [
      "\u001b[0;31m--------------------------------------------------------------------------\u001b[0m",
      "\u001b[0;31mKeyboardInterrupt\u001b[0m                        Traceback (most recent call last)",
      "\u001b[0;32m<ipython-input-23-901736ac8ea9>\u001b[0m in \u001b[0;36m<module>\u001b[0;34m\u001b[0m\n\u001b[1;32m     20\u001b[0m             \u001b[0mtheta0\u001b[0m \u001b[0;34m=\u001b[0m \u001b[0mlist\u001b[0m\u001b[0;34m(\u001b[0m\u001b[0mini_para\u001b[0m\u001b[0;34m[\u001b[0m\u001b[0mi\u001b[0m\u001b[0;34m,\u001b[0m\u001b[0;34m:\u001b[0m\u001b[0;34m]\u001b[0m\u001b[0;34m)\u001b[0m\u001b[0;34m\u001b[0m\u001b[0;34m\u001b[0m\u001b[0m\n\u001b[1;32m     21\u001b[0m \u001b[0;34m\u001b[0m\u001b[0m\n\u001b[0;32m---> 22\u001b[0;31m             min_sol = minimize(cost_fcn_LogisticGrowth, theta0, \n\u001b[0m\u001b[1;32m     23\u001b[0m                                \u001b[0mbounds\u001b[0m \u001b[0;34m=\u001b[0m \u001b[0mbnd\u001b[0m\u001b[0;34m,\u001b[0m\u001b[0;34m\u001b[0m\u001b[0;34m\u001b[0m\u001b[0m\n\u001b[1;32m     24\u001b[0m                                \u001b[0mmethod\u001b[0m \u001b[0;34m=\u001b[0m \u001b[0;34m'trust-constr'\u001b[0m\u001b[0;34m,\u001b[0m\u001b[0;34m\u001b[0m\u001b[0;34m\u001b[0m\u001b[0m\n",
      "\u001b[0;32m/opt/anaconda3/lib/python3.8/site-packages/scipy/optimize/_minimize.py\u001b[0m in \u001b[0;36mminimize\u001b[0;34m(fun, x0, args, method, jac, hess, hessp, bounds, constraints, tol, callback, options)\u001b[0m\n\u001b[1;32m    626\u001b[0m                                constraints, callback=callback, **options)\n\u001b[1;32m    627\u001b[0m     \u001b[0;32melif\u001b[0m \u001b[0mmeth\u001b[0m \u001b[0;34m==\u001b[0m \u001b[0;34m'trust-constr'\u001b[0m\u001b[0;34m:\u001b[0m\u001b[0;34m\u001b[0m\u001b[0;34m\u001b[0m\u001b[0m\n\u001b[0;32m--> 628\u001b[0;31m         return _minimize_trustregion_constr(fun, x0, args, jac, hess, hessp,\n\u001b[0m\u001b[1;32m    629\u001b[0m                                             \u001b[0mbounds\u001b[0m\u001b[0;34m,\u001b[0m \u001b[0mconstraints\u001b[0m\u001b[0;34m,\u001b[0m\u001b[0;34m\u001b[0m\u001b[0;34m\u001b[0m\u001b[0m\n\u001b[1;32m    630\u001b[0m                                             callback=callback, **options)\n",
      "\u001b[0;32m/opt/anaconda3/lib/python3.8/site-packages/scipy/optimize/_trustregion_constr/minimize_trustregion_constr.py\u001b[0m in \u001b[0;36m_minimize_trustregion_constr\u001b[0;34m(fun, x0, args, grad, hess, hessp, bounds, constraints, xtol, gtol, barrier_tol, sparse_jacobian, callback, maxiter, verbose, finite_diff_rel_step, initial_constr_penalty, initial_tr_radius, initial_barrier_parameter, initial_barrier_tolerance, factorization_method, disp)\u001b[0m\n\u001b[1;32m    507\u001b[0m \u001b[0;34m\u001b[0m\u001b[0m\n\u001b[1;32m    508\u001b[0m     \u001b[0;32melif\u001b[0m \u001b[0mmethod\u001b[0m \u001b[0;34m==\u001b[0m \u001b[0;34m'tr_interior_point'\u001b[0m\u001b[0;34m:\u001b[0m\u001b[0;34m\u001b[0m\u001b[0;34m\u001b[0m\u001b[0m\n\u001b[0;32m--> 509\u001b[0;31m         _, result = tr_interior_point(\n\u001b[0m\u001b[1;32m    510\u001b[0m             \u001b[0mobjective\u001b[0m\u001b[0;34m.\u001b[0m\u001b[0mfun\u001b[0m\u001b[0;34m,\u001b[0m \u001b[0mobjective\u001b[0m\u001b[0;34m.\u001b[0m\u001b[0mgrad\u001b[0m\u001b[0;34m,\u001b[0m \u001b[0mlagrangian_hess\u001b[0m\u001b[0;34m,\u001b[0m\u001b[0;34m\u001b[0m\u001b[0;34m\u001b[0m\u001b[0m\n\u001b[1;32m    511\u001b[0m             \u001b[0mn_vars\u001b[0m\u001b[0;34m,\u001b[0m \u001b[0mcanonical\u001b[0m\u001b[0;34m.\u001b[0m\u001b[0mn_ineq\u001b[0m\u001b[0;34m,\u001b[0m \u001b[0mcanonical\u001b[0m\u001b[0;34m.\u001b[0m\u001b[0mn_eq\u001b[0m\u001b[0;34m,\u001b[0m\u001b[0;34m\u001b[0m\u001b[0;34m\u001b[0m\u001b[0m\n",
      "\u001b[0;32m/opt/anaconda3/lib/python3.8/site-packages/scipy/optimize/_trustregion_constr/tr_interior_point.py\u001b[0m in \u001b[0;36mtr_interior_point\u001b[0;34m(fun, grad, lagr_hess, n_vars, n_ineq, n_eq, constr, jac, x0, fun0, grad0, constr_ineq0, jac_ineq0, constr_eq0, jac_eq0, stop_criteria, enforce_feasibility, xtol, state, initial_barrier_parameter, initial_tolerance, initial_penalty, initial_trust_radius, factorization_method)\u001b[0m\n\u001b[1;32m    319\u001b[0m     \u001b[0;32mwhile\u001b[0m \u001b[0;32mTrue\u001b[0m\u001b[0;34m:\u001b[0m\u001b[0;34m\u001b[0m\u001b[0;34m\u001b[0m\u001b[0m\n\u001b[1;32m    320\u001b[0m         \u001b[0;31m# Solve SQP subproblem\u001b[0m\u001b[0;34m\u001b[0m\u001b[0;34m\u001b[0m\u001b[0;34m\u001b[0m\u001b[0m\n\u001b[0;32m--> 321\u001b[0;31m         z, state = equality_constrained_sqp(\n\u001b[0m\u001b[1;32m    322\u001b[0m             \u001b[0msubprob\u001b[0m\u001b[0;34m.\u001b[0m\u001b[0mfunction_and_constraints\u001b[0m\u001b[0;34m,\u001b[0m\u001b[0;34m\u001b[0m\u001b[0;34m\u001b[0m\u001b[0m\n\u001b[1;32m    323\u001b[0m             \u001b[0msubprob\u001b[0m\u001b[0;34m.\u001b[0m\u001b[0mgradient_and_jacobian\u001b[0m\u001b[0;34m,\u001b[0m\u001b[0;34m\u001b[0m\u001b[0;34m\u001b[0m\u001b[0m\n",
      "\u001b[0;32m/opt/anaconda3/lib/python3.8/site-packages/scipy/optimize/_trustregion_constr/equality_constrained_sqp.py\u001b[0m in \u001b[0;36mequality_constrained_sqp\u001b[0;34m(fun_and_constr, grad_and_jac, lagr_hess, x0, fun0, grad0, constr0, jac0, stop_criteria, state, initial_penalty, initial_trust_radius, factorization_method, trust_lb, trust_ub, scaling)\u001b[0m\n\u001b[1;32m    145\u001b[0m         \u001b[0;31m# Evaluate function and constraints at trial point\u001b[0m\u001b[0;34m\u001b[0m\u001b[0;34m\u001b[0m\u001b[0;34m\u001b[0m\u001b[0m\n\u001b[1;32m    146\u001b[0m         \u001b[0mx_next\u001b[0m \u001b[0;34m=\u001b[0m \u001b[0mx\u001b[0m \u001b[0;34m+\u001b[0m \u001b[0mS\u001b[0m\u001b[0;34m.\u001b[0m\u001b[0mdot\u001b[0m\u001b[0;34m(\u001b[0m\u001b[0md\u001b[0m\u001b[0;34m)\u001b[0m\u001b[0;34m\u001b[0m\u001b[0;34m\u001b[0m\u001b[0m\n\u001b[0;32m--> 147\u001b[0;31m         \u001b[0mf_next\u001b[0m\u001b[0;34m,\u001b[0m \u001b[0mb_next\u001b[0m \u001b[0;34m=\u001b[0m \u001b[0mfun_and_constr\u001b[0m\u001b[0;34m(\u001b[0m\u001b[0mx_next\u001b[0m\u001b[0;34m)\u001b[0m\u001b[0;34m\u001b[0m\u001b[0;34m\u001b[0m\u001b[0m\n\u001b[0m\u001b[1;32m    148\u001b[0m         \u001b[0;31m# Compute merit function at trial point\u001b[0m\u001b[0;34m\u001b[0m\u001b[0;34m\u001b[0m\u001b[0;34m\u001b[0m\u001b[0m\n\u001b[1;32m    149\u001b[0m         \u001b[0mmerit_function_next\u001b[0m \u001b[0;34m=\u001b[0m \u001b[0mf_next\u001b[0m \u001b[0;34m+\u001b[0m \u001b[0mpenalty\u001b[0m\u001b[0;34m*\u001b[0m\u001b[0mnorm\u001b[0m\u001b[0;34m(\u001b[0m\u001b[0mb_next\u001b[0m\u001b[0;34m)\u001b[0m\u001b[0;34m\u001b[0m\u001b[0;34m\u001b[0m\u001b[0m\n",
      "\u001b[0;32m/opt/anaconda3/lib/python3.8/site-packages/scipy/optimize/_trustregion_constr/tr_interior_point.py\u001b[0m in \u001b[0;36mfunction_and_constraints\u001b[0;34m(self, z)\u001b[0m\n\u001b[1;32m     80\u001b[0m         \u001b[0ms\u001b[0m \u001b[0;34m=\u001b[0m \u001b[0mself\u001b[0m\u001b[0;34m.\u001b[0m\u001b[0mget_slack\u001b[0m\u001b[0;34m(\u001b[0m\u001b[0mz\u001b[0m\u001b[0;34m)\u001b[0m\u001b[0;34m\u001b[0m\u001b[0;34m\u001b[0m\u001b[0m\n\u001b[1;32m     81\u001b[0m         \u001b[0;31m# Compute function and constraints\u001b[0m\u001b[0;34m\u001b[0m\u001b[0;34m\u001b[0m\u001b[0;34m\u001b[0m\u001b[0m\n\u001b[0;32m---> 82\u001b[0;31m         \u001b[0mf\u001b[0m \u001b[0;34m=\u001b[0m \u001b[0mself\u001b[0m\u001b[0;34m.\u001b[0m\u001b[0mfun\u001b[0m\u001b[0;34m(\u001b[0m\u001b[0mx\u001b[0m\u001b[0;34m)\u001b[0m\u001b[0;34m\u001b[0m\u001b[0;34m\u001b[0m\u001b[0m\n\u001b[0m\u001b[1;32m     83\u001b[0m         \u001b[0mc_eq\u001b[0m\u001b[0;34m,\u001b[0m \u001b[0mc_ineq\u001b[0m \u001b[0;34m=\u001b[0m \u001b[0mself\u001b[0m\u001b[0;34m.\u001b[0m\u001b[0mconstr\u001b[0m\u001b[0;34m(\u001b[0m\u001b[0mx\u001b[0m\u001b[0;34m)\u001b[0m\u001b[0;34m\u001b[0m\u001b[0;34m\u001b[0m\u001b[0m\n\u001b[1;32m     84\u001b[0m         \u001b[0;31m# Return objective function and constraints\u001b[0m\u001b[0;34m\u001b[0m\u001b[0;34m\u001b[0m\u001b[0;34m\u001b[0m\u001b[0m\n",
      "\u001b[0;32m/opt/anaconda3/lib/python3.8/site-packages/scipy/optimize/_differentiable_functions.py\u001b[0m in \u001b[0;36mfun\u001b[0;34m(self, x)\u001b[0m\n\u001b[1;32m    179\u001b[0m     \u001b[0;32mdef\u001b[0m \u001b[0mfun\u001b[0m\u001b[0;34m(\u001b[0m\u001b[0mself\u001b[0m\u001b[0;34m,\u001b[0m \u001b[0mx\u001b[0m\u001b[0;34m)\u001b[0m\u001b[0;34m:\u001b[0m\u001b[0;34m\u001b[0m\u001b[0;34m\u001b[0m\u001b[0m\n\u001b[1;32m    180\u001b[0m         \u001b[0;32mif\u001b[0m \u001b[0;32mnot\u001b[0m \u001b[0mnp\u001b[0m\u001b[0;34m.\u001b[0m\u001b[0marray_equal\u001b[0m\u001b[0;34m(\u001b[0m\u001b[0mx\u001b[0m\u001b[0;34m,\u001b[0m \u001b[0mself\u001b[0m\u001b[0;34m.\u001b[0m\u001b[0mx\u001b[0m\u001b[0;34m)\u001b[0m\u001b[0;34m:\u001b[0m\u001b[0;34m\u001b[0m\u001b[0;34m\u001b[0m\u001b[0m\n\u001b[0;32m--> 181\u001b[0;31m             \u001b[0mself\u001b[0m\u001b[0;34m.\u001b[0m\u001b[0m_update_x_impl\u001b[0m\u001b[0;34m(\u001b[0m\u001b[0mx\u001b[0m\u001b[0;34m)\u001b[0m\u001b[0;34m\u001b[0m\u001b[0;34m\u001b[0m\u001b[0m\n\u001b[0m\u001b[1;32m    182\u001b[0m         \u001b[0mself\u001b[0m\u001b[0;34m.\u001b[0m\u001b[0m_update_fun\u001b[0m\u001b[0;34m(\u001b[0m\u001b[0;34m)\u001b[0m\u001b[0;34m\u001b[0m\u001b[0;34m\u001b[0m\u001b[0m\n\u001b[1;32m    183\u001b[0m         \u001b[0;32mreturn\u001b[0m \u001b[0mself\u001b[0m\u001b[0;34m.\u001b[0m\u001b[0mf\u001b[0m\u001b[0;34m\u001b[0m\u001b[0;34m\u001b[0m\u001b[0m\n",
      "\u001b[0;32m/opt/anaconda3/lib/python3.8/site-packages/scipy/optimize/_differentiable_functions.py\u001b[0m in \u001b[0;36mupdate_x\u001b[0;34m(x)\u001b[0m\n\u001b[1;32m    153\u001b[0m                 \u001b[0mself\u001b[0m\u001b[0;34m.\u001b[0m\u001b[0mg_updated\u001b[0m \u001b[0;34m=\u001b[0m \u001b[0;32mFalse\u001b[0m\u001b[0;34m\u001b[0m\u001b[0;34m\u001b[0m\u001b[0m\n\u001b[1;32m    154\u001b[0m                 \u001b[0mself\u001b[0m\u001b[0;34m.\u001b[0m\u001b[0mH_updated\u001b[0m \u001b[0;34m=\u001b[0m \u001b[0;32mFalse\u001b[0m\u001b[0;34m\u001b[0m\u001b[0;34m\u001b[0m\u001b[0m\n\u001b[0;32m--> 155\u001b[0;31m                 \u001b[0mself\u001b[0m\u001b[0;34m.\u001b[0m\u001b[0m_update_hess\u001b[0m\u001b[0;34m(\u001b[0m\u001b[0;34m)\u001b[0m\u001b[0;34m\u001b[0m\u001b[0;34m\u001b[0m\u001b[0m\n\u001b[0m\u001b[1;32m    156\u001b[0m         \u001b[0;32melse\u001b[0m\u001b[0;34m:\u001b[0m\u001b[0;34m\u001b[0m\u001b[0;34m\u001b[0m\u001b[0m\n\u001b[1;32m    157\u001b[0m             \u001b[0;32mdef\u001b[0m \u001b[0mupdate_x\u001b[0m\u001b[0;34m(\u001b[0m\u001b[0mx\u001b[0m\u001b[0;34m)\u001b[0m\u001b[0;34m:\u001b[0m\u001b[0;34m\u001b[0m\u001b[0;34m\u001b[0m\u001b[0m\n",
      "\u001b[0;32m/opt/anaconda3/lib/python3.8/site-packages/scipy/optimize/_differentiable_functions.py\u001b[0m in \u001b[0;36m_update_hess\u001b[0;34m(self)\u001b[0m\n\u001b[1;32m    174\u001b[0m     \u001b[0;32mdef\u001b[0m \u001b[0m_update_hess\u001b[0m\u001b[0;34m(\u001b[0m\u001b[0mself\u001b[0m\u001b[0;34m)\u001b[0m\u001b[0;34m:\u001b[0m\u001b[0;34m\u001b[0m\u001b[0;34m\u001b[0m\u001b[0m\n\u001b[1;32m    175\u001b[0m         \u001b[0;32mif\u001b[0m \u001b[0;32mnot\u001b[0m \u001b[0mself\u001b[0m\u001b[0;34m.\u001b[0m\u001b[0mH_updated\u001b[0m\u001b[0;34m:\u001b[0m\u001b[0;34m\u001b[0m\u001b[0;34m\u001b[0m\u001b[0m\n\u001b[0;32m--> 176\u001b[0;31m             \u001b[0mself\u001b[0m\u001b[0;34m.\u001b[0m\u001b[0m_update_hess_impl\u001b[0m\u001b[0;34m(\u001b[0m\u001b[0;34m)\u001b[0m\u001b[0;34m\u001b[0m\u001b[0;34m\u001b[0m\u001b[0m\n\u001b[0m\u001b[1;32m    177\u001b[0m             \u001b[0mself\u001b[0m\u001b[0;34m.\u001b[0m\u001b[0mH_updated\u001b[0m \u001b[0;34m=\u001b[0m \u001b[0;32mTrue\u001b[0m\u001b[0;34m\u001b[0m\u001b[0;34m\u001b[0m\u001b[0m\n\u001b[1;32m    178\u001b[0m \u001b[0;34m\u001b[0m\u001b[0m\n",
      "\u001b[0;32m/opt/anaconda3/lib/python3.8/site-packages/scipy/optimize/_differentiable_functions.py\u001b[0m in \u001b[0;36mupdate_hess\u001b[0;34m()\u001b[0m\n\u001b[1;32m    138\u001b[0m \u001b[0;34m\u001b[0m\u001b[0m\n\u001b[1;32m    139\u001b[0m             \u001b[0;32mdef\u001b[0m \u001b[0mupdate_hess\u001b[0m\u001b[0;34m(\u001b[0m\u001b[0;34m)\u001b[0m\u001b[0;34m:\u001b[0m\u001b[0;34m\u001b[0m\u001b[0;34m\u001b[0m\u001b[0m\n\u001b[0;32m--> 140\u001b[0;31m                 \u001b[0mself\u001b[0m\u001b[0;34m.\u001b[0m\u001b[0m_update_grad\u001b[0m\u001b[0;34m(\u001b[0m\u001b[0;34m)\u001b[0m\u001b[0;34m\u001b[0m\u001b[0;34m\u001b[0m\u001b[0m\n\u001b[0m\u001b[1;32m    141\u001b[0m                 \u001b[0mself\u001b[0m\u001b[0;34m.\u001b[0m\u001b[0mH\u001b[0m\u001b[0;34m.\u001b[0m\u001b[0mupdate\u001b[0m\u001b[0;34m(\u001b[0m\u001b[0mself\u001b[0m\u001b[0;34m.\u001b[0m\u001b[0mx\u001b[0m \u001b[0;34m-\u001b[0m \u001b[0mself\u001b[0m\u001b[0;34m.\u001b[0m\u001b[0mx_prev\u001b[0m\u001b[0;34m,\u001b[0m \u001b[0mself\u001b[0m\u001b[0;34m.\u001b[0m\u001b[0mg\u001b[0m \u001b[0;34m-\u001b[0m \u001b[0mself\u001b[0m\u001b[0;34m.\u001b[0m\u001b[0mg_prev\u001b[0m\u001b[0;34m)\u001b[0m\u001b[0;34m\u001b[0m\u001b[0;34m\u001b[0m\u001b[0m\n\u001b[1;32m    142\u001b[0m \u001b[0;34m\u001b[0m\u001b[0m\n",
      "\u001b[0;32m/opt/anaconda3/lib/python3.8/site-packages/scipy/optimize/_differentiable_functions.py\u001b[0m in \u001b[0;36m_update_grad\u001b[0;34m(self)\u001b[0m\n\u001b[1;32m    169\u001b[0m     \u001b[0;32mdef\u001b[0m \u001b[0m_update_grad\u001b[0m\u001b[0;34m(\u001b[0m\u001b[0mself\u001b[0m\u001b[0;34m)\u001b[0m\u001b[0;34m:\u001b[0m\u001b[0;34m\u001b[0m\u001b[0;34m\u001b[0m\u001b[0m\n\u001b[1;32m    170\u001b[0m         \u001b[0;32mif\u001b[0m \u001b[0;32mnot\u001b[0m \u001b[0mself\u001b[0m\u001b[0;34m.\u001b[0m\u001b[0mg_updated\u001b[0m\u001b[0;34m:\u001b[0m\u001b[0;34m\u001b[0m\u001b[0;34m\u001b[0m\u001b[0m\n\u001b[0;32m--> 171\u001b[0;31m             \u001b[0mself\u001b[0m\u001b[0;34m.\u001b[0m\u001b[0m_update_grad_impl\u001b[0m\u001b[0;34m(\u001b[0m\u001b[0;34m)\u001b[0m\u001b[0;34m\u001b[0m\u001b[0;34m\u001b[0m\u001b[0m\n\u001b[0m\u001b[1;32m    172\u001b[0m             \u001b[0mself\u001b[0m\u001b[0;34m.\u001b[0m\u001b[0mg_updated\u001b[0m \u001b[0;34m=\u001b[0m \u001b[0;32mTrue\u001b[0m\u001b[0;34m\u001b[0m\u001b[0;34m\u001b[0m\u001b[0m\n\u001b[1;32m    173\u001b[0m \u001b[0;34m\u001b[0m\u001b[0m\n",
      "\u001b[0;32m/opt/anaconda3/lib/python3.8/site-packages/scipy/optimize/_differentiable_functions.py\u001b[0m in \u001b[0;36mupdate_grad\u001b[0;34m()\u001b[0m\n\u001b[1;32m     89\u001b[0m                 \u001b[0mself\u001b[0m\u001b[0;34m.\u001b[0m\u001b[0m_update_fun\u001b[0m\u001b[0;34m(\u001b[0m\u001b[0;34m)\u001b[0m\u001b[0;34m\u001b[0m\u001b[0;34m\u001b[0m\u001b[0m\n\u001b[1;32m     90\u001b[0m                 \u001b[0mself\u001b[0m\u001b[0;34m.\u001b[0m\u001b[0mngev\u001b[0m \u001b[0;34m+=\u001b[0m \u001b[0;36m1\u001b[0m\u001b[0;34m\u001b[0m\u001b[0;34m\u001b[0m\u001b[0m\n\u001b[0;32m---> 91\u001b[0;31m                 self.g = approx_derivative(fun_wrapped, self.x, f0=self.f,\n\u001b[0m\u001b[1;32m     92\u001b[0m                                            **finite_diff_options)\n\u001b[1;32m     93\u001b[0m \u001b[0;34m\u001b[0m\u001b[0m\n",
      "\u001b[0;32m/opt/anaconda3/lib/python3.8/site-packages/scipy/optimize/_numdiff.py\u001b[0m in \u001b[0;36mapprox_derivative\u001b[0;34m(fun, x0, method, rel_step, abs_step, f0, bounds, sparsity, as_linear_operator, args, kwargs)\u001b[0m\n\u001b[1;32m    424\u001b[0m \u001b[0;34m\u001b[0m\u001b[0m\n\u001b[1;32m    425\u001b[0m         \u001b[0;32mif\u001b[0m \u001b[0msparsity\u001b[0m \u001b[0;32mis\u001b[0m \u001b[0;32mNone\u001b[0m\u001b[0;34m:\u001b[0m\u001b[0;34m\u001b[0m\u001b[0;34m\u001b[0m\u001b[0m\n\u001b[0;32m--> 426\u001b[0;31m             return _dense_difference(fun_wrapped, x0, f0, h,\n\u001b[0m\u001b[1;32m    427\u001b[0m                                      use_one_sided, method)\n\u001b[1;32m    428\u001b[0m         \u001b[0;32melse\u001b[0m\u001b[0;34m:\u001b[0m\u001b[0;34m\u001b[0m\u001b[0;34m\u001b[0m\u001b[0m\n",
      "\u001b[0;32m/opt/anaconda3/lib/python3.8/site-packages/scipy/optimize/_numdiff.py\u001b[0m in \u001b[0;36m_dense_difference\u001b[0;34m(fun, x0, f0, h, use_one_sided, method)\u001b[0m\n\u001b[1;32m    495\u001b[0m             \u001b[0mx\u001b[0m \u001b[0;34m=\u001b[0m \u001b[0mx0\u001b[0m \u001b[0;34m+\u001b[0m \u001b[0mh_vecs\u001b[0m\u001b[0;34m[\u001b[0m\u001b[0mi\u001b[0m\u001b[0;34m]\u001b[0m\u001b[0;34m\u001b[0m\u001b[0;34m\u001b[0m\u001b[0m\n\u001b[1;32m    496\u001b[0m             \u001b[0mdx\u001b[0m \u001b[0;34m=\u001b[0m \u001b[0mx\u001b[0m\u001b[0;34m[\u001b[0m\u001b[0mi\u001b[0m\u001b[0;34m]\u001b[0m \u001b[0;34m-\u001b[0m \u001b[0mx0\u001b[0m\u001b[0;34m[\u001b[0m\u001b[0mi\u001b[0m\u001b[0;34m]\u001b[0m  \u001b[0;31m# Recompute dx as exactly representable number.\u001b[0m\u001b[0;34m\u001b[0m\u001b[0;34m\u001b[0m\u001b[0m\n\u001b[0;32m--> 497\u001b[0;31m             \u001b[0mdf\u001b[0m \u001b[0;34m=\u001b[0m \u001b[0mfun\u001b[0m\u001b[0;34m(\u001b[0m\u001b[0mx\u001b[0m\u001b[0;34m)\u001b[0m \u001b[0;34m-\u001b[0m \u001b[0mf0\u001b[0m\u001b[0;34m\u001b[0m\u001b[0;34m\u001b[0m\u001b[0m\n\u001b[0m\u001b[1;32m    498\u001b[0m         \u001b[0;32melif\u001b[0m \u001b[0mmethod\u001b[0m \u001b[0;34m==\u001b[0m \u001b[0;34m'3-point'\u001b[0m \u001b[0;32mand\u001b[0m \u001b[0muse_one_sided\u001b[0m\u001b[0;34m[\u001b[0m\u001b[0mi\u001b[0m\u001b[0;34m]\u001b[0m\u001b[0;34m:\u001b[0m\u001b[0;34m\u001b[0m\u001b[0;34m\u001b[0m\u001b[0m\n\u001b[1;32m    499\u001b[0m             \u001b[0mx1\u001b[0m \u001b[0;34m=\u001b[0m \u001b[0mx0\u001b[0m \u001b[0;34m+\u001b[0m \u001b[0mh_vecs\u001b[0m\u001b[0;34m[\u001b[0m\u001b[0mi\u001b[0m\u001b[0;34m]\u001b[0m\u001b[0;34m\u001b[0m\u001b[0;34m\u001b[0m\u001b[0m\n",
      "\u001b[0;32m/opt/anaconda3/lib/python3.8/site-packages/scipy/optimize/_numdiff.py\u001b[0m in \u001b[0;36mfun_wrapped\u001b[0;34m(x)\u001b[0m\n\u001b[1;32m    375\u001b[0m \u001b[0;34m\u001b[0m\u001b[0m\n\u001b[1;32m    376\u001b[0m     \u001b[0;32mdef\u001b[0m \u001b[0mfun_wrapped\u001b[0m\u001b[0;34m(\u001b[0m\u001b[0mx\u001b[0m\u001b[0;34m)\u001b[0m\u001b[0;34m:\u001b[0m\u001b[0;34m\u001b[0m\u001b[0;34m\u001b[0m\u001b[0m\n\u001b[0;32m--> 377\u001b[0;31m         \u001b[0mf\u001b[0m \u001b[0;34m=\u001b[0m \u001b[0mnp\u001b[0m\u001b[0;34m.\u001b[0m\u001b[0matleast_1d\u001b[0m\u001b[0;34m(\u001b[0m\u001b[0mfun\u001b[0m\u001b[0;34m(\u001b[0m\u001b[0mx\u001b[0m\u001b[0;34m,\u001b[0m \u001b[0;34m*\u001b[0m\u001b[0margs\u001b[0m\u001b[0;34m,\u001b[0m \u001b[0;34m**\u001b[0m\u001b[0mkwargs\u001b[0m\u001b[0;34m)\u001b[0m\u001b[0;34m)\u001b[0m\u001b[0;34m\u001b[0m\u001b[0;34m\u001b[0m\u001b[0m\n\u001b[0m\u001b[1;32m    378\u001b[0m         \u001b[0;32mif\u001b[0m \u001b[0mf\u001b[0m\u001b[0;34m.\u001b[0m\u001b[0mndim\u001b[0m \u001b[0;34m>\u001b[0m \u001b[0;36m1\u001b[0m\u001b[0;34m:\u001b[0m\u001b[0;34m\u001b[0m\u001b[0;34m\u001b[0m\u001b[0m\n\u001b[1;32m    379\u001b[0m             raise RuntimeError(\"`fun` return value has \"\n",
      "\u001b[0;32m/opt/anaconda3/lib/python3.8/site-packages/scipy/optimize/_differentiable_functions.py\u001b[0m in \u001b[0;36mfun_wrapped\u001b[0;34m(x)\u001b[0m\n\u001b[1;32m     68\u001b[0m         \u001b[0;32mdef\u001b[0m \u001b[0mfun_wrapped\u001b[0m\u001b[0;34m(\u001b[0m\u001b[0mx\u001b[0m\u001b[0;34m)\u001b[0m\u001b[0;34m:\u001b[0m\u001b[0;34m\u001b[0m\u001b[0;34m\u001b[0m\u001b[0m\n\u001b[1;32m     69\u001b[0m             \u001b[0mself\u001b[0m\u001b[0;34m.\u001b[0m\u001b[0mnfev\u001b[0m \u001b[0;34m+=\u001b[0m \u001b[0;36m1\u001b[0m\u001b[0;34m\u001b[0m\u001b[0;34m\u001b[0m\u001b[0m\n\u001b[0;32m---> 70\u001b[0;31m             \u001b[0;32mreturn\u001b[0m \u001b[0mfun\u001b[0m\u001b[0;34m(\u001b[0m\u001b[0mx\u001b[0m\u001b[0;34m,\u001b[0m \u001b[0;34m*\u001b[0m\u001b[0margs\u001b[0m\u001b[0;34m)\u001b[0m\u001b[0;34m\u001b[0m\u001b[0;34m\u001b[0m\u001b[0m\n\u001b[0m\u001b[1;32m     71\u001b[0m \u001b[0;34m\u001b[0m\u001b[0m\n\u001b[1;32m     72\u001b[0m         \u001b[0;32mdef\u001b[0m \u001b[0mupdate_fun\u001b[0m\u001b[0;34m(\u001b[0m\u001b[0;34m)\u001b[0m\u001b[0;34m:\u001b[0m\u001b[0;34m\u001b[0m\u001b[0;34m\u001b[0m\u001b[0m\n",
      "\u001b[0;32m<ipython-input-16-88d6f66424ee>\u001b[0m in \u001b[0;36mcost_fcn_LogisticGrowth\u001b[0;34m(theta, exp_data_files, alpha)\u001b[0m\n\u001b[1;32m     21\u001b[0m \u001b[0;34m\u001b[0m\u001b[0m\n\u001b[1;32m     22\u001b[0m         \u001b[0mexp_time\u001b[0m \u001b[0;34m=\u001b[0m \u001b[0mlist\u001b[0m\u001b[0;34m(\u001b[0m\u001b[0mexp_data\u001b[0m\u001b[0;34m.\u001b[0m\u001b[0mgroupby\u001b[0m\u001b[0;34m(\u001b[0m\u001b[0mby\u001b[0m \u001b[0;34m=\u001b[0m \u001b[0;34m'time'\u001b[0m\u001b[0;34m)\u001b[0m\u001b[0;34m.\u001b[0m\u001b[0mmean\u001b[0m\u001b[0;34m(\u001b[0m\u001b[0;34m)\u001b[0m\u001b[0;34m.\u001b[0m\u001b[0mindex\u001b[0m\u001b[0;34m)\u001b[0m\u001b[0;34m\u001b[0m\u001b[0;34m\u001b[0m\u001b[0m\n\u001b[0;32m---> 23\u001b[0;31m         \u001b[0mexp_data\u001b[0m \u001b[0;34m=\u001b[0m \u001b[0mexp_data\u001b[0m\u001b[0;34m.\u001b[0m\u001b[0mgroupby\u001b[0m\u001b[0;34m(\u001b[0m\u001b[0mby\u001b[0m \u001b[0;34m=\u001b[0m \u001b[0;34m'time'\u001b[0m\u001b[0;34m)\u001b[0m\u001b[0;34m.\u001b[0m\u001b[0mmean\u001b[0m\u001b[0;34m(\u001b[0m\u001b[0;34m)\u001b[0m\u001b[0;34m\u001b[0m\u001b[0;34m\u001b[0m\u001b[0m\n\u001b[0m\u001b[1;32m     24\u001b[0m \u001b[0;34m\u001b[0m\u001b[0m\n\u001b[1;32m     25\u001b[0m         \u001b[0mx0\u001b[0m \u001b[0;34m=\u001b[0m \u001b[0mexp_data\u001b[0m\u001b[0;34m[\u001b[0m\u001b[0;34m'abs'\u001b[0m\u001b[0;34m]\u001b[0m\u001b[0;34m.\u001b[0m\u001b[0miloc\u001b[0m\u001b[0;34m[\u001b[0m\u001b[0;36m0\u001b[0m\u001b[0;34m]\u001b[0m\u001b[0;34m\u001b[0m\u001b[0;34m\u001b[0m\u001b[0m\n",
      "\u001b[0;32m/opt/anaconda3/lib/python3.8/site-packages/pandas/core/frame.py\u001b[0m in \u001b[0;36mgroupby\u001b[0;34m(self, by, axis, level, as_index, sort, group_keys, squeeze, observed, dropna)\u001b[0m\n\u001b[1;32m   7716\u001b[0m         \u001b[0;31m# error: Argument \"squeeze\" to \"DataFrameGroupBy\" has incompatible type\u001b[0m\u001b[0;34m\u001b[0m\u001b[0;34m\u001b[0m\u001b[0;34m\u001b[0m\u001b[0m\n\u001b[1;32m   7717\u001b[0m         \u001b[0;31m# \"Union[bool, NoDefault]\"; expected \"bool\"\u001b[0m\u001b[0;34m\u001b[0m\u001b[0;34m\u001b[0m\u001b[0;34m\u001b[0m\u001b[0m\n\u001b[0;32m-> 7718\u001b[0;31m         return DataFrameGroupBy(\n\u001b[0m\u001b[1;32m   7719\u001b[0m             \u001b[0mobj\u001b[0m\u001b[0;34m=\u001b[0m\u001b[0mself\u001b[0m\u001b[0;34m,\u001b[0m\u001b[0;34m\u001b[0m\u001b[0;34m\u001b[0m\u001b[0m\n\u001b[1;32m   7720\u001b[0m             \u001b[0mkeys\u001b[0m\u001b[0;34m=\u001b[0m\u001b[0mby\u001b[0m\u001b[0;34m,\u001b[0m\u001b[0;34m\u001b[0m\u001b[0;34m\u001b[0m\u001b[0m\n",
      "\u001b[0;32m/opt/anaconda3/lib/python3.8/site-packages/pandas/core/groupby/groupby.py\u001b[0m in \u001b[0;36m__init__\u001b[0;34m(self, obj, keys, axis, level, grouper, exclusions, selection, as_index, sort, group_keys, squeeze, observed, mutated, dropna)\u001b[0m\n\u001b[1;32m    880\u001b[0m             \u001b[0;32mfrom\u001b[0m \u001b[0mpandas\u001b[0m\u001b[0;34m.\u001b[0m\u001b[0mcore\u001b[0m\u001b[0;34m.\u001b[0m\u001b[0mgroupby\u001b[0m\u001b[0;34m.\u001b[0m\u001b[0mgrouper\u001b[0m \u001b[0;32mimport\u001b[0m \u001b[0mget_grouper\u001b[0m\u001b[0;34m\u001b[0m\u001b[0;34m\u001b[0m\u001b[0m\n\u001b[1;32m    881\u001b[0m \u001b[0;34m\u001b[0m\u001b[0m\n\u001b[0;32m--> 882\u001b[0;31m             grouper, exclusions, obj = get_grouper(\n\u001b[0m\u001b[1;32m    883\u001b[0m                 \u001b[0mobj\u001b[0m\u001b[0;34m,\u001b[0m\u001b[0;34m\u001b[0m\u001b[0;34m\u001b[0m\u001b[0m\n\u001b[1;32m    884\u001b[0m                 \u001b[0mkeys\u001b[0m\u001b[0;34m,\u001b[0m\u001b[0;34m\u001b[0m\u001b[0;34m\u001b[0m\u001b[0m\n",
      "\u001b[0;32m/opt/anaconda3/lib/python3.8/site-packages/pandas/core/groupby/grouper.py\u001b[0m in \u001b[0;36mget_grouper\u001b[0;34m(obj, key, axis, level, sort, observed, mutated, validate, dropna)\u001b[0m\n\u001b[1;32m    868\u001b[0m \u001b[0;34m\u001b[0m\u001b[0m\n\u001b[1;32m    869\u001b[0m         \u001b[0;32melif\u001b[0m \u001b[0mis_in_axis\u001b[0m\u001b[0;34m(\u001b[0m\u001b[0mgpr\u001b[0m\u001b[0;34m)\u001b[0m\u001b[0;34m:\u001b[0m  \u001b[0;31m# df.groupby('name')\u001b[0m\u001b[0;34m\u001b[0m\u001b[0;34m\u001b[0m\u001b[0m\n\u001b[0;32m--> 870\u001b[0;31m             \u001b[0;32mif\u001b[0m \u001b[0mgpr\u001b[0m \u001b[0;32min\u001b[0m \u001b[0mobj\u001b[0m\u001b[0;34m:\u001b[0m\u001b[0;34m\u001b[0m\u001b[0;34m\u001b[0m\u001b[0m\n\u001b[0m\u001b[1;32m    871\u001b[0m                 \u001b[0;32mif\u001b[0m \u001b[0mvalidate\u001b[0m\u001b[0;34m:\u001b[0m\u001b[0;34m\u001b[0m\u001b[0;34m\u001b[0m\u001b[0m\n\u001b[1;32m    872\u001b[0m                     \u001b[0mobj\u001b[0m\u001b[0;34m.\u001b[0m\u001b[0m_check_label_or_level_ambiguity\u001b[0m\u001b[0;34m(\u001b[0m\u001b[0mgpr\u001b[0m\u001b[0;34m,\u001b[0m \u001b[0maxis\u001b[0m\u001b[0;34m=\u001b[0m\u001b[0maxis\u001b[0m\u001b[0;34m)\u001b[0m\u001b[0;34m\u001b[0m\u001b[0;34m\u001b[0m\u001b[0m\n",
      "\u001b[0;32m/opt/anaconda3/lib/python3.8/site-packages/pandas/core/generic.py\u001b[0m in \u001b[0;36m__contains__\u001b[0;34m(self, key)\u001b[0m\n\u001b[1;32m   1992\u001b[0m     \u001b[0;32mdef\u001b[0m \u001b[0m__contains__\u001b[0m\u001b[0;34m(\u001b[0m\u001b[0mself\u001b[0m\u001b[0;34m,\u001b[0m \u001b[0mkey\u001b[0m\u001b[0;34m)\u001b[0m \u001b[0;34m->\u001b[0m \u001b[0mbool_t\u001b[0m\u001b[0;34m:\u001b[0m\u001b[0;34m\u001b[0m\u001b[0;34m\u001b[0m\u001b[0m\n\u001b[1;32m   1993\u001b[0m         \u001b[0;34m\"\"\"True if the key is in the info axis\"\"\"\u001b[0m\u001b[0;34m\u001b[0m\u001b[0;34m\u001b[0m\u001b[0m\n\u001b[0;32m-> 1994\u001b[0;31m         \u001b[0;32mreturn\u001b[0m \u001b[0mkey\u001b[0m \u001b[0;32min\u001b[0m \u001b[0mself\u001b[0m\u001b[0;34m.\u001b[0m\u001b[0m_info_axis\u001b[0m\u001b[0;34m\u001b[0m\u001b[0;34m\u001b[0m\u001b[0m\n\u001b[0m\u001b[1;32m   1995\u001b[0m \u001b[0;34m\u001b[0m\u001b[0m\n\u001b[1;32m   1996\u001b[0m     \u001b[0;34m@\u001b[0m\u001b[0mproperty\u001b[0m\u001b[0;34m\u001b[0m\u001b[0;34m\u001b[0m\u001b[0m\n",
      "\u001b[0;32m/opt/anaconda3/lib/python3.8/site-packages/pandas/core/indexes/base.py\u001b[0m in \u001b[0;36m__contains__\u001b[0;34m(self, key)\u001b[0m\n\u001b[1;32m   5008\u001b[0m         \u001b[0mhash\u001b[0m\u001b[0;34m(\u001b[0m\u001b[0mkey\u001b[0m\u001b[0;34m)\u001b[0m\u001b[0;34m\u001b[0m\u001b[0;34m\u001b[0m\u001b[0m\n\u001b[1;32m   5009\u001b[0m         \u001b[0;32mtry\u001b[0m\u001b[0;34m:\u001b[0m\u001b[0;34m\u001b[0m\u001b[0;34m\u001b[0m\u001b[0m\n\u001b[0;32m-> 5010\u001b[0;31m             \u001b[0;32mreturn\u001b[0m \u001b[0mkey\u001b[0m \u001b[0;32min\u001b[0m \u001b[0mself\u001b[0m\u001b[0;34m.\u001b[0m\u001b[0m_engine\u001b[0m\u001b[0;34m\u001b[0m\u001b[0;34m\u001b[0m\u001b[0m\n\u001b[0m\u001b[1;32m   5011\u001b[0m         \u001b[0;32mexcept\u001b[0m \u001b[0;34m(\u001b[0m\u001b[0mOverflowError\u001b[0m\u001b[0;34m,\u001b[0m \u001b[0mTypeError\u001b[0m\u001b[0;34m,\u001b[0m \u001b[0mValueError\u001b[0m\u001b[0;34m)\u001b[0m\u001b[0;34m:\u001b[0m\u001b[0;34m\u001b[0m\u001b[0;34m\u001b[0m\u001b[0m\n\u001b[1;32m   5012\u001b[0m             \u001b[0;32mreturn\u001b[0m \u001b[0;32mFalse\u001b[0m\u001b[0;34m\u001b[0m\u001b[0;34m\u001b[0m\u001b[0m\n",
      "\u001b[0;31mKeyboardInterrupt\u001b[0m: "
     ]
    }
   ],
   "source": [
    "alpha_vec = [0.001, 0.003, 0.01, 0.03, 0.1, 0.3, 1, 3, 10]\n",
    "\n",
    "# empty list to save results\n",
    "_species_vec = []\n",
    "_alpha_vec = []\n",
    "_ini_para_vec = []\n",
    "_cost_vec = []\n",
    "_success_vec = []\n",
    "\n",
    "for species in ['BT', 'BU', 'BV', 'CA', 'CH', 'CS', 'DP', 'EL', 'PC', 'CD']:\n",
    "\n",
    "    exp_data_files = [species + '_mono.csv']\n",
    "\n",
    "    for alpha in alpha_vec:\n",
    "\n",
    "        for i in range(ini_para.shape[0]):\n",
    "            \n",
    "            print('species=' + species + ', alpha=' + str(alpha) + ', ini para=' + str(i))\n",
    "\n",
    "            theta0 = list(ini_para[i,:])\n",
    "\n",
    "            min_sol = minimize(cost_fcn_LogisticGrowth, theta0, \n",
    "                               bounds = bnd, \n",
    "                               method = 'trust-constr', \n",
    "                               options = {'maxiter':300, 'disp':True, 'verbose':0},\n",
    "                               args = (exp_data_files, alpha))\n",
    "\n",
    "            \n",
    "            _species_vec.append(species)\n",
    "            _alpha_vec.append(alpha)\n",
    "            _ini_para_vec.append(theta0)\n",
    "            _cost_vec.append(min_sol.fun)\n",
    "            _success_vec.append(min_sol.success)"
   ]
  },
  {
   "cell_type": "code",
   "execution_count": null,
   "id": "11ffb53b",
   "metadata": {},
   "outputs": [],
   "source": [
    "opt_results_df = pd.DataFrame()\n",
    "opt_results_df['species'] = _species_vec\n",
    "opt_results_df['alpha'] = _alpha_vec\n",
    "opt_results_df['ini'] = _ini_para_vec\n",
    "opt_results_df['cost'] = _cost_vec\n",
    "opt_results_df['success'] = _success_vec\n",
    "\n",
    "opt_results_df.to_csv('optimization_hyper_para.csv')\n"
   ]
  },
  {
   "cell_type": "markdown",
   "metadata": {},
   "source": [
    "#### find the optimal hyperparameter"
   ]
  },
  {
   "cell_type": "code",
   "execution_count": null,
   "metadata": {},
   "outputs": [],
   "source": [
    "# load optimization results for different alpha and initial conditions\n",
    "opt_results_df = pd.read_csv('optimization_hyper_para.csv', index_col=0)\n",
    "\n",
    "# only account for cases where optimization is successful, then drop the success indicator column\n",
    "opt_results_df = opt_results_df[opt_results_df['success']==True]\n",
    "opt_results_df = opt_results_df.drop(columns=['success'])\n",
    "\n",
    "# for a fixed partner species and alpha level, find the initial condition that gives the minimum cost\n",
    "opt_results_min_cost_df = opt_results_df.groupby(['partner_species', 'alpha'], group_keys=False)['cost'].min()\n",
    "opt_results_min_cost_df = opt_results_min_cost_df.reset_index()"
   ]
  },
  {
   "cell_type": "code",
   "execution_count": null,
   "id": "ed824bb8",
   "metadata": {},
   "outputs": [],
   "source": [
    "fig, ax = plt.subplots(figsize=(5,5))\n",
    "\n",
    "sns.lineplot(data=opt_results_min_cost_df, x='alpha', y='cost', hue='partner_species')\n",
    "ax.set_xscale('log')\n",
    "\n",
    "plt.savefig('tune_hyperpara.pdf')"
   ]
  },
  {
   "cell_type": "markdown",
   "metadata": {},
   "source": [
    "#### optimize using the best hyperparameter"
   ]
  },
  {
   "cell_type": "code",
   "execution_count": 27,
   "metadata": {},
   "outputs": [],
   "source": [
    "## generate random initial parameters using latin hypercube sampling\n",
    "from scipy.stats import qmc\n",
    "sampler = qmc.LatinHypercube(d=6)\n",
    "sample = sampler.random(n=5)\n",
    "\n",
    "# set lower and upper bounds for initial parameters\n",
    "l_bounds = [0, 0, -2, -2, -2, -2]\n",
    "u_bounds = [2, 2, 0, 2, 2, 0]\n",
    "\n",
    "ini_para = qmc.scale(sample, l_bounds, u_bounds)"
   ]
  },
  {
   "cell_type": "code",
   "execution_count": 28,
   "metadata": {},
   "outputs": [],
   "source": [
    "num_para_theta = 6\n",
    "\n",
    "# initialize no bounds for all other parameters\n",
    "bnd = []\n",
    "for i in range(num_para_theta):\n",
    "    bnd.append((None,None))\n",
    "    \n",
    "# r1\n",
    "bnd[0] = (0,None)\n",
    "\n",
    "# r2\n",
    "bnd[1] = (0,None)\n",
    "\n",
    "# A_11\n",
    "bnd[2] = (None,0)\n",
    "\n",
    "# A_12\n",
    "bnd[3] = (None,None)\n",
    "\n",
    "# A0_21\n",
    "bnd[4] = (None,None)\n",
    "\n",
    "# A0_22\n",
    "bnd[5] = (None,0)"
   ]
  },
  {
   "cell_type": "code",
   "execution_count": 32,
   "metadata": {},
   "outputs": [
    {
     "name": "stdout",
     "output_type": "stream",
     "text": [
      "partner=CA, alpha=0.03, ini para=0\n",
      "`xtol` termination condition is satisfied.\n",
      "Number of iterations: 103, function evaluations: 623, CG iterations: 372, optimality: 5.54e-08, constraint violation: 0.00e+00, execution time: 1.9e+01 s.\n",
      "partner=CA, alpha=0.03, ini para=1\n"
     ]
    },
    {
     "name": "stderr",
     "output_type": "stream",
     "text": [
      "/opt/anaconda3/lib/python3.8/site-packages/scipy/optimize/_hessian_update_strategy.py:182: UserWarning: delta_grad == 0.0. Check if the approximated function is linear. If the function is linear better results can be obtained by defining the Hessian as zero instead of using quasi-Newton approximations.\n",
      "  warn('delta_grad == 0.0. Check if the approximated '\n"
     ]
    },
    {
     "name": "stdout",
     "output_type": "stream",
     "text": [
      "`xtol` termination condition is satisfied.\n",
      "Number of iterations: 109, function evaluations: 658, CG iterations: 406, optimality: 3.64e-08, constraint violation: 0.00e+00, execution time: 1.8e+01 s.\n",
      "partner=CA, alpha=0.03, ini para=2\n"
     ]
    },
    {
     "name": "stderr",
     "output_type": "stream",
     "text": [
      "/opt/anaconda3/lib/python3.8/site-packages/scipy/integrate/odepack.py:247: ODEintWarning: Excess work done on this call (perhaps wrong Dfun type). Run with full_output = 1 to get quantitative information.\n",
      "  warnings.warn(warning_msg, ODEintWarning)\n",
      "/opt/anaconda3/lib/python3.8/site-packages/scipy/integrate/odepack.py:247: ODEintWarning: Excess work done on this call (perhaps wrong Dfun type). Run with full_output = 1 to get quantitative information.\n",
      "  warnings.warn(warning_msg, ODEintWarning)\n",
      "/opt/anaconda3/lib/python3.8/site-packages/scipy/integrate/odepack.py:247: ODEintWarning: Excess work done on this call (perhaps wrong Dfun type). Run with full_output = 1 to get quantitative information.\n",
      "  warnings.warn(warning_msg, ODEintWarning)\n",
      "/opt/anaconda3/lib/python3.8/site-packages/scipy/integrate/odepack.py:247: ODEintWarning: Excess work done on this call (perhaps wrong Dfun type). Run with full_output = 1 to get quantitative information.\n",
      "  warnings.warn(warning_msg, ODEintWarning)\n",
      "/opt/anaconda3/lib/python3.8/site-packages/scipy/integrate/odepack.py:247: ODEintWarning: Excess work done on this call (perhaps wrong Dfun type). Run with full_output = 1 to get quantitative information.\n",
      "  warnings.warn(warning_msg, ODEintWarning)\n",
      "/opt/anaconda3/lib/python3.8/site-packages/scipy/integrate/odepack.py:247: ODEintWarning: Excess work done on this call (perhaps wrong Dfun type). Run with full_output = 1 to get quantitative information.\n",
      "  warnings.warn(warning_msg, ODEintWarning)\n",
      "/opt/anaconda3/lib/python3.8/site-packages/scipy/integrate/odepack.py:247: ODEintWarning: Excess work done on this call (perhaps wrong Dfun type). Run with full_output = 1 to get quantitative information.\n",
      "  warnings.warn(warning_msg, ODEintWarning)\n",
      "/opt/anaconda3/lib/python3.8/site-packages/scipy/integrate/odepack.py:247: ODEintWarning: Excess work done on this call (perhaps wrong Dfun type). Run with full_output = 1 to get quantitative information.\n",
      "  warnings.warn(warning_msg, ODEintWarning)\n",
      "/opt/anaconda3/lib/python3.8/site-packages/scipy/integrate/odepack.py:247: ODEintWarning: Excess work done on this call (perhaps wrong Dfun type). Run with full_output = 1 to get quantitative information.\n",
      "  warnings.warn(warning_msg, ODEintWarning)\n",
      "/opt/anaconda3/lib/python3.8/site-packages/scipy/integrate/odepack.py:247: ODEintWarning: Excess work done on this call (perhaps wrong Dfun type). Run with full_output = 1 to get quantitative information.\n",
      "  warnings.warn(warning_msg, ODEintWarning)\n",
      "/opt/anaconda3/lib/python3.8/site-packages/scipy/integrate/odepack.py:247: ODEintWarning: Excess work done on this call (perhaps wrong Dfun type). Run with full_output = 1 to get quantitative information.\n",
      "  warnings.warn(warning_msg, ODEintWarning)\n",
      "/opt/anaconda3/lib/python3.8/site-packages/scipy/integrate/odepack.py:247: ODEintWarning: Excess work done on this call (perhaps wrong Dfun type). Run with full_output = 1 to get quantitative information.\n",
      "  warnings.warn(warning_msg, ODEintWarning)\n",
      "/opt/anaconda3/lib/python3.8/site-packages/scipy/integrate/odepack.py:247: ODEintWarning: Excess work done on this call (perhaps wrong Dfun type). Run with full_output = 1 to get quantitative information.\n",
      "  warnings.warn(warning_msg, ODEintWarning)\n",
      "/opt/anaconda3/lib/python3.8/site-packages/scipy/integrate/odepack.py:247: ODEintWarning: Excess work done on this call (perhaps wrong Dfun type). Run with full_output = 1 to get quantitative information.\n",
      "  warnings.warn(warning_msg, ODEintWarning)\n"
     ]
    },
    {
     "name": "stdout",
     "output_type": "stream",
     "text": [
      "`xtol` termination condition is satisfied.\n",
      "Number of iterations: 103, function evaluations: 588, CG iterations: 311, optimality: 4.12e-08, constraint violation: 0.00e+00, execution time: 1.5e+01 s.\n",
      "partner=CA, alpha=0.03, ini para=3\n",
      "`xtol` termination condition is satisfied.\n",
      "Number of iterations: 129, function evaluations: 826, CG iterations: 423, optimality: 6.26e-08, constraint violation: 0.00e+00, execution time: 2.1e+01 s.\n",
      "partner=CA, alpha=0.03, ini para=4\n",
      "`xtol` termination condition is satisfied.\n",
      "Number of iterations: 116, function evaluations: 749, CG iterations: 404, optimality: 3.08e-08, constraint violation: 0.00e+00, execution time: 2.2e+01 s.\n"
     ]
    }
   ],
   "source": [
    "alpha_vec = [0.03]\n",
    "\n",
    "# empty list to save results\n",
    "_partner_species_vec = []\n",
    "_alpha_vec = []\n",
    "_ini_para_vec = []\n",
    "_cost_vec = []\n",
    "_success_vec = []\n",
    "_opt_para_vec = []\n",
    "\n",
    "# for partner_species in ['BT', 'BU', 'BV', 'CA', 'CH', 'CS', 'DP', 'EL', 'PC']:\n",
    "for partner_species in ['CA']:\n",
    "\n",
    "    exp_data_files = ['CD_' + partner_species + '_modif24h.csv',\n",
    "                     'mono_CD-' + partner_species + '_CD.csv',\n",
    "                     'mono_CD-' + partner_species + '_' + partner_species +'.csv']\n",
    "\n",
    "    for alpha in alpha_vec:\n",
    "\n",
    "        for i in range(ini_para.shape[0]):\n",
    "            \n",
    "            print('partner=' + partner_species + ', alpha=' + str(alpha) + ', ini para=' + str(i))\n",
    "\n",
    "            theta0 = list(ini_para[i,:])\n",
    "\n",
    "            min_sol = minimize(cost_fcn_TIV_gLV, theta0, \n",
    "                               bounds = bnd, \n",
    "                               method = 'trust-constr', \n",
    "                               options = {'maxiter':300, 'disp':True, 'verbose':0},\n",
    "                               args = (2, exp_data_files, alpha, 'CD', partner_species))\n",
    "\n",
    "            \n",
    "            _partner_species_vec.append(partner_species)\n",
    "            _alpha_vec.append(alpha)\n",
    "            _ini_para_vec.append(theta0)\n",
    "            _cost_vec.append(min_sol.fun)\n",
    "            _success_vec.append(min_sol.success)\n",
    "            _opt_para_vec.append(min_sol.x)"
   ]
  },
  {
   "cell_type": "code",
   "execution_count": 33,
   "metadata": {},
   "outputs": [],
   "source": [
    "opt_results_df = pd.DataFrame()\n",
    "opt_results_df['partner_species'] = _partner_species_vec\n",
    "opt_results_df['alpha'] = _alpha_vec\n",
    "opt_results_df['ini'] = _ini_para_vec\n",
    "opt_results_df['cost'] = _cost_vec\n",
    "opt_results_df['success'] = _success_vec\n",
    "opt_results_df['opt_para'] = _opt_para_vec\n",
    "\n",
    "opt_results_df.to_csv('optimized_parameters_CA.csv')"
   ]
  },
  {
   "cell_type": "code",
   "execution_count": 34,
   "metadata": {},
   "outputs": [
    {
     "data": {
      "text/plain": [
       "array([ 0.70625828,  0.43144958, -1.6071773 ,  1.02439296, -1.02148771,\n",
       "       -0.74280475])"
      ]
     },
     "execution_count": 34,
     "metadata": {},
     "output_type": "execute_result"
    }
   ],
   "source": [
    "opt_results_df['opt_para'].iloc[0]"
   ]
  },
  {
   "cell_type": "code",
   "execution_count": null,
   "metadata": {},
   "outputs": [],
   "source": []
  }
 ],
 "metadata": {
  "kernelspec": {
   "display_name": "Python 3",
   "language": "python",
   "name": "python3"
  },
  "language_info": {
   "codemirror_mode": {
    "name": "ipython",
    "version": 3
   },
   "file_extension": ".py",
   "mimetype": "text/x-python",
   "name": "python",
   "nbconvert_exporter": "python",
   "pygments_lexer": "ipython3",
   "version": "3.8.3"
  }
 },
 "nbformat": 4,
 "nbformat_minor": 1
}
