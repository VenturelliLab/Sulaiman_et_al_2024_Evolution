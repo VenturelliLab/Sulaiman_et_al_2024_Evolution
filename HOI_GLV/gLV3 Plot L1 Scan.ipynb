{
 "cells": [
  {
   "cell_type": "code",
   "execution_count": 27,
   "id": "3d1cc122",
   "metadata": {},
   "outputs": [],
   "source": [
    "import pandas as pd\n",
    "import numpy as np\n",
    "import matplotlib.pyplot as plt\n",
    "from scipy.stats import pearsonr\n",
    "import os"
   ]
  },
  {
   "cell_type": "code",
   "execution_count": 16,
   "id": "e510ade4",
   "metadata": {},
   "outputs": [
    {
     "data": {
      "text/plain": [
       "10"
      ]
     },
     "execution_count": 16,
     "metadata": {},
     "output_type": "execute_result"
    }
   ],
   "source": [
    "# range of L1 penalties to try \n",
    "lmbdas = [0., 1e-8, 1e-7, 1e-6, 1e-5, 1e-4, 1e-3, 1e-2, 1e-1, 1.]\n",
    "len(lmbdas)"
   ]
  },
  {
   "cell_type": "code",
   "execution_count": 17,
   "id": "a6f0be17",
   "metadata": {},
   "outputs": [
    {
     "data": {
      "text/plain": [
       "['CDanc_CDmono12h_PROVIDET0.csv', 'CDevo_CDmono12h_PROVIDET0.csv']"
      ]
     },
     "execution_count": 17,
     "metadata": {},
     "output_type": "execute_result"
    }
   ],
   "source": [
    "# import file names\n",
    "files = os.listdir(\"data/SET3_Thirdtrial/\")\n",
    "files"
   ]
  },
  {
   "cell_type": "code",
   "execution_count": 109,
   "id": "ed9b99d7",
   "metadata": {},
   "outputs": [
    {
     "data": {
      "text/plain": [
       "'CDanc'"
      ]
     },
     "execution_count": 109,
     "metadata": {},
     "output_type": "execute_result"
    }
   ],
   "source": [
    "exp_names = []\n",
    "# for file in files:\n",
    "file = files[0]\n",
    "    \n",
    "# define strain name\n",
    "strain = file.split(\"_\")[0]\n",
    "strain"
   ]
  },
  {
   "cell_type": "code",
   "execution_count": 110,
   "id": "f05ab625",
   "metadata": {},
   "outputs": [],
   "source": [
    "# import parameters\n",
    "param_df = pd.read_csv(f\"L1scan/{strain}_params.csv\")"
   ]
  },
  {
   "cell_type": "code",
   "execution_count": 111,
   "id": "d89ee653",
   "metadata": {},
   "outputs": [
    {
     "data": {
      "text/html": [
       "<div>\n",
       "<style scoped>\n",
       "    .dataframe tbody tr th:only-of-type {\n",
       "        vertical-align: middle;\n",
       "    }\n",
       "\n",
       "    .dataframe tbody tr th {\n",
       "        vertical-align: top;\n",
       "    }\n",
       "\n",
       "    .dataframe thead th {\n",
       "        text-align: right;\n",
       "    }\n",
       "</style>\n",
       "<table border=\"1\" class=\"dataframe\">\n",
       "  <thead>\n",
       "    <tr style=\"text-align: right;\">\n",
       "      <th></th>\n",
       "      <th>parameter</th>\n",
       "      <th>0.0</th>\n",
       "      <th>1e-08</th>\n",
       "      <th>1e-07</th>\n",
       "      <th>1e-06</th>\n",
       "      <th>1e-05</th>\n",
       "      <th>0.0001</th>\n",
       "      <th>0.001</th>\n",
       "      <th>0.01</th>\n",
       "      <th>0.1</th>\n",
       "      <th>1.0</th>\n",
       "    </tr>\n",
       "  </thead>\n",
       "  <tbody>\n",
       "    <tr>\n",
       "      <th>0</th>\n",
       "      <td>CA</td>\n",
       "      <td>0.178948</td>\n",
       "      <td>0.187316</td>\n",
       "      <td>0.202629</td>\n",
       "      <td>0.203139</td>\n",
       "      <td>0.179091</td>\n",
       "      <td>0.141965</td>\n",
       "      <td>0.145186</td>\n",
       "      <td>-0.000410</td>\n",
       "      <td>1.369882e-04</td>\n",
       "      <td>0.000014</td>\n",
       "    </tr>\n",
       "    <tr>\n",
       "      <th>1</th>\n",
       "      <td>BT</td>\n",
       "      <td>1.058464</td>\n",
       "      <td>1.059915</td>\n",
       "      <td>1.062566</td>\n",
       "      <td>1.061748</td>\n",
       "      <td>1.068541</td>\n",
       "      <td>1.085870</td>\n",
       "      <td>1.014499</td>\n",
       "      <td>0.676716</td>\n",
       "      <td>-8.650595e-05</td>\n",
       "      <td>-0.000170</td>\n",
       "    </tr>\n",
       "    <tr>\n",
       "      <th>2</th>\n",
       "      <td>BU</td>\n",
       "      <td>0.910414</td>\n",
       "      <td>0.920936</td>\n",
       "      <td>0.942916</td>\n",
       "      <td>0.911758</td>\n",
       "      <td>0.919268</td>\n",
       "      <td>0.913557</td>\n",
       "      <td>0.837688</td>\n",
       "      <td>0.001440</td>\n",
       "      <td>2.090891e-01</td>\n",
       "      <td>0.000118</td>\n",
       "    </tr>\n",
       "    <tr>\n",
       "      <th>3</th>\n",
       "      <td>CD</td>\n",
       "      <td>0.594207</td>\n",
       "      <td>0.615883</td>\n",
       "      <td>0.590263</td>\n",
       "      <td>0.596572</td>\n",
       "      <td>0.619871</td>\n",
       "      <td>0.597809</td>\n",
       "      <td>0.541413</td>\n",
       "      <td>0.188184</td>\n",
       "      <td>1.791965e-01</td>\n",
       "      <td>-0.000118</td>\n",
       "    </tr>\n",
       "    <tr>\n",
       "      <th>4</th>\n",
       "      <td>BV</td>\n",
       "      <td>0.766309</td>\n",
       "      <td>0.757114</td>\n",
       "      <td>0.782922</td>\n",
       "      <td>0.730403</td>\n",
       "      <td>0.753065</td>\n",
       "      <td>0.716366</td>\n",
       "      <td>0.660543</td>\n",
       "      <td>0.221967</td>\n",
       "      <td>2.053360e-05</td>\n",
       "      <td>-0.000158</td>\n",
       "    </tr>\n",
       "    <tr>\n",
       "      <th>...</th>\n",
       "      <td>...</td>\n",
       "      <td>...</td>\n",
       "      <td>...</td>\n",
       "      <td>...</td>\n",
       "      <td>...</td>\n",
       "      <td>...</td>\n",
       "      <td>...</td>\n",
       "      <td>...</td>\n",
       "      <td>...</td>\n",
       "      <td>...</td>\n",
       "      <td>...</td>\n",
       "    </tr>\n",
       "    <tr>\n",
       "      <th>235</th>\n",
       "      <td>CH&lt;-[CD*CS]</td>\n",
       "      <td>-4.783775</td>\n",
       "      <td>-3.427723</td>\n",
       "      <td>-3.959825</td>\n",
       "      <td>-3.834706</td>\n",
       "      <td>0.000627</td>\n",
       "      <td>-0.000035</td>\n",
       "      <td>-0.000103</td>\n",
       "      <td>0.000079</td>\n",
       "      <td>3.528925e-05</td>\n",
       "      <td>0.000002</td>\n",
       "    </tr>\n",
       "    <tr>\n",
       "      <th>236</th>\n",
       "      <td>CH&lt;-[CD*DP]</td>\n",
       "      <td>0.542324</td>\n",
       "      <td>2.142695</td>\n",
       "      <td>-0.077329</td>\n",
       "      <td>1.189536</td>\n",
       "      <td>0.002931</td>\n",
       "      <td>-0.001527</td>\n",
       "      <td>-0.000158</td>\n",
       "      <td>-0.000017</td>\n",
       "      <td>8.775741e-05</td>\n",
       "      <td>0.000131</td>\n",
       "    </tr>\n",
       "    <tr>\n",
       "      <th>237</th>\n",
       "      <td>CH&lt;-[BV*CS]</td>\n",
       "      <td>4.174923</td>\n",
       "      <td>4.335218</td>\n",
       "      <td>3.727202</td>\n",
       "      <td>3.584382</td>\n",
       "      <td>0.740907</td>\n",
       "      <td>0.002114</td>\n",
       "      <td>0.000206</td>\n",
       "      <td>-0.000002</td>\n",
       "      <td>-2.077408e-04</td>\n",
       "      <td>-0.000063</td>\n",
       "    </tr>\n",
       "    <tr>\n",
       "      <th>238</th>\n",
       "      <td>CH&lt;-[BV*DP]</td>\n",
       "      <td>-6.345647</td>\n",
       "      <td>-4.701699</td>\n",
       "      <td>-5.858508</td>\n",
       "      <td>-6.218590</td>\n",
       "      <td>-3.001402</td>\n",
       "      <td>-0.010679</td>\n",
       "      <td>0.000035</td>\n",
       "      <td>-0.000050</td>\n",
       "      <td>-4.490854e-04</td>\n",
       "      <td>-0.000017</td>\n",
       "    </tr>\n",
       "    <tr>\n",
       "      <th>239</th>\n",
       "      <td>CH&lt;-[CS*DP]</td>\n",
       "      <td>-9.012847</td>\n",
       "      <td>-2.648637</td>\n",
       "      <td>-4.270238</td>\n",
       "      <td>-3.918316</td>\n",
       "      <td>-0.001014</td>\n",
       "      <td>-0.000173</td>\n",
       "      <td>-0.000044</td>\n",
       "      <td>0.000032</td>\n",
       "      <td>7.556955e-07</td>\n",
       "      <td>-0.000254</td>\n",
       "    </tr>\n",
       "  </tbody>\n",
       "</table>\n",
       "<p>240 rows × 11 columns</p>\n",
       "</div>"
      ],
      "text/plain": [
       "       parameter       0.0     1e-08     1e-07     1e-06     1e-05    0.0001  \\\n",
       "0             CA  0.178948  0.187316  0.202629  0.203139  0.179091  0.141965   \n",
       "1             BT  1.058464  1.059915  1.062566  1.061748  1.068541  1.085870   \n",
       "2             BU  0.910414  0.920936  0.942916  0.911758  0.919268  0.913557   \n",
       "3             CD  0.594207  0.615883  0.590263  0.596572  0.619871  0.597809   \n",
       "4             BV  0.766309  0.757114  0.782922  0.730403  0.753065  0.716366   \n",
       "..           ...       ...       ...       ...       ...       ...       ...   \n",
       "235  CH<-[CD*CS] -4.783775 -3.427723 -3.959825 -3.834706  0.000627 -0.000035   \n",
       "236  CH<-[CD*DP]  0.542324  2.142695 -0.077329  1.189536  0.002931 -0.001527   \n",
       "237  CH<-[BV*CS]  4.174923  4.335218  3.727202  3.584382  0.740907  0.002114   \n",
       "238  CH<-[BV*DP] -6.345647 -4.701699 -5.858508 -6.218590 -3.001402 -0.010679   \n",
       "239  CH<-[CS*DP] -9.012847 -2.648637 -4.270238 -3.918316 -0.001014 -0.000173   \n",
       "\n",
       "        0.001      0.01           0.1       1.0  \n",
       "0    0.145186 -0.000410  1.369882e-04  0.000014  \n",
       "1    1.014499  0.676716 -8.650595e-05 -0.000170  \n",
       "2    0.837688  0.001440  2.090891e-01  0.000118  \n",
       "3    0.541413  0.188184  1.791965e-01 -0.000118  \n",
       "4    0.660543  0.221967  2.053360e-05 -0.000158  \n",
       "..        ...       ...           ...       ...  \n",
       "235 -0.000103  0.000079  3.528925e-05  0.000002  \n",
       "236 -0.000158 -0.000017  8.775741e-05  0.000131  \n",
       "237  0.000206 -0.000002 -2.077408e-04 -0.000063  \n",
       "238  0.000035 -0.000050 -4.490854e-04 -0.000017  \n",
       "239 -0.000044  0.000032  7.556955e-07 -0.000254  \n",
       "\n",
       "[240 rows x 11 columns]"
      ]
     },
     "execution_count": 111,
     "metadata": {},
     "output_type": "execute_result"
    }
   ],
   "source": [
    "param_df"
   ]
  },
  {
   "cell_type": "code",
   "execution_count": 112,
   "id": "fb907016",
   "metadata": {},
   "outputs": [],
   "source": [
    "hois = []\n",
    "for p in param_df['parameter'].values:\n",
    "    if '[' in p:\n",
    "        hois.append(True)\n",
    "    else:\n",
    "        hois.append(False)"
   ]
  },
  {
   "cell_type": "code",
   "execution_count": 113,
   "id": "9d261a0e",
   "metadata": {
    "scrolled": true
   },
   "outputs": [
    {
     "data": {
      "text/plain": [
       "'0.0001'"
      ]
     },
     "execution_count": 113,
     "metadata": {},
     "output_type": "execute_result"
    }
   ],
   "source": [
    "f'{lmbdas[5]}'"
   ]
  },
  {
   "cell_type": "code",
   "execution_count": 114,
   "id": "b946ca07",
   "metadata": {},
   "outputs": [],
   "source": [
    "hoi_vals = param_df.iloc[hois][f'{lmbdas[5]}'].values"
   ]
  },
  {
   "cell_type": "code",
   "execution_count": 115,
   "id": "8c97da6c",
   "metadata": {},
   "outputs": [
    {
     "data": {
      "text/plain": [
       "array(['CA<-[BT*CD]', 'CA<-[BU*CH]', 'CA<-[CD*CH]', 'BT<-[BU*BV]',\n",
       "       'BU<-[BT*BV]', 'CD<-[BU*BV]', 'CD<-[BU*CH]', 'DP<-[BT*BU]',\n",
       "       'CH<-[CD*BV]'], dtype=object)"
      ]
     },
     "execution_count": 115,
     "metadata": {},
     "output_type": "execute_result"
    }
   ],
   "source": [
    "hoi_nonzeros = param_df['parameter'].iloc[hois].values[np.abs(hoi_vals)>.5]\n",
    "hoi_nonzeros"
   ]
  },
  {
   "cell_type": "code",
   "execution_count": 116,
   "id": "5f3f9ca5",
   "metadata": {},
   "outputs": [
    {
     "data": {
      "text/plain": [
       "9"
      ]
     },
     "execution_count": 116,
     "metadata": {},
     "output_type": "execute_result"
    }
   ],
   "source": [
    "len(hoi_nonzeros)"
   ]
  },
  {
   "cell_type": "code",
   "execution_count": 118,
   "id": "1cb148d7",
   "metadata": {},
   "outputs": [
    {
     "data": {
      "image/png": "[encoded data removed]",
      "text/plain": [
       "<Figure size 640x480 with 1 Axes>"
      ]
     },
     "metadata": {},
     "output_type": "display_data"
    }
   ],
   "source": [
    "for hoi_nonzero in hoi_nonzeros:\n",
    "    hoi_nonzero_scan = param_df.iloc[np.in1d(param_df['parameter'].values, hoi_nonzero)].values[0, 1:]\n",
    "    plt.plot(hoi_nonzero_scan, label=hoi_nonzero)\n",
    "plt.legend()\n",
    "plt.xticks(np.arange(len(lmbdas)), [str(l) for l in lmbdas])\n",
    "plt.ylabel(\"Parameter estimate\")\n",
    "plt.xlabel(\"L1 penalty\")\n",
    "plt.savefig(f\"figures/{strain}_estimate_vs_l1.pdf\", dpi=300)\n",
    "plt.show()"
   ]
  },
  {
   "cell_type": "code",
   "execution_count": 94,
   "id": "315a8f3d",
   "metadata": {},
   "outputs": [],
   "source": [
    "# # evaluate prediction performance at each lmbda\n",
    "# prediction_performance = []\n",
    "# for lmbda in lmbdas:\n",
    "\n",
    "#     # import measured and predicted values\n",
    "#     pred_df = []\n",
    "#     test_df = []\n",
    "#     for i in range(20):\n",
    "#         pred_df.append(pd.read_csv(f\"Sulaiman_HOI_kfold/{strain}_preds/{strain}_pred_{i}_{lmbda}.csv\"))\n",
    "#         test_df.append(pd.read_csv(f\"Sulaiman_HOI_kfold/folds_{strain}/test_{i}.csv\"))\n",
    "#     pred_df = pd.concat(pred_df)\n",
    "#     test_df = pd.concat(test_df)\n",
    "\n",
    "#     # species \n",
    "#     species = test_df.columns.values[2:]\n",
    "\n",
    "#     # eval prediction performance for each species\n",
    "#     r_vals = []\n",
    "#     rmse_vals = []\n",
    "\n",
    "#     for s in species:\n",
    "\n",
    "#         measured_vals = []\n",
    "#         predicted_vals = []\n",
    "\n",
    "#         for t, df_t in test_df.groupby(\"Treatments\"):\n",
    "\n",
    "#             # get predictions for sample\n",
    "#             pred_df_t = pred_df.iloc[np.in1d(pred_df.Treatments.values, t)].copy()\n",
    "\n",
    "#             # true values\n",
    "#             measured_val = df_t[s].values\n",
    "\n",
    "#             # if species was inocuated\n",
    "#             if measured_val[0] > 0:\n",
    "\n",
    "#                 measured_vals.append(measured_val[1:])\n",
    "#                 predicted_vals.append(pred_df_t[s].values[1:])\n",
    "\n",
    "#         measured_vals = np.concatenate(measured_vals)\n",
    "#         predicted_vals = np.concatenate(predicted_vals)\n",
    "\n",
    "#         r_vals.append(pearsonr(measured_vals, predicted_vals)[0])\n",
    "#         rmse_vals.append(np.sqrt(np.mean((measured_vals-predicted_vals)**2)))\n",
    "        \n",
    "#     # save average prediction performance for species\n",
    "#     prediction_performance.append(np.mean(rmse_vals))"
   ]
  },
  {
   "cell_type": "code",
   "execution_count": 95,
   "id": "21b03628",
   "metadata": {},
   "outputs": [
    {
     "data": {
      "text/plain": [
       "[0.10336481667018851,\n",
       " 0.07069887624860127,\n",
       " 0.5540642654656052,\n",
       " 0.06159262671033949,\n",
       " 0.32876053276282874,\n",
       " 0.059452288327911475,\n",
       " 0.06870728031909859,\n",
       " 0.2239251514312558,\n",
       " 0.28494788438238394,\n",
       " 0.30691778219030047]"
      ]
     },
     "execution_count": 95,
     "metadata": {},
     "output_type": "execute_result"
    }
   ],
   "source": [
    "prediction_performance"
   ]
  },
  {
   "cell_type": "code",
   "execution_count": 96,
   "id": "736f9ba7",
   "metadata": {},
   "outputs": [
    {
     "data": {
      "text/plain": [
       "[0.0, 1e-08, 1e-07, 1e-06, 1e-05, 0.0001, 0.001, 0.01, 0.1, 1.0]"
      ]
     },
     "execution_count": 96,
     "metadata": {},
     "output_type": "execute_result"
    }
   ],
   "source": [
    "lmbdas"
   ]
  },
  {
   "cell_type": "code",
   "execution_count": 97,
   "id": "71d7d2af",
   "metadata": {},
   "outputs": [
    {
     "data": {
      "image/png": "[encoded data removed]",
      "text/plain": [
       "<Figure size 640x480 with 1 Axes>"
      ]
     },
     "metadata": {},
     "output_type": "display_data"
    }
   ],
   "source": [
    "plt.plot(prediction_performance)\n",
    "plt.xticks(np.arange(len(lmbdas)), [str(l) for l in lmbdas])\n",
    "plt.show()"
   ]
  }
 ],
 "metadata": {
  "kernelspec": {
   "display_name": "Python 3 (ipykernel)",
   "language": "python",
   "name": "python3"
  },
  "language_info": {
   "codemirror_mode": {
    "name": "ipython",
    "version": 3
   },
   "file_extension": ".py",
   "mimetype": "text/x-python",
   "name": "python",
   "nbconvert_exporter": "python",
   "pygments_lexer": "ipython3",
   "version": "3.11.3"
  }
 },
 "nbformat": 4,
 "nbformat_minor": 5
}
