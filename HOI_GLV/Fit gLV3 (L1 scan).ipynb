{
 "cells": [
  {
   "cell_type": "code",
   "execution_count": 1,
   "id": "a637f20e",
   "metadata": {},
   "outputs": [
    {
     "name": "stderr",
     "output_type": "stream",
     "text": [
      "/home/jcthompson5@ad.wisc.edu/anaconda3/lib/python3.11/site-packages/pandas/core/arrays/masked.py:60: UserWarning: Pandas requires version '1.3.6' or newer of 'bottleneck' (version '1.3.5' currently installed).\n",
      "  from pandas.core import (\n"
     ]
    }
   ],
   "source": [
    "import pandas as pd\n",
    "import numpy as np\n",
    "import matplotlib.pyplot as plt \n",
    "from scipy.stats import norm, pearsonr\n",
    "\n",
    "import os\n",
    "import time\n",
    "import itertools\n",
    "\n",
    "from glove_L1.glv3 import *"
   ]
  },
  {
   "cell_type": "code",
   "execution_count": 2,
   "id": "26dfe6c3",
   "metadata": {},
   "outputs": [
    {
     "data": {
      "text/plain": [
       "10"
      ]
     },
     "execution_count": 2,
     "metadata": {},
     "output_type": "execute_result"
    }
   ],
   "source": [
    "# number of random trials\n",
    "n_trials = 10\n",
    "\n",
    "# range of L1 penalties to try\n",
    "lmbdas = [0., 1e-8, 1e-7, 1e-6, 1e-5, 1e-4, 1e-3, 1e-2, 1e-1, 1.]\n",
    "len(lmbdas)"
   ]
  },
  {
   "cell_type": "code",
   "execution_count": 3,
   "id": "06280f25",
   "metadata": {},
   "outputs": [
    {
     "data": {
      "text/plain": [
       "['CDanc_CDmono12h_PROVIDET0.csv', 'CDevo_CDmono12h_PROVIDET0.csv']"
      ]
     },
     "execution_count": 3,
     "metadata": {},
     "output_type": "execute_result"
    }
   ],
   "source": [
    "# import file names\n",
    "files = os.listdir(\"data/SET3_Thirdtrial/\")\n",
    "files"
   ]
  },
  {
   "cell_type": "code",
   "execution_count": null,
   "id": "1b61b1c0",
   "metadata": {},
   "outputs": [
    {
     "name": "stdout",
     "output_type": "stream",
     "text": [
      "Number of parameters: 240\n",
      "Epoch 0, RMSE: 3.61655\n",
      "Epoch 10, RMSE: 0.18387\n",
      "Epoch 20, RMSE: 0.04749\n",
      "Epoch 30, RMSE: 0.04179\n",
      "Epoch 40, RMSE: 0.03916\n",
      "Epoch 50, RMSE: 0.03819\n",
      "Epoch 60, RMSE: 0.03582\n",
      "Epoch 70, RMSE: 0.03488\n",
      "Epoch 80, RMSE: 0.03403\n",
      "Epoch 90, RMSE: 0.03260\n",
      "Epoch 100, RMSE: 0.03190\n",
      "Epoch 110, RMSE: 0.03136\n",
      "Epoch 120, RMSE: 0.03127\n",
      "Epoch 130, RMSE: 0.03182\n",
      "Epoch 140, RMSE: 0.03113\n",
      "Epoch 150, RMSE: 0.03039\n",
      "Epoch 160, RMSE: 0.03114\n",
      "Epoch 170, RMSE: 0.02983\n",
      "Epoch 180, RMSE: 0.03016\n",
      "Epoch 190, RMSE: 0.03028\n",
      "Epoch 200, RMSE: 0.03079\n",
      "Number of parameters: 240\n",
      "Epoch 0, RMSE: 3.19665\n",
      "Epoch 10, RMSE: 0.12387\n",
      "Epoch 20, RMSE: 0.11248\n",
      "Epoch 30, RMSE: 0.10603\n"
     ]
    }
   ],
   "source": [
    "# loop over trials\n",
    "for trial in range(n_trials):\n",
    "\n",
    "    exp_names = []\n",
    "    for file in files:\n",
    "\n",
    "        # define strain name\n",
    "        strain = file.split(\"_\")[0]\n",
    "\n",
    "        # import data\n",
    "        df = pd.read_csv(f\"data/SET3_Thirdtrial/{file}\")\n",
    "        df.sort_values(by=[\"Treatments\", \"Time\"], inplace=True)\n",
    "\n",
    "        # make sure that conditions have at least one measurement\n",
    "        dfs = []\n",
    "        for treatment, df_t in df.groupby(\"Treatments\"):\n",
    "            if df_t.shape[0] > 1:\n",
    "                dfs.append(df_t)\n",
    "        df = pd.concat(dfs)\n",
    "\n",
    "        # determine species names \n",
    "        species = df.columns.values[2:]\n",
    "\n",
    "        # list of parameter names \n",
    "        param_names2 = []\n",
    "        for s1 in species:\n",
    "            for s2 in species:\n",
    "                param_names2 += [s1+\"<-\"+s2]\n",
    "\n",
    "        param_names3 = []\n",
    "        for i,s1 in enumerate(species):\n",
    "            for j,s2 in enumerate(species):\n",
    "                if j != i:\n",
    "                    for k,s3 in enumerate(species):\n",
    "                        if k > j and k !=i:\n",
    "                            param_names3 += [s1+\"<-[\"+s2+\"*\"+s3+\"]\"]\n",
    "\n",
    "        param_names = list(species) + param_names2 + param_names3\n",
    "\n",
    "        # init dataframe\n",
    "        param_df = pd.DataFrame()\n",
    "        param_df['parameter'] = param_names\n",
    "\n",
    "        # scan range of L1 penalties\n",
    "        for lmbda in lmbdas:\n",
    "\n",
    "            # init model \n",
    "            model = gLV(dataframe=df, \n",
    "                        species=species,\n",
    "                        lmbda=lmbda)\n",
    "            print(f\"Number of parameters: {model.n_params}\")\n",
    "\n",
    "            # fit to data \n",
    "            f = model.fit_rmse(epochs=200)\n",
    "\n",
    "            # save parameters\n",
    "            param_df[lmbda] = model.z\n",
    "            param_df.to_csv(f\"L1scan/{strain}_params_{trial}.csv\", index=False)"
   ]
  }
 ],
 "metadata": {
  "kernelspec": {
   "display_name": "Python 3 (ipykernel)",
   "language": "python",
   "name": "python3"
  },
  "language_info": {
   "codemirror_mode": {
    "name": "ipython",
    "version": 3
   },
   "file_extension": ".py",
   "mimetype": "text/x-python",
   "name": "python",
   "nbconvert_exporter": "python",
   "pygments_lexer": "ipython3",
   "version": "3.11.3"
  }
 },
 "nbformat": 4,
 "nbformat_minor": 5
}
