{
 "cells": [
  {
   "cell_type": "code",
   "execution_count": 1,
   "id": "a637f20e",
   "metadata": {},
   "outputs": [],
   "source": [
    "import pandas as pd\n",
    "import numpy as np\n",
    "import matplotlib.pyplot as plt \n",
    "from scipy.stats import norm, pearsonr\n",
    "\n",
    "import os\n",
    "import time\n",
    "import itertools\n",
    "\n",
    "from glove_VI.glv import *"
   ]
  },
  {
   "cell_type": "code",
   "execution_count": 2,
   "id": "06280f25",
   "metadata": {},
   "outputs": [
    {
     "data": {
      "text/plain": [
       "['CDanc_CDmono12h_PROVIDET0.csv', 'CDevo_CDmono12h_PROVIDET0.csv']"
      ]
     },
     "execution_count": 2,
     "metadata": {},
     "output_type": "execute_result"
    }
   ],
   "source": [
    "# import file names\n",
    "files = os.listdir(\"data/SET3_Thirdtrial/\")\n",
    "files"
   ]
  },
  {
   "cell_type": "code",
   "execution_count": 3,
   "id": "5c936d9c",
   "metadata": {},
   "outputs": [],
   "source": [
    "exp_names = []\n",
    "# for file in files:\n",
    "file = files[0]\n",
    "    \n",
    "# define strain name\n",
    "strain = file.split(\"_\")[0]\n",
    "\n",
    "# import data\n",
    "df = pd.read_csv(f\"data/SET3_Thirdtrial/{file}\")\n",
    "df.sort_values(by=[\"Treatments\", \"Time\"], inplace=True)\n",
    "\n",
    "# make sure that conditions have at least one measurement\n",
    "dfs = []\n",
    "for treatment, df_t in df.groupby(\"Treatments\"):\n",
    "    if df_t.shape[0] > 1:\n",
    "        dfs.append(df_t)\n",
    "df = pd.concat(dfs)\n",
    "\n",
    "# determine species names \n",
    "species = df.columns.values[2:]"
   ]
  },
  {
   "cell_type": "code",
   "execution_count": 4,
   "id": "d695d2d3",
   "metadata": {},
   "outputs": [
    {
     "name": "stdout",
     "output_type": "stream",
     "text": [
      "Number of parameters: 72\n"
     ]
    }
   ],
   "source": [
    "# init model \n",
    "model = gLV(dataframe=df, \n",
    "            species=species,\n",
    "            lmbda=.001)\n",
    "\n",
    "# init params\n",
    "print(f\"Number of parameters: {model.n_params}\")"
   ]
  },
  {
   "cell_type": "code",
   "execution_count": 5,
   "id": "d0a8aed9",
   "metadata": {},
   "outputs": [
    {
     "name": "stdout",
     "output_type": "stream",
     "text": [
      "Epoch 0, RMSE: 0.701\n",
      "Epoch 10, RMSE: 0.121\n",
      "Epoch 20, RMSE: 0.064\n",
      "Epoch 30, RMSE: 0.055\n",
      "Epoch 40, RMSE: 0.054\n",
      "Epoch 50, RMSE: 0.052\n",
      "Epoch 60, RMSE: 0.048\n",
      "Epoch 70, RMSE: 0.047\n",
      "Epoch 80, RMSE: 0.047\n",
      "Epoch 90, RMSE: 0.046\n",
      "Epoch 100, RMSE: 0.047\n",
      "Epoch 110, RMSE: 0.047\n",
      "Epoch 120, RMSE: 0.046\n",
      "Epoch 130, RMSE: 0.047\n",
      "Epoch 140, RMSE: 0.046\n",
      "Epoch 150, RMSE: 0.046\n",
      "Epoch 160, RMSE: 0.046\n",
      "Epoch 170, RMSE: 0.046\n",
      "Epoch 180, RMSE: 0.046\n",
      "Epoch 190, RMSE: 0.046\n",
      "Epoch 200, RMSE: 0.046\n"
     ]
    },
    {
     "data": {
      "text/plain": [
       "[Array(0.7005284, dtype=float32),\n",
       " Array(0.12053623, dtype=float32),\n",
       " Array(0.06351777, dtype=float32),\n",
       " Array(0.05507746, dtype=float32),\n",
       " Array(0.05387635, dtype=float32),\n",
       " Array(0.05218462, dtype=float32),\n",
       " Array(0.0479023, dtype=float32),\n",
       " Array(0.04659371, dtype=float32),\n",
       " Array(0.04744658, dtype=float32),\n",
       " Array(0.04620017, dtype=float32),\n",
       " Array(0.04652168, dtype=float32),\n",
       " Array(0.04656164, dtype=float32),\n",
       " Array(0.04634443, dtype=float32),\n",
       " Array(0.04655339, dtype=float32),\n",
       " Array(0.04614651, dtype=float32),\n",
       " Array(0.04610021, dtype=float32),\n",
       " Array(0.04622142, dtype=float32),\n",
       " Array(0.04619895, dtype=float32),\n",
       " Array(0.04565643, dtype=float32),\n",
       " Array(0.04618929, dtype=float32),\n",
       " Array(0.04627805, dtype=float32)]"
      ]
     },
     "execution_count": 5,
     "metadata": {},
     "output_type": "execute_result"
    }
   ],
   "source": [
    "# fit to data \n",
    "f = model.fit_rmse(epochs=200)"
   ]
  },
  {
   "cell_type": "code",
   "execution_count": 6,
   "id": "a68a01aa",
   "metadata": {},
   "outputs": [],
   "source": [
    "r, A = reshape(model.shapes, model.z)"
   ]
  },
  {
   "cell_type": "code",
   "execution_count": 7,
   "id": "4c501e0b",
   "metadata": {},
   "outputs": [
    {
     "data": {
      "image/png": "[encoded data removed]",
      "text/plain": [
       "<Figure size 640x480 with 1 Axes>"
      ]
     },
     "metadata": {},
     "output_type": "display_data"
    }
   ],
   "source": [
    "plt.hist(A.ravel(), bins=50)\n",
    "plt.show()"
   ]
  }
 ],
 "metadata": {
  "kernelspec": {
   "display_name": "Python 3 (ipykernel)",
   "language": "python",
   "name": "python3"
  },
  "language_info": {
   "codemirror_mode": {
    "name": "ipython",
    "version": 3
   },
   "file_extension": ".py",
   "mimetype": "text/x-python",
   "name": "python",
   "nbconvert_exporter": "python",
   "pygments_lexer": "ipython3",
   "version": "3.9.13"
  }
 },
 "nbformat": 4,
 "nbformat_minor": 5
}
