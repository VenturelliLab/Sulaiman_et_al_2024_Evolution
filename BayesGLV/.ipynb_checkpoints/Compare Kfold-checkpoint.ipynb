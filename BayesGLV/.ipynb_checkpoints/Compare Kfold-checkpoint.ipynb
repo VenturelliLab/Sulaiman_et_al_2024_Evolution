{
 "cells": [
  {
   "cell_type": "code",
   "execution_count": 1,
   "id": "ff69b655",
   "metadata": {},
   "outputs": [
    {
     "name": "stderr",
     "output_type": "stream",
     "text": [
      "/home/jcthompson5@ad.wisc.edu/anaconda3/lib/python3.11/site-packages/pandas/core/arrays/masked.py:60: UserWarning: Pandas requires version '1.3.6' or newer of 'bottleneck' (version '1.3.5' currently installed).\n",
      "  from pandas.core import (\n"
     ]
    }
   ],
   "source": [
    "import numpy as np\n",
    "import pandas as pd\n",
    "from scipy.stats import norm, pearsonr"
   ]
  },
  {
   "cell_type": "code",
   "execution_count": 2,
   "id": "9f938843",
   "metadata": {},
   "outputs": [],
   "source": [
    "# From \"Comparing correlated correlation coefficients\" - Meng, Rosenthal, Ruben\n",
    "def compare_correlations(Y, X1, X2):\n",
    "    \n",
    "    # number of observations\n",
    "    N = len(Y)\n",
    "    \n",
    "    # correlation coefficients \n",
    "    r_yx1, _ = pearsonr(Y, X1)\n",
    "    r_yx2, _ = pearsonr(Y, X2)\n",
    "    r_x1x2, _ = pearsonr(X1, X2)\n",
    "    \n",
    "    # avg r2 \n",
    "    r2_avg = (r_yx1**2 + r_yx2**2) / 2\n",
    "    \n",
    "    # f <= 1\n",
    "    f = np.min([1, (1 - r_x1x2) / (2 * (1 - r2_avg))])\n",
    "    \n",
    "    # h\n",
    "    h = (1 - f * r2_avg) / (1 - r2_avg)\n",
    "    \n",
    "    # Fisher Z-transform\n",
    "    z_yx1 = np.arctanh(r_yx1)\n",
    "    z_yx2 = np.arctanh(r_yx2)\n",
    "    \n",
    "    # Z score \n",
    "    Z = (z_yx1 - z_yx2) * np.sqrt((N - 3) / (2 * (1 - r_x1x2) * h ))\n",
    "    \n",
    "    # Two-tailed p-value\n",
    "    p_value = 2 * (1 - norm.cdf(abs(Z)))\n",
    "    \n",
    "    return Z, p_value"
   ]
  },
  {
   "cell_type": "code",
   "execution_count": 3,
   "id": "ee052ec2",
   "metadata": {},
   "outputs": [],
   "source": [
    "for strain in ['CDanc', 'CDevo']:\n",
    "    \n",
    "    # import k-fold results from gLV model\n",
    "    kfold_df = pd.read_csv(f\"kfold/{strain}_20_fold.csv\")\n",
    "\n",
    "    # names of species in communities\n",
    "    species = np.unique(kfold_df.species.values)    \n",
    "    \n",
    "    # predicted and measured values for each species\n",
    "    all_exp_names = kfold_df['Treatments'].values\n",
    "    all_pred_species = kfold_df['species'].values\n",
    "    all_true = kfold_df['true'].values\n",
    "    all_pred = kfold_df['pred'].values\n",
    "    all_stdv = kfold_df['stdv'].values\n",
    "    \n",
    "    # import k-fold results from HOI model\n",
    "    kfold_df_3 = pd.read_csv(f\"kfold3/{strain}_kfold3.csv\")\n",
    "    \n",
    "    # predicted and measured values for each species\n",
    "    all_exp_names_3 = kfold_df_3['Treatments'].values\n",
    "    all_pred_species_3 = kfold_df_3['species'].values\n",
    "    all_true_3 = kfold_df_3['true'].values\n",
    "    all_pred_3 = kfold_df_3['pred'].values\n",
    "    all_stdv_3 = kfold_df_3['stdv'].values\n",
    "    \n",
    "    # show prediction performance of individual species\n",
    "    glv_pearsons = []\n",
    "    hoi_pearsons = []\n",
    "    z_values = []\n",
    "    p_values = []\n",
    "    for sp in species:\n",
    "        \n",
    "        # gLV\n",
    "        sp_inds = all_pred_species == sp\n",
    "        measured = all_true[sp_inds]\n",
    "        predicted = all_pred[sp_inds]\n",
    "        glv_pearsons.append(pearsonr(measured, predicted)[0])\n",
    "        \n",
    "        # HOI \n",
    "        measured_3 = all_true_3[sp_inds]\n",
    "        predicted_3 = all_pred_3[sp_inds]\n",
    "        hoi_pearsons.append(pearsonr(measured, predicted_3)[0])\n",
    "        \n",
    "        # compare correlations\n",
    "        assert np.all(measured==measured_3), \"measured values must be the same!\"\n",
    "        z, p = compare_correlations(measured, predicted, predicted_3)\n",
    "        z_values.append(z)\n",
    "        p_values.append(p)\n",
    "        \n",
    "    # save to .csv\n",
    "    compare_df = pd.DataFrame()\n",
    "    compare_df['Species'] = species\n",
    "    compare_df['gLV Pearson'] = glv_pearsons\n",
    "    compare_df['HOI Pearson'] = hoi_pearsons\n",
    "    compare_df['Z statistic'] = z_values\n",
    "    compare_df['p-value'] = p_values\n",
    "    compare_df.to_csv(f\"tables/{strain}_HOI_performance.csv\", index=False)"
   ]
  }
 ],
 "metadata": {
  "kernelspec": {
   "display_name": "Python 3 (ipykernel)",
   "language": "python",
   "name": "python3"
  },
  "language_info": {
   "codemirror_mode": {
    "name": "ipython",
    "version": 3
   },
   "file_extension": ".py",
   "mimetype": "text/x-python",
   "name": "python",
   "nbconvert_exporter": "python",
   "pygments_lexer": "ipython3",
   "version": "3.11.3"
  }
 },
 "nbformat": 4,
 "nbformat_minor": 5
}
