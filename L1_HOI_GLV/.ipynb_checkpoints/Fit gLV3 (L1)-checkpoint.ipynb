{
 "cells": [
  {
   "cell_type": "code",
   "execution_count": 1,
   "id": "a637f20e",
   "metadata": {},
   "outputs": [],
   "source": [
    "import pandas as pd\n",
    "import numpy as np\n",
    "import matplotlib.pyplot as plt \n",
    "from scipy.stats import norm, pearsonr\n",
    "\n",
    "import os\n",
    "import time\n",
    "import itertools\n",
    "\n",
    "from glove_VI.glv3 import *"
   ]
  },
  {
   "cell_type": "code",
   "execution_count": 2,
   "id": "06280f25",
   "metadata": {},
   "outputs": [
    {
     "data": {
      "text/plain": [
       "['CDanc_CDmono12h_PROVIDET0.csv', 'CDevo_CDmono12h_PROVIDET0.csv']"
      ]
     },
     "execution_count": 2,
     "metadata": {},
     "output_type": "execute_result"
    }
   ],
   "source": [
    "# import file names\n",
    "files = os.listdir(\"data/SET3_Thirdtrial/\")\n",
    "files"
   ]
  },
  {
   "cell_type": "code",
   "execution_count": 3,
   "id": "1b61b1c0",
   "metadata": {},
   "outputs": [],
   "source": [
    "exp_names = []\n",
    "# for file in files:\n",
    "file = files[0]\n",
    "    \n",
    "# define strain name\n",
    "strain = file.split(\"_\")[0]\n",
    "\n",
    "# import data\n",
    "df = pd.read_csv(f\"data/SET3_Thirdtrial/{file}\")\n",
    "df.sort_values(by=[\"Treatments\", \"Time\"], inplace=True)\n",
    "\n",
    "# make sure that conditions have at least one measurement\n",
    "dfs = []\n",
    "for treatment, df_t in df.groupby(\"Treatments\"):\n",
    "    if df_t.shape[0] > 1:\n",
    "        dfs.append(df_t)\n",
    "df = pd.concat(dfs)\n",
    "\n",
    "# determine species names \n",
    "species = df.columns.values[2:]"
   ]
  },
  {
   "cell_type": "code",
   "execution_count": 4,
   "id": "09c72d5b",
   "metadata": {},
   "outputs": [
    {
     "name": "stdout",
     "output_type": "stream",
     "text": [
      "Number of parameters: 240\n"
     ]
    }
   ],
   "source": [
    "# init model \n",
    "model = gLV(dataframe=df, \n",
    "            species=species,\n",
    "            lmbda=.001)\n",
    "\n",
    "# init params\n",
    "print(f\"Number of parameters: {model.n_params}\")"
   ]
  },
  {
   "cell_type": "code",
   "execution_count": 5,
   "id": "d51834d5",
   "metadata": {},
   "outputs": [
    {
     "name": "stdout",
     "output_type": "stream",
     "text": [
      "Epoch 0, RMSE: 3.587\n",
      "Epoch 10, RMSE: 0.232\n",
      "Epoch 20, RMSE: 0.096\n",
      "Epoch 30, RMSE: 0.078\n",
      "Epoch 40, RMSE: 0.050\n",
      "Epoch 50, RMSE: 0.047\n",
      "Epoch 60, RMSE: 0.047\n",
      "Epoch 70, RMSE: 0.047\n",
      "Epoch 80, RMSE: 0.047\n",
      "Epoch 90, RMSE: 0.046\n",
      "Epoch 100, RMSE: 0.046\n",
      "Epoch 110, RMSE: 0.046\n",
      "Epoch 120, RMSE: 0.047\n",
      "Epoch 130, RMSE: 0.046\n",
      "Epoch 140, RMSE: 0.046\n",
      "Epoch 150, RMSE: 0.046\n"
     ]
    },
    {
     "ename": "KeyboardInterrupt",
     "evalue": "",
     "output_type": "error",
     "traceback": [
      "\u001b[0;31m---------------------------------------------------------------------------\u001b[0m",
      "\u001b[0;31mKeyboardInterrupt\u001b[0m                         Traceback (most recent call last)",
      "\u001b[0;32m/tmp/ipykernel_4047/3030247562.py\u001b[0m in \u001b[0;36m<module>\u001b[0;34m\u001b[0m\n\u001b[1;32m      1\u001b[0m \u001b[0;31m# fit to data\u001b[0m\u001b[0;34m\u001b[0m\u001b[0;34m\u001b[0m\u001b[0m\n\u001b[0;32m----> 2\u001b[0;31m \u001b[0mmodel\u001b[0m\u001b[0;34m.\u001b[0m\u001b[0mfit_rmse\u001b[0m\u001b[0;34m(\u001b[0m\u001b[0;34m)\u001b[0m\u001b[0;34m\u001b[0m\u001b[0;34m\u001b[0m\u001b[0m\n\u001b[0m",
      "\u001b[0;32m~/Documents/VenturelliLab/Sulaiman_et_al_2024_Evolution/HOI_GLV/glove_VI/glv3.py\u001b[0m in \u001b[0;36mfit_rmse\u001b[0;34m(self, lr, beta1, beta2, epsilon, epochs)\u001b[0m\n\u001b[1;32m    152\u001b[0m \u001b[0;34m\u001b[0m\u001b[0m\n\u001b[1;32m    153\u001b[0m                 \u001b[0;31m# gradient of rmse w.r.t. parameters\u001b[0m\u001b[0;34m\u001b[0m\u001b[0;34m\u001b[0m\u001b[0m\n\u001b[0;32m--> 154\u001b[0;31m                 gradient = grad_root_mean_squared_error(self.shapes,\n\u001b[0m\u001b[1;32m    155\u001b[0m                                                         \u001b[0mself\u001b[0m\u001b[0;34m.\u001b[0m\u001b[0mt\u001b[0m\u001b[0;34m[\u001b[0m\u001b[0midx\u001b[0m\u001b[0;34m]\u001b[0m\u001b[0;34m,\u001b[0m\u001b[0;34m\u001b[0m\u001b[0;34m\u001b[0m\u001b[0m\n\u001b[1;32m    156\u001b[0m                                                         \u001b[0mself\u001b[0m\u001b[0;34m.\u001b[0m\u001b[0mS\u001b[0m\u001b[0;34m[\u001b[0m\u001b[0midx\u001b[0m\u001b[0;34m]\u001b[0m\u001b[0;34m,\u001b[0m\u001b[0;34m\u001b[0m\u001b[0;34m\u001b[0m\u001b[0m\n",
      "\u001b[0;31mKeyboardInterrupt\u001b[0m: "
     ]
    }
   ],
   "source": [
    "# fit to data \n",
    "f = model.fit_rmse(epochs=200)"
   ]
  },
  {
   "cell_type": "code",
   "execution_count": 10,
   "id": "05992a90",
   "metadata": {},
   "outputs": [],
   "source": [
    "r, A, B = reshape(model.shapes, model.z)"
   ]
  },
  {
   "cell_type": "code",
   "execution_count": 17,
   "id": "9a583e83",
   "metadata": {},
   "outputs": [
    {
     "data": {
      "image/png": "[encoded data removed]",
      "text/plain": [
       "<Figure size 640x480 with 1 Axes>"
      ]
     },
     "metadata": {},
     "output_type": "display_data"
    }
   ],
   "source": [
    "plt.hist(A.ravel(), bins=50)\n",
    "plt.show()"
   ]
  },
  {
   "cell_type": "code",
   "execution_count": 16,
   "id": "fec1bc18",
   "metadata": {},
   "outputs": [
    {
     "data": {
      "text/plain": [
       "0.09523809523809523"
      ]
     },
     "execution_count": 16,
     "metadata": {},
     "output_type": "execute_result"
    }
   ],
   "source": [
    "np.sum(np.abs(B.ravel()) > .001) / len(B.ravel())"
   ]
  },
  {
   "cell_type": "code",
   "execution_count": 14,
   "id": "09fb8d33",
   "metadata": {},
   "outputs": [
    {
     "data": {
      "image/png": "[encoded data removed]",
      "text/plain": [
       "<Figure size 640x480 with 1 Axes>"
      ]
     },
     "metadata": {},
     "output_type": "display_data"
    }
   ],
   "source": [
    "plt.hist(B.ravel(), bins=100)\n",
    "plt.show()"
   ]
  }
 ],
 "metadata": {
  "kernelspec": {
   "display_name": "Python 3 (ipykernel)",
   "language": "python",
   "name": "python3"
  },
  "language_info": {
   "codemirror_mode": {
    "name": "ipython",
    "version": 3
   },
   "file_extension": ".py",
   "mimetype": "text/x-python",
   "name": "python",
   "nbconvert_exporter": "python",
   "pygments_lexer": "ipython3",
   "version": "3.9.13"
  }
 },
 "nbformat": 4,
 "nbformat_minor": 5
}
