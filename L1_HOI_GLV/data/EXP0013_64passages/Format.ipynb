{
 "cells": [
  {
   "cell_type": "code",
   "execution_count": 1,
   "id": "42d11aac",
   "metadata": {},
   "outputs": [],
   "source": [
    "import pandas as pd\n",
    "import numpy as np"
   ]
  },
  {
   "cell_type": "code",
   "execution_count": 2,
   "id": "da35b008",
   "metadata": {},
   "outputs": [],
   "source": [
    "# media types\n",
    "medias = ['DM35', 'DM35HA', 'DM35LC']\n",
    "species = ['CD', 'CA', 'EL', 'DP', 'BU', 'PV', 'CDEVO']"
   ]
  },
  {
   "cell_type": "code",
   "execution_count": 3,
   "id": "f5e74189",
   "metadata": {},
   "outputs": [],
   "source": [
    "for media in medias:\n",
    "    # import data \n",
    "    df = pd.read_csv(f\"EXP0013_DSM_{media}_combined.csv\").rename(columns={'Time':'Passage'})\n",
    "\n",
    "    # incorporate replicate into sample name \n",
    "    Treatments = [s + \"_\" + str(r) for s, r in zip(df.Sample.values, df.Replicate.values)]\n",
    "    df['Treatments'] = Treatments\n",
    "\n",
    "    # Passages are taken daily, so intervals btw measurements can be considered 1 day apart \n",
    "    passages = np.unique(df.Passage.values)\n",
    "    passage2time = {p:t for p, t in zip(passages, np.arange(len(passages)))}\n",
    "\n",
    "    # Convert passage to time\n",
    "    Time = [passage2time[p] for p in df.Passage.values]\n",
    "    df['Time'] = Time\n",
    "    \n",
    "    # columns in correct order\n",
    "    columns = ['Treatments', 'Time', 'CD', 'CA', 'EL', 'DP', 'BU', 'PV', 'CDEVO']\n",
    "    df_fmt = df[columns].sort_values(by=['Treatments', 'Time'])\n",
    "\n",
    "    # multiply initial condition by dilution factor\n",
    "    df_fmt.loc[df_fmt['Time'] == 0, species] *= 40. \n",
    "    \n",
    "    # save data\n",
    "    df_fmt.to_csv(f\"{media}_fmt.csv\", index=False)"
   ]
  }
 ],
 "metadata": {
  "kernelspec": {
   "display_name": "Python 3 (ipykernel)",
   "language": "python",
   "name": "python3"
  },
  "language_info": {
   "codemirror_mode": {
    "name": "ipython",
    "version": 3
   },
   "file_extension": ".py",
   "mimetype": "text/x-python",
   "name": "python",
   "nbconvert_exporter": "python",
   "pygments_lexer": "ipython3",
   "version": "3.9.13"
  }
 },
 "nbformat": 4,
 "nbformat_minor": 5
}
