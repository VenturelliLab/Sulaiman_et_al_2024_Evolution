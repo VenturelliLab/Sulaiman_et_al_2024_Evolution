{
 "cells": [
  {
   "cell_type": "code",
   "execution_count": 3,
   "id": "c5819e60",
   "metadata": {},
   "outputs": [
    {
     "name": "stdout",
     "output_type": "stream",
     "text": [
      "p-value: 0.01216474852979552\n",
      "Test statistic: 6.286697847369492\n"
     ]
    }
   ],
   "source": [
    "from lifelines import KaplanMeierFitter\n",
    "from lifelines.statistics import logrank_test\n",
    "import numpy as np\n",
    "\n",
    "# # Survival data\n",
    "# group_1_times = np.array([3, 7, 7, 7])   # Survival times for Group 1\n",
    "# group_2_times = np.array([3, 3, 3, 3])   # Survival times for Group 2\n",
    "\n",
    "# # Event observed status (1 = death, 0 = alive/censored)\n",
    "# group_1_events = np.array([1, 1, 0, 0])  # Group 1\n",
    "# group_2_events = np.array([1, 1, 1, 1])  # Group 2\n",
    "\n",
    "# # Survival data\n",
    "# group_1_times = np.array([3, 3, 7, 7])   # Survival times for Group 1\n",
    "# group_2_times = np.array([7, 7, 7, 7])   # Survival times for Group 2\n",
    "\n",
    "# # Event observed status (1 = death, 0 = alive/censored)\n",
    "# group_1_events = np.array([1, 1, 0, 0])  # Group 1\n",
    "# group_2_events = np.array([0, 0, 0, 0])  # Group 2\n",
    "\n",
    "# Survival data\n",
    "group_1_times = np.array([3, 7, 7, 7, 7, 7, 7, 7, 7, 7, 7, 7])   # Survival times for Group 1\n",
    "group_2_times = np.array([3, 3, 3, 3, 3, 3, 3, 3, 7, 7, 7, 7])   # Survival times for Group 2\n",
    "\n",
    "# Event observed status (1 = death, 0 = alive/censored)\n",
    "group_1_events = np.array([1, 1, 0, 0, 0, 0, 0, 0, 0, 0, 0, 0])  # Group 1\n",
    "group_2_events = np.array([1, 1, 1, 1, 1, 1, 1, 1, 0, 0, 0, 0])  # Group 2\n",
    "\n",
    "# Kaplan-Meier fit and plot\n",
    "kmf1 = KaplanMeierFitter()\n",
    "kmf2 = KaplanMeierFitter()\n",
    "\n",
    "kmf1.fit(group_1_times, event_observed=group_1_events, label=\"Group 1\")\n",
    "kmf2.fit(group_2_times, event_observed=group_2_events, label=\"Group 2\")\n",
    "\n",
    "# Log-Rank test\n",
    "results = logrank_test(group_1_times, group_2_times, event_observed_A=group_1_events, event_observed_B=group_2_events)\n",
    "\n",
    "print(f\"p-value: {results.p_value}\")\n",
    "print(f\"Test statistic: {results.test_statistic}\")"
   ]
  }
 ],
 "metadata": {
  "kernelspec": {
   "display_name": "Python 3 (ipykernel)",
   "language": "python",
   "name": "python3"
  },
  "language_info": {
   "codemirror_mode": {
    "name": "ipython",
    "version": 3
   },
   "file_extension": ".py",
   "mimetype": "text/x-python",
   "name": "python",
   "nbconvert_exporter": "python",
   "pygments_lexer": "ipython3",
   "version": "3.11.3"
  }
 },
 "nbformat": 4,
 "nbformat_minor": 5
}
